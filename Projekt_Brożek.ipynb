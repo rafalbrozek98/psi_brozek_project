{
  "nbformat": 4,
  "nbformat_minor": 0,
  "metadata": {
    "kernelspec": {
      "display_name": "Python 3",
      "language": "python",
      "name": "python3"
    },
    "language_info": {
      "codemirror_mode": {
        "name": "ipython",
        "version": 3
      },
      "file_extension": ".py",
      "mimetype": "text/x-python",
      "name": "python",
      "nbconvert_exporter": "python",
      "pygments_lexer": "ipython3",
      "version": "3.8.2"
    },
    "colab": {
      "name": "Projekt_Brożek.ipynb",
      "provenance": []
    }
  },
  "cells": [
    {
      "cell_type": "code",
      "metadata": {
        "id": "rSKSl4Vpc_nT",
        "colab_type": "code",
        "colab": {}
      },
      "source": [
        "import pandas as pd\n",
        "from sklearn.model_selection import train_test_split"
      ],
      "execution_count": 0,
      "outputs": []
    },
    {
      "cell_type": "code",
      "metadata": {
        "id": "KCnZNT-3c_nW",
        "colab_type": "code",
        "outputId": "726c2f24-3a84-45fa-e5cd-0e7c14a87a54",
        "colab": {
          "base_uri": "https://localhost:8080/",
          "height": 380
        }
      },
      "source": [
        "print(\"Wczytanie danych\")\n",
        "first_wine_data = pd.read_csv('./winemag-data_first150k.csv', index_col=0)\n",
        "second_wine_data = pd.read_csv('./winemag-data-130k-v2.csv', index_col=0)\n",
        "wine_data = pd.concat([first_wine_data, second_wine_data])\n",
        "wine_data.head()"
      ],
      "execution_count": 115,
      "outputs": [
        {
          "output_type": "stream",
          "text": [
            "Wczytanie danych\n"
          ],
          "name": "stdout"
        },
        {
          "output_type": "execute_result",
          "data": {
            "text/html": [
              "<div>\n",
              "<style scoped>\n",
              "    .dataframe tbody tr th:only-of-type {\n",
              "        vertical-align: middle;\n",
              "    }\n",
              "\n",
              "    .dataframe tbody tr th {\n",
              "        vertical-align: top;\n",
              "    }\n",
              "\n",
              "    .dataframe thead th {\n",
              "        text-align: right;\n",
              "    }\n",
              "</style>\n",
              "<table border=\"1\" class=\"dataframe\">\n",
              "  <thead>\n",
              "    <tr style=\"text-align: right;\">\n",
              "      <th></th>\n",
              "      <th>country</th>\n",
              "      <th>description</th>\n",
              "      <th>designation</th>\n",
              "      <th>points</th>\n",
              "      <th>price</th>\n",
              "      <th>province</th>\n",
              "      <th>region_1</th>\n",
              "      <th>region_2</th>\n",
              "      <th>variety</th>\n",
              "      <th>winery</th>\n",
              "      <th>taster_name</th>\n",
              "      <th>taster_twitter_handle</th>\n",
              "      <th>title</th>\n",
              "    </tr>\n",
              "  </thead>\n",
              "  <tbody>\n",
              "    <tr>\n",
              "      <th>0</th>\n",
              "      <td>US</td>\n",
              "      <td>This tremendous 100% varietal wine hails from ...</td>\n",
              "      <td>Martha's Vineyard</td>\n",
              "      <td>96</td>\n",
              "      <td>235.0</td>\n",
              "      <td>California</td>\n",
              "      <td>Napa Valley</td>\n",
              "      <td>Napa</td>\n",
              "      <td>Cabernet Sauvignon</td>\n",
              "      <td>Heitz</td>\n",
              "      <td>NaN</td>\n",
              "      <td>NaN</td>\n",
              "      <td>NaN</td>\n",
              "    </tr>\n",
              "    <tr>\n",
              "      <th>1</th>\n",
              "      <td>Spain</td>\n",
              "      <td>Ripe aromas of fig, blackberry and cassis are ...</td>\n",
              "      <td>Carodorum Selección Especial Reserva</td>\n",
              "      <td>96</td>\n",
              "      <td>110.0</td>\n",
              "      <td>Northern Spain</td>\n",
              "      <td>Toro</td>\n",
              "      <td>NaN</td>\n",
              "      <td>Tinta de Toro</td>\n",
              "      <td>Bodega Carmen Rodríguez</td>\n",
              "      <td>NaN</td>\n",
              "      <td>NaN</td>\n",
              "      <td>NaN</td>\n",
              "    </tr>\n",
              "    <tr>\n",
              "      <th>2</th>\n",
              "      <td>US</td>\n",
              "      <td>Mac Watson honors the memory of a wine once ma...</td>\n",
              "      <td>Special Selected Late Harvest</td>\n",
              "      <td>96</td>\n",
              "      <td>90.0</td>\n",
              "      <td>California</td>\n",
              "      <td>Knights Valley</td>\n",
              "      <td>Sonoma</td>\n",
              "      <td>Sauvignon Blanc</td>\n",
              "      <td>Macauley</td>\n",
              "      <td>NaN</td>\n",
              "      <td>NaN</td>\n",
              "      <td>NaN</td>\n",
              "    </tr>\n",
              "    <tr>\n",
              "      <th>3</th>\n",
              "      <td>US</td>\n",
              "      <td>This spent 20 months in 30% new French oak, an...</td>\n",
              "      <td>Reserve</td>\n",
              "      <td>96</td>\n",
              "      <td>65.0</td>\n",
              "      <td>Oregon</td>\n",
              "      <td>Willamette Valley</td>\n",
              "      <td>Willamette Valley</td>\n",
              "      <td>Pinot Noir</td>\n",
              "      <td>Ponzi</td>\n",
              "      <td>NaN</td>\n",
              "      <td>NaN</td>\n",
              "      <td>NaN</td>\n",
              "    </tr>\n",
              "    <tr>\n",
              "      <th>4</th>\n",
              "      <td>France</td>\n",
              "      <td>This is the top wine from La Bégude, named aft...</td>\n",
              "      <td>La Brûlade</td>\n",
              "      <td>95</td>\n",
              "      <td>66.0</td>\n",
              "      <td>Provence</td>\n",
              "      <td>Bandol</td>\n",
              "      <td>NaN</td>\n",
              "      <td>Provence red blend</td>\n",
              "      <td>Domaine de la Bégude</td>\n",
              "      <td>NaN</td>\n",
              "      <td>NaN</td>\n",
              "      <td>NaN</td>\n",
              "    </tr>\n",
              "  </tbody>\n",
              "</table>\n",
              "</div>"
            ],
            "text/plain": [
              "  country  ... title\n",
              "0      US  ...   NaN\n",
              "1   Spain  ...   NaN\n",
              "2      US  ...   NaN\n",
              "3      US  ...   NaN\n",
              "4  France  ...   NaN\n",
              "\n",
              "[5 rows x 13 columns]"
            ]
          },
          "metadata": {
            "tags": []
          },
          "execution_count": 115
        }
      ]
    },
    {
      "cell_type": "code",
      "metadata": {
        "id": "LJ51qP76c_nZ",
        "colab_type": "code",
        "outputId": "f9346118-167b-4f63-dcdd-b4dfb7e182cc",
        "colab": {
          "base_uri": "https://localhost:8080/",
          "height": 218
        }
      },
      "source": [
        "print(\"Liczba wszystkich rekordów:\",wine_data.shape[0], end=\"\\n\\n\")\n",
        "\n",
        "print(\"Liczba rekordów bez podanego kraju pochodzenia:\",wine_data[wine_data['country'].isnull()].shape[0])\n",
        "print(\"Liczba rekordów bez podanego opisu:\",wine_data[wine_data['description'].isnull()].shape[0])\n",
        "print(\"Liczba rekordów bez podanego przeznaczenia:\",wine_data[wine_data['designation'].isnull()].shape[0])\n",
        "# description jest do wyrzucenia, ponieważ jest bardzo mała szansa by nie bylo unique\n",
        "print(\"Liczba rekordów bez podanej liczby punktów:\",wine_data[wine_data['points'].isnull()].shape[0])\n",
        "print(\"Liczba rekordów bez podanej ceny:\",wine_data[wine_data['price'].isnull()].shape[0])\n",
        "print(\"Liczba rekordów bez podanej prowincji:\",wine_data[wine_data['province'].isnull()].shape[0])\n",
        "print(\"Liczba rekordów bez podanego regionu 1:\",wine_data[wine_data['region_1'].isnull()].shape[0])\n",
        "print(\"Liczba rekordów bez podanego regionu 2:\",wine_data[wine_data['region_2'].isnull()].shape[0])\n",
        "print(\"Liczba rekordów bez podanej odmiany:\",wine_data[wine_data['variety'].isnull()].shape[0])\n",
        "print(\"Liczba rekordów bez podanej winiarni:\",wine_data[wine_data['winery'].isnull()].shape[0])"
      ],
      "execution_count": 116,
      "outputs": [
        {
          "output_type": "stream",
          "text": [
            "Liczba wszystkich rekordów: 280901\n",
            "\n",
            "Liczba rekordów bez podanego kraju pochodzenia: 68\n",
            "Liczba rekordów bez podanego opisu: 0\n",
            "Liczba rekordów bez podanego przeznaczenia: 83200\n",
            "Liczba rekordów bez podanej liczby punktów: 0\n",
            "Liczba rekordów bez podanej ceny: 22691\n",
            "Liczba rekordów bez podanej prowincji: 68\n",
            "Liczba rekordów bez podanego regionu 1: 46307\n",
            "Liczba rekordów bez podanego regionu 2: 169437\n",
            "Liczba rekordów bez podanej odmiany: 1\n",
            "Liczba rekordów bez podanej winiarni: 0\n"
          ],
          "name": "stdout"
        }
      ]
    },
    {
      "cell_type": "code",
      "metadata": {
        "id": "4txg5z3-c_nc",
        "colab_type": "code",
        "outputId": "eb27e9c6-062a-42f7-b28c-763388eeda1a",
        "colab": {
          "base_uri": "https://localhost:8080/",
          "height": 420
        }
      },
      "source": [
        "print(\"Ilość rekordów dla poszczególnych liczb punktów:\",wine_data['points'].value_counts())\n",
        "print(\"Najmniejsza liczba przyznanych punktów:\",wine_data['points'].min())\n",
        "print(\"Największa liczba przyznanych punktów:\",wine_data['points'].max())"
      ],
      "execution_count": 117,
      "outputs": [
        {
          "output_type": "stream",
          "text": [
            "Ilość rekordów dla poszczególnych liczb punktów: 87     37680\n",
            "88     35078\n",
            "90     31383\n",
            "86     28173\n",
            "89     25147\n",
            "85     21941\n",
            "91     21895\n",
            "92     18854\n",
            "84     17188\n",
            "93     12506\n",
            "83      9073\n",
            "94      7220\n",
            "82      5877\n",
            "95      3251\n",
            "81      2194\n",
            "80      1295\n",
            "96      1218\n",
            "97       594\n",
            "98       208\n",
            "99        83\n",
            "100       43\n",
            "Name: points, dtype: int64\n",
            "Najmniejsza liczba przyznanych punktów: 80\n",
            "Największa liczba przyznanych punktów: 100\n"
          ],
          "name": "stdout"
        }
      ]
    },
    {
      "cell_type": "code",
      "metadata": {
        "id": "ogtaWhHPc_ne",
        "colab_type": "code",
        "outputId": "37c49f0c-dce3-42ec-a37a-86891b4ff89a",
        "colab": {
          "base_uri": "https://localhost:8080/",
          "height": 402
        }
      },
      "source": [
        "# wyrzucenie niepotrzebnych kolumn z datasetu\n",
        "wine_data = wine_data.drop(columns=[\"taster_name\",\"taster_twitter_handle\",\"title\", \"region_2\", \"designation\", \"description\"])\n",
        "wine_data"
      ],
      "execution_count": 118,
      "outputs": [
        {
          "output_type": "execute_result",
          "data": {
            "text/html": [
              "<div>\n",
              "<style scoped>\n",
              "    .dataframe tbody tr th:only-of-type {\n",
              "        vertical-align: middle;\n",
              "    }\n",
              "\n",
              "    .dataframe tbody tr th {\n",
              "        vertical-align: top;\n",
              "    }\n",
              "\n",
              "    .dataframe thead th {\n",
              "        text-align: right;\n",
              "    }\n",
              "</style>\n",
              "<table border=\"1\" class=\"dataframe\">\n",
              "  <thead>\n",
              "    <tr style=\"text-align: right;\">\n",
              "      <th></th>\n",
              "      <th>country</th>\n",
              "      <th>points</th>\n",
              "      <th>price</th>\n",
              "      <th>province</th>\n",
              "      <th>region_1</th>\n",
              "      <th>variety</th>\n",
              "      <th>winery</th>\n",
              "    </tr>\n",
              "  </thead>\n",
              "  <tbody>\n",
              "    <tr>\n",
              "      <th>0</th>\n",
              "      <td>US</td>\n",
              "      <td>96</td>\n",
              "      <td>235.0</td>\n",
              "      <td>California</td>\n",
              "      <td>Napa Valley</td>\n",
              "      <td>Cabernet Sauvignon</td>\n",
              "      <td>Heitz</td>\n",
              "    </tr>\n",
              "    <tr>\n",
              "      <th>1</th>\n",
              "      <td>Spain</td>\n",
              "      <td>96</td>\n",
              "      <td>110.0</td>\n",
              "      <td>Northern Spain</td>\n",
              "      <td>Toro</td>\n",
              "      <td>Tinta de Toro</td>\n",
              "      <td>Bodega Carmen Rodríguez</td>\n",
              "    </tr>\n",
              "    <tr>\n",
              "      <th>2</th>\n",
              "      <td>US</td>\n",
              "      <td>96</td>\n",
              "      <td>90.0</td>\n",
              "      <td>California</td>\n",
              "      <td>Knights Valley</td>\n",
              "      <td>Sauvignon Blanc</td>\n",
              "      <td>Macauley</td>\n",
              "    </tr>\n",
              "    <tr>\n",
              "      <th>3</th>\n",
              "      <td>US</td>\n",
              "      <td>96</td>\n",
              "      <td>65.0</td>\n",
              "      <td>Oregon</td>\n",
              "      <td>Willamette Valley</td>\n",
              "      <td>Pinot Noir</td>\n",
              "      <td>Ponzi</td>\n",
              "    </tr>\n",
              "    <tr>\n",
              "      <th>4</th>\n",
              "      <td>France</td>\n",
              "      <td>95</td>\n",
              "      <td>66.0</td>\n",
              "      <td>Provence</td>\n",
              "      <td>Bandol</td>\n",
              "      <td>Provence red blend</td>\n",
              "      <td>Domaine de la Bégude</td>\n",
              "    </tr>\n",
              "    <tr>\n",
              "      <th>...</th>\n",
              "      <td>...</td>\n",
              "      <td>...</td>\n",
              "      <td>...</td>\n",
              "      <td>...</td>\n",
              "      <td>...</td>\n",
              "      <td>...</td>\n",
              "      <td>...</td>\n",
              "    </tr>\n",
              "    <tr>\n",
              "      <th>129966</th>\n",
              "      <td>Germany</td>\n",
              "      <td>90</td>\n",
              "      <td>28.0</td>\n",
              "      <td>Mosel</td>\n",
              "      <td>NaN</td>\n",
              "      <td>Riesling</td>\n",
              "      <td>Dr. H. Thanisch (Erben Müller-Burggraef)</td>\n",
              "    </tr>\n",
              "    <tr>\n",
              "      <th>129967</th>\n",
              "      <td>US</td>\n",
              "      <td>90</td>\n",
              "      <td>75.0</td>\n",
              "      <td>Oregon</td>\n",
              "      <td>Oregon</td>\n",
              "      <td>Pinot Noir</td>\n",
              "      <td>Citation</td>\n",
              "    </tr>\n",
              "    <tr>\n",
              "      <th>129968</th>\n",
              "      <td>France</td>\n",
              "      <td>90</td>\n",
              "      <td>30.0</td>\n",
              "      <td>Alsace</td>\n",
              "      <td>Alsace</td>\n",
              "      <td>Gewürztraminer</td>\n",
              "      <td>Domaine Gresser</td>\n",
              "    </tr>\n",
              "    <tr>\n",
              "      <th>129969</th>\n",
              "      <td>France</td>\n",
              "      <td>90</td>\n",
              "      <td>32.0</td>\n",
              "      <td>Alsace</td>\n",
              "      <td>Alsace</td>\n",
              "      <td>Pinot Gris</td>\n",
              "      <td>Domaine Marcel Deiss</td>\n",
              "    </tr>\n",
              "    <tr>\n",
              "      <th>129970</th>\n",
              "      <td>France</td>\n",
              "      <td>90</td>\n",
              "      <td>21.0</td>\n",
              "      <td>Alsace</td>\n",
              "      <td>Alsace</td>\n",
              "      <td>Gewürztraminer</td>\n",
              "      <td>Domaine Schoffit</td>\n",
              "    </tr>\n",
              "  </tbody>\n",
              "</table>\n",
              "<p>280901 rows × 7 columns</p>\n",
              "</div>"
            ],
            "text/plain": [
              "        country  ...                                    winery\n",
              "0            US  ...                                     Heitz\n",
              "1         Spain  ...                   Bodega Carmen Rodríguez\n",
              "2            US  ...                                  Macauley\n",
              "3            US  ...                                     Ponzi\n",
              "4        France  ...                      Domaine de la Bégude\n",
              "...         ...  ...                                       ...\n",
              "129966  Germany  ...  Dr. H. Thanisch (Erben Müller-Burggraef)\n",
              "129967       US  ...                                  Citation\n",
              "129968   France  ...                           Domaine Gresser\n",
              "129969   France  ...                      Domaine Marcel Deiss\n",
              "129970   France  ...                          Domaine Schoffit\n",
              "\n",
              "[280901 rows x 7 columns]"
            ]
          },
          "metadata": {
            "tags": []
          },
          "execution_count": 118
        }
      ]
    },
    {
      "cell_type": "code",
      "metadata": {
        "id": "XIDnDTJ1c_ng",
        "colab_type": "code",
        "outputId": "8fa192a2-2cc6-4f02-84c3-349cf9e81186",
        "colab": {
          "base_uri": "https://localhost:8080/",
          "height": 402
        }
      },
      "source": [
        "# wyrzucenie wierszy z nieuzupełnionymi danymi\n",
        "wine_data = wine_data[wine_data['country'].notnull()]\n",
        "wine_data = wine_data[wine_data['price'].notnull()]\n",
        "wine_data = wine_data[wine_data['region_1'].notnull()]\n",
        "wine_data = wine_data[wine_data['province'].notnull()]\n",
        "wine_data = wine_data[wine_data['variety'].notnull()]\n",
        "wine_data"
      ],
      "execution_count": 119,
      "outputs": [
        {
          "output_type": "execute_result",
          "data": {
            "text/html": [
              "<div>\n",
              "<style scoped>\n",
              "    .dataframe tbody tr th:only-of-type {\n",
              "        vertical-align: middle;\n",
              "    }\n",
              "\n",
              "    .dataframe tbody tr th {\n",
              "        vertical-align: top;\n",
              "    }\n",
              "\n",
              "    .dataframe thead th {\n",
              "        text-align: right;\n",
              "    }\n",
              "</style>\n",
              "<table border=\"1\" class=\"dataframe\">\n",
              "  <thead>\n",
              "    <tr style=\"text-align: right;\">\n",
              "      <th></th>\n",
              "      <th>country</th>\n",
              "      <th>points</th>\n",
              "      <th>price</th>\n",
              "      <th>province</th>\n",
              "      <th>region_1</th>\n",
              "      <th>variety</th>\n",
              "      <th>winery</th>\n",
              "    </tr>\n",
              "  </thead>\n",
              "  <tbody>\n",
              "    <tr>\n",
              "      <th>0</th>\n",
              "      <td>US</td>\n",
              "      <td>96</td>\n",
              "      <td>235.0</td>\n",
              "      <td>California</td>\n",
              "      <td>Napa Valley</td>\n",
              "      <td>Cabernet Sauvignon</td>\n",
              "      <td>Heitz</td>\n",
              "    </tr>\n",
              "    <tr>\n",
              "      <th>1</th>\n",
              "      <td>Spain</td>\n",
              "      <td>96</td>\n",
              "      <td>110.0</td>\n",
              "      <td>Northern Spain</td>\n",
              "      <td>Toro</td>\n",
              "      <td>Tinta de Toro</td>\n",
              "      <td>Bodega Carmen Rodríguez</td>\n",
              "    </tr>\n",
              "    <tr>\n",
              "      <th>2</th>\n",
              "      <td>US</td>\n",
              "      <td>96</td>\n",
              "      <td>90.0</td>\n",
              "      <td>California</td>\n",
              "      <td>Knights Valley</td>\n",
              "      <td>Sauvignon Blanc</td>\n",
              "      <td>Macauley</td>\n",
              "    </tr>\n",
              "    <tr>\n",
              "      <th>3</th>\n",
              "      <td>US</td>\n",
              "      <td>96</td>\n",
              "      <td>65.0</td>\n",
              "      <td>Oregon</td>\n",
              "      <td>Willamette Valley</td>\n",
              "      <td>Pinot Noir</td>\n",
              "      <td>Ponzi</td>\n",
              "    </tr>\n",
              "    <tr>\n",
              "      <th>4</th>\n",
              "      <td>France</td>\n",
              "      <td>95</td>\n",
              "      <td>66.0</td>\n",
              "      <td>Provence</td>\n",
              "      <td>Bandol</td>\n",
              "      <td>Provence red blend</td>\n",
              "      <td>Domaine de la Bégude</td>\n",
              "    </tr>\n",
              "    <tr>\n",
              "      <th>...</th>\n",
              "      <td>...</td>\n",
              "      <td>...</td>\n",
              "      <td>...</td>\n",
              "      <td>...</td>\n",
              "      <td>...</td>\n",
              "      <td>...</td>\n",
              "      <td>...</td>\n",
              "    </tr>\n",
              "    <tr>\n",
              "      <th>129965</th>\n",
              "      <td>France</td>\n",
              "      <td>90</td>\n",
              "      <td>28.0</td>\n",
              "      <td>Alsace</td>\n",
              "      <td>Alsace</td>\n",
              "      <td>Pinot Gris</td>\n",
              "      <td>Domaine Rieflé-Landmann</td>\n",
              "    </tr>\n",
              "    <tr>\n",
              "      <th>129967</th>\n",
              "      <td>US</td>\n",
              "      <td>90</td>\n",
              "      <td>75.0</td>\n",
              "      <td>Oregon</td>\n",
              "      <td>Oregon</td>\n",
              "      <td>Pinot Noir</td>\n",
              "      <td>Citation</td>\n",
              "    </tr>\n",
              "    <tr>\n",
              "      <th>129968</th>\n",
              "      <td>France</td>\n",
              "      <td>90</td>\n",
              "      <td>30.0</td>\n",
              "      <td>Alsace</td>\n",
              "      <td>Alsace</td>\n",
              "      <td>Gewürztraminer</td>\n",
              "      <td>Domaine Gresser</td>\n",
              "    </tr>\n",
              "    <tr>\n",
              "      <th>129969</th>\n",
              "      <td>France</td>\n",
              "      <td>90</td>\n",
              "      <td>32.0</td>\n",
              "      <td>Alsace</td>\n",
              "      <td>Alsace</td>\n",
              "      <td>Pinot Gris</td>\n",
              "      <td>Domaine Marcel Deiss</td>\n",
              "    </tr>\n",
              "    <tr>\n",
              "      <th>129970</th>\n",
              "      <td>France</td>\n",
              "      <td>90</td>\n",
              "      <td>21.0</td>\n",
              "      <td>Alsace</td>\n",
              "      <td>Alsace</td>\n",
              "      <td>Gewürztraminer</td>\n",
              "      <td>Domaine Schoffit</td>\n",
              "    </tr>\n",
              "  </tbody>\n",
              "</table>\n",
              "<p>215793 rows × 7 columns</p>\n",
              "</div>"
            ],
            "text/plain": [
              "       country  points  ...             variety                   winery\n",
              "0           US      96  ...  Cabernet Sauvignon                    Heitz\n",
              "1        Spain      96  ...       Tinta de Toro  Bodega Carmen Rodríguez\n",
              "2           US      96  ...     Sauvignon Blanc                 Macauley\n",
              "3           US      96  ...          Pinot Noir                    Ponzi\n",
              "4       France      95  ...  Provence red blend     Domaine de la Bégude\n",
              "...        ...     ...  ...                 ...                      ...\n",
              "129965  France      90  ...          Pinot Gris  Domaine Rieflé-Landmann\n",
              "129967      US      90  ...          Pinot Noir                 Citation\n",
              "129968  France      90  ...      Gewürztraminer          Domaine Gresser\n",
              "129969  France      90  ...          Pinot Gris     Domaine Marcel Deiss\n",
              "129970  France      90  ...      Gewürztraminer         Domaine Schoffit\n",
              "\n",
              "[215793 rows x 7 columns]"
            ]
          },
          "metadata": {
            "tags": []
          },
          "execution_count": 119
        }
      ]
    },
    {
      "cell_type": "code",
      "metadata": {
        "id": "98d1WIV7c_nh",
        "colab_type": "code",
        "colab": {}
      },
      "source": [
        "# zmiana nazwy kolumny region_1 na region\n",
        "wine_data = wine_data.rename(columns={\"region_1\":\"region\"})"
      ],
      "execution_count": 0,
      "outputs": []
    },
    {
      "cell_type": "code",
      "metadata": {
        "id": "scBNtizrc_nk",
        "colab_type": "code",
        "colab": {}
      },
      "source": [
        "# usuniecie duplikatów\n",
        "wine_data = wine_data.drop_duplicates()"
      ],
      "execution_count": 0,
      "outputs": []
    },
    {
      "cell_type": "code",
      "metadata": {
        "id": "IVCpbcYT4_RI",
        "colab_type": "code",
        "outputId": "f5d0331d-9834-47c9-c10b-2db323e0af0d",
        "colab": {
          "base_uri": "https://localhost:8080/",
          "height": 34
        }
      },
      "source": [
        "print(wine_data.shape)"
      ],
      "execution_count": 122,
      "outputs": [
        {
          "output_type": "stream",
          "text": [
            "(121857, 7)\n"
          ],
          "name": "stdout"
        }
      ]
    },
    {
      "cell_type": "code",
      "metadata": {
        "id": "HOC1Y-kRc_nm",
        "colab_type": "code",
        "outputId": "b56eca93-2a12-4c17-9c5d-3ab70b354a4c",
        "colab": {
          "base_uri": "https://localhost:8080/",
          "height": 168
        }
      },
      "source": [
        "print(\"Liczba wszystkich rekordów:\",wine_data.shape[0], end=\"\\n\\n\")\n",
        "\n",
        "print(\"Liczba rekordów bez podanego kraju pochodzenia:\",wine_data[wine_data['country'].isnull()].shape[0])\n",
        "print(\"Liczba rekordów bez podanej liczby punktów:\",wine_data[wine_data['points'].isnull()].shape[0])\n",
        "print(\"Liczba rekordów bez podanej ceny:\",wine_data[wine_data['price'].isnull()].shape[0])\n",
        "print(\"Liczba rekordów bez podanej prowincji:\",wine_data[wine_data['province'].isnull()].shape[0])\n",
        "print(\"Liczba rekordów bez podanego regionu:\",wine_data[wine_data['region'].isnull()].shape[0])\n",
        "print(\"Liczba rekordów bez podanej odmiany:\",wine_data[wine_data['variety'].isnull()].shape[0])\n",
        "print(\"Liczba rekordów bez podanej winiarni:\",wine_data[wine_data['winery'].isnull()].shape[0])"
      ],
      "execution_count": 123,
      "outputs": [
        {
          "output_type": "stream",
          "text": [
            "Liczba wszystkich rekordów: 121857\n",
            "\n",
            "Liczba rekordów bez podanego kraju pochodzenia: 0\n",
            "Liczba rekordów bez podanej liczby punktów: 0\n",
            "Liczba rekordów bez podanej ceny: 0\n",
            "Liczba rekordów bez podanej prowincji: 0\n",
            "Liczba rekordów bez podanego regionu: 0\n",
            "Liczba rekordów bez podanej odmiany: 0\n",
            "Liczba rekordów bez podanej winiarni: 0\n"
          ],
          "name": "stdout"
        }
      ]
    },
    {
      "cell_type": "code",
      "metadata": {
        "id": "UngAPiZ_c_np",
        "colab_type": "code",
        "outputId": "aa63362a-b457-4f9a-fcd4-d5b9a67810a8",
        "colab": {
          "base_uri": "https://localhost:8080/",
          "height": 402
        }
      },
      "source": [
        "#wine_data = wine_data.drop(columns=[\"price\"])\n",
        "\n",
        "wine_data = wine_data.drop_duplicates()\n",
        "wine_data"
      ],
      "execution_count": 124,
      "outputs": [
        {
          "output_type": "execute_result",
          "data": {
            "text/html": [
              "<div>\n",
              "<style scoped>\n",
              "    .dataframe tbody tr th:only-of-type {\n",
              "        vertical-align: middle;\n",
              "    }\n",
              "\n",
              "    .dataframe tbody tr th {\n",
              "        vertical-align: top;\n",
              "    }\n",
              "\n",
              "    .dataframe thead th {\n",
              "        text-align: right;\n",
              "    }\n",
              "</style>\n",
              "<table border=\"1\" class=\"dataframe\">\n",
              "  <thead>\n",
              "    <tr style=\"text-align: right;\">\n",
              "      <th></th>\n",
              "      <th>country</th>\n",
              "      <th>points</th>\n",
              "      <th>price</th>\n",
              "      <th>province</th>\n",
              "      <th>region</th>\n",
              "      <th>variety</th>\n",
              "      <th>winery</th>\n",
              "    </tr>\n",
              "  </thead>\n",
              "  <tbody>\n",
              "    <tr>\n",
              "      <th>0</th>\n",
              "      <td>US</td>\n",
              "      <td>96</td>\n",
              "      <td>235.0</td>\n",
              "      <td>California</td>\n",
              "      <td>Napa Valley</td>\n",
              "      <td>Cabernet Sauvignon</td>\n",
              "      <td>Heitz</td>\n",
              "    </tr>\n",
              "    <tr>\n",
              "      <th>1</th>\n",
              "      <td>Spain</td>\n",
              "      <td>96</td>\n",
              "      <td>110.0</td>\n",
              "      <td>Northern Spain</td>\n",
              "      <td>Toro</td>\n",
              "      <td>Tinta de Toro</td>\n",
              "      <td>Bodega Carmen Rodríguez</td>\n",
              "    </tr>\n",
              "    <tr>\n",
              "      <th>2</th>\n",
              "      <td>US</td>\n",
              "      <td>96</td>\n",
              "      <td>90.0</td>\n",
              "      <td>California</td>\n",
              "      <td>Knights Valley</td>\n",
              "      <td>Sauvignon Blanc</td>\n",
              "      <td>Macauley</td>\n",
              "    </tr>\n",
              "    <tr>\n",
              "      <th>3</th>\n",
              "      <td>US</td>\n",
              "      <td>96</td>\n",
              "      <td>65.0</td>\n",
              "      <td>Oregon</td>\n",
              "      <td>Willamette Valley</td>\n",
              "      <td>Pinot Noir</td>\n",
              "      <td>Ponzi</td>\n",
              "    </tr>\n",
              "    <tr>\n",
              "      <th>4</th>\n",
              "      <td>France</td>\n",
              "      <td>95</td>\n",
              "      <td>66.0</td>\n",
              "      <td>Provence</td>\n",
              "      <td>Bandol</td>\n",
              "      <td>Provence red blend</td>\n",
              "      <td>Domaine de la Bégude</td>\n",
              "    </tr>\n",
              "    <tr>\n",
              "      <th>...</th>\n",
              "      <td>...</td>\n",
              "      <td>...</td>\n",
              "      <td>...</td>\n",
              "      <td>...</td>\n",
              "      <td>...</td>\n",
              "      <td>...</td>\n",
              "      <td>...</td>\n",
              "    </tr>\n",
              "    <tr>\n",
              "      <th>129962</th>\n",
              "      <td>Italy</td>\n",
              "      <td>90</td>\n",
              "      <td>40.0</td>\n",
              "      <td>Sicily &amp; Sardinia</td>\n",
              "      <td>Sicilia</td>\n",
              "      <td>Nero d'Avola</td>\n",
              "      <td>Cusumano</td>\n",
              "    </tr>\n",
              "    <tr>\n",
              "      <th>129965</th>\n",
              "      <td>France</td>\n",
              "      <td>90</td>\n",
              "      <td>28.0</td>\n",
              "      <td>Alsace</td>\n",
              "      <td>Alsace</td>\n",
              "      <td>Pinot Gris</td>\n",
              "      <td>Domaine Rieflé-Landmann</td>\n",
              "    </tr>\n",
              "    <tr>\n",
              "      <th>129967</th>\n",
              "      <td>US</td>\n",
              "      <td>90</td>\n",
              "      <td>75.0</td>\n",
              "      <td>Oregon</td>\n",
              "      <td>Oregon</td>\n",
              "      <td>Pinot Noir</td>\n",
              "      <td>Citation</td>\n",
              "    </tr>\n",
              "    <tr>\n",
              "      <th>129969</th>\n",
              "      <td>France</td>\n",
              "      <td>90</td>\n",
              "      <td>32.0</td>\n",
              "      <td>Alsace</td>\n",
              "      <td>Alsace</td>\n",
              "      <td>Pinot Gris</td>\n",
              "      <td>Domaine Marcel Deiss</td>\n",
              "    </tr>\n",
              "    <tr>\n",
              "      <th>129970</th>\n",
              "      <td>France</td>\n",
              "      <td>90</td>\n",
              "      <td>21.0</td>\n",
              "      <td>Alsace</td>\n",
              "      <td>Alsace</td>\n",
              "      <td>Gewürztraminer</td>\n",
              "      <td>Domaine Schoffit</td>\n",
              "    </tr>\n",
              "  </tbody>\n",
              "</table>\n",
              "<p>121857 rows × 7 columns</p>\n",
              "</div>"
            ],
            "text/plain": [
              "       country  points  ...             variety                   winery\n",
              "0           US      96  ...  Cabernet Sauvignon                    Heitz\n",
              "1        Spain      96  ...       Tinta de Toro  Bodega Carmen Rodríguez\n",
              "2           US      96  ...     Sauvignon Blanc                 Macauley\n",
              "3           US      96  ...          Pinot Noir                    Ponzi\n",
              "4       France      95  ...  Provence red blend     Domaine de la Bégude\n",
              "...        ...     ...  ...                 ...                      ...\n",
              "129962   Italy      90  ...        Nero d'Avola                 Cusumano\n",
              "129965  France      90  ...          Pinot Gris  Domaine Rieflé-Landmann\n",
              "129967      US      90  ...          Pinot Noir                 Citation\n",
              "129969  France      90  ...          Pinot Gris     Domaine Marcel Deiss\n",
              "129970  France      90  ...      Gewürztraminer         Domaine Schoffit\n",
              "\n",
              "[121857 rows x 7 columns]"
            ]
          },
          "metadata": {
            "tags": []
          },
          "execution_count": 124
        }
      ]
    },
    {
      "cell_type": "code",
      "metadata": {
        "id": "BNhpWScec_nr",
        "colab_type": "code",
        "outputId": "a103259e-04be-4d59-d63d-fedf995270a7",
        "colab": {
          "base_uri": "https://localhost:8080/",
          "height": 418
        }
      },
      "source": [
        "# przenumerowanie kolumny \"country\"\n",
        "dict_country = {'Argentina': 0, 'Australia': 1, 'Canada': 2, 'France': 3, 'Italy': 4, 'Spain': 5, 'US': 6}\n",
        "print(dict_country)\n",
        "wine_data['country'] = wine_data['country'].replace(dict_country)\n",
        "wine_data"
      ],
      "execution_count": 125,
      "outputs": [
        {
          "output_type": "stream",
          "text": [
            "{'Argentina': 0, 'Australia': 1, 'Canada': 2, 'France': 3, 'Italy': 4, 'Spain': 5, 'US': 6}\n"
          ],
          "name": "stdout"
        },
        {
          "output_type": "execute_result",
          "data": {
            "text/html": [
              "<div>\n",
              "<style scoped>\n",
              "    .dataframe tbody tr th:only-of-type {\n",
              "        vertical-align: middle;\n",
              "    }\n",
              "\n",
              "    .dataframe tbody tr th {\n",
              "        vertical-align: top;\n",
              "    }\n",
              "\n",
              "    .dataframe thead th {\n",
              "        text-align: right;\n",
              "    }\n",
              "</style>\n",
              "<table border=\"1\" class=\"dataframe\">\n",
              "  <thead>\n",
              "    <tr style=\"text-align: right;\">\n",
              "      <th></th>\n",
              "      <th>country</th>\n",
              "      <th>points</th>\n",
              "      <th>price</th>\n",
              "      <th>province</th>\n",
              "      <th>region</th>\n",
              "      <th>variety</th>\n",
              "      <th>winery</th>\n",
              "    </tr>\n",
              "  </thead>\n",
              "  <tbody>\n",
              "    <tr>\n",
              "      <th>0</th>\n",
              "      <td>6</td>\n",
              "      <td>96</td>\n",
              "      <td>235.0</td>\n",
              "      <td>California</td>\n",
              "      <td>Napa Valley</td>\n",
              "      <td>Cabernet Sauvignon</td>\n",
              "      <td>Heitz</td>\n",
              "    </tr>\n",
              "    <tr>\n",
              "      <th>1</th>\n",
              "      <td>5</td>\n",
              "      <td>96</td>\n",
              "      <td>110.0</td>\n",
              "      <td>Northern Spain</td>\n",
              "      <td>Toro</td>\n",
              "      <td>Tinta de Toro</td>\n",
              "      <td>Bodega Carmen Rodríguez</td>\n",
              "    </tr>\n",
              "    <tr>\n",
              "      <th>2</th>\n",
              "      <td>6</td>\n",
              "      <td>96</td>\n",
              "      <td>90.0</td>\n",
              "      <td>California</td>\n",
              "      <td>Knights Valley</td>\n",
              "      <td>Sauvignon Blanc</td>\n",
              "      <td>Macauley</td>\n",
              "    </tr>\n",
              "    <tr>\n",
              "      <th>3</th>\n",
              "      <td>6</td>\n",
              "      <td>96</td>\n",
              "      <td>65.0</td>\n",
              "      <td>Oregon</td>\n",
              "      <td>Willamette Valley</td>\n",
              "      <td>Pinot Noir</td>\n",
              "      <td>Ponzi</td>\n",
              "    </tr>\n",
              "    <tr>\n",
              "      <th>4</th>\n",
              "      <td>3</td>\n",
              "      <td>95</td>\n",
              "      <td>66.0</td>\n",
              "      <td>Provence</td>\n",
              "      <td>Bandol</td>\n",
              "      <td>Provence red blend</td>\n",
              "      <td>Domaine de la Bégude</td>\n",
              "    </tr>\n",
              "    <tr>\n",
              "      <th>...</th>\n",
              "      <td>...</td>\n",
              "      <td>...</td>\n",
              "      <td>...</td>\n",
              "      <td>...</td>\n",
              "      <td>...</td>\n",
              "      <td>...</td>\n",
              "      <td>...</td>\n",
              "    </tr>\n",
              "    <tr>\n",
              "      <th>129962</th>\n",
              "      <td>4</td>\n",
              "      <td>90</td>\n",
              "      <td>40.0</td>\n",
              "      <td>Sicily &amp; Sardinia</td>\n",
              "      <td>Sicilia</td>\n",
              "      <td>Nero d'Avola</td>\n",
              "      <td>Cusumano</td>\n",
              "    </tr>\n",
              "    <tr>\n",
              "      <th>129965</th>\n",
              "      <td>3</td>\n",
              "      <td>90</td>\n",
              "      <td>28.0</td>\n",
              "      <td>Alsace</td>\n",
              "      <td>Alsace</td>\n",
              "      <td>Pinot Gris</td>\n",
              "      <td>Domaine Rieflé-Landmann</td>\n",
              "    </tr>\n",
              "    <tr>\n",
              "      <th>129967</th>\n",
              "      <td>6</td>\n",
              "      <td>90</td>\n",
              "      <td>75.0</td>\n",
              "      <td>Oregon</td>\n",
              "      <td>Oregon</td>\n",
              "      <td>Pinot Noir</td>\n",
              "      <td>Citation</td>\n",
              "    </tr>\n",
              "    <tr>\n",
              "      <th>129969</th>\n",
              "      <td>3</td>\n",
              "      <td>90</td>\n",
              "      <td>32.0</td>\n",
              "      <td>Alsace</td>\n",
              "      <td>Alsace</td>\n",
              "      <td>Pinot Gris</td>\n",
              "      <td>Domaine Marcel Deiss</td>\n",
              "    </tr>\n",
              "    <tr>\n",
              "      <th>129970</th>\n",
              "      <td>3</td>\n",
              "      <td>90</td>\n",
              "      <td>21.0</td>\n",
              "      <td>Alsace</td>\n",
              "      <td>Alsace</td>\n",
              "      <td>Gewürztraminer</td>\n",
              "      <td>Domaine Schoffit</td>\n",
              "    </tr>\n",
              "  </tbody>\n",
              "</table>\n",
              "<p>121857 rows × 7 columns</p>\n",
              "</div>"
            ],
            "text/plain": [
              "        country  points  ...             variety                   winery\n",
              "0             6      96  ...  Cabernet Sauvignon                    Heitz\n",
              "1             5      96  ...       Tinta de Toro  Bodega Carmen Rodríguez\n",
              "2             6      96  ...     Sauvignon Blanc                 Macauley\n",
              "3             6      96  ...          Pinot Noir                    Ponzi\n",
              "4             3      95  ...  Provence red blend     Domaine de la Bégude\n",
              "...         ...     ...  ...                 ...                      ...\n",
              "129962        4      90  ...        Nero d'Avola                 Cusumano\n",
              "129965        3      90  ...          Pinot Gris  Domaine Rieflé-Landmann\n",
              "129967        6      90  ...          Pinot Noir                 Citation\n",
              "129969        3      90  ...          Pinot Gris     Domaine Marcel Deiss\n",
              "129970        3      90  ...      Gewürztraminer         Domaine Schoffit\n",
              "\n",
              "[121857 rows x 7 columns]"
            ]
          },
          "metadata": {
            "tags": []
          },
          "execution_count": 125
        }
      ]
    },
    {
      "cell_type": "code",
      "metadata": {
        "id": "QruF77JJc_nu",
        "colab_type": "code",
        "outputId": "560d6bb6-a3bc-4852-9de5-b2ac5cbc5f94",
        "colab": {
          "base_uri": "https://localhost:8080/",
          "height": 438
        }
      },
      "source": [
        "# przenumerowanie kolumny \"province\"\n",
        "x_province = wine_data.groupby('province')[\"price\"].mean()\n",
        "dict_province = dict(pd.cut(x_province,10,labels=range(10)))\n",
        "print(dict_province)\n",
        "wine_data['province'] = wine_data['province'].replace(dict_province)\n",
        "wine_data"
      ],
      "execution_count": 126,
      "outputs": [
        {
          "output_type": "stream",
          "text": [
            "{'Alsace': 2, 'Andalucia': 3, 'Arizona': 2, 'Australia Other': 0, 'Beaujolais': 1, 'Bordeaux': 3, 'British Columbia': 3, 'Burgundy': 8, 'California': 3, 'Canada Other': 3, 'Catalonia': 2, 'Central Italy': 1, 'Central Spain': 0, 'Champagne': 9, 'Colorado': 2, 'Connecticut': 0, 'France Other': 0, 'Galicia': 1, 'Hawaii': 2, 'Idaho': 0, 'Illinois': 2, 'Iowa': 0, 'Italy Other': 2, 'Kentucky': 2, 'Languedoc-Roussillon': 1, 'Levante': 1, 'Loire Valley': 2, 'Lombardy': 3, 'Massachusetts': 1, 'Mendoza Province': 1, 'Michigan': 2, 'Missouri': 1, 'Nevada': 4, 'New Jersey': 1, 'New Mexico': 1, 'New South Wales': 1, 'New York': 1, 'North Carolina': 1, 'Northeastern Italy': 2, 'Northern Spain': 2, 'Northwestern Italy': 1, 'Ohio': 0, 'Ontario': 3, 'Oregon': 3, 'Other': 1, 'Pennsylvania': 1, 'Piedmont': 5, 'Provence': 1, 'Queensland': 0, 'Rhode Island': 1, 'Rhône Valley': 4, 'Sicily & Sardinia': 2, 'South Australia': 3, 'Southern Italy': 2, 'Southwest France': 1, 'Spain Other': 1, 'Spanish Islands': 3, 'Tasmania': 3, 'Texas': 1, 'Tuscany': 5, 'Veneto': 3, 'Vermont': 3, 'Victoria': 3, 'Virginia': 2, 'Washington': 2, 'Western Australia': 2}\n"
          ],
          "name": "stdout"
        },
        {
          "output_type": "execute_result",
          "data": {
            "text/html": [
              "<div>\n",
              "<style scoped>\n",
              "    .dataframe tbody tr th:only-of-type {\n",
              "        vertical-align: middle;\n",
              "    }\n",
              "\n",
              "    .dataframe tbody tr th {\n",
              "        vertical-align: top;\n",
              "    }\n",
              "\n",
              "    .dataframe thead th {\n",
              "        text-align: right;\n",
              "    }\n",
              "</style>\n",
              "<table border=\"1\" class=\"dataframe\">\n",
              "  <thead>\n",
              "    <tr style=\"text-align: right;\">\n",
              "      <th></th>\n",
              "      <th>country</th>\n",
              "      <th>points</th>\n",
              "      <th>price</th>\n",
              "      <th>province</th>\n",
              "      <th>region</th>\n",
              "      <th>variety</th>\n",
              "      <th>winery</th>\n",
              "    </tr>\n",
              "  </thead>\n",
              "  <tbody>\n",
              "    <tr>\n",
              "      <th>0</th>\n",
              "      <td>6</td>\n",
              "      <td>96</td>\n",
              "      <td>235.0</td>\n",
              "      <td>3</td>\n",
              "      <td>Napa Valley</td>\n",
              "      <td>Cabernet Sauvignon</td>\n",
              "      <td>Heitz</td>\n",
              "    </tr>\n",
              "    <tr>\n",
              "      <th>1</th>\n",
              "      <td>5</td>\n",
              "      <td>96</td>\n",
              "      <td>110.0</td>\n",
              "      <td>2</td>\n",
              "      <td>Toro</td>\n",
              "      <td>Tinta de Toro</td>\n",
              "      <td>Bodega Carmen Rodríguez</td>\n",
              "    </tr>\n",
              "    <tr>\n",
              "      <th>2</th>\n",
              "      <td>6</td>\n",
              "      <td>96</td>\n",
              "      <td>90.0</td>\n",
              "      <td>3</td>\n",
              "      <td>Knights Valley</td>\n",
              "      <td>Sauvignon Blanc</td>\n",
              "      <td>Macauley</td>\n",
              "    </tr>\n",
              "    <tr>\n",
              "      <th>3</th>\n",
              "      <td>6</td>\n",
              "      <td>96</td>\n",
              "      <td>65.0</td>\n",
              "      <td>3</td>\n",
              "      <td>Willamette Valley</td>\n",
              "      <td>Pinot Noir</td>\n",
              "      <td>Ponzi</td>\n",
              "    </tr>\n",
              "    <tr>\n",
              "      <th>4</th>\n",
              "      <td>3</td>\n",
              "      <td>95</td>\n",
              "      <td>66.0</td>\n",
              "      <td>1</td>\n",
              "      <td>Bandol</td>\n",
              "      <td>Provence red blend</td>\n",
              "      <td>Domaine de la Bégude</td>\n",
              "    </tr>\n",
              "    <tr>\n",
              "      <th>...</th>\n",
              "      <td>...</td>\n",
              "      <td>...</td>\n",
              "      <td>...</td>\n",
              "      <td>...</td>\n",
              "      <td>...</td>\n",
              "      <td>...</td>\n",
              "      <td>...</td>\n",
              "    </tr>\n",
              "    <tr>\n",
              "      <th>129962</th>\n",
              "      <td>4</td>\n",
              "      <td>90</td>\n",
              "      <td>40.0</td>\n",
              "      <td>2</td>\n",
              "      <td>Sicilia</td>\n",
              "      <td>Nero d'Avola</td>\n",
              "      <td>Cusumano</td>\n",
              "    </tr>\n",
              "    <tr>\n",
              "      <th>129965</th>\n",
              "      <td>3</td>\n",
              "      <td>90</td>\n",
              "      <td>28.0</td>\n",
              "      <td>2</td>\n",
              "      <td>Alsace</td>\n",
              "      <td>Pinot Gris</td>\n",
              "      <td>Domaine Rieflé-Landmann</td>\n",
              "    </tr>\n",
              "    <tr>\n",
              "      <th>129967</th>\n",
              "      <td>6</td>\n",
              "      <td>90</td>\n",
              "      <td>75.0</td>\n",
              "      <td>3</td>\n",
              "      <td>Oregon</td>\n",
              "      <td>Pinot Noir</td>\n",
              "      <td>Citation</td>\n",
              "    </tr>\n",
              "    <tr>\n",
              "      <th>129969</th>\n",
              "      <td>3</td>\n",
              "      <td>90</td>\n",
              "      <td>32.0</td>\n",
              "      <td>2</td>\n",
              "      <td>Alsace</td>\n",
              "      <td>Pinot Gris</td>\n",
              "      <td>Domaine Marcel Deiss</td>\n",
              "    </tr>\n",
              "    <tr>\n",
              "      <th>129970</th>\n",
              "      <td>3</td>\n",
              "      <td>90</td>\n",
              "      <td>21.0</td>\n",
              "      <td>2</td>\n",
              "      <td>Alsace</td>\n",
              "      <td>Gewürztraminer</td>\n",
              "      <td>Domaine Schoffit</td>\n",
              "    </tr>\n",
              "  </tbody>\n",
              "</table>\n",
              "<p>121857 rows × 7 columns</p>\n",
              "</div>"
            ],
            "text/plain": [
              "        country  points  ...             variety                   winery\n",
              "0             6      96  ...  Cabernet Sauvignon                    Heitz\n",
              "1             5      96  ...       Tinta de Toro  Bodega Carmen Rodríguez\n",
              "2             6      96  ...     Sauvignon Blanc                 Macauley\n",
              "3             6      96  ...          Pinot Noir                    Ponzi\n",
              "4             3      95  ...  Provence red blend     Domaine de la Bégude\n",
              "...         ...     ...  ...                 ...                      ...\n",
              "129962        4      90  ...        Nero d'Avola                 Cusumano\n",
              "129965        3      90  ...          Pinot Gris  Domaine Rieflé-Landmann\n",
              "129967        6      90  ...          Pinot Noir                 Citation\n",
              "129969        3      90  ...          Pinot Gris     Domaine Marcel Deiss\n",
              "129970        3      90  ...      Gewürztraminer         Domaine Schoffit\n",
              "\n",
              "[121857 rows x 7 columns]"
            ]
          },
          "metadata": {
            "tags": []
          },
          "execution_count": 126
        }
      ]
    },
    {
      "cell_type": "code",
      "metadata": {
        "id": "NOMh241wc_nv",
        "colab_type": "code",
        "outputId": "f105b2ed-88ae-4cd7-bcf0-fb8901ae494a",
        "colab": {
          "base_uri": "https://localhost:8080/",
          "height": 657
        }
      },
      "source": [
        "# przenumerowanie kolumny \"region\"\n",
        "x_region = wine_data.groupby('region')[\"price\"].mean()\n",
        "print(x_region)\n",
        "dict_region = dict(pd.cut(x_region,600,labels=range(600)))\n",
        "print(dict_region)\n",
        "wine_data['region'] = wine_data['region'].replace(dict_region)\n",
        "wine_data"
      ],
      "execution_count": 127,
      "outputs": [
        {
          "output_type": "stream",
          "text": [
            "region\n",
            "Abruzzo                28.333333\n",
            "Adelaida District      52.040404\n",
            "Adelaide               20.586207\n",
            "Adelaide Hills         21.875000\n",
            "Adelaide Plains        13.750000\n",
            "                         ...    \n",
            "Yolo County            20.354167\n",
            "York Mountain          36.722222\n",
            "Yorkville Highlands    35.505495\n",
            "Yountville             60.651786\n",
            "Zonda Valley           15.666667\n",
            "Name: price, Length: 1307, dtype: float64\n",
            "{'Abruzzo': 7, 'Adelaida District': 15, 'Adelaide': 5, 'Adelaide Hills': 5, 'Adelaide Plains': 2, \"Aglianico d'Irpinia\": 2, 'Aglianico del Beneventano': 8, 'Aglianico del Taburno': 10, 'Aglianico del Vulture': 8, 'Agrelo': 7, 'Albana di Romagna': 8, 'Albemarle County': 10, 'Alcamo': 4, \"Aleatico dell'Elba\": 12, 'Alella': 5, 'Alexander Valley': 10, 'Alghero': 11, 'Alicante': 5, 'Alicante-Marina Alta': 4, 'Almansa': 2, 'Aloxe-Corton': 17, 'Alpilles': 7, 'Alpine Valleys': 1, 'Alsace': 8, 'Alta Langa': 10, 'Alta Mesa': 4, 'Alta Valle della Greve': 20, 'Alto Adige': 7, 'Alto Adige Terlano': 10, 'Alto Adige Valle Isarco': 5, 'Alto Valle de Uco': 2, 'Alto Valle del Río Negro': 4, 'Altos de Mendoza': 9, 'Amador County': 6, 'Amador-Napa': 4, 'Amarone della Valpolicella': 21, 'Amarone della Valpolicella Classico': 20, 'Amarone della Valpolicella Valpantena': 13, 'Aminga Valley': 3, 'Ancient Lakes': 4, 'Anderson Valley': 11, 'Anderson Valley-Sonoma County-Cole Ranch': 4, 'Anjou': 4, 'Anjou Villages': 4, 'Anjou Villages Brissac': 10, 'Antelope Valley of the California High Desert': 5, 'Applegate Valley': 8, 'Apulia': 1, 'Arbois': 9, 'Ardèche': 7, 'Argentina': 4, 'Arizona': 7, 'Arlanza': 1, 'Arribes del Duero': 12, 'Arroyo Grande Valley': 10, 'Arroyo Seco': 9, 'Asolo Prosecco Superiore': 4, 'Asti': 4, 'Atlantique': 1, 'Atlas Peak': 19, 'Aude': 2, 'Aude Hauterive': 15, 'Augusta': 7, 'Australia': 3, 'Australia-New Zealand': 0, 'Auxey-Duresses': 11, 'Ballard Canyon': 12, 'Bandol': 8, 'Banyuls': 24, 'Barbaresco': 17, \"Barbera d'Alba\": 6, \"Barbera d'Alba Superiore\": 6, \"Barbera d'Asti\": 5, \"Barbera d'Asti Superiore\": 7, \"Barbera d'Asti Superiore Nizza\": 12, 'Barbera del Monferrato': 4, 'Barbera del Monferrato Superiore': 11, 'Barbera di Piemonte': 2, 'Barco Reale di Carmignano': 3, 'Bardolino': 3, 'Bardolino Chiaretto': 3, 'Bardolino Classico': 3, 'Bardolino Classico Superiore': 2, 'Bardolino Superiore': 3, 'Barolo': 22, 'Barossa': 11, 'Barossa Valley': 12, 'Barossa Valley-Clare Valley': 8, 'Barossa Valley-McLaren Vale': 7, 'Barossa-Langhorne Creek': 9, 'Barsac': 23, 'Basilicata': 4, 'Beamsville Bench': 5, 'Beaujolais': 2, 'Beaujolais Blanc': 4, 'Beaujolais Rosé': 3, 'Beaujolais-Leynes': 6, 'Beaujolais-Villages': 3, 'Beaumes-de-Venise': 3, 'Beaune': 20, 'Beechworth': 5, 'Bellarine Peninsula': 3, 'Ben Lomond Mountain': 14, 'Benaco Bresciano': 1, 'Bendigo': 5, 'Beneventano': 4, 'Bennett Valley': 9, 'Bergerac': 3, 'Bergerac Rosé': 2, 'Bergerac Sec': 6, 'Bianco di Custoza': 1, 'Bienvenues Bâtard-Montrachet': 110, 'Bierzo': 7, 'Biferno Bianco': 4, 'Biferno Rosso': 5, 'Big Valley District-Lake County': 4, 'Bizkaiko Txakolina': 4, 'Blanc Fumé de Pouilly': 24, 'Blanquette de Limoux': 3, 'Blaye Côtes de Bordeaux': 5, 'Boca': 12, 'Bolgheri': 11, 'Bolgheri Sassicaia': 68, 'Bolgheri Superiore': 24, 'Bonnes-Mares': 121, 'Bonnezeaux': 12, 'Bordeaux': 3, 'Bordeaux Blanc': 3, 'Bordeaux Clairet': 3, 'Bordeaux Côtes de Francs ': 4, 'Bordeaux Rosé': 2, 'Bordeaux Supérieur': 4, 'Bourgogne': 5, 'Bourgogne Aligoté': 4, 'Bourgogne Côtes d’Auxerre': 3, 'Bourgogne Epineuil': 7, 'Bourgogne Gamay': 3, 'Bourgogne Grand Ordinaire': 5, 'Bourgogne Hautes Côtes de Beaune': 9, 'Bourgogne Hautes Côtes de Nuits': 8, 'Bourgogne Vézelay': 6, 'Bourgueil': 5, \"Brachetto d'Acqui\": 4, 'Bramaterra': 11, 'Breganze': 4, 'Brindisi': 4, 'British Columbia': 5, 'Brouilly': 4, 'Brulhois': 33, 'Brunello di Montalcino': 22, 'Buenos Aires': 4, 'Bullas': 3, 'Burgundy': 6, 'Buzet': 3, 'Bâtard-Montrachet': 111, 'Béarn': 3, 'Cabardes': 5, \"Cabernet d'Anjou\": 2, 'Cabernet de Saumur': 2, 'Cacc’e Mmitte di Lucera': 5, 'Cadillac': 9, 'Cadillac Côtes de Bordeaux': 5, 'Cafayate': 4, 'Cahors': 9, 'Calabria': 6, 'Calatayud': 3, 'Calaveras County': 6, 'Calchaquí Valley': 6, 'California': 3, 'California Other': 7, 'California-Oregon': 3, 'California-Washington': 1, 'Calistoga': 16, 'Campania': 8, 'Campi Flegrei': 5, 'Campo de Borja': 3, 'Canada': 8, 'Cannonau di Sardegna': 6, 'Canon-Fronsac': 11, 'Capay Valley': 6, 'Carema': 17, 'Carignano del Sulcis': 8, 'Cariñena': 2, 'Carmel Valley': 10, 'Carmignano': 6, 'Carneros': 10, 'Carneros-Napa Valley': 9, 'Casorzo': 3, 'Castel del Monte': 6, 'Castelli Romani': 2, 'Castilla La Mancha': 1, 'Castillon Côtes de Bordeaux': 6, 'Catalanesca del Monte Somma': 4, 'Catalonia': 1, 'Catalunya': 2, 'Catamarca': 2, 'Cava': 4, 'Cayuga Lake': 4, 'Central Coast': 5, 'Central Ranges': 1, 'Central Valley': 7, 'Central Victoria': 4, \"Cerasuolo d'Abruzzo\": 3, 'Cerasuolo di Vittoria': 6, 'Cerasuolo di Vittoria Classico': 7, 'Cesanese del Piglio': 6, 'Chablis': 14, 'Chalk Hill': 13, 'Chalone': 10, 'Chambertin': 107, 'Chambertin Clos de Bèze': 125, 'Chambolle-Musigny': 31, 'Champagne': 24, 'Chapelle-Chambertin': 69, 'Chardonnay di Toscana': 2, 'Charentais': 2, 'Charmes-Chambertin': 70, 'Chassagne-Montrachet': 22, 'Chaume': 12, 'Chehalem Mountains': 13, 'Chelan County': 5, 'Chevalier-Montrachet': 147, 'Cheverny': 3, 'Chianti': 3, 'Chianti Classico': 8, 'Chianti Colli Aretini': 2, 'Chianti Colli Fiorentini': 5, 'Chianti Colli Pisani': 2, 'Chianti Colli Senesi': 3, 'Chianti Montalbano': 3, 'Chianti Montespertoli': 6, 'Chianti Rufina': 6, 'Chianti Superiore': 3, 'Chignin': 5, 'Chignin-Bergeron': 8, 'Chiles Valley': 12, 'Chinon': 6, 'Chiroubles': 4, 'Chorey-lès-Beaune': 9, 'Château-Chalon': 27, 'Châteaumeillant': 4, 'Châteauneuf-du-Pape': 18, 'Chénas': 6, 'Cienega Valley': 6, 'Cigales': 7, 'Cilento': 6, 'Circeo': 1, 'Cirò': 3, 'Cirò Classico': 6, \"Civitella d'Agliano\": 4, 'Clairette de Bellegarde': 2, 'Clairette de Die': 5, 'Clairette de Die Méthode Dioise Ancestrale': 2, 'Clare Valley': 8, 'Clare Valley-Coonawarra': 6, 'Clare Valley-Eden Valley': 6, 'Clarendon': 28, 'Clarksburg': 3, 'Clear Lake': 6, 'Clements Hills': 6, 'Clos Saint-Denis': 75, 'Clos de Lambrays': 67, 'Clos de Tart': 100, 'Clos de Vougeot': 70, 'Clos de la Roche': 68, 'Cochise County': 7, \"Coda di Volpe d'Irpinia\": 2, 'Cole Ranch': 6, 'Colli Aprutini': 4, 'Colli Asolani Prosecco': 2, 'Colli Bolognesi': 4, 'Colli Etruria Centrale': 11, 'Colli Euganei': 8, 'Colli Martani': 3, 'Colli Orientali del Friuli': 7, 'Colli Perugini': 7, 'Colli Pesaresi': 5, 'Colli Piacentini': 5, 'Colli Tortonesi': 12, 'Colli Trevigiani': 4, 'Colli del Limbara': 8, 'Colli della Toscana Centrale': 14, 'Colli di Conegliano': 9, 'Colli di Faenza': 4, 'Colli di Luni': 4, 'Colli di Rimini': 12, 'Colli di Salerno': 13, 'Colline Lucchesi': 15, 'Colline Novaresi': 4, 'Colline Pescaresi': 4, 'Colline Teatine': 9, 'Colline Teramane': 9, 'Collines Rhôdaniennes': 4, 'Collio': 6, 'Collioure': 4, 'Colorado': 8, 'Columbia Gorge (OR)': 7, 'Columbia Gorge (WA)': 7, 'Columbia Valley': 16, 'Columbia Valley (OR)': 8, 'Columbia Valley (WA)': 7, 'Columbia Valley-Walla Walla Valley': 8, 'Comté Toulosan': 5, 'Conca de Barberà': 19, 'Condrieu': 23, 'Conegliano Valdobbiadene Prosecco Superiore': 4, 'Conero': 11, 'Conero Riserva': 8, 'Contea di Sclafani': 14, 'Contessa Entellina': 17, 'Contra Costa County': 6, 'Controguerra': 9, 'Coombsville': 20, 'Coonawarra': 7, 'Copertino': 4, 'Corbières': 4, 'Corbières-Boutenac': 19, 'Cornas': 22, 'Corse': 6, 'Corse Porto Vecchio': 6, 'Cortese di Gavi': 4, 'Corton': 43, 'Corton Grèves': 40, 'Corton Les Lolières': 31, 'Corton Les Renardes': 27, 'Corton Perrières': 32, 'Corton Vergennes': 58, 'Corton-Bressandes': 70, 'Corton-Charlemagne': 54, 'Corton-Pougets': 32, 'Corton-Rognet': 70, 'Cortona': 9, 'Costa Toscana': 24, \"Costa d'Amalfi\": 13, 'Coste della Sesia': 6, 'Costers del Segre': 6, 'Costières de Nîmes': 3, 'Coteaux Bourguignons': 3, 'Coteaux Champenois': 24, 'Coteaux Varois': 4, 'Coteaux Varois en Provence': 4, \"Coteaux d'Aix-en-Provence\": 4, \"Coteaux d'Ancenis\": 2, 'Coteaux de Verdon': 9, 'Coteaux du Giennois': 5, 'Coteaux du Languedoc': 7, 'Coteaux du Languedoc Pic Saint Loup': 5, 'Coteaux du Layon': 11, 'Coteaux du Layon Beaulieu': 10, 'Coteaux du Layon Chaume': 10, 'Coteaux du Layon La Faye': 8, 'Coteaux du Lyonnais': 4, 'Coteaux du Tricastin': 2, 'Coteaux du Vendômois': 2, 'Cour-Cheverny': 5, 'Criots-Bâtard-Montrachet': 97, 'Crozes-Hermitage': 8, \"Crémant d'Alsace\": 6, 'Crémant de Bordeaux': 4, 'Crémant de Bourgogne': 5, 'Crémant de Die': 4, 'Crémant de Jura': 6, 'Crémant de Limoux': 4, 'Crémant de Loire': 5, 'Cucamonga Valley': 6, 'Currency Creek': 2, 'Currency Creek-McLaren Vale': 3, 'Curtefranca': 7, 'Custoza': 2, 'Custoza Superiore': 3, 'Cuyo': 0, 'Cérons': 8, 'Cévennes': 3, 'Côte Chalonnaise': 4, 'Côte Roannaise': 6, 'Côte Rôtie': 38, 'Côte de Beaune': 14, 'Côte de Beaune-Villages': 8, 'Côte de Brouilly': 5, 'Côte de Nuits-Villages': 10, 'Côtes Catalanes': 2, 'Côtes de Bergerac': 7, 'Côtes de Bordeaux': 5, 'Côtes de Bourg': 5, 'Côtes de Castillon': 4, 'Côtes de Duras': 6, 'Côtes de Forez': 3, 'Côtes de Frontonnais': 2, 'Côtes de Gascogne': 2, 'Côtes de Montravel': 3, 'Côtes de Nuits Villages': 14, 'Côtes de Provence': 5, 'Côtes de Provence La Londe': 7, 'Côtes de Provence Sainte-Victoire': 6, 'Côtes de Saint-Mont': 11, 'Côtes de Thau': 2, 'Côtes de Thongue': 2, 'Côtes du Frontonnais': 1, 'Côtes du Jura': 10, 'Côtes du Lot': 5, 'Côtes du Luberon': 3, 'Côtes du Marmandais': 4, 'Côtes du Rhône': 3, 'Côtes du Rhône Villages': 5, 'Côtes du Roussillon': 7, 'Côtes du Roussillon Les Aspres': 14, 'Côtes du Roussillon Villages': 8, 'Côtes du Roussillon Villages Caramany': 6, 'Côtes du Roussillon Villages Tautavel': 7, 'Côtes du Tarn': 4, 'Côtes-du-Ventoux': 1, 'Darlington Point': 2, 'Del Veneto': 1, 'Delia Nivolelli': 2, 'Delle Venezie': 2, 'Diamond Mountain District': 24, \"Diano d'Alba\": 4, 'Dogliani': 4, 'Dogliani Superiore': 7, \"Dolcetto d'Acqui\": 3, \"Dolcetto d'Alba\": 4, \"Dolcetto d'Alba Superiore\": 3, \"Dolcetto d'Asti\": 3, \"Dolcetto di Diano d'Alba\": 5, 'Dolcetto di Dogliani': 5, 'Dolcetto di Dogliani Superiore': 7, 'Dolcetto di Monferrato': 3, 'Dominio de Valdepusa': 18, 'Dry Creek Valley': 7, 'Dundee Hills': 14, 'Dunnigan Hills': 3, 'Echézeaux': 77, 'Eden Valley': 18, 'Edna Valley': 8, 'El Dorado': 6, 'El Dorado County': 6, 'El Pomar District': 17, 'Elkton Oregon': 5, 'Eloro': 4, 'Emilia': 3, 'Emilia-Romagna': 4, 'Emporadà-Costa Brava': 7, 'Empordà': 7, 'Entre-Deux-Mers': 2, 'Eola-Amity Hills': 12, 'Epomeo': 11, 'Erbaluce di Caluso': 6, 'Erice': 8, 'Est! Est!! Est!!! di Montefiascone': 1, 'Etna': 10, 'Extremadura': 4, 'Fair Play': 7, 'Falanghina del Beneventano': 3, 'Falanghina del Molise': 4, 'Falanghina del Sannio': 4, 'Falerio': 2, 'Falerio dei Colli Ascolani': 1, 'Falerno del Massico': 10, 'Famatina Valley': 3, 'Fara': 9, 'Faro': 17, 'Faugères': 6, 'Fiano di Avellino': 7, 'Fiddletown': 7, 'Finca Élez': 8, 'Finger Lakes': 5, 'Fitou': 5, 'Fixin': 11, 'Fleurie': 6, 'Fleurieu Peninsula': 5, 'Forlì': 9, 'Fort Ross-Seaview': 21, 'France': 2, 'Franciacorta': 12, 'Francs Côtes de Bordeaux': 5, 'Frankland River': 6, 'Frascati': 2, 'Frascati Superiore': 3, 'Friuli': 9, 'Friuli Aquileia': 3, 'Friuli Colli Orientali': 6, 'Friuli Grave': 2, 'Friuli Isonzo': 7, 'Friuli Venezia Giulia': 6, 'Fronsac': 6, 'Fronton': 4, 'Gaillac': 4, 'Gaillac Doux': 8, 'Galatina': 3, 'Galluccio': 3, 'Gambellara Classico': 4, 'Gard': 2, 'Garda': 5, 'Garda Classico': 4, 'Gattinara': 16, 'Gavi': 5, 'Gavi di Gavi': 4, 'Geelong': 5, 'Geographe': 4, 'Gers': 7, 'Getariako Txakolina': 5, 'Gevrey-Chambertin': 28, 'Ghemme': 11, 'Gigondas': 10, 'Gioia del Colle': 11, 'Gippsland': 8, 'Givry': 9, 'Goulburn Valley': 8, 'Grampians': 4, 'Grand River Valley': 3, 'Grand Roussillon': 6, 'Grand Valley': 8, 'Grands-Echezeaux': 118, 'Granite Belt': 2, 'Grave del Friuli': 0, 'Graves': 5, 'Gravina': 3, 'Great Southern': 6, 'Greco di Tufo': 6, 'Green Valley': 13, 'Griotte-Chambertin': 85, 'Guenoc Valley': 8, 'Gundagai': 9, 'Gutturnio Colli Piacentini': 7, 'Hames Valley': 5, 'Happy Canyon of Santa Barbara': 11, 'Haut-Médoc': 6, 'Haut-Poitou': 1, 'Hautes Cotes de Beaune': 6, 'Hautes Côtes de Nuits': 5, 'Hawaii': 7, 'Heathcote': 15, 'Henty': 19, 'Hermitage': 34, 'High Valley': 5, 'Hilltops': 6, 'Horse Heaven Hills': 8, 'Howell Mountain': 21, 'Hudson River Region': 6, 'Humboldt County': 7, 'Hunter Valley': 6, 'Idaho': 3, 'Ile de Beauté': 3, 'Illinois': 8, 'Iowa': 3, 'Irancy': 5, 'Irpinia': 9, 'Irrouléguy': 7, 'Ischia': 7, 'Isle St. George': 2, 'Isola dei Nuraghi': 14, 'Isonzo del Friuli': 5, 'Italy': 2, 'Jahant': 5, 'Jerez': 10, 'Jujuy': 19, 'Juliénas': 5, 'Jumilla': 5, 'Jurançon': 7, 'Jurançon Sec': 5, 'Kangaroo Island': 6, 'Kelsey Bench-Lake County': 7, 'Kentucky': 8, 'King Valley': 3, 'Knights Valley': 12, 'La Clape': 5, 'La Consulta': 12, 'La Mancha': 2, 'La Rioja': 2, 'La Romanée': 599, \"Lacrima di Morro d'Alba\": 3, 'Lacryma Christi del Vesuvio': 4, 'Ladoix': 12, 'Lago di Corbara': 6, 'Lake Chelan': 7, 'Lake County': 5, 'Lake County-Mendocino County': 3, 'Lake County-Sonoma County': 6, 'Lake Erie': 7, 'Lake Erie North Shore': 5, 'Lake Michigan Shore': 12, 'Lake-Sonoma-Napa': 4, 'Lalande de Pomerol': 8, 'Lambrusco Grasparossa di Castelvetro': 4, 'Lambrusco Reggiano': 3, 'Lambrusco Salamino di Santa Croce': 2, \"Lambrusco dell'Emilia\": 2, 'Lambrusco di Modena': 5, 'Lambrusco di Sorbara': 3, 'Lamezia': 5, 'Landes': 2, 'Langhe': 18, 'Langhorne Creek': 5, 'Langhorne Creek-Limestone Coast': 4, 'Languedoc': 4, 'Lanzarote': 4, 'Latricières-Chambertin': 77, 'Laudun': 4, 'Lazio': 6, 'Leelanau Peninsula': 6, 'Lenswood': 13, 'Les Baux de Provence': 6, 'Lessini Durello': 9, 'Lessona': 13, 'Leverano': 8, 'Liguria': 6, 'Lime Kiln Valley': 9, 'Limestone Coast': 4, 'Limoux': 6, 'Lirac': 6, 'Lison-Pramaggiore': 5, 'Listrac': 3, 'Listrac-Médoc': 7, 'Livermore Valley': 9, 'Loazzolo': 11, 'Lodi': 4, 'Lombardy': 7, 'Long Island': 6, 'Los Carneros': 10, 'Lot': 2, 'Luberon': 3, 'Lugana': 5, 'Lugana Superiore': 5, 'Luján de Cuyo': 9, 'Lussac Saint-Émilion': 7, 'Macedon Ranges': 6, 'Macon-Bussières': 4, 'Macon-Verge': 9, 'Madera': 5, 'Madiran': 7, 'Madrid': 5, 'Maipú': 3, 'Malibu Coast': 10, 'Malibu-Newton Canyon': 9, 'Malvasia delle Lipari': 12, 'Mamertino': 9, 'Manchuela': 9, 'Manzanilla-Sanlúcar de Barrameda': 4, 'Maranges': 9, 'Marca Trevigiana': 3, 'Marche': 8, 'Marcillac': 3, 'Maremma': 9, 'Maremma Toscana': 9, 'Margaret River': 9, 'Margaux': 23, 'Marin County': 11, 'Marsala': 4, 'Marsannay': 9, 'Martina': 2, 'Massachusetts': 6, 'Maury': 44, 'Maury Sec': 6, 'Mazis-Chambertin': 71, 'Mazoyeres-Chambertin': 150, 'McDowell Valley': 9, 'McLaren Vale': 8, 'McLaren Vale-Adelaide Hills': 5, 'McLaren Vale-Beechworth': 7, 'McLaren Vale-Langhorne Creek': 4, 'McLaren Vale-Padthaway': 7, 'McMinnville': 11, 'Mediterranée': 2, 'Medrano': 34, 'Mendocino': 6, 'Mendocino County': 5, 'Mendocino Ridge': 10, 'Mendocino-Amador': 4, 'Mendocino-Amador-Napa': 3, 'Mendocino-Lake': 3, 'Mendocino-Lake County-Napa': 3, 'Mendocino-Solano': 6, 'Mendocino-Sonoma-Amador': 3, 'Mendoza': 5, 'Menetou-Salon': 9, 'Menfi': 6, 'Mentrida': 7, 'Mercurey': 10, 'Meursault': 23, 'Meursault-Blagny': 26, 'Michigan': 6, 'Middleburg': 7, 'Minervois': 3, 'Minervois La Liviniere': 15, 'Missouri': 3, 'Mitterberg': 6, 'Mokelumne River': 7, 'Molise': 4, 'Monbazillac': 5, 'Monferrato': 5, 'Monferrato Bianco': 3, 'Monica di Sardegna': 4, 'Monreale': 6, 'Montagne-Saint-Émilion': 6, 'Montagny': 7, 'Montecarlo': 3, 'Montecucco': 7, 'Montefalco': 4, 'Montefalco Rosso': 6, 'Montefalco Sagrantino': 16, 'Montello e Colli Asolani': 7, 'Montenetto di Brescia': 2, \"Montepulciano d'Abruzzo\": 5, \"Montepulciano d'Abruzzo Cerasuolo\": 2, \"Montepulciano d'Abruzzo Colline Teramane\": 10, 'Monteregio di Massa Marittima': 5, 'Monterey': 5, 'Monterey County': 5, 'Monterey County-Napa County': 4, 'Monterey County-Napa County-Sonoma County': 4, 'Monterey-San Luis Obispo-Santa Barbara': 2, 'Monterey-Santa Barbara': 5, 'Monterey-Santa Barbara-Sonoma': 5, 'Monterey-Santa Cruz': 12, 'Monterrei': 5, 'Montescudaio': 7, 'Monthélie': 11, 'Monti Lessini': 5, 'Monticello': 6, 'Montilla-Moriles': 9, 'Montlouis-sur-Loire': 5, 'Montrachet': 191, 'Montravel': 6, 'Montsant': 6, 'Moon Mountain District Sonoma County': 17, 'Morellino di Scansano': 5, 'Morey-Saint-Denis': 23, 'Morgon': 5, 'Mornington Peninsula': 10, 'Moscadello di Montalcino': 10, \"Moscato d'Asti\": 3, 'Moscato di Noto': 9, 'Moselle VDQS': 2, 'Moulin-à-Vent': 7, 'Moulis': 9, 'Moulis-en-Médoc': 9, 'Mount Barker': 5, 'Mount Barker & Margaret River': 5, 'Mount Benson': 8, 'Mount Harlan': 12, 'Mount Veeder': 19, 'Mt. Harlan': 14, 'Mudgee': 4, 'Murgia': 5, 'Murray-Darling': 2, 'Muscadet': 3, 'Muscadet Coteaux de la Loire': 2, 'Muscadet Côtes de Grandlieu': 4, 'Muscadet Sèvre et Maine': 3, 'Muscadet Sèvre et Maine Clisson': 6, 'Muscat de Beaumes de Venise': 6, 'Muscat de Rivesaltes': 6, 'Muscat de Saint-Jean de Minervois': 2, 'Musigny': 197, 'Málaga': 8, 'Mâcon': 5, 'Mâcon Chaintré': 5, 'Mâcon La Roche Vineuse': 5, 'Mâcon Solutré': 4, 'Mâcon-Azé': 5, 'Mâcon-Chardonnay': 4, 'Mâcon-Charnay': 5, 'Mâcon-Cruzille': 4, 'Mâcon-Davayé': 4, 'Mâcon-Fuissé': 5, 'Mâcon-Loché': 4, 'Mâcon-Lugny': 4, 'Mâcon-Milly Lamartine': 5, 'Mâcon-Pierreclos': 6, 'Mâcon-Prissé': 3, 'Mâcon-Péronne': 4, 'Mâcon-Uchizy': 5, 'Mâcon-Vergisson': 5, 'Mâcon-Verze': 7, 'Mâcon-Villages': 3, 'Mâcon-Vinzelles': 4, 'Médoc': 10, 'Naches Heights': 8, 'Nagambie Lakes': 10, 'Napa': 18, 'Napa County': 6, 'Napa County-Lake County': 2, 'Napa County-Sonoma County': 13, 'Napa County-Sonoma County-Lake County': 5, 'Napa County-Sonoma County-San Joaquin County': 5, 'Napa Valley': 15, 'Napa Valley-Paso Robles': 8, 'Napa-Amador': 3, 'Napa-Carneros': 6, 'Napa-Mendocino-Santa Clara Counties': 4, 'Napa-Mendocino-Sonoma': 6, 'Napa-Mendocino-Sonoma-Marin': 17, 'Napa-Monterey-Mendocino': 62, 'Napa-Sonoma': 14, 'Napa-Sonoma-Lake': 4, 'Napa-Sonoma-Marin': 10, 'Napa-Sonoma-Monterey': 8, 'Nasco di Cagliari': 4, 'Navarra': 3, \"Nebbiolo d'Alba\": 7, 'Neuquén': 3, 'Nevada': 12, 'Nevada County': 4, 'New Jersey': 4, 'New Mexico': 5, 'New South Wales': 3, 'New York': 4, 'Niagara Escarpment': 6, 'Niagara Peninsula': 13, 'Niagara-On-The-Lake': 11, 'North Carolina': 4, 'North Coast': 6, 'North Fork of Long Island': 7, 'North Yuba': 8, 'Northern Sonoma': 11, 'Noto': 9, 'Nuits-St.-Georges': 26, 'Nuragus di Cagliari': 3, 'Oak Knoll District': 13, 'Oakville': 25, 'Offida Passerina': 4, 'Offida Pecorino': 4, 'Offida Rosso': 17, 'Ohio': 3, 'Ohio River Valley': 3, 'Okanagan Valley': 9, 'Old Mission Peninsula': 8, 'Oltrepò Pavese': 5, 'Orange': 4, 'Orcia': 12, 'Oregon': 6, 'Oregon Other': 16, 'Orvieto': 3, 'Orvieto Classico': 2, 'Orvieto Classico Superiore': 6, 'Outer Coastal Plain': 6, 'Pacherenc du Vic Bilh': 6, 'Padthaway': 7, 'Paestum': 6, 'Pago de Arínzano': 9, 'Paicines': 6, 'Paso Robles': 8, 'Paso Robles Highlands District': 8, 'Paso Robles Willow Creek District': 13, 'Passito di Noto': 11, 'Passito di Pantelleria': 11, 'Patagonia': 5, 'Patrimonio': 6, 'Pauillac': 52, 'Pavia': 1, \"Pays d'Oc\": 2, 'Pays de Loire': 3, 'Pedernal Valley': 7, 'Pemberton': 5, 'Penedès': 6, 'Penisola Sorrentina': 3, 'Pennsylvania': 6, 'Perdriel': 22, 'Pernand-Vergelesses': 15, 'Pessac-Léognan': 33, 'Petit Chablis': 5, 'Piave': 4, 'Piccadilly Valley': 15, 'Picpoul de Pinet': 3, 'Piedmont': 4, 'Piemonte': 8, 'Pine Mountain-Cloverdale Peak': 18, 'Pla de Bages': 5, 'Placer County': 7, 'Polk County': 13, 'Pomerol': 51, 'Pomino': 8, 'Pommard': 22, 'Pompeiano': 10, 'Potter Valley': 4, 'Pouilly-Fuissé': 10, 'Pouilly-Fumé': 8, 'Pouilly-Loché': 8, 'Pouilly-Vinzelles': 7, 'Pouilly-sur-Loire': 5, 'Premieres Côtes de Blaye': 6, 'Premieres Côtes de Bordeaux': 4, 'Primitivo del Salento': 3, 'Primitivo del Tarantino': 2, 'Primitivo di Manduria': 6, 'Prince Edward County': 8, 'Priorat': 15, 'Prosecco': 3, 'Prosecco Superiore di Cartizze': 8, 'Prosecco Treviso': 3, 'Prosecco del Veneto': 3, 'Prosecco di Conegliano': 3, 'Prosecco di Conegliano e Valdobbiadene': 3, 'Prosecco di Valdobbiadene': 4, 'Prosecco di Valdobbiadene Superiore': 8, 'Provincia di Pavia': 1, 'Puget Sound': 3, 'Puglia': 4, 'Puisseguin Saint-Émilion': 7, 'Puligny-Montrachet': 31, 'Pyrenees': 8, 'Pécharmant': 6, 'Périgord': 2, 'Quarts de Chaume': 21, 'Quebec': 9, 'Quincy': 4, 'Ramandolo': 18, 'Ramona Valley': 7, 'Rasteau': 7, 'Rattlesnake Hills': 5, 'Recioto della Valpolicella': 10, 'Recioto della Valpolicella Classico': 13, 'Recioto della Valpolicella Valpantena': 11, 'Recioto di Soave': 12, 'Recioto di Soave Classico': 10, 'Red Hills Lake County': 8, 'Red Mountain': 12, 'Redwood Valley': 6, 'Reuilly': 4, 'Ribbon Ridge': 13, 'Ribeira Sacra': 6, 'Ribeiro': 4, 'Ribera del Duero': 12, 'Ribera del Guadiana': 2, 'Ribera del Júcar': 3, 'Ribera del Queiles': 5, 'Rioja': 8, 'River Junction': 1, 'Riverina': 3, 'Riverland': 6, 'Rivesaltes': 20, 'Rivesaltes Rosé': 4, 'Riviera Ligure di Ponente': 2, 'Roccamonfina': 15, 'Rockpile': 11, 'Roero': 7, 'Roero Arneis': 4, 'Rogue Valley': 6, 'Romagna': 5, 'Romangia': 18, 'Romanée-St.-Vivant': 174, 'Rosazzo': 23, 'Rosso Conero': 5, 'Rosso Piceno': 5, 'Rosso Piceno Superiore': 5, 'Rosso del Salento': 12, 'Rosso del Veronese': 7, 'Rosso di Cerignola': 6, 'Rosso di Montalcino': 7, 'Rosso di Montepulciano': 4, 'Rosso di Toscana': 8, \"Rosé d'Anjou\": 2, 'Rosé de Loire': 2, 'Roussette de Savoie': 4, 'Rubicone': 7, 'Ruché di Castagnole Monferrato': 7, 'Rueda': 3, 'Rully': 8, 'Russian River Valley': 10, 'Rutherford': 22, 'Rutherglen': 26, 'Régnié': 4, 'Rías Baixas': 5, 'Río Negro Valley': 19, 'Sable de Camargue': 3, 'Saddle Rock-Malibu': 35, 'Sagrantino di Montefalco': 14, 'Saint Guilhem le Désert': 6, 'Saint-Amour': 5, 'Saint-Aubin': 12, 'Saint-Bris': 3, 'Saint-Chinian': 4, 'Saint-Chinian-Roquebrun': 5, 'Saint-Croix-du-Mont': 8, 'Saint-Estèphe': 15, 'Saint-Georges-Saint-Émilion': 6, 'Saint-Joseph': 10, 'Saint-Julien': 25, 'Saint-Mont': 6, 'Saint-Nicolas-de-Bourgueil': 6, 'Saint-Péray': 9, 'Saint-Romain': 12, 'Saint-Véran': 6, 'Saint-Émilion': 22, 'Sainte-Foy Bordeaux': 7, 'Salento': 4, 'Salice Salentino': 3, 'Salina': 9, 'Salta': 5, 'San Antonio Valley': 5, 'San Benito County': 9, 'San Bernabe': 4, 'San Carlos': 4, 'San Diego County': 10, 'San Francisco Bay': 8, 'San Francisco Bay-Livermore Valley': 7, 'San Gimignano': 4, 'San Juan': 3, 'San Lucas': 4, 'San Luis Obispo': 7, 'San Luis Obispo County': 9, 'San Luis Obispo-Sonoma-Monterey': 6, 'San Marino': 6, 'San Martino della Battaglia': 5, 'San Pasqual': 7, 'San Rafael': 3, 'Sancerre': 8, 'Sangiovese di Romagna': 4, 'Sangiovese di Romagna Superiore': 7, 'Sangiovese di Toscana': 1, 'Sannio': 5, \"Sant' Agata dei Goti\": 5, \"Sant'Antimo\": 13, 'Santa Barbara': 7, 'Santa Barbara County': 7, 'Santa Barbara-Monterey': 5, 'Santa Clara County': 9, 'Santa Clara Valley': 8, 'Santa Cruz County': 8, 'Santa Cruz Mountains': 12, 'Santa Lucia Highlands': 11, 'Santa Margarita Ranch': 5, 'Santa Maria Valley': 11, 'Santa Ynez Valley': 8, 'Santenay': 11, 'Sardinia': 6, 'Sardon de Duero': 7, 'Saumur': 5, 'Saumur-Champigny': 8, 'Saussignac': 7, 'Sauternes': 18, 'Savennières': 8, 'Savennières-Coulée de Serrant': 25, 'Savennières-Roche-Aux-Moines': 11, 'Savigny-lès-Beaune': 13, 'Savoie': 4, 'Sebino': 10, 'Seneca Lake': 5, 'Sforzato di Valtellina': 18, 'Shenandoah Valley': 5, 'Shenandoah Valley (CA)': 6, 'Short Hills Bench': 7, 'Sicilia': 6, 'Sierra Foothills': 6, 'Sierra Pelona Valley': 7, 'Sierra de Salamanca': 6, 'Similkameen Valley': 8, 'Siracusa': 9, 'Siskiyou County': 2, 'Snipes Mountain': 10, 'Soave': 3, 'Soave Classico': 4, 'Soave Classico Superiore': 4, 'Soave Colli Scaligeri': 4, 'Soave Superiore': 5, 'Solano County': 7, 'Solano County Green Valley': 6, 'Somontano': 5, 'Sonoita': 9, 'Sonoma': 5, 'Sonoma Coast': 13, 'Sonoma County': 7, 'Sonoma County-Lake County': 6, 'Sonoma County-Monterey County': 5, 'Sonoma County-Monterey County-Napa County': 7, 'Sonoma County-Monterey County-Santa Barbara County': 5, 'Sonoma County-Napa County': 16, 'Sonoma County-San Joaquin County': 4, 'Sonoma County-Santa Barbara County': 4, 'Sonoma Mountain': 12, 'Sonoma Valley': 11, 'Sonoma-Mendocino': 4, 'Sonoma-Napa': 19, 'Sonoma-Napa-Lake': 5, 'Sonoma-Napa-Mendocino': 5, 'Sonoma-Napa-Monterey': 5, 'Sonoma-Santa Barbara-Mendocino': 4, 'South Australia': 8, 'South Australia-Victoria': 2, 'South Coast': 8, 'South Eastern Australia': 2, 'Southeastern New England': 5, 'Southern Fleurieu': 8, 'Southern Flinders Ranges': 7, 'Southern Highlands': 2, 'Southern Oregon': 6, 'Sovana': 4, 'Spain': 6, 'Spring Mountain District': 19, 'Squinzano': 3, \"St. David's Bench\": 6, 'St. Helena': 20, 'St.-Amour': 2, 'St.-Romain': 7, 'St.-Véran': 2, 'Sta. Rita Hills': 12, 'Stags Leap District': 25, 'Stanislaus County': 1, 'Strathbogie Ranges': 5, 'Strathbogie Ranges-Mornington Peninsula': 3, 'Strevi': 17, 'Suisun Valley': 7, 'Swan Creek': 4, 'Swan Hill': 2, 'Taburno': 3, 'Tarantino': 4, 'Tarragona': 5, 'Tasmania': 9, 'Taurasi': 15, 'Tavel': 4, 'Tehama County': 8, 'Tehema Foothills': 7, 'Temecula': 9, 'Temecula Valley': 13, 'Templeton Gap District': 15, 'Teroldego Rotaliano': 5, 'Terra Alta': 5, 'Terra degli Osci': 2, 'Terrasses du Larzac': 2, 'Terrazze Retiche di Sondrio': 7, 'Terre Siciliane': 5, 'Terre del Volturno': 12, 'Terre di Chieti': 3, 'Terre di Franciacorta': 15, 'Texas': 5, 'Texas High Plains': 6, 'Texoma': 6, 'The Hamptons, Long Island': 8, 'Tierra Manchuela': 5, 'Tierra de Castilla': 1, 'Tierra de León': 9, 'Tierra del Viños de Zamora': 13, 'Todi': 4, 'Toledo': 1, 'Torgiano': 7, 'Torgiano Rosso Riserva': 11, 'Toro': 11, 'Toscana': 15, 'Touraine': 3, 'Touraine Amboise': 2, 'Touraine Mesland': 2, \"Trebbiano d'Abruzzo\": 5, 'Trentino': 3, 'Trentino Superiore': 6, 'Trento': 11, 'Trinity County': 5, 'Tulum Valley': 2, 'Tumbarumba': 6, 'Tuolumne County': 5, 'Tupungato': 5, 'Tuscany': 8, 'Uclés': 2, 'Uco Valley': 6, 'Umbria': 7, 'Umpqua Valley': 6, 'Utiel-Requena': 3, 'Vacqueyras': 6, 'Val de Loire': 3, 'Val di Cornia Suvereto': 12, 'Val di Neto': 7, 'Valdadige': 3, 'Valdeorras': 6, 'Valdepeñas': 2, 'Valdobbiadene Prosecco Superiore': 5, 'Valdobbiadene Superiore di Cartizze': 9, 'Valencia': 4, \"Valle d'Aosta\": 6, 'Valle de Uco': 9, 'Valli di Porto Pino': 9, 'Vallée du Paradis': 6, 'Valpolicella': 3, 'Valpolicella Classico': 3, 'Valpolicella Classico Superiore': 7, 'Valpolicella Classico Superiore Ripasso': 6, 'Valpolicella Ripasso': 5, 'Valpolicella Ripasso Classico': 7, 'Valpolicella Ripasso Valpantena': 4, 'Valpolicella Ripasso Valpantena Superiore': 5, 'Valpolicella Superiore': 9, 'Valpolicella Superiore Ripasso': 6, 'Valpolicella Valpantena': 3, 'Valtellina': 7, 'Valtellina Superiore': 11, 'Valtènesi': 3, 'Var': 4, 'Veneto': 5, 'Veneto Orientale': 7, 'Venezia': 2, 'Venezia Giulia': 9, 'Venezie': 3, 'Ventoux': 4, 'Ventura County': 4, 'Verdicchio dei Castelli di Jesi': 4, 'Verdicchio dei Castelli di Jesi Classico': 5, 'Verdicchio dei Castelli di Jesi Classico Superiore': 5, 'Verdicchio di Matelica': 4, 'Verduno': 7, 'Vermentino di Gallura': 5, 'Vermentino di Sardegna': 4, 'Vermentino di Toscana': 3, 'Vermont': 9, 'Vernaccia di San Gimignano': 4, 'Veronese': 10, 'Vesuvio': 4, 'Vi de la Terra Illes Balears': 13, 'Vi de la Terra Mallorca': 7, 'Victoria': 5, 'Vigneti delle Dolomiti': 5, 'Vin Doux Naturel Rasteau': 5, 'Vin Mousseux': 3, 'Vin Santo del Chianti': 15, 'Vin Santo del Chianti Classico': 14, 'Vin Santo del Chianti Rufina': 14, 'Vin Santo di Carmignano': 14, 'Vin Santo di Montepulciano': 45, 'Vin de France': 2, 'Vin de Liqueur': 9, 'Vin de Pays Cité de Carcassonne': 2, 'Vin de Pays Var': 3, 'Vin de Pays Vignobles de France': 2, \"Vin de Pays d'Oc\": 1, 'Vin de Pays de Caux': 3, 'Vin de Pays de Côtes du Tarn': 1, 'Vin de Pays de France': 2, 'Vin de Pays de Hauterive': 1, \"Vin de Pays de L'Aude\": 1, \"Vin de Pays de L'Herault\": 2, 'Vin de Pays de Montferrand': 6, 'Vin de Pays de Vaucluse': 11, \"Vin de Pays de l'Ile de Beauté\": 2, 'Vin de Pays de la Haute Vallée de l’Aude': 2, 'Vin de Pays de la Haute Vallée du Gassac': 11, 'Vin de Pays de la Méditerranée': 2, 'Vin de Pays de la Vallée de l’Aude': 3, 'Vin de Pays des Alpilles': 7, 'Vin de Pays des Collines Rhodaniennes': 10, 'Vin de Pays des Coteaux de Bessilles': 2, \"Vin de Pays des Coteaux de L'Ardeche\": 11, 'Vin de Pays des Coteaux de Murviel': 1, 'Vin de Pays des Coteaux de Peyriac': 4, 'Vin de Pays des Cévennes': 1, 'Vin de Pays des Côtes Catalanes': 3, 'Vin de Pays des Côtes de Gascogne': 1, 'Vin de Pays des Côtes de Thau': 1, 'Vin de Pays des Côtes de Thongue': 3, 'Vin de Pays des Maures': 3, 'Vin de Pays des Portes de Méditerranée': 4, 'Vin de Pays des Pyrénees Orientales': 1, 'Vin de Pays des Sables du Golfe du Lion': 1, 'Vin de Pays du Comté Tolosan': 4, 'Vin de Pays du Gard': 2, 'Vin de Pays du Jardin de la France': 1, 'Vin de Pays du Lot': 2, 'Vin de Pays du Val de Cesse': 3, 'Vin de Pays du Val de Loire': 2, 'Vin de Savoie': 4, 'Vin de Table Francais': 6, 'Vino Nobile di Montepulciano': 10, 'Vino Spumante': 8, 'Vino Tierra de León': 2, 'Vino da Mesa de Toledo': 7, 'Vino da Tavola': 14, 'Vino de Calidad de Tierras de León': 6, 'Vino de Calidad de Valtiendas': 11, 'Vino de Mesa': 8, 'Vino de la Tierra Altiplano de Sierra Nevada': 3, 'Vino de la Tierra Contraviesa Alpujarra': 2, 'Vino de la Tierra Ribera del Gállego-Cinco Villas': 3, 'Vino de la Tierra Ribera del Jiloca': 3, 'Vino de la Tierra de Castelló': 4, 'Vino de la Tierra de Castilla': 2, 'Vino de la Tierra de Castilla y León': 9, 'Vino de la Tierra de Cádiz': 11, 'Vino de la Tierra de Zamora': 13, 'Vino de la Tierra del Bajo Aragón': 2, 'Vinos de Madrid': 7, 'Virginia': 7, \"Virginia's Eastern Shore\": 4, 'Viré-Clessé': 7, 'Vista Flores': 4, 'Vittoria': 5, 'Vittoria Frappato': 5, 'Volnay': 23, 'Vosne-Romanée': 34, 'Vougeot': 30, 'Vouvray': 6, 'Wahluke Slope': 8, 'Walla Walla Valley (OR)': 16, 'Walla Walla Valley (WA)': 11, 'Washington': 6, 'Western Australia': 4, 'Western Connecticut Highlands': 3, 'Western Plains': 4, 'Willamette Valley': 9, 'Wrattonbully': 14, 'Yadkin Valley': 5, 'Yakima Valley': 7, 'Yamhill County': 12, 'Yamhill-Carlton District': 11, 'Yarra Valley': 10, 'Yarra Valley-Heathcote': 4, 'Yecla': 3, 'Yolo County': 4, 'York Mountain': 10, 'Yorkville Highlands': 9, 'Yountville': 17, 'Zonda Valley': 3}\n"
          ],
          "name": "stdout"
        },
        {
          "output_type": "execute_result",
          "data": {
            "text/html": [
              "<div>\n",
              "<style scoped>\n",
              "    .dataframe tbody tr th:only-of-type {\n",
              "        vertical-align: middle;\n",
              "    }\n",
              "\n",
              "    .dataframe tbody tr th {\n",
              "        vertical-align: top;\n",
              "    }\n",
              "\n",
              "    .dataframe thead th {\n",
              "        text-align: right;\n",
              "    }\n",
              "</style>\n",
              "<table border=\"1\" class=\"dataframe\">\n",
              "  <thead>\n",
              "    <tr style=\"text-align: right;\">\n",
              "      <th></th>\n",
              "      <th>country</th>\n",
              "      <th>points</th>\n",
              "      <th>price</th>\n",
              "      <th>province</th>\n",
              "      <th>region</th>\n",
              "      <th>variety</th>\n",
              "      <th>winery</th>\n",
              "    </tr>\n",
              "  </thead>\n",
              "  <tbody>\n",
              "    <tr>\n",
              "      <th>0</th>\n",
              "      <td>6</td>\n",
              "      <td>96</td>\n",
              "      <td>235.0</td>\n",
              "      <td>3</td>\n",
              "      <td>15</td>\n",
              "      <td>Cabernet Sauvignon</td>\n",
              "      <td>Heitz</td>\n",
              "    </tr>\n",
              "    <tr>\n",
              "      <th>1</th>\n",
              "      <td>5</td>\n",
              "      <td>96</td>\n",
              "      <td>110.0</td>\n",
              "      <td>2</td>\n",
              "      <td>11</td>\n",
              "      <td>Tinta de Toro</td>\n",
              "      <td>Bodega Carmen Rodríguez</td>\n",
              "    </tr>\n",
              "    <tr>\n",
              "      <th>2</th>\n",
              "      <td>6</td>\n",
              "      <td>96</td>\n",
              "      <td>90.0</td>\n",
              "      <td>3</td>\n",
              "      <td>12</td>\n",
              "      <td>Sauvignon Blanc</td>\n",
              "      <td>Macauley</td>\n",
              "    </tr>\n",
              "    <tr>\n",
              "      <th>3</th>\n",
              "      <td>6</td>\n",
              "      <td>96</td>\n",
              "      <td>65.0</td>\n",
              "      <td>3</td>\n",
              "      <td>9</td>\n",
              "      <td>Pinot Noir</td>\n",
              "      <td>Ponzi</td>\n",
              "    </tr>\n",
              "    <tr>\n",
              "      <th>4</th>\n",
              "      <td>3</td>\n",
              "      <td>95</td>\n",
              "      <td>66.0</td>\n",
              "      <td>1</td>\n",
              "      <td>8</td>\n",
              "      <td>Provence red blend</td>\n",
              "      <td>Domaine de la Bégude</td>\n",
              "    </tr>\n",
              "    <tr>\n",
              "      <th>...</th>\n",
              "      <td>...</td>\n",
              "      <td>...</td>\n",
              "      <td>...</td>\n",
              "      <td>...</td>\n",
              "      <td>...</td>\n",
              "      <td>...</td>\n",
              "      <td>...</td>\n",
              "    </tr>\n",
              "    <tr>\n",
              "      <th>129962</th>\n",
              "      <td>4</td>\n",
              "      <td>90</td>\n",
              "      <td>40.0</td>\n",
              "      <td>2</td>\n",
              "      <td>6</td>\n",
              "      <td>Nero d'Avola</td>\n",
              "      <td>Cusumano</td>\n",
              "    </tr>\n",
              "    <tr>\n",
              "      <th>129965</th>\n",
              "      <td>3</td>\n",
              "      <td>90</td>\n",
              "      <td>28.0</td>\n",
              "      <td>2</td>\n",
              "      <td>8</td>\n",
              "      <td>Pinot Gris</td>\n",
              "      <td>Domaine Rieflé-Landmann</td>\n",
              "    </tr>\n",
              "    <tr>\n",
              "      <th>129967</th>\n",
              "      <td>6</td>\n",
              "      <td>90</td>\n",
              "      <td>75.0</td>\n",
              "      <td>3</td>\n",
              "      <td>6</td>\n",
              "      <td>Pinot Noir</td>\n",
              "      <td>Citation</td>\n",
              "    </tr>\n",
              "    <tr>\n",
              "      <th>129969</th>\n",
              "      <td>3</td>\n",
              "      <td>90</td>\n",
              "      <td>32.0</td>\n",
              "      <td>2</td>\n",
              "      <td>8</td>\n",
              "      <td>Pinot Gris</td>\n",
              "      <td>Domaine Marcel Deiss</td>\n",
              "    </tr>\n",
              "    <tr>\n",
              "      <th>129970</th>\n",
              "      <td>3</td>\n",
              "      <td>90</td>\n",
              "      <td>21.0</td>\n",
              "      <td>2</td>\n",
              "      <td>8</td>\n",
              "      <td>Gewürztraminer</td>\n",
              "      <td>Domaine Schoffit</td>\n",
              "    </tr>\n",
              "  </tbody>\n",
              "</table>\n",
              "<p>121857 rows × 7 columns</p>\n",
              "</div>"
            ],
            "text/plain": [
              "        country  points  ...             variety                   winery\n",
              "0             6      96  ...  Cabernet Sauvignon                    Heitz\n",
              "1             5      96  ...       Tinta de Toro  Bodega Carmen Rodríguez\n",
              "2             6      96  ...     Sauvignon Blanc                 Macauley\n",
              "3             6      96  ...          Pinot Noir                    Ponzi\n",
              "4             3      95  ...  Provence red blend     Domaine de la Bégude\n",
              "...         ...     ...  ...                 ...                      ...\n",
              "129962        4      90  ...        Nero d'Avola                 Cusumano\n",
              "129965        3      90  ...          Pinot Gris  Domaine Rieflé-Landmann\n",
              "129967        6      90  ...          Pinot Noir                 Citation\n",
              "129969        3      90  ...          Pinot Gris     Domaine Marcel Deiss\n",
              "129970        3      90  ...      Gewürztraminer         Domaine Schoffit\n",
              "\n",
              "[121857 rows x 7 columns]"
            ]
          },
          "metadata": {
            "tags": []
          },
          "execution_count": 127
        }
      ]
    },
    {
      "cell_type": "code",
      "metadata": {
        "id": "DwjMSM_qc_nx",
        "colab_type": "code",
        "outputId": "55a200cb-8bd0-45b9-9578-23eaec7ecd91",
        "colab": {
          "base_uri": "https://localhost:8080/",
          "height": 657
        }
      },
      "source": [
        "# przenumerowanie kolumny \"variety\"\n",
        "x_variety = wine_data.groupby('variety')[\"price\"].mean()\n",
        "print(x_variety)\n",
        "dict_variety = dict(pd.cut(x_variety,300,labels=range(300)))\n",
        "print(dict_variety)\n",
        "wine_data['variety'] = wine_data['variety'].replace(dict_variety)\n",
        "wine_data"
      ],
      "execution_count": 128,
      "outputs": [
        {
          "output_type": "stream",
          "text": [
            "variety\n",
            "Abouriou          35.000000\n",
            "Aglianico         37.005747\n",
            "Airen              9.000000\n",
            "Albana            25.875000\n",
            "Albanello         20.000000\n",
            "                    ...    \n",
            "White Riesling    19.629630\n",
            "Xarel-lo          19.714286\n",
            "Zibibbo           38.240000\n",
            "Zinfandel         28.168913\n",
            "Zweigelt          26.666667\n",
            "Name: price, Length: 542, dtype: float64\n",
            "{'Abouriou': 54, 'Aglianico': 58, 'Airen': 2, 'Albana': 36, 'Albanello': 24, 'Albariño': 26, 'Albarossa': 63, 'Albarín': 14, 'Aleatico': 62, 'Alicante': 29, 'Alicante Bouschet': 37, 'Aligoté': 21, 'Alsace white blend': 50, 'Altesse': 20, 'Alvarelhão': 20, 'Alvarinho': 22, 'Angevine': 10, 'Ansonica': 31, 'Apple': 46, 'Arneis': 26, 'Asprinio': 14, 'Auxerrois': 29, 'Baco Noir': 36, 'Barbera': 36, 'Barbera-Nebbiolo': 44, 'Biancale': 20, 'Biancolella': 36, 'Black Monukka': 34, 'Black Muscat': 31, 'Blanc du Bois': 38, 'Blaufränkisch': 38, 'Bobal': 22, 'Bobal-Cabernet Sauvignon': 2, 'Bombino Bianco': 44, 'Bombino Nero': 6, 'Bonarda': 15, 'Bordeaux-style Red Blend': 79, 'Bordeaux-style White Blend': 53, 'Bovale': 51, 'Brachetto': 19, 'Braucol': 51, 'Cabernet': 25, 'Cabernet Blend': 112, 'Cabernet Franc': 53, 'Cabernet Franc-Cabernet Sauvignon': 40, 'Cabernet Franc-Lemberger': 24, 'Cabernet Franc-Malbec': 103, 'Cabernet Franc-Merlot': 73, 'Cabernet Franc-Tempranillo': 20, 'Cabernet Merlot': 23, 'Cabernet Pfeffer': 44, 'Cabernet Sauvignon': 82, 'Cabernet Sauvignon Grenache': 4, 'Cabernet Sauvignon-Barbera': 73, 'Cabernet Sauvignon-Cabernet Franc': 74, 'Cabernet Sauvignon-Carmenère': 152, 'Cabernet Sauvignon-Malbec': 77, 'Cabernet Sauvignon-Merlot': 44, 'Cabernet Sauvignon-Merlot-Shiraz': 24, 'Cabernet Sauvignon-Sangiovese': 63, 'Cabernet Sauvignon-Shiraz': 44, 'Cabernet Sauvignon-Syrah': 65, 'Cabernet Sauvignon-Tempranillo': 14, 'Cabernet-Malbec': 6, 'Cabernet-Shiraz': 149, 'Cabernet-Syrah': 37, 'Canaiolo': 65, 'Cannonau': 45, 'Caprettone': 22, 'Carcajolu': 26, 'Carignan': 153, 'Carignan-Grenache': 44, 'Carignan-Syrah': 142, 'Carignane': 36, 'Carignano': 58, 'Carineña': 28, 'Cariñena-Garnacha': 46, 'Carmenère': 53, 'Carnelian': 12, 'Carricante': 63, 'Casavecchia': 72, 'Catalanesca': 22, 'Catarratto': 24, 'Cayuga': 21, 'Centesimino': 56, 'Cesanese': 24, \"Cesanese d'Affile\": 32, 'Chambourcin': 21, 'Champagne Blend': 128, 'Chancellor': 16, 'Charbono': 49, 'Chardonel': 6, 'Chardonelle': 44, 'Chardonnay': 55, 'Chardonnay-Albariño': 44, 'Chardonnay-Pinot Blanc': 36, 'Chardonnay-Pinot Grigio': 2, 'Chardonnay-Pinot Gris': 4, 'Chardonnay-Riesling': 32, 'Chardonnay-Sauvignon': 12, 'Chardonnay-Sauvignon Blanc': 14, 'Chardonnay-Semillon': 21, 'Chardonnay-Viognier': 18, 'Chasselas': 27, 'Chelois': 29, 'Chenin Blanc': 34, 'Chenin Blanc-Chardonnay': 15, 'Chenin Blanc-Viognier': 13, 'Ciliegiolo': 47, 'Cinsault': 33, 'Clairette': 25, 'Claret': 79, 'Cococciola': 24, 'Coda di Volpe': 23, 'Colombard': 19, 'Colombard-Sauvignon Blanc': 7, 'Colombard-Ugni Blanc': 5, 'Colorino': 54, 'Cortese': 25, 'Corvina': 69, 'Corvina, Rondinella, Molinara': 79, 'Counoise': 43, 'Crespiello': 87, 'Debit': 240, 'Diamond': 4, 'Dolcetto': 27, 'Dornfelder': 51, 'Doña Blanca': 84, 'Duras': 27, 'Durella': 49, 'Durello': 28, 'Durif': 57, 'Edelzwicker': 21, 'Erbaluce': 35, 'Falanghina': 26, 'Favorita': 29, 'Fer Servadou': 17, 'Fiano': 37, 'Forcallà': 38, 'Francisa': 299, 'Franconia': 16, 'Frappato': 29, 'Freisa': 26, 'Friulano': 31, 'Fumé Blanc': 28, 'G-S-M': 49, 'Gaglioppo': 25, 'Gamay': 25, 'Gamay Noir': 29, 'Garganega': 25, 'Garnacha': 26, 'Garnacha Blanca': 23, 'Garnacha Blend': 22, 'Garnacha Tintorera': 18, 'Garnacha-Cabernet': 27, 'Garnacha-Cariñena': 97, 'Garnacha-Graciano': 15, 'Garnacha-Monastrell': 8, 'Garnacha-Syrah': 10, 'Garnacha-Tempranillo': 7, 'Gewürztraminer': 38, 'Gewürztraminer-Riesling': 35, 'Glera': 24, 'Godello': 29, 'Graciano': 71, 'Gragnano': 17, 'Grecanico': 27, 'Grechetto': 17, 'Greco': 35, 'Greco Bianco': 18, 'Grenache': 54, 'Grenache Blanc': 34, 'Grenache Blend': 32, 'Grenache Gris': 48, 'Grenache Noir': 40, 'Grenache-Carignan': 38, 'Grenache-Mourvèdre': 57, 'Grenache-Shiraz': 25, 'Grenache-Syrah': 38, 'Grignolino': 18, 'Grillo': 19, 'Grolleau': 48, 'Groppello': 30, 'Gros Manseng': 19, 'Gros and Petit Manseng': 26, 'Grüner Veltliner': 27, 'Hondarrabi Zuri': 25, 'Incrocio Manzoni': 37, 'Insolia': 19, 'Inzolia': 14, 'Jacquez': 55, 'Jacquère': 18, 'Jaen': 24, 'Johannisberg Riesling': 9, 'Kerner': 31, 'Lacrima': 15, 'Lagrein': 49, 'Lambrusco': 16, 'Lambrusco Grasparossa': 21, 'Lambrusco Salamino': 12, 'Lambrusco di Sorbara': 25, 'Lemberger': 22, 'Listán Negro': 24, \"Loin de l'Oeil\": 37, 'Macabeo': 15, 'Macabeo-Chardonnay': 7, 'Macabeo-Gewürztraminer': 4, 'Macabeo-Moscatel': 0, 'Madeira Blend': 67, 'Madeleine Angevine': 19, 'Magliocco': 40, 'Malbec': 42, 'Malbec Blend': 116, 'Malbec-Bonarda': 17, 'Malbec-Cabernet': 208, 'Malbec-Cabernet Franc': 59, 'Malbec-Cabernet Sauvignon': 62, 'Malbec-Merlot': 25, 'Malbec-Petit Verdot': 62, 'Malbec-Syrah': 20, 'Malbec-Tannat': 46, 'Malbec-Tempranillo': 29, 'Malvar': 31, 'Malvasia': 36, 'Malvasia Bianca': 27, 'Malvasia Istriana': 24, 'Malvasia Nera': 47, 'Malvasia di Candia': 29, 'Malvasia-Viura': 20, 'Malvoisie': 12, 'Mansois': 16, 'Mantonico': 40, 'Manzoni': 29, 'Marquette': 20, 'Marsanne': 67, 'Marsanne-Roussanne': 41, 'Marsanne-Viognier': 47, 'Marselan': 8, 'Marzemino': 72, 'Maréchal Foch': 12, 'Mataro': 91, 'Maturana': 103, 'Mauzac': 19, 'Mazuelo': 139, 'Melon': 18, 'Mencía': 44, 'Meritage': 57, 'Merlot': 43, 'Merlot-Cabernet': 23, 'Merlot-Cabernet Franc': 55, 'Merlot-Cabernet Sauvignon': 60, 'Merlot-Grenache': 5, 'Merlot-Malbec': 63, 'Merlot-Petite Verdot': 24, 'Merlot-Syrah': 24, 'Merlot-Tannat': 21, 'Merseguera-Sauvignon Blanc': 2, 'Meseguera': 54, 'Mission': 119, 'Molinara': 34, 'Monastrell': 24, 'Monastrell-Petit Verdot': 23, 'Monastrell-Syrah': 19, 'Mondeuse': 36, 'Monica': 29, 'Montepulciano': 34, 'Morio Muskat': 12, 'Moristel': 8, 'Moscadello': 60, 'Moscatel': 45, 'Moscatel de Alejandría': 21, 'Moscato': 18, 'Moscato Giallo': 28, 'Moscato Rosa': 51, 'Moscato di Noto': 63, 'Mourvèdre': 52, 'Mourvèdre-Syrah': 71, 'Muscadel': 189, 'Muscadelle': 217, 'Muscadet': 5, 'Muscadine': 29, 'Muscat': 52, 'Muscat Blanc': 31, 'Muscat Blanc à Petit Grain': 20, 'Muscat Blanc à Petits Grains': 16, 'Muscat Canelli': 23, 'Muscat Hamburg': 28, \"Muscat d'Alexandrie\": 25, 'Muscat of Alexandria': 17, 'Muskat': 40, 'Muskat Ottonel': 25, 'Müller-Thurgau': 22, 'Nascetta': 38, 'Nasco': 86, 'Nebbiolo': 116, 'Negrette': 23, 'Negroamaro': 21, 'Nerello Cappuccio': 49, 'Nerello Mascalese': 64, \"Nero d'Avola\": 32, 'Nero di Troia': 48, 'Nielluciu': 30, 'Norton': 31, 'Nosiola': 38, 'Nuragus': 16, 'Orange Muscat': 22, 'Pallagrello': 56, 'Pallagrello Bianco': 47, 'Pallagrello Nero': 74, 'Palomino': 71, 'Pansa Blanca': 20, 'Paralleda': 6, 'Pardina': 6, 'Parraleta': 11, 'Passerina': 18, 'Pecorino': 24, 'Pedro Ximénez': 54, 'Pelaverga Piccolo': 40, 'Perricone': 36, 'Petit Courbu': 22, 'Petit Manseng': 45, 'Petit Verdot': 60, 'Petite Sirah': 45, 'Petite Syrah': 76, 'Petite Verdot': 72, 'Picapoll': 28, 'Picolit': 126, 'Picpoul': 25, 'Pied de Perdrix': 10, 'Piedirosso': 26, 'Pigato': 15, 'Pignoletto': 17, 'Pignolo': 122, 'Pinot Auxerrois': 31, 'Pinot Bianco': 33, 'Pinot Blanc': 23, 'Pinot Blanc-Chardonnay': 31, 'Pinot Blanc-Pinot Noir': 18, 'Pinot Blanc-Viognier': 22, 'Pinot Grigio': 16, 'Pinot Grigio-Chardonnay': 4, 'Pinot Grigio-Sauvignon Blanc': 54, 'Pinot Gris': 30, 'Pinot Gris-Gewürztraminer': 24, 'Pinot Meunier': 75, 'Pinot Nero': 51, 'Pinot Noir': 80, 'Pinot Noir-Gamay': 19, 'Pinot Noir-Syrah': 87, 'Pinot-Chardonnay': 41, 'Pinotage': 42, 'Piquepoul Blanc': 10, 'Port': 54, 'Poulsard': 36, 'Premsal': 14, 'Prieto Picudo': 46, 'Primitivo': 32, 'Prié Blanc': 32, 'Prosecco': 22, 'Provence red blend': 42, 'Provence white blend': 32, 'Prugnolo Gentile': 64, 'Prunelard': 30, 'Pugnitello': 82, 'Raboso': 35, 'Rebo': 38, 'Red Blend': 55, 'Refosco': 74, 'Rhône-style Red Blend': 51, 'Rhône-style White Blend': 49, 'Ribolla Gialla': 41, 'Riesling': 30, 'Riesling-Chardonnay': 63, 'Rkatsiteli': 26, 'Rolle': 29, 'Romorantin': 31, 'Rosado': 11, 'Rosato': 19, 'Roscetto': 30, 'Rosé': 22, 'Roussanne': 39, 'Roussanne-Grenache Blanc': 16, 'Roussanne-Marsanne': 44, 'Roussanne-Viognier': 42, 'Roviello': 40, 'Ruché': 40, 'Rufete': 30, 'Sacy': 22, 'Sagrantino': 88, 'Sangiovese': 68, 'Sangiovese Cabernet': 76, 'Sangiovese Grosso': 113, 'Sangiovese-Cabernet Sauvignon': 47, 'Sangiovese-Syrah': 74, 'Saperavi': 55, 'Sauvignon': 35, 'Sauvignon Blanc': 26, 'Sauvignon Blanc-Chardonnay': 14, 'Sauvignon Blanc-Semillon': 33, 'Sauvignon Blanc-Verdejo': 9, 'Sauvignon Gris': 39, 'Sauvignon Musqué': 27, 'Sauvignon-Sémillon': 8, 'Savagnin': 68, 'Scheurebe': 83, 'Schiava': 21, 'Sciaccerellu': 74, 'Segalin': 4, 'Semillon-Chardonnay': 4, 'Semillon-Sauvignon Blanc': 37, 'Seyval Blanc': 24, 'Sherry': 51, 'Shiraz': 63, 'Shiraz-Cabernet': 77, 'Shiraz-Cabernet Sauvignon': 27, 'Shiraz-Grenache': 31, 'Shiraz-Malbec': 18, 'Shiraz-Merlot': 4, 'Shiraz-Mourvèdre': 21, 'Shiraz-Roussanne': 42, 'Shiraz-Tempranillo': 4, 'Shiraz-Viognier': 75, 'Siegerrebe': 12, 'Silvaner': 19, 'Sirica': 48, 'Souzao': 44, 'Sparkling Blend': 43, 'St. Vincent': 32, 'Susumaniello': 55, 'Sylvaner': 29, 'Symphony': 14, 'Syrah': 61, 'Syrah-Bonarda': 10, 'Syrah-Cabernet': 58, 'Syrah-Cabernet Franc': 120, 'Syrah-Cabernet Sauvignon': 79, 'Syrah-Carignan': 21, 'Syrah-Grenache': 37, 'Syrah-Grenache-Viognier': 73, 'Syrah-Malbec': 12, 'Syrah-Merlot': 44, 'Syrah-Mourvèdre': 59, 'Syrah-Petit Verdot': 67, 'Syrah-Petite Sirah': 65, 'Syrah-Tempranillo': 54, 'Syrah-Viognier': 89, 'Sémillon': 31, 'Tai': 4, 'Tannat': 55, 'Tannat-Cabernet': 24, 'Tannat-Cabernet Franc': 28, 'Tannat-Merlot': 23, 'Tannat-Syrah': 24, 'Tempranillo': 46, 'Tempranillo Blanco': 42, 'Tempranillo Blend': 55, 'Tempranillo-Cabernet Sauvignon': 53, 'Tempranillo-Garnacha': 7, 'Tempranillo-Malbec': 42, 'Tempranillo-Merlot': 15, 'Tempranillo-Shiraz': 13, 'Tempranillo-Syrah': 19, 'Teroldego': 46, 'Teroldego Rotaliano': 14, 'Timorasso': 75, 'Tinta Amarela': 44, 'Tinta Fina': 45, 'Tinta Madeira': 73, 'Tinta de Toro': 75, 'Tinta del Pais': 78, 'Tinta del Toro': 31, 'Tintilia ': 34, 'Tinto Fino': 115, 'Tinto Velasco': 2, 'Tinto del Pais': 94, 'Tocai': 25, 'Tocai Friulano': 34, 'Tocai Rosso': 16, 'Tokay': 131, 'Tokay Pinot Gris': 40, 'Torbato': 26, 'Torrontés': 11, 'Touriga': 74, 'Touriga Franca': 28, 'Touriga Nacional': 44, 'Touriga Nacional Blend': 142, 'Traminer': 21, 'Traminette': 13, 'Trebbiano': 28, 'Trebbiano Spoletino': 29, 'Trebbiano di Lugana': 26, 'Trebbiano-Malvasia': 81, 'Treixadura': 17, 'Trepat': 27, 'Trousseau': 59, 'Trousseau Gris': 29, 'Turbiana': 31, 'Ugni Blanc': 38, 'Ugni Blanc-Colombard': 5, 'Uva di Troia': 33, 'Uvalino': 42, 'Valdiguié': 25, 'Valvin Muscat': 10, 'Veltliner': 43, 'Verdeca': 15, 'Verdejo': 17, 'Verdejo-Sauvignon Blanc': 8, 'Verdejo-Viura': 7, 'Verdelho': 17, 'Verdicchio': 29, 'Verdil': 20, 'Verdosilla': 18, 'Verduzzo': 42, 'Verduzzo Friulano ': 58, 'Vermentino': 30, 'Vermentino Nero': 73, 'Vernaccia': 22, 'Vespaiolo': 34, 'Vespolina': 34, 'Vidadillo': 32, 'Vidal': 61, 'Vidal Blanc': 53, 'Vignoles': 18, 'Viognier': 35, 'Viognier-Chardonnay': 44, 'Viognier-Gewürztraminer': 14, 'Viognier-Grenache Blanc': 45, 'Viognier-Marsanne': 24, 'Viognier-Roussanne': 32, 'Viognier-Valdiguié': 18, 'Vitovska': 152, 'Viura': 13, 'Viura-Chardonnay': 6, 'Viura-Sauvignon Blanc': 10, 'Viura-Verdejo': 8, 'White Blend': 30, 'White Port': 63, 'White Riesling': 23, 'Xarel-lo': 24, 'Zibibbo': 60, 'Zinfandel': 40, 'Zweigelt': 37}\n"
          ],
          "name": "stdout"
        },
        {
          "output_type": "execute_result",
          "data": {
            "text/html": [
              "<div>\n",
              "<style scoped>\n",
              "    .dataframe tbody tr th:only-of-type {\n",
              "        vertical-align: middle;\n",
              "    }\n",
              "\n",
              "    .dataframe tbody tr th {\n",
              "        vertical-align: top;\n",
              "    }\n",
              "\n",
              "    .dataframe thead th {\n",
              "        text-align: right;\n",
              "    }\n",
              "</style>\n",
              "<table border=\"1\" class=\"dataframe\">\n",
              "  <thead>\n",
              "    <tr style=\"text-align: right;\">\n",
              "      <th></th>\n",
              "      <th>country</th>\n",
              "      <th>points</th>\n",
              "      <th>price</th>\n",
              "      <th>province</th>\n",
              "      <th>region</th>\n",
              "      <th>variety</th>\n",
              "      <th>winery</th>\n",
              "    </tr>\n",
              "  </thead>\n",
              "  <tbody>\n",
              "    <tr>\n",
              "      <th>0</th>\n",
              "      <td>6</td>\n",
              "      <td>96</td>\n",
              "      <td>235.0</td>\n",
              "      <td>3</td>\n",
              "      <td>15</td>\n",
              "      <td>82</td>\n",
              "      <td>Heitz</td>\n",
              "    </tr>\n",
              "    <tr>\n",
              "      <th>1</th>\n",
              "      <td>5</td>\n",
              "      <td>96</td>\n",
              "      <td>110.0</td>\n",
              "      <td>2</td>\n",
              "      <td>11</td>\n",
              "      <td>75</td>\n",
              "      <td>Bodega Carmen Rodríguez</td>\n",
              "    </tr>\n",
              "    <tr>\n",
              "      <th>2</th>\n",
              "      <td>6</td>\n",
              "      <td>96</td>\n",
              "      <td>90.0</td>\n",
              "      <td>3</td>\n",
              "      <td>12</td>\n",
              "      <td>26</td>\n",
              "      <td>Macauley</td>\n",
              "    </tr>\n",
              "    <tr>\n",
              "      <th>3</th>\n",
              "      <td>6</td>\n",
              "      <td>96</td>\n",
              "      <td>65.0</td>\n",
              "      <td>3</td>\n",
              "      <td>9</td>\n",
              "      <td>80</td>\n",
              "      <td>Ponzi</td>\n",
              "    </tr>\n",
              "    <tr>\n",
              "      <th>4</th>\n",
              "      <td>3</td>\n",
              "      <td>95</td>\n",
              "      <td>66.0</td>\n",
              "      <td>1</td>\n",
              "      <td>8</td>\n",
              "      <td>42</td>\n",
              "      <td>Domaine de la Bégude</td>\n",
              "    </tr>\n",
              "    <tr>\n",
              "      <th>...</th>\n",
              "      <td>...</td>\n",
              "      <td>...</td>\n",
              "      <td>...</td>\n",
              "      <td>...</td>\n",
              "      <td>...</td>\n",
              "      <td>...</td>\n",
              "      <td>...</td>\n",
              "    </tr>\n",
              "    <tr>\n",
              "      <th>129962</th>\n",
              "      <td>4</td>\n",
              "      <td>90</td>\n",
              "      <td>40.0</td>\n",
              "      <td>2</td>\n",
              "      <td>6</td>\n",
              "      <td>32</td>\n",
              "      <td>Cusumano</td>\n",
              "    </tr>\n",
              "    <tr>\n",
              "      <th>129965</th>\n",
              "      <td>3</td>\n",
              "      <td>90</td>\n",
              "      <td>28.0</td>\n",
              "      <td>2</td>\n",
              "      <td>8</td>\n",
              "      <td>30</td>\n",
              "      <td>Domaine Rieflé-Landmann</td>\n",
              "    </tr>\n",
              "    <tr>\n",
              "      <th>129967</th>\n",
              "      <td>6</td>\n",
              "      <td>90</td>\n",
              "      <td>75.0</td>\n",
              "      <td>3</td>\n",
              "      <td>6</td>\n",
              "      <td>80</td>\n",
              "      <td>Citation</td>\n",
              "    </tr>\n",
              "    <tr>\n",
              "      <th>129969</th>\n",
              "      <td>3</td>\n",
              "      <td>90</td>\n",
              "      <td>32.0</td>\n",
              "      <td>2</td>\n",
              "      <td>8</td>\n",
              "      <td>30</td>\n",
              "      <td>Domaine Marcel Deiss</td>\n",
              "    </tr>\n",
              "    <tr>\n",
              "      <th>129970</th>\n",
              "      <td>3</td>\n",
              "      <td>90</td>\n",
              "      <td>21.0</td>\n",
              "      <td>2</td>\n",
              "      <td>8</td>\n",
              "      <td>38</td>\n",
              "      <td>Domaine Schoffit</td>\n",
              "    </tr>\n",
              "  </tbody>\n",
              "</table>\n",
              "<p>121857 rows × 7 columns</p>\n",
              "</div>"
            ],
            "text/plain": [
              "        country  points  price  ...  region  variety                   winery\n",
              "0             6      96  235.0  ...      15       82                    Heitz\n",
              "1             5      96  110.0  ...      11       75  Bodega Carmen Rodríguez\n",
              "2             6      96   90.0  ...      12       26                 Macauley\n",
              "3             6      96   65.0  ...       9       80                    Ponzi\n",
              "4             3      95   66.0  ...       8       42     Domaine de la Bégude\n",
              "...         ...     ...    ...  ...     ...      ...                      ...\n",
              "129962        4      90   40.0  ...       6       32                 Cusumano\n",
              "129965        3      90   28.0  ...       8       30  Domaine Rieflé-Landmann\n",
              "129967        6      90   75.0  ...       6       80                 Citation\n",
              "129969        3      90   32.0  ...       8       30     Domaine Marcel Deiss\n",
              "129970        3      90   21.0  ...       8       38         Domaine Schoffit\n",
              "\n",
              "[121857 rows x 7 columns]"
            ]
          },
          "metadata": {
            "tags": []
          },
          "execution_count": 128
        }
      ]
    },
    {
      "cell_type": "code",
      "metadata": {
        "id": "zMhOAsBQc_nz",
        "colab_type": "code",
        "outputId": "d71edf37-b433-44dc-cce8-fadbbaa55c63",
        "colab": {
          "base_uri": "https://localhost:8080/",
          "height": 657
        }
      },
      "source": [
        "# przenumerowanie kolumny \"winery\"\n",
        "x_winery = wine_data.groupby('winery')[\"price\"].mean()\n",
        "print(x_winery)\n",
        "dict_winery = dict(pd.cut(x_winery,3000,labels=range(3000)))\n",
        "print(dict_winery)\n",
        "wine_data['winery'] = wine_data['winery'].replace(dict_winery)\n",
        "wine_data"
      ],
      "execution_count": 129,
      "outputs": [
        {
          "output_type": "stream",
          "text": [
            "winery\n",
            "1+1=3               16.750000\n",
            "10 Knots            23.272727\n",
            "100 Percent Wine    18.000000\n",
            "1000 Stories        19.000000\n",
            "1040FU              25.000000\n",
            "                      ...    \n",
            "Ñandú               14.500000\n",
            "Órale               30.000000\n",
            "Öko                 11.000000\n",
            "àMaurice            38.971429\n",
            "áster               26.000000\n",
            "Name: price, Length: 15666, dtype: float64\n",
            "{'1+1=3': 11, '10 Knots': 17, '100 Percent Wine': 12, '1000 Stories': 13, '1040FU': 19, '1070 Green': 19, '10Span': 7, '12 Linajes': 19, '12C Wines': 80, '14 Hands': 13, '16X20': 32, '1752 Signature Wines': 14, '1789 Wines': 40, '181': 10, '18401 Cellars': 64, '1850': 19, '19 Crimes': 9, '1919': 5, '2 Cocky Sisters': 5, '2 Copas': 3, '2 Lads': 33, '2 Up': 9, '21 Grams': 110, '24 Knots': 11, '240 Days': 21, '25 Lagunas': 5, '2820 Wine Co.': 21, '29 & Oak Wines': 48, '2Hawk': 25, '2Plank': 30, '2nd Chance': 25, '3 Badge Beverage': 23, '3 Ball': 10, '3 Hills High': 13, '3 Horse Ranch Vineyards': 17, '3 Rings': 18, '3 Spells': 20, '3 Steves Winery': 20, '3 Trees': 10, '31st State': 5, '32 Winds': 38, '337 Wine Cellars': 10, '39°': 6, '3CV': 13, '3Fools': 13, '4 Bears': 10, '4 Cellars': 19, '401K': 10, '428 Wines': 27, '42°S': 13, '460 Casina Bric': 47, '4R4U': 1, '5 Points Cellars': 41, '50 Harvests': 41, '5OS Project': 19, '6 North': 41, '6 Under': 17, '60 North': 5, '60 Souls': 19, '6cepas6': 15, '6th Sense': 10, '7 Heavenly Chards': 11, '7 Lunas': 46, '7 Peaks': 6, '75 Wine Co.': 10, '786 Wines': 8, '8 Chains North': 24, '868 Estate': 18, '9 Mile Road': 9, ':Nota Bene': 24, 'A Blooming Hill Vineyard': 17, 'A By Acacia': 8, 'A Cellar Full of Noise': 12, 'A Coroa': 22, 'A Donkey and Goat': 26, 'A Fuga': 7, 'A to Z': 10, 'A-Mano': 6, 'A. D. Coutelas': 48, 'A. Faustini': 53, 'A. Margaine': 49, 'A. de Luze et Fils': 9, 'A.P. Vin': 42, 'A.R. Lenoble\\xa0': 47, 'A.S. Kiken': 42, 'A.T. Richardson': 15, 'A2O': 16, 'AJB Vineyards': 15, 'AVA Grace Vineyards': 6, 'AZS': 64, 'Aalto': 91, 'Aaron': 32, 'Abacela': 19, 'Abad': 10, 'Abad Dom Bueno': 15, 'Abadia Retuerta': 66, 'Abadía da Cova': 15, 'Abadía de Acón': 16, 'Abadía de Tortoreos': 13, 'Abadía la Arroyada': 12, 'Abandon': 12, 'Abarbanel': 10, 'Abbadia Ardenga': 39, 'Abbaye De Tholomies': 11, 'Abbaye Sylva Plana': 22, 'Abbaye de Saint-Ferme': 19, 'Abbazia Monte Oliveto': 10, 'Abbazia Santa Anastasia': 25, 'Abbazia di Novacella': 19, 'Abbey Creek': 20, 'Abbey Vale': 8, 'Abbey of Saint-Hilaire': 16, 'Abbeyville': 8, 'Abbona Marziano': 68, \"Abbot's Passage\": 62, 'Abbotts': 17, 'Abbotts Delaunay': 16, 'Abeja': 35, 'Abel Mendoza': 36, 'Abelis Carthago': 25, 'Aberrant Cellars': 33, 'Abiouness': 30, 'Abiqua Wind': 9, 'Abraxas': 36, 'Abrazo': 2, 'Acacia': 38, 'Acaibo': 64, 'Accadia': 12, 'Accordini Igino': 31, 'Acentor': 8, 'Achaval-Ferrer': 73, 'Acinum': 27, 'Ackerly Pond': 15, 'Ackerman': 47, 'Ackerman Family Vineyards': 53, 'Aconcagua': 10, 'Aconga': 5, 'Acordeón': 4, 'Acorn': 27, 'Acquiesce': 18, 'Acre': 10, 'Acre Twenty-one': 10, 'Acrobat': 10, 'Acronym': 13, 'Acumen': 16, 'Acústic': 22, 'Ad Lib': 11, 'Ad Vivum': 114, 'Ada Nada': 33, 'Adair Bachman': 28, 'Adalia': 14, 'Adamant Cellars': 24, 'Adami': 14, 'Adams Bench': 41, 'Adanti': 24, 'Adastra': 32, 'Addamo': 30, 'Addendum': 81, 'Addict Wines': 6, 'Adega Algueira': 12, 'Adega Cachín': 15, 'Adega Martínez Serantes': 12, 'Adega Northwest': 29, 'Adega dos Eidos': 18, \"Adegas D'Altamira\": 16, 'Adegas Galegas': 16, 'Adegas Gran Vinum': 18, 'Adegas Moure': 20, 'Adegas Terra Santa': 15, 'Adelaida': 30, 'Adelaida Cellars': 44, 'Adelsheim': 44, 'Aderezo': 10, 'Adirondack Winery': 11, 'Adler Fels': 12, 'Admirable Family Vineyard': 45, 'Adobe Creek': 9, 'Adobe Road': 30, 'Adoquin': 5, 'Adria Vini': 6, 'Adrian Fog': 64, 'Adriano Marco & Vittorio': 24, 'Adrás': 13, 'Aequorea': 33, 'Aesthete': 46, 'Aether Wine Company': 38, 'Affaire de Coeur': 37, 'Afton Mountain': 21, 'Agate Ridge': 18, 'Ager Falernus': 41, 'Agly Brothers': 37, 'Agnanum': 14, 'Agness': 12, 'Agnitio': 50, 'Agnusdei': 11, 'Agostina Pieri': 36, 'Agostino Bosco': 40, 'Agostino Pavia & Figli': 19, 'Agostino Vicentini': 11, 'Agrapart & Fils': 59, 'Agrest de Guitard': 5, 'Agribergidvm': 7, 'Agricola Bellaria': 18, 'Agricola Castellana': 8, 'Agricola Falset-Marca': 16, 'Agricola Pace': 13, 'Agricola Punica': 34, 'Agricola Querciabella': 65, 'Agricola Sulin': 12, 'Agricola Tamburini': 8, 'Agricole Vallone': 23, 'Agricoltori del Chianti Geografico': 15, 'Agrinatura': 13, 'Agrisole': 30, 'Agro de Bazán': 16, 'AgroArgento': 8, 'Agrícola Labastida': 26, 'Aguijón De Abeja': 16, 'Aguma': 25, 'Agustí Torelló': 57, 'Agustí Torelló Mata': 33, 'Agustín Cubero': 5, 'Ahlgren': 26, 'Ahnfeldt': 35, 'Aia Vecchia': 19, 'Aidura': 16, 'Aiken': 86, 'Aimé Roquesante': 7, 'Airfield Estates': 15, 'Airlie': 10, 'Aitor Ider Balbo': 3, 'Aje': 37, 'Al': 3, 'Al Zagal': 10, 'Al-Cantàra': 16, 'Alabanza': 32, 'Alain Brumont': 16, 'Alain Girard et Fils': 23, 'Alain Gras': 16, 'Alain Jaume et Fils': 27, 'Alain Paret': 10, 'Alain Poulet': 7, 'Alain Voge': 41, 'Alamos': 8, 'Alan de Val': 11, 'Alapay': 16, 'Alba': 10, 'Alba Roja': 8, 'Albada': 5, 'Alban': 22, 'Albatreti': 23, 'Albatross Ridge': 44, 'Albemarle': 10, 'Albeno Munari': 14, 'Alberice': 17, 'Albert Besombes': 6, 'Albert Bichot': 86, 'Albert Morot': 56, 'Alberti 154': 7, 'Albertina': 19, 'Alberto Furque': 10, 'Alberto Longo': 17, 'Alberto Nani': 12, 'Alberto Orte': 23, 'Alberto Voerzio': 60, 'Albet I Noya': 11, 'Albinea Canali': 8, 'Albino Armani': 24, 'Albino Piona': 10, 'Albino Rocca': 49, 'Albola': 7, 'Alcardet': 27, 'Alceño': 8, 'Alchemist': 21, 'Alchemy Wine Productions': 17, 'Aldegheri': 30, 'Alder Fels': 14, 'Alder Ridge': 25, 'Alder Springs': 30, 'Alderbrook': 18, 'Aldo Clerico': 36, 'Aldo Conterno': 103, 'Aldo Polencic': 43, 'Aldonia': 21, 'Aldor': 6, 'Alegra': 14, 'Aleksander': 73, 'Aleo': 10, 'Aleph': 19, 'Alessandro Rivetto': 34, 'Alessandro Speri': 16, 'Alessandro Tofanari': 15, 'Alessandro di Camporeale': 15, 'Alessio Komjanc': 10, 'Aletta': 4, 'Alex': 6, 'Alex Gambal': 62, 'Alexana': 34, 'Alexander Valley Vineyards': 21, 'Alexander the Grape': 41, 'Alexander-Smith': 46, 'Alexandre Monmousseau': 17, 'Alexandria Nicole': 21, 'Alfaro Family': 25, 'Alfonso Boeri': 15, 'Alfred Gratien': 83, 'Alfredo Roca': 8, 'Algairen': 11, 'Algodon': 23, 'Alias': 5, 'Alice White': 2, 'Alidis': 44, 'Alienor': 48, 'Aliento Del Sol': 20, 'Alion': 74, 'Aljibes': 21, 'Alkoomi': 11, 'All About Red': 8, 'Allandale': 10, 'Allegiance': 29, 'Allegorie': 25, 'Allegrini': 37, 'Alleromb': 53, 'Alliance Loire': 8, 'Alliata': 23, 'Allimant-Laugner': 13, 'Allora': 44, 'Alloro': 40, 'Allure': 9, 'Alma Andina': 9, 'Alma Fria': 41, 'Alma Mora': 6, 'Alma Negra': 25, 'Alma Rosa': 28, 'Alma Sol': 22, 'Alma de Cattleya': 15, 'Alma de Tobia': 45, 'Alma de los Andes': 10, 'Alma del Sur': 7, 'AlmaTerra': 38, 'Almez': 4, 'Almira': 3, 'Almquist': 23, 'Aloft': 132, 'Alois': 35, 'Alois Lageder': 24, 'Aloja': 9, 'Alonso Cuesta': 18, 'Alonso del Yerro': 55, 'Alouette': 19, 'Alpamanta': 17, 'Alpasión': 25, 'Alpataco': 12, 'Alpha Crucis': 34, 'Alpha Loire': 11, 'Alpha Omega': 112, 'Alphonse Mellot': 71, 'Alquézar': 7, 'Alta': 33, 'Alta Alella': 25, 'Alta Colina': 36, 'Alta Luna': 7, 'Alta Marca': 7, 'Alta Maria': 25, 'Alta Pavina': 23, 'Alta Vista': 23, 'Altadonna': 10, 'Altamira': 30, 'Altamura': 44, 'Altanuta': 10, 'Altanza': 29, 'Altas Cumbres': 4, 'Altavia': 19, 'Altavins': 11, 'Altemasi': 29, 'Alterra': 10, 'Altesino': 56, \"Althe'a\": 10, 'Althéa': 12, 'Altino': 10, 'Alto 3': 7, 'Alto Agrelo': 15, 'Alto Cinco': 10, 'Alto Moncayo': 57, 'Alto Salvador': 4, 'Altocedro': 21, 'Altolandon': 23, 'Altoona Hills': 7, 'Altos Las Hormigas': 14, 'Altos de Cristimil': 14, 'Altos de San Isidro': 12, 'Altos de Sueño': 10, 'Altos de Torona': 22, 'Altos del Cuco': 6, 'Altos del Marqués': 19, 'Altos del Terral': 90, 'Altosur': 5, 'Altozano': 5, 'Altvs': 57, 'Altùris': 6, 'Aluvé': 36, 'Alvarez de Toledo': 19, 'Alvaro Palacios': 118, 'Alvear': 15, 'Alvinte': 16, 'Alyris': 46, 'Alysian': 34, 'Alzania': 38, 'AmByth': 37, 'Amador Cellars': 22, 'Amador Foothill Winery': 11, 'Amador Garcia': 40, 'Amadores': 9, 'Amalaya': 8, 'Amalia': 48, 'Amalie Robert': 32, 'Amalthea Cellars': 11, 'Amantis': 47, 'Amapola Creek': 54, 'Amaro Vineyard': 32, 'Amaroo': 3, 'Amastuola': 18, 'Amathia': 4, 'Amatore': 5, 'Amavi': 21, 'Ambasciata del  Buon Vino': 60, 'Ambassador Vineyard': 35, 'Amberhill': 5, 'Amberley': 18, 'Ambiente': 4, 'Ambition': 5, 'Ambo Secco': 18, 'Ambrogio e Giovanni Folonari': 34, 'Ambrose': 19, 'Ambrosini Lorella': 32, 'Ambullneo': 63, 'Amelle': 27, 'American Roots': 13, 'American Thread': 19, 'Americano': 11, 'Amethyst': 11, 'Amici': 44, 'Amicus by X Winery': 39, 'Amista': 16, 'Amity': 18, 'Amity Vineyards': 18, 'Amizade': 14, 'Amizetta': 50, 'Ammunition': 16, 'Amor Fati': 50, 'Amor de los Andes': 8, 'Amore di Amanti': 5, 'Amos Cellars': 21, 'Ampelos': 24, 'Amphora': 36, 'Amusant': 10, 'Amuse Bouche': 170, 'Amézola': 14, 'An Approach to Relaxation': 50, 'Anaba': 28, 'Anakota': 66, 'Analemma': 29, 'Analivia': 5, 'Anam Cara': 35, 'Anapamu': 10, 'Anatomy': 14, 'Ancestrale': 19, 'Ancestry': 20, 'Anciano': 8, 'Ancien': 36, 'Ancient Cellars': 17, 'Ancient Oak Cellars': 33, 'Ancient Peaks': 16, 'Ancient Roots': 4, 'Ancilla': 16, 'Andean': 9, 'Andean Sky': 6, 'Andeluna': 18, 'Andes Grapes': 8, 'Andis': 18, 'Andre Lorentz': 10, 'Andre et Mireille Tissot': 30, 'Andrea Felici': 19, 'Andrea Oberto': 71, 'Andreola': 16, 'Andreola Orsola': 16, 'Andretti': 28, 'Andrew Geoffrey': 64, 'Andrew Hardy': 91, 'Andrew Harris': 12, 'Andrew Januik': 35, 'Andrew Murray': 20, 'Andrew Peace': 5, 'Andrew Rich': 23, 'Andrew Will': 42, 'Andriano': 26, 'Andrieux & Fils': 19, 'Andrus': 110, 'André Blanck et ses Fils': 20, 'André Brunel': 29, 'André Kientzler': 25, 'André et Edmond Figeat': 17, 'Anecoop': 7, 'Anemoi': 34, 'Aneri': 14, 'Anew': 6, 'Angel Camp': 43, 'Angel Juice': 14, 'Angel Vine': 16, \"Angel's Cup\": 7, \"Angel's Secret\": 11, 'Angela Estate': 45, 'Angeli di Varano': 19, 'Angeline': 10, 'Angelini': 12, 'Angelo Bortolin': 12, 'Angelo Cellars': 69, 'Angels & Cowboys': 14, 'Angels Landing': 14, 'Anglim': 29, 'Angosto': 23, 'Angove': 44, \"Angove's\": 8, 'Angry Bunch': 10, 'Angulo Innocenti': 17, 'Angus The Bull': 10, 'Aniello': 20, 'Anier': 20, 'Animale': 19, 'Animo': 73, 'Anindor': 12, 'Anita et André Kuhnel': 14, 'Ankal': 21, 'Ankh': 55, 'Ankida Ridge': 23, 'Anko': 13, 'Anna Maria Abbona': 25, 'Anna Spinato': 10, 'Annabella': 12, 'Anne Amie': 24, 'Annefield Vineyards': 17, \"Annie's Lane\": 12, 'Annika Vineyards': 32, 'Annosus': 6, 'Anomaly': 82, 'Anonymous': 22, 'Anselma': 34, 'Anselmi': 14, 'Anselmo Vineyards': 26, 'Anta': 25, 'Antale': 8, 'Anterra': 3, 'Anthill': 30, 'Anthony Nappa': 24, 'Anthony Road': 14, 'Anthropology': 6, 'Antic': 20, 'Antica': 54, 'Antica Corte': 21, 'Antica Enotria': 14, 'Antica Fratta': 32, 'Antica Hirpinia': 19, 'Antichi Vigneti di Cantalupo': 33, 'Antichi Vinai 1877': 23, 'Antico Borgo di Sugame': 20, 'Antico Broilo': 13, 'Antico Castello': 37, 'Antico Colle': 21, 'Antier': 37, 'Antigal': 26, 'Antigua Bodega': 7, 'Antinori': 37, 'Antiquum Farm': 39, 'Antis': 11, 'Antler Hill': 41, 'AntoLin Cellars': 13, 'Antoine Moltès & Fils': 18, 'Antoine Sanzay': 18, 'Antoine Simoneau': 13, 'Antolini': 45, 'Antonelli': 29, 'Antonin Rodet': 24, 'Antonino Tringali-Casanuova': 18, 'Antonio Caggiano': 29, 'Antonio Cesar Cavalli': 7, 'Antonio Gonzalez': 22, 'Antonio Mas': 155, 'Antonio Nerviani': 10, 'Antonio Patric': 50, 'Antoniolo': 57, 'Antonutti': 11, 'Antucura': 17, 'Anzivino': 28, 'Aperture': 51, 'Apex': 18, 'Apex Ascent': 6, 'Apex Cellars': 23, 'Apex II': 6, 'Apex at Alder Ridge': 32, 'Apogee': 69, 'Apolloni': 18, 'Apollonio': 16, 'Apothic': 9, 'Apriori': 28, 'Apsara': 39, 'Aquas': 7, 'Aquila del Torre': 16, 'Aquilina': 10, 'Aquinas': 11, 'Aradon': 5, 'Aragosta': 8, 'Aragus': 5, 'Araldica': 10, 'Aramis': 16, 'Aranleón': 12, 'Aratás': 41, 'Araujo': 205, 'Arbanta': 5, 'Arbiola': 8, 'Arbios': 24, 'Arbor Bench Vineyards': 40, 'Arbor Brook': 35, 'Arbor Crest': 13, 'Arbor Hill': 8, 'Arbéta': 24, 'Arcadian': 43, 'Arcane Cellars': 17, 'Archer': 17, 'Archery Summit': 70, 'Archetype': 15, 'Archeus': 38, 'Archgate Cellars': 9, 'Archimedes': 62, 'Archium': 26, 'Archival': 25, 'Arché': 24, 'Arciero': 7, 'Arcs': 6, 'Arcudi': 132, 'Ardales': 11, 'Ardente': 37, 'Ardenvoir': 14, 'Ardiri': 15, 'Ardiri Winery and Vineyards': 22, 'Ardor': 34, 'Arduini': 33, 'Areo': 10, 'Argami': 12, 'Argana': 7, 'Arge & Tina': 4, 'Argentiera': 38, 'Argento': 8, 'Arger-Martucci': 34, 'Argiano': 81, 'Argie': 11, 'Argillae': 11, 'Argiolas': 25, 'Argot': 42, 'Argyle': 32, 'Aril': 38, 'Arissa Jane': 28, 'Arista': 46, 'Arizona Angel': 6, 'Arizona Stronghold': 18, 'Arkenstone': 79, 'Armand Roux': 3, 'Armand de Brignac': 428, 'Armanino Family Cellars': 51, 'Armas de Guerra': 7, 'Armida': 29, 'Armilla': 45, 'Armitage': 46, 'Armosa': 23, 'Armstrong Family': 21, 'Arnaldo Caprai': 44, 'Arnaud Baillot': 50, 'Arnaud de Villeneuve': 24, 'Arndt': 24, 'Arnold Palmer': 10, 'Arns': 59, 'Aromal': 10, 'AronHill': 34, 'Arpepe': 61, 'Array': 23, 'Arrayán': 22, 'Arregi': 14, 'Arroba': 14, 'Arrocal': 31, 'Arrogant Frog': 6, 'Arrow Creek': 10, 'Arrowhead Mountain': 32, 'Arrowhead Spring': 17, 'Arrowood': 33, 'Arroyo': 9, 'Arrumaco': 4, 'Artadi': 73, 'Arteaga': 13, 'Artemayor': 38, 'Artes del Sur': 13, 'Artesa': 30, 'Artevino': 24, 'Artezin': 17, 'Arthur Metz': 13, \"Arthur's Creek\": 25, 'Artiga Fustel': 5, 'Artimino': 10, 'Artisan Uprising': 27, 'Artisanal Wine Cellars': 22, 'Arunda': 16, 'Arzuaga': 50, 'Arínzano': 28, 'As Laxas': 13, 'Ascencion': 28, 'Ascension Cellars': 36, 'Ascevi Luwa': 14, 'Ascheri': 56, 'Asensio': 16, 'Ash Hollow': 18, 'Ashan': 33, 'Ashland Vineyards': 3, 'Ashokawna': 11, 'Aspaldi': 12, 'Assembly': 10, 'Assolati': 15, 'Assuli': 13, 'Astoria': 12, 'Astorre Noti': 15, 'Astrale e Terra': 32, 'Astrales': 66, 'Asuncion Ridge': 34, 'Atalaya': 14, 'Atalaya do Mar': 8, 'Atalayas de Golbán': 13, 'Atali Winery': 46, 'Atalon': 25, 'Athair': 27, 'Aticus': 21, 'Atipax': 18, 'Atlas Peak': 56, 'Atmosphere': 25, 'Atrea': 17, 'Attems': 21, 'Attic Cellar': 8, 'Atticus': 18, 'Attilio Ghisolfi': 62, 'Attimo': 14, 'Attis': 17, 'Atwater': 15, \"Atze's Corner\": 14, 'Au Bon Climat': 30, 'Au Contraire': 24, 'Au Jus': 14, 'Au Pied du Mont Chauve': 62, 'Au Sommet': 223, 'Aubichon Cellars': 33, 'Aubry': 54, 'Auburn': 30, 'AuburnJames': 50, 'Auclair': 29, 'Audelssa': 60, 'Audelssa Sonoma': 20, 'Audubon Cellars': 9, 'Augey': 6, 'August Briggs': 33, 'August Ridge': 23, 'August Truth': 31, 'August West': 33, 'Augusta Winery': 8, 'Auguste Bonhomme': 8, 'Auguste et Pierre-Marie Clape': 59, 'Augustin Florent': 4, 'Aura': 11, 'Aurelio Settimo': 39, 'Aurielle': 78, 'Auriga': 14, 'Aurora': 16, 'Auspicion': 8, 'Austerity': 11, 'Austin Hope': 40, 'Austin Robaire': 38, 'Authentique': 38, 'AutoMoto': 8, 'Autonom': 26, 'Autry Cellars': 31, 'Autréau de Champillon': 35, 'Autumn Hill': 12, 'Avaler': 19, 'Avalon': 10, 'Avancia': 20, 'Avant': 10, 'Avanthia': 29, 'Avanzi': 18, 'Avelina': 9, 'Avennia': 35, 'Aventino': 38, 'Avenue': 7, 'Aver Family Vineyards': 35, 'Avery Lane': 5, 'Aviary': 14, 'Avide': 35, 'Avignonesi': 48, 'Avignonesi-Capannelle': 122, 'Avila': 6, 'Avinyó': 12, 'Avissi': 11, 'Axios': 110, 'Axis Mundi': 14, 'Ayala': 77, 'Aymara': 9, 'Ayoub': 47, 'Azabache': 9, 'Azalea Springs': 44, 'Azari': 61, 'Azelia': 69, 'Azienda Agricola Cogno': 28, 'Azienda Agricola Milazzo': 10, 'Azienda Agricola Roberto Ceraudo Strongoli': 30, 'Azienda Vinicola Fratelli Fabiano': 1, 'Azul y Garanza': 12, 'Azur': 24, 'Azzaro': 34, 'Año Verde': 23, 'Añoro': 19, 'B Cellars': 66, 'B Side': 20, 'B Wise': 18, 'B&E;': 20, 'B. Leighton': 42, 'B. Lovely': 7, 'B.R. Cohn': 33, 'B3': 20, 'BEC': 7, 'BKB': 28, 'BOND': 196, 'Babcock': 29, 'Baby Bear': 40, 'Bacasis': 9, 'Baccinetti': 28, 'Bach': 6, 'Bachelder': 27, 'Bacigalupi': 45, 'Bacio Divino': 56, 'Bacio della Luna': 16, 'Back Seat': 14, 'Backhouse': 2, 'Backstage Winery': 132, 'Badger Hound': 14, 'Badger Mountain': 5, 'Badia a Coltibuono': 20, 'Badia di Morrona': 21, 'Baehner Fournier': 24, 'Baer': 27, 'Baglio Curatolo Arini 1875': 7, 'Baglio del Cristo di Campobello': 21, 'Baglio di Pianetto': 20, 'Baica': 29, 'Baigorri': 24, 'Bailarin': 40, 'Baileyana': 23, 'Bailiwick': 27, 'Bailli de Bourg': 12, 'Bailli de Provence': 9, 'Bailly-Lapierre': 16, 'Baily': 30, 'Baiocchi Wines': 26, 'Baiting Hollow Farm Vineyard': 20, 'Baja Tanga': 8, 'Baker & Brain': 29, 'Baker Lane': 29, 'Balancing Act': 10, 'Balbas': 37, 'Balbi': 3, 'Balboa': 19, 'Balcom & Moe': 14, 'Baldacci': 56, 'Baldassari Family Wines': 23, 'Balderdash': 37, 'Baldetti Alfonso': 23, 'Baldi': 15, 'Balestri Valda': 9, 'Balgownie Estate': 19, 'Balia di Zola': 21, 'Balistreri': 20, 'Ballancin': 7, 'Ballandean': 8, 'Ballard Lane': 6, 'Ballast Stone Estate Wines': 6, 'Ballatore': 4, 'Ballentine': 22, 'Balletto': 22, 'Ballot Millot et Fils': 57, 'Balma Venitia': 6, 'Balnaves of Coonawarra': 24, 'Balnea': 7, 'Balo': 30, 'Balthazar of the Barossa': 28, 'Balverne': 23, 'Balía di Zola': 18, 'Bambinuto': 22, 'Bandiera': 5, 'Bandit': 1, 'Banear': 6, 'Banero': 3, 'Banfi': 30, 'Banknote': 25, 'Bannister': 21, 'Banrock Station': 2, 'Banshee Wines': 23, 'Banyan': 9, 'Bar Dog': 8, 'Baracchi': 38, 'Baracchi Riccardo': 35, 'Barahonda': 19, 'Barale Fratelli': 61, 'Barba': 12, 'Barbadillo': 4, 'Barbanera': 17, 'Barbed Wire': 9, 'Barber': 16, 'Barberani': 23, 'Barbi': 41, 'Barbieri': 37, 'Barbour': 87, 'Barboursville Vineyards': 27, 'Barbàcan': 30, 'Barcino': 10, 'Barden': 49, 'Bardessono': 32, 'Barefoot': 2, 'Barefoot Bubbly': 5, 'Barefoot Cellars': 3, 'Barefoot Refresh': 3, 'Bargetto': 23, 'Barham Mendelsohn': 32, 'Baricci': 41, 'Barinas': 12, 'Barking Frog': 23, 'Barking Sheep': 5, 'Barlow': 30, 'Barnard Griffin': 13, 'Barnaut': 49, 'Barnett': 55, 'Barnstormer': 15, 'Barnwood': 17, 'Baron Albert': 55, 'Baron Cooper': 18, 'Baron De Ley': 25, 'Baron Ermengaud': 13, 'Baron Gassier': 8, 'Baron Herzog': 7, 'Baron Philippe de Rothschild': 6, 'Baron Widmann': 18, \"Baron d'Arignac\": 2, 'Baron de Escal': 5, 'Baron di Pauli': 29, 'Baron la Rose': 9, 'Baron-Fuenté': 39, 'Baroncini': 7, 'Barone': 6, 'Barone Cornacchia': 11, 'Barone Fini': 6, 'Barone Montalto': 11, 'Barone Pizzini': 36, 'Barone Ricasoli': 31, 'Barone Sergio': 14, 'Barone di Villagrande': 15, 'Baronet': 10, 'Barons': 27, 'Barons Edmund Benjamin de Rothschild': 22, 'Barons V': 20, 'Barons de Rothschild': 351, 'Barossa Jack': 21, 'Barossa Old Vine Company': 91, 'Barossa Valley Estate': 29, 'Barra': 14, 'Barra of Mendocino': 14, 'Barrack': 40, 'Barraco': 28, 'Barrage Cellars': 25, 'Barrat-Masson': 46, 'Barratt': 32, 'Barrel Oak': 22, 'Barrel Racer': 15, 'Barrel Ranch': 8, 'Barrel Road': 11, 'Barren Ridge': 13, 'Barreto': 16, 'Barrister': 21, 'Barrière Frères': 5, 'Barrymore': 11, 'Barrymore by Carmel Road': 12, 'Bartali': 10, 'Bartalotti': 47, 'Bartenura': 6, 'Barth René': 14, 'Bartholomew Park': 29, 'Barton': 29, 'Barton & Guestier': 9, 'Bartz-Allen': 29, 'Barwang': 9, 'Barzagoso': 10, 'Barón de Oña': 18, 'Basagoiti': 27, 'Basalt': 20, 'Basel Cellars': 26, 'Basico': 4, 'Basile': 30, 'Basilisco': 24, 'Bask': 14, 'Bastianich': 31, 'Bastide des Deux Lunes': 10, 'Bastía': 27, 'Batasiolo': 58, 'Bateaux Cellars': 17, 'Battaglio': 48, 'Battistini': 26, 'Battle Axe': 10, 'Battle Creek': 21, 'Battle of Bosworth': 19, 'Batzella': 21, 'Batán de Salas': 9, 'Bauchet Père et Fils': 26, 'Baumann': 14, 'Bautista Simona': 7, 'Baux Wine': 28, 'Bava': 26, 'Baxter': 37, 'Baywood': 13, 'Beach Head': 11, 'Beacon Hill': 39, 'Bear Creek': 23, 'Bearboat': 12, 'Beast': 18, 'Beastly Vines': 10, 'Beaucanon': 28, 'Beaulieu Vineyard': 38, 'Beaumont des Crayères': 42, 'Beauregard': 35, 'Beautiful Dream': 5, 'Beaver Creek': 25, 'Beccarello': 37, 'Becker': 19, \"Beckett's Flat\": 12, 'Beckmen': 30, 'Beckon': 23, 'Bedarra': 16, 'Bedell': 32, 'Bedford Thompson': 14, 'Bedouet': 10, 'Beekeeper Cellars': 54, 'Beelgara': 8, 'Begali': 32, 'Behrens & Hitchcock': 60, 'Bejot Vins et Terroirs': 11, 'Bel Arbor': 1, 'Bel Colle': 53, 'Bel Lago': 18, 'Bel Vino': 27, 'Belasco de Baquedano': 18, 'Belden Barns': 29, 'Beldui': 13, 'Bele Casel': 11, 'Belguardo': 11, 'Belharra': 23, 'Belhurst': 16, 'Belisario': 13, 'Bell': 42, 'Bella': 32, 'Bella Bollè': 4, 'Bella Donna': 5, 'Bella Grace': 20, 'Bella Luna': 32, 'Bella Piazza': 22, 'Bella Ragazza': 4, 'Bella Sera': 2, 'Bella Union': 73, 'Bella Vetta': 28, 'Bella Victorian': 34, 'Bella Victorian Vineyard': 41, 'Bella Vigna': 10, 'Bellacana': 20, 'Bellangelo': 14, 'Bellaria': 54, 'Bellarina': 29, 'Bellarine Estate': 10, 'Bellavista': 48, 'Belle Ambiance': 5, 'Belle Glos': 35, 'Belle Made For You': 0, 'Belle Vallée': 20, 'Bellenda': 14, 'Belles Vignes': 5, 'Belliard Vins Selections': 106, 'Bellini': 16, 'Bellisco': 6, 'Bello Family Vineyards': 82, 'Bellussi': 11, 'Bellwether': 18, 'Belmondo': 1, 'Belpoggio': 39, 'Beltane Ranch': 27, 'Belvedere': 17, 'Ben Haines': 29, 'Ben Hogan': 20, 'Ben Ish': 14, 'BenMarco': 14, 'Benaddiction': 10, 'Benanti': 36, 'Bench': 17, 'Bending Branch': 41, 'Benedetto': 6, 'Benegas': 15, 'Benessere': 27, 'Beni di Batasiolo': 38, 'Benincasa': 14, 'Benito Ferrara': 19, 'Benito Santos': 22, 'Benjamin Leroux': 60, 'Benjamin Romeo': 82, 'Benjamin de Rothschild & Vega Sicilia SA': 64, 'Benmarl': 13, 'Bennett Family': 16, 'Bennett Lane': 47, 'Bennett Valley Cellars': 20, 'Benovia': 43, 'Benoît Cocteaux': 46, 'Benoît Daridan': 14, 'Benoît Mulin': 19, 'Benson Ferry': 23, 'Bentley': 110, 'Benton-Lane': 24, 'Benvenuto de la Serna': 15, 'Benziger': 25, 'Bera': 28, 'Beran': 20, 'Berberana': 7, 'Beresan': 20, 'Beresford': 14, 'Beresini Vineyards': 37, 'Bergevin Lane': 20, 'Bergström': 54, 'Beringer': 38, 'Berlucchi': 25, 'Bernard Baudry': 21, 'Bernard Defaix': 16, 'Bernard Machado': 32, 'Bernard Magrez': 21, 'Bernard Remy': 30, 'Bernard Reverdy et Fils': 28, 'Bernard et Christophe Richel': 10, 'Bernardis': 23, 'Bernardus': 35, 'Bernat': 24, 'Bernier': 7, 'Beronia': 18, 'Berryessa Gap': 15, 'Berryhill': 10, 'Bersano': 31, 'Bersi Serlini': 30, 'Berta Franquet': 28, 'Bertani': 36, 'Bertolani': 10, 'Bertrand Ambroise': 67, 'Bertrand Jeannot et Fils': 41, 'Bertrand-Delespierre': 48, 'Besadien': 22, 'Besitos': 10, 'Besllum': 21, 'Beso de Vino': 5, 'Besombes Moc Baril': 7, 'Besserat de Bellefon': 61, 'Bestheim': 17, 'Bethany Vineyard': 20, 'Bethel Heights': 39, 'Better Half': 114, 'Betwixt': 25, 'Betz Family': 47, 'Bevela': 30, 'Bewitched': 23, 'Bialla': 110, 'Bianca Vigna': 11, 'BiancaVigna': 15, 'Bianchi': 14, 'Biasotto': 8, 'Bibbiano': 19, 'Bibi Graetz': 43, 'Biecher & Schaal': 30, 'Bieler Family': 8, 'Bieler Père et Fils': 7, 'Bien Nacido': 46, 'Big Ass': 10, 'Big Basin': 38, 'Big Daddy Vineyards': 4, 'Big DeVine': 10, 'Big Fish': 37, 'Big Guy': 14, 'Big House': 6, 'Big Smooth': 12, 'Big Table Farm': 36, 'Big Vine': 12, 'Big Yellow': 6, 'Bighorn': 26, 'Bigi': 7, 'Bigvine': 13, 'Billabong': 3, 'Billecart-Salmon': 83, 'Billhook': 18, 'Billsboro': 14, 'Biltmore': 16, 'Biltmore Estate': 18, 'Bin 36': 12, 'Bindella': 30, 'Bindi Sergardi': 27, 'Bink': 23, 'Binomio': 28, 'Biondi': 36, 'Biondi Santi': 274, 'Birch Creek': 34, 'Bird in Hand': 16, 'Birdland': 13, 'Birichino': 12, 'Biscaye Baie': 6, 'Bisceglia': 19, 'Bishop Creek': 32, 'Bishop Creek Cellars': 32, \"Bishop's Peak\": 13, 'Bisol': 26, 'Bitácora': 5, 'Biutiful': 9, 'Bivio': 7, 'Bixio': 6, 'Bixler Vineyards': 10, 'Bjorn': 64, 'Bjornstad': 33, 'Björnson': 22, 'Black & White': 18, 'Black Bart': 55, \"Black Bart's Bride\": 41, 'Black Bear, Red Chair': 12, 'Black Box': 18, 'Black Cabra': 6, 'Black Cat': 40, 'Black Cordon': 74, 'Black Coyote': 63, 'Black Creek': 5, 'Black Hills': 30, 'Black Ink': 5, 'Black Kite': 45, 'Black Magnolia': 16, 'Black Opal': 7, 'Black Ridge': 35, 'Black Saint Peter': 11, 'Black Sears': 34, 'Black Sheep': 12, 'Black Stallion': 40, 'Black Star Farms': 19, 'Black Swan': 3, \"Black's Station\": 7, 'BlackCap': 45, 'Blackbilly': 15, 'Blackbird Vineyards': 61, 'Blackburn Wine Company': 11, 'Blackjack': 41, 'Blacksmith': 11, 'Blackstone': 11, 'Blair': 258, 'Blair Fox': 32, 'Blakeslee': 31, 'Blanc de Bleu': 14, 'Blanc de Lynch-Bages': 29, 'Blanchard & Lurton': 23, 'Blanchard Family': 22, 'Blanco Nieva': 17, 'Blanville': 17, 'Blason': 6, 'Blason de Bourgogne': 5, 'Blasón de San Juan': 14, 'Bleasdale': 10, 'Blessing': 35, 'Blindfold': 25, 'Bliss': 8, 'Block 50': 5, 'Block 88': 20, 'Block Nine': 8, 'Block Wines': 32, 'Blockheadia Ringnosii': 16, 'Blondie': 13, 'Bloomer Creek': 19, 'Bloomfield': 21, 'Blue Farm': 60, 'Blue Hawk': 10, 'Blue Moon': 6, 'Blue Nomad': 9, 'Blue Oak': 44, 'Blue Oasis': 43, 'Blue Pirate': 11, 'Blue Plate': 7, 'Blue Pyrenees': 12, 'Blue Reef': 4, 'Blue Rock': 40, 'Blue Teal': 5, 'Blue Tongue': 4, 'Blue Valley': 24, 'Bluenose': 17, 'Bluestone': 17, 'Blustone': 24, 'Board Track Racer': 16, 'Boasso': 40, 'Boatique': 24, 'Bocage': 7, 'Bocale': 21, 'Boccadigabbia': 27, 'Boccantino': 6, 'Bocce': 1, 'Bocchino': 10, 'Bocelli': 18, 'Bocopa': 7, 'Bodega Aconquija': 10, 'Bodega Antigua Usanza': 10, 'Bodega Atamisque': 12, 'Bodega Beleluin': 13, 'Bodega Belgrano': 10, 'Bodega Calle': 12, 'Bodega Carmen Rodríguez': 47, 'Bodega Carmine Granata': 14, 'Bodega Catena Zapata': 61, 'Bodega Cecchin': 10, 'Bodega Chacra': 72, 'Bodega Classica': 14, 'Bodega Cuarto Dominio': 18, 'Bodega Don Bosco': 4, 'Bodega El Transito': 8, 'Bodega Elena de Mendoza': 6, 'Bodega Familia Barberis': 6, 'Bodega Filippo Figari': 20, 'Bodega Furlotti': 20, 'Bodega Goulart': 14, 'Bodega Jario': 9, 'Bodega José Quattrocchi': 9, 'Bodega La Serrana': 8, 'Bodega Las Cañitas': 22, 'Bodega Lurton': 6, 'Bodega Maestre': 22, 'Bodega Margot': 11, 'Bodega Melgarajo': 11, 'Bodega Merced del Estero': 10, 'Bodega NQN': 8, 'Bodega Noemía de Patagonia': 61, 'Bodega Norton': 12, 'Bodega Otto Bestué': 9, 'Bodega Patritti': 13, 'Bodega Poesia': 34, 'Bodega Privada': 5, 'Bodega Rancho': 27, 'Bodega Renacer': 22, 'Bodega Rolland': 32, 'Bodega San Pedro Apóstol': 8, 'Bodega San Pedro Regalado': 17, 'Bodega Tacuil': 53, 'Bodega Tierra Colorada': 5, 'Bodega Tintoralba': 5, 'Bodega Toneles': 13, 'Bodega Trenza': 40, 'Bodega Virgen de la Sierra': 6, 'Bodega Vistandes': 7, 'Bodega Y Cavas De Weinert': 20, 'Bodega Zafado': 9, 'Bodega de Edgar': 27, 'Bodega del Abad': 63, 'Bodega del Fin del Mundo': 21, 'Bodega del Sur': 16, 'Bodegas 1898': 10, 'Bodegas Abanico': 16, 'Bodegas Abel de Mendoza': 31, 'Bodegas Adriá': 6, 'Bodegas Agapito Rico': 5, 'Bodegas Agustín Cubero': 5, 'Bodegas Alanís': 5, 'Bodegas Alconde': 17, 'Bodegas Alejandro Fernandez': 27, 'Bodegas Aletta': 3, 'Bodegas Antano': 5, 'Bodegas Antaño': 20, 'Bodegas Aquitania': 15, 'Bodegas Aragonesas': 4, 'Bodegas Aresan': 22, 'Bodegas Artazu': 15, 'Bodegas Ateca': 15, 'Bodegas Añadas': 15, 'Bodegas B.G.': 56, 'Bodegas Balcona': 17, 'Bodegas Barriosa': 8, 'Bodegas Barón': 10, 'Bodegas Berceo': 13, 'Bodegas Bernabe Navarro': 11, 'Bodegas Bilbainas': 22, 'Bodegas Bleda': 10, 'Bodegas Borbore': 5, 'Bodegas Breton': 35, 'Bodegas Campante': 6, 'Bodegas Campiña': 10, 'Bodegas Carballal': 11, 'Bodegas Carchelo': 14, 'Bodegas Carlos Magaña S.L.': 6, 'Bodegas Caro': 29, 'Bodegas Cerrosol': 6, 'Bodegas Concavins': 6, 'Bodegas Conde': 83, 'Bodegas Copaboca': 5, 'Bodegas Corellanas': 7, 'Bodegas Corral': 23, 'Bodegas Cristo de la Vega': 6, 'Bodegas Dios Baco S.L.': 23, 'Bodegas Docampo': 20, 'Bodegas Eguren': 5, 'Bodegas Eidosela': 10, 'Bodegas El Indiano': 23, 'Bodegas El Por Venir de los Andes': 40, 'Bodegas El Porvenir De Los Andes': 16, 'Bodegas Epifanio Rivera': 27, 'Bodegas Escorihuela': 7, 'Bodegas Escudero': 32, 'Bodegas Fabre': 13, 'Bodegas Fariña': 16, 'Bodegas Faustino': 25, 'Bodegas Fontana': 4, 'Bodegas Franco-Españolas': 11, 'Bodegas Fuentespina': 33, 'Bodegas Garci Grande': 7, 'Bodegas Gutiérrez de la Vega': 27, 'Bodegas Herederos Ribas': 24, 'Bodegas Hidalgo': 78, 'Bodegas Hispano Suizas': 43, 'Bodegas Hnos. Pérez Pascuas': 27, 'Bodegas Imperiales': 41, 'Bodegas Iranzo': 8, 'Bodegas Isidro Milagro': 4, 'Bodegas Julián Chivite': 20, 'Bodegas LAN': 20, 'Bodegas La Cartuja': 11, 'Bodegas La Guarda': 7, 'Bodegas La Horra': 42, 'Bodegas Landaluce': 24, 'Bodegas Langa': 13, 'Bodegas Leda': 30, 'Bodegas Leza García': 9, 'Bodegas Lomablanca': 4, 'Bodegas Los Llanos': 6, 'Bodegas Lozano': 5, 'Bodegas Luis Gurpegui Muga': 6, 'Bodegas Luzón': 9, 'Bodegas López Panach': 8, 'Bodegas M': 19, 'Bodegas Marcelino Diaz': 8, 'Bodegas Martinez Corta': 7, 'Bodegas Medina': 10, 'Bodegas Medrano Irazu': 26, 'Bodegas Monte La Reina': 8, 'Bodegas Muriel': 17, 'Bodegas Murtia': 16, 'Bodegas Murviedro': 7, 'Bodegas Mähler-Besse': 9, 'Bodegas Navajas': 9, 'Bodegas Navarro López': 8, 'Bodegas Núñez': 11, 'Bodegas Olarra': 19, 'Bodegas Olivares': 6, 'Bodegas Ondalan': 22, 'Bodegas Ondarre': 13, 'Bodegas Ontañón': 12, 'Bodegas Orusco': 7, 'Bodegas Palacio': 19, 'Bodegas Paniza': 8, 'Bodegas Paso Robles': 22, 'Bodegas Perica': 12, 'Bodegas Peñafiel': 21, 'Bodegas Peñaflor': 8, 'Bodegas Piedemonte': 7, 'Bodegas Piqueras': 5, 'Bodegas Pirineos': 10, 'Bodegas Qumrán': 19, 'Bodegas Rafael Cambra': 31, 'Bodegas Ramon Ramos': 10, 'Bodegas Real': 5, 'Bodegas Reyes': 17, 'Bodegas Ribón': 25, 'Bodegas Riojanas': 20, 'Bodegas Riolanc': 9, 'Bodegas Roda': 91, 'Bodegas San Isidro': 9, 'Bodegas San Martín': 4, 'Bodegas San Prudencio': 16, 'Bodegas San Valero': 11, 'Bodegas Silvano Garcia': 12, 'Bodegas Soledad': 10, 'Bodegas Solo Privee': 8, 'Bodegas Tarima': 3, 'Bodegas Tempore': 8, 'Bodegas Tintoralba': 7, 'Bodegas Tobía': 17, 'Bodegas Toro Albala, SL': 63, 'Bodegas Torreduero': 6, 'Bodegas Ugalde': 14, 'Bodegas Valdemar': 15, 'Bodegas Valderroa': 28, 'Bodegas Vegalfaro': 12, 'Bodegas Ventura De Vega': 8, 'Bodegas Vidal Soblechero': 12, 'Bodegas Vinos de León': 5, 'Bodegas Virgen del Águila': 9, 'Bodegas Vínícola Real': 54, 'Bodegas Yuste': 72, 'Bodegas Zugober': 11, 'Bodegas de los Rios Prieto': 20, 'Bodegas del Mundo': 3, 'Bodegas del Muni': 14, 'Bodegas del Paramo': 30, 'Bodegas la Aldea': 3, 'Bodegas la Casa de Lúcolo': 10, 'Bodegas y Vinedos del Jalón': 6, 'Bodegas y Vinos de Lécera': 4, 'Bodegas y Viñedos Castiblanque': 17, 'Bodegas y Viñedos Noe': 10, 'Bodegas y Viñedos Rauda': 26, 'Bodegas y Viñedos Tábula': 43, 'Bodini': 6, 'Bodkin': 16, 'Boeckel': 22, 'Boedecker Cellars': 27, 'Boeger': 12, 'Boekenoogen': 34, 'Boeschen Vineyards': 90, 'Boete': 33, 'Boffa': 32, 'Bogatell': 7, 'Bogati': 19, 'Boggy Creek': 12, 'Bogle': 6, 'Boheme': 41, 'Bohigas': 10, 'Boho': 18, 'Bohórquez': 29, 'Boitano': 13, 'Boizel': 64, 'Bokisch': 14, 'Bolen': 50, 'Bolla': 17, 'Bollinger': 113, 'Bollini': 8, 'Bolsignano': 78, 'Bomb': 41, 'Bon Coeur': 60, 'Bon Niche': 32, 'BonAnno': 14, 'Bonacchi': 27, 'Bonaccorsi': 37, 'Bonair': 13, 'Bonal': 5, 'Bonavita': 25, 'Boneshaker': 14, 'Bonfiglio': 13, 'Bonneau': 29, 'Bonnet-Huteau': 10, 'Bonny Doon': 23, 'Bonotto delle Tezze': 9, 'Bonpas': 7, 'Bonterra': 14, 'Bontzu': 26, 'BookCliff': 7, 'Bookpurnong Hill': 32, 'Bookster': 24, 'Bookwalter': 23, 'Boomtown': 11, 'Bootleg': 21, 'Bootstrap': 8, 'Borgo Conventi': 14, 'Borgo Isolabella': 32, 'Borgo Magredo': 10, 'Borgo Maragliano': 19, 'Borgo Moncalvo': 12, 'Borgo Pretale': 41, 'Borgo Salcetino': 16, 'Borgo San Daniele': 25, 'Borgo San Leo': 7, 'Borgo Scopeto': 20, 'Borgo dei Vassalli': 5, 'Borgo del Tiglio': 63, 'Borgo di Colloredo': 12, 'Borgogno': 93, 'Borgogno F.lli Serio e Battista': 30, 'Borgogno Giacomo e Figli': 79, 'Borgognot': 28, 'Borgoluce': 16, 'Borie la Vitarelle': 6, 'Borjón': 29, 'Borne': 21, 'Boroli': 50, 'Borra': 19, 'Borrellie': 16, 'Borsao': 5, 'Bortolin': 18, 'Bortolin Angelo': 18, 'Bortolomiol': 17, 'Bortolotti': 15, 'Bortoluzzi': 13, 'Bortomiol': 16, 'Boscarelli': 44, 'Bosco Nestore': 8, 'Bosco del Merlo': 10, 'Bosio': 17, 'Bosque De Matasnos': 50, 'Bota Box': 15, 'Botromagno': 13, 'Bott Frères': 15, 'Bottega': 43, 'Bottega Vinai': 12, 'Bottega Vinaia': 12, 'Botter': 8, 'Bouchaine': 28, 'Bouchard Aîné & Fils': 46, 'Bouchard Aîné et Fils': 55, 'Bouchard Père & Fils': 100, 'Bouchié-Chatelier': 50, 'Bouchié-Chatellier': 17, 'Bouché Père et Fils': 31, 'Boude Baudin': 63, 'Boudreaux Cellars': 41, 'Bougetz': 40, 'Bougrier': 8, 'Bouké': 13, 'Boundary Breaks': 18, 'Bouquet': 14, 'Bourassa Vineyards': 33, 'Bourgeois Family': 8, 'Boutinot': 10, 'Boutique Wines': 16, 'Boutíque Wildflower': 6, 'Bouvet-Ladubay': 10, 'Bouza Grande': 16, 'Bouza de Carril': 13, 'Bouza do Rei': 10, 'Bovale': 9, 'Bowen Estate': 23, 'Bowers Harbor': 15, 'Bowman Cellars': 24, 'Bowtie': 9, 'Box Car': 21, 'Box Stallion': 19, 'Boxwood': 16, 'Boyanci': 65, 'Boyer': 9, 'Boyle MacDonald': 20, 'Bozzano': 28, 'Boëté': 29, 'Bracamonte': 9, 'Bracco': 19, 'Bradford Mountain': 23, 'Bradley': 15, 'Brady Cellars': 22, 'Brady Family': 64, 'Braida di Giacomo Bologna': 21, 'Brancaia': 41, 'Brancher': 12, 'Branchini': 37, 'Brandborg': 15, 'Brander': 20, 'Brandini': 54, 'Brandlin': 71, 'Brangero': 52, 'Branson Coach House': 91, 'Braschi': 23, 'Brash Higgins': 32, 'Brass Tacks': 10, 'Brassfield': 14, 'Bratcher': 24, 'Bravante': 47, 'Brave & Maiden': 44, 'Braveheart': 14, 'Bravium': 27, 'Bray': 13, 'Brazin': 16, 'Brazin Cellars': 12, 'Bread & Butter': 11, 'Breathless': 24, 'Breaux': 19, 'Breca': 5, 'Brecon Estate': 36, 'Breggo': 32, 'Brella': 14, 'Bremerton': 13, 'Brengman Brothers': 29, 'Brennan': 19, 'Bressan': 32, 'Bressia': 36, 'Bret Brothers': 34, 'Brewer-Clifton': 55, 'Brezza': 41, 'Brian Benson': 43, 'Brian Carter Cellars': 27, 'Briar Rose': 58, 'Bric Cenciurio': 53, 'Bricco Maiolica': 23, 'Bricco Mondalino': 29, 'Bricco dei Guazzi': 14, 'Brice Station': 11, 'Briceland': 17, 'Brick & Mortar': 30, 'Brick House': 37, 'Brick Road': 23, 'Bridge Press': 23, 'Bridgeview': 9, 'Bridgeway': 14, 'Bridgman': 7, 'Bridlewood': 16, 'Brigadoon': 19, 'Brigaldara': 45, 'Bright Angel WInes': 35, 'Bright Angel Wines': 41, 'Brilliant Mistake': 73, 'Brimoncourt': 55, 'Brimstone': 11, 'Brion': 66, 'Brittan Vineyards': 42, 'Brjnda': 14, 'Broadbent': 10, 'Broadley': 23, 'Broadside': 36, 'Broadway Vineyards': 29, 'Broc Cellars': 18, 'Brocatelli Galli': 23, 'Broccardo': 30, 'Brochelle Vineyards': 27, 'Brogan': 65, 'Broglia': 13, 'Broke Ass': 0, 'Broken Clouds': 8, 'Broken Earth': 22, 'Brokenwood': 36, 'Broll Mountain Vineyards': 25, 'Broman': 32, 'Brookdale Vineyards': 39, 'Brookland Valley': 13, 'Brooklyn Oenology': 17, 'Brooklyn West': 31, 'Brooklyn Winery': 21, 'Brookman': 50, 'Brooks': 24, 'Brophy Clark': 16, 'Brosseau': 25, 'Brotherhood': 8, 'Brothers in Arms': 22, 'Brotte': 20, 'Brovia': 73, 'Brown Estate': 41, 'Browne Family Vineyards': 25, 'Browns of Padthaway': 8, 'Brownstone': 4, 'Brugnano': 18, 'Bruliam': 35, 'Brunelli': 42, 'Brunelli Martoccia': 47, 'Bruni': 19, 'Bruno Cormerais': 14, 'Bruno Giacosa': 101, 'Bruno Gobillard': 47, 'Bruno Hunold': 11, 'Bruno Nicodemi': 6, 'Bruno Paillard': 78, 'Bruno Porro': 17, 'Bruno Rocca': 82, 'Brunori': 10, 'Brushstroke': 11, 'Brutocao': 19, 'Bryant Family': 301, 'Bryn Mawr Vineyards': 24, 'Brys': 36, 'Bryter': 51, 'Bryx': 19, 'Buccella': 119, 'Bucci': 32, 'Buccia Nera': 10, 'Buccio': 16, 'Bucher': 29, 'Buck Shack': 24, \"Buckeley's\": 5, 'Bucklin': 23, 'Buddha Kat': 13, 'Budeguer': 20, 'Budini': 7, 'Buehler': 22, 'Buena Vista': 27, 'Bueyes': 16, 'Buffalo Grove': 4, 'Buffalo Ridge': 7, 'Bugay': 48, 'Buglioni': 58, 'Buil & Giné': 20, 'Bula': 12, 'Bulletin Place': 5, 'Bully Hill': 4, 'Bumgarner': 26, 'Bump': 20, 'Bump Wine Cellars': 15, 'Bunchgrass': 25, 'Bunnell': 27, 'Bunnell Family Cellar': 26, 'Buoncristiani': 39, 'Buondonno': 14, 'Burbank Ranch': 30, 'Burchino': 13, 'Burford & Brown': 12, 'Burgess': 24, 'Burgo Viejo': 11, 'Burgáns': 8, 'Buried Cane': 11, 'Burnside Road': 10, 'Burnt Bridge': 26, 'Burrell School Vineyards': 30, 'Burrowing Owl': 29, 'Burt Street Cellars': 21, 'Burton': 10, 'Bush Bike': 7, 'Bush-Field': 45, 'Butterfield Station': 4, 'Butterfly Kiss': 7, 'Butternut': 12, 'Butting Heads': 56, 'Buttonwood': 16, 'Buttonwood Farm': 14, 'Buttonwood Grove': 13, 'Buty': 31, 'Buzzard Tree': 7, 'Byington': 27, 'Byrne': 28, 'Byron': 28, 'Bzikot Père et Fils': 17, 'Bágoa do Miño': 16, 'C R Graybehl': 22, 'C Square': 21, 'C&B;': 7, 'C&T;': 12, \"C'est Bon\": 28, 'C. Beck': 36, 'C. Donatiello': 37, 'C. Mondavi & Family': 14, 'C.G. di Arie': 20, 'C.R. Sandidge': 25, 'C5': 23, 'CC': 11, 'CC Pachyderm': 60, 'CDR': 10, 'CE2V': 21, 'CK Mondavi': 2, 'COS': 31, 'CULT': 23, 'CUTT': 34, 'CVNE': 33, \"Ca' Del Grevino\": 76, \"Ca' Lojera\": 15, \"Ca' Marcanda\": 80, \"Ca' Momi\": 16, \"Ca' Montini\": 10, \"Ca' Nova\": 21, \"Ca' Rugate\": 26, \"Ca' Secco\": 7, \"Ca' Viola\": 34, \"Ca' de Calle\": 11, \"Ca' de Lion Ghione\": 16, \"Ca' dei Zago\": 18, \"Ca' del Baio\": 39, \"Ca' del Bosco\": 65, \"Ca' del Solo\": 11, \"Ca' del Vispo\": 10, \"Ca' du Rabajà\": 33, \"Ca'Na\": 9, \"Ca'Romè\": 80, \"Ca'Ronesca\": 11, \"Ca'Tullio\": 9, \"Ca'ntele\": 12, 'Caballero de la Cepa': 12, 'Cabert': 6, 'Cable Car': 6, 'Cabot Vineyards': 18, 'Cabra Montes': 4, 'Cabreo': 38, 'Caccia al Piano 1868': 35, 'Cache Creek Vineyards': 11, 'Cachette': 9, 'Cadaretta': 31, 'Cade': 44, 'Cadence': 35, 'Cadre': 44, 'Cadus': 20, 'Caernarvon Cellars': 19, 'Cafaggio': 29, 'Cafaro': 31, 'Café du Midi': 5, 'Cagliero': 69, 'Caiarossa': 45, 'Cain': 48, 'Cairdean Estate': 49, 'Cairdeas': 26, 'Caitec': 9, 'Cakebread': 46, 'CalNaturale': 2, 'Cala Silente': 8, \"Cala de' Poeti\": 8, 'Calabretta': 19, 'Calafia': 35, 'Calatrasi': 10, 'Calavera': 17, 'Calavera Wines': 18, 'Calbello': 43, 'Calcareous': 26, 'Caldaro': 22, 'Caldera': 27, 'Calderona': 11, 'Caldora Vini': 10, 'Caldwell': 110, 'Calendar Girl': 11, 'Calera': 34, 'Cali 351': 29, 'Calicaro': 41, 'California Republic': 7, \"California's Jewel\": 5, 'Caligiore': 8, 'Calista': 25, 'Calistoga Cellars': 20, 'Caliu': 8, 'Calix': 39, 'Caliza': 41, 'Calla Lily': 68, 'Callan': 19, 'Callaway': 27, 'Callejo': 24, 'Callia': 6, 'Calliope': 16, 'Calluna': 41, 'Calmel & Joseph': 9, 'Calstar Cellars': 23, 'Calvet': 7, 'Calzo': 5, 'Camaraderie': 23, 'Camaraderie Cellars': 19, 'Cambiata': 22, 'Camboral': 5, 'Cambria': 23, 'Cambridge': 22, 'Cambridge & Sunset': 8, 'Cambridge California': 15, 'Cambrien': 60, 'Camelot': 4, 'Camerano': 49, 'Cameron': 41, 'Cameron Hughes': 13, 'Camiana': 57, 'Camigliano': 45, 'Camille Giroud': 96, 'Camille Paquet': 32, 'Camille Savès': 47, 'Camina': 4, 'Caminada': 5, 'Camino del Inca': 21, 'Camlow': 34, 'Camp': 12, 'Campanile': 6, 'Camparo': 54, 'Campbells': 38, 'Campellares': 7, 'Campesino': 29, 'Campillo': 32, 'Campiña': 12, 'Campo Alegre': 27, 'Campo Eliseo': 66, 'Campo Lindo': 7, 'Campo Marin': 9, 'Campo Maseri': 14, 'Campo Viejo': 10, 'Campo al Mare': 28, 'Campo alla Sughera': 62, 'Campo della Maestà': 24, 'Campo di Sasso': 23, 'Campobello': 5, 'Campogiovanni': 62, 'Campomaggio': 16, 'Campos Góticos': 25, 'Campos Reales': 2, 'Campos de Luz': 7, 'Campos de Risca': 12, 'Campos de Sueños': 8, 'Campos de Viento': 6, 'Campovida': 31, \"Camps d'Estels\": 10, 'Campus Oaks': 6, 'Can Blau': 20, 'Can Vendrell': 13, 'Cana': 19, \"Cana's Feast\": 28, 'Canaletto': 4, 'Canalicchio': 46, 'Canalicchio Franco Pacenti': 50, 'Canalicchio di Sopra': 62, 'Canals Canals': 12, 'Canard': 22, 'Canard-Duchêne': 40, 'Cancello del Barone': 14, 'Candialle': 22, 'Candidato': 2, 'Candido': 3, 'Candoni': 8, 'Candor': 13, 'Canella': 10, 'Canepa': 23, 'Canevel': 12, 'Canicattì': 13, 'Canihan': 38, 'Canneta': 30, 'Canneto': 20, 'Cannonball': 10, 'Canoas': 5, 'Canoe Ridge': 18, 'Canonbah Bridge': 15, 'Canonica a Cerreto': 28, 'Cantaburros': 7, 'Cantagallo': 15, \"Cantalici L'Antica Fornace di Ridolfo\": 20, 'Cantara': 22, 'Cantarranas': 6, 'Cantarutti': 13, 'Cantele': 12, 'Canti': 5, 'Cantiga Wineworks': 13, 'Cantina Altarocca': 10, 'Cantina Bartolo Mascarello': 126, 'Cantina Beato Bartolomeo': 5, 'Cantina Bergamasca': 9, 'Cantina Ceci': 13, 'Cantina Cincinnato': 76, 'Cantina Cinque Terre': 19, 'Cantina Cortaccia': 16, 'Cantina Dei Monaci': 20, 'Cantina Fratelli Pardi': 27, 'Cantina Gallura': 11, 'Cantina Iuli': 35, 'Cantina Le Grotte': 10, 'Cantina Ma.Ri.Ca.': 10, 'Cantina Massara Burlotto': 43, 'Cantina Negrar': 10, 'Cantina Novelli': 21, 'Cantina Offida': 9, 'Cantina Pedres': 11, 'Cantina Produttori Bolzano': 21, 'Cantina Produttori Bolzano S. Maddalena/Gries': 18, 'Cantina Produttori Cortaccia': 13, 'Cantina Produttori San Michele Appiano': 24, 'Cantina Progettidivini': 13, 'Cantina San Martino': 10, 'Cantina Santa Maddalena': 40, 'Cantina Santadi': 22, 'Cantina Sociale Cooperativa di Copertino': 10, 'Cantina Sociale della Valpantena': 23, 'Cantina Sociale di Dolianova': 10, 'Cantina Terlano': 29, 'Cantina Terre del Barolo': 20, 'Cantina Tollo': 15, 'Cantina Tomaso Gianolio': 40, 'Cantina Tramin': 8, 'Cantina Tudernum': 20, 'Cantina Valle Isarco': 14, 'Cantina Valle Tritana': 14, 'Cantina Vallebelbo': 5, 'Cantina Valpolicella Negrar': 24, 'Cantina Vignasone': 11, 'Cantina Zaccagnini': 20, 'Cantina dei Produttori Nebbiolo di Carema': 22, 'Cantina del Castello': 13, 'Cantina del Giusto': 20, 'Cantina del Nebbiolo': 25, 'Cantina del Pino': 37, 'Cantina del Taburno': 24, 'Cantina del Vermentino': 13, 'Cantina della Volta': 18, 'Cantina di Bertiolo': 6, 'Cantina di Gambellara': 5, 'Cantina di Montalcino': 42, 'Cantina di Montefiascone': 5, 'Cantina di Monteforte': 16, 'Cantina di Negrar': 28, 'Cantina di Puianello': 9, 'Cantina di Soave': 18, 'Cantina di Sorbara': 7, 'Cantina di Venosa': 13, 'Cantine Astroni': 14, 'Cantine Aurora': 5, 'Cantine Barbera': 14, 'Cantine Bellini': 11, 'Cantine Ceci': 12, 'Cantine Cipressi': 10, 'Cantine De Falco': 10, 'Cantine Due Palme': 7, 'Cantine Ermes': 5, 'Cantine Farro': 16, 'Cantine Federiciane': 10, 'Cantine Florio': 11, 'Cantine Foschini': 11, 'Cantine Galasso': 4, 'Cantine Gini': 23, 'Cantine Grasso': 7, 'Cantine Gulino': 23, 'Cantine Lanzavecchia': 9, 'Cantine Lenotti': 9, 'Cantine Lenotti di Lenotti': 32, 'Cantine Leonardo': 46, 'Cantine Leonardo Da Vinci': 13, 'Cantine Lunae Bosoni': 13, 'Cantine Lupo': 9, 'Cantine Maschio': 10, 'Cantine Menhir': 16, 'Cantine Novelli': 23, 'Cantine Olivella': 13, 'Cantine Paolo Leo': 13, 'Cantine Povero': 19, 'Cantine Rallo': 17, 'Cantine Ravazzi': 11, 'Cantine Riunite': 2, 'Cantine Russo': 23, 'Cantine San Silvestro': 8, \"Cantine Sant'Agata\": 14, 'Cantine Sasso': 9, 'Cantine Valenti': 18, 'Cantine Volpi': 6, 'Cantine dei Colli Tramonte': 10, 'Cantine del Borgo Reale': 37, 'Cantine del Notaio': 30, 'Cantine di Dolianova': 9, 'Cantine di Marzo': 23, 'Cantine di Ora': 30, 'Canto et Fils': 59, 'Canvasback': 44, 'Canyon Road': 4, 'Canyon Wind': 27, 'Caoba': 6, 'Cap Cette': 7, 'Cap Royal': 9, 'Capa': 3, 'Capafons-Ossó': 38, 'Capanna': 46, 'Capanne Ricci': 47, 'Capannelle': 56, 'Caparra & Siciliani': 14, 'Caparzo': 40, 'Capataz': 28, 'Capay Valley': 9, 'Cape Barren': 24, 'Cape Clairault': 28, 'Cape May': 12, 'Cape Mentelle': 26, 'Capel Vale': 16, 'Capello': 4, 'Capestrano': 8, 'Capezzana': 28, 'Capichera': 63, 'Capitain-Gagnerot': 65, 'Capitello': 20, 'Capitoni': 22, 'Capitoni Marco': 21, 'Capitoso': 7, 'Capo Soprano': 9, 'Capocroce': 6, 'Capolan': 5, 'Capolino Perlingieri': 17, 'Caposaldo': 8, 'Capoverso': 16, \"Cappella Sant'Andrea\": 12, 'Caprili': 46, 'Capstone Cellars': 16, 'Capture': 59, 'Captûre': 51, 'Caputo': 6, 'Capçanes': 24, 'Cara Mia': 14, 'Carabella': 25, 'Caraccioli': 32, 'Caracol Serrano': 5, 'Carbone': 20, 'Carbó': 10, 'Carden': 41, 'Cardinal Point': 23, 'Cardinal Rule': 30, 'Cardinal Zin': 14, 'Cardinale': 201, 'Cardwell Hill': 15, 'Care': 10, 'Careglio': 20, 'Caren': 19, 'Cargasacchi': 27, 'Carhartt Vineyard': 26, 'Carica': 22, 'Caricature': 10, 'Carillon': 64, 'Carina Cellars': 23, 'Carinae': 8, 'Carivintas': 20, 'Carletto': 7, 'CarlindePaolo': 20, 'Carlisle': 32, 'Carlo Bisol Solighetto': 52, 'Carlo Boscaini': 27, 'Carlo Giacosa': 49, 'Carlo Mario Margiotta': 7, 'Carlo di Pradis': 10, 'Carlos Basso': 8, 'Carlos Moro': 43, 'Carlos Serres': 10, 'Carlotta': 27, 'Carlson': 19, 'Carlson Creek': 17, 'Carlton Cellars': 34, 'Carlton Hill': 44, 'Carmel': 28, 'Carmel Hills Winery': 29, 'Carmel Road': 17, 'Carmelo Patti': 27, 'Carmelo Rodero': 11, 'Carmen Lopez Delgado': 41, 'Carmenet': 11, 'Carmichael': 10, 'Carmina': 10, 'Carmina Burana': 19, 'Carneros Creek': 27, 'Carneros Highway': 13, 'Carneros Hills': 37, 'Carneros Ranch': 20, 'Carneros della Notte': 41, 'Carnivor': 9, 'Carobbio': 20, 'Carod Freres': 8, 'Carol Shelton': 22, 'Carpe Diem': 21, 'Carpenter Creek': 30, 'Carpenè Malvolti': 13, 'Carpineto': 31, 'Carr': 27, 'Carravid': 23, 'Carrefour': 22, 'Carson Scott': 7, 'Carte Blanche': 74, 'Carter': 82, 'Carter Estate': 30, 'Cartlidge & Browne': 8, 'Cartograph': 24, 'Carucci': 31, 'Carus Vini': 14, 'Caruso & Minini': 14, 'Carver Sutro': 32, \"Cas'Almare\": 14, 'Casa Balocca': 54, 'Casa Barranca': 15, 'Casa Boher': 6, 'Casa Castillo': 22, 'Casa Catelli': 8, \"Casa D'Ambra\": 22, 'Casa Dumetz': 33, 'Casa Emma': 30, 'Casa Girelli': 7, 'Casa Gran del Siurana': 27, 'Casa Juan': 11, \"Casa L'Angel\": 10, 'Casa Larga': 24, 'Casa Montes': 8, 'Casa Nuestra': 30, 'Casa Piena': 132, 'Casa Primicia': 23, 'Casa Raia': 80, 'Casa Rojo': 17, 'Casa Rondeña Winery': 16, 'Casa Setaro': 14, 'Casa Smith': 20, 'Casa Sola': 20, 'Casa Solar': 3, 'Casa Tiene Vista': 25, 'Casa Torres': 28, 'Casa Vino': 4, 'Casa al Vento': 27, 'Casa alle Vacche': 10, 'Casa de Arcilla': 10, 'Casa de Caballos': 19, 'Casa de Campo': 3, 'Casa de la Cruz': 18, 'Casa de la Ermita': 12, 'Casa de la Reina': 8, 'Casa de la Vega': 8, 'Casa de la Viña': 5, 'Casa del Valle': 19, 'Casa di Baal': 16, 'Casa di Grazia': 14, 'Casa di Rocco': 5, 'Casa di Terra': 43, 'Casado Morales': 22, 'Casajús': 36, 'Casal Nova': 9, 'Casal Novo': 16, 'Casalbaio': 10, 'Casale Daviddi': 33, 'Casale Triocco': 27, 'Casale del Giglio': 21, 'Casale della Ioria': 18, 'Casale dello Sparviero': 17, 'Casale di Daviddi': 19, 'Casalfarneto': 16, 'Casali di Bibbiano': 18, 'Casalnova': 11, 'Casaloste': 30, 'Casalvento Radda': 10, 'Casanel': 22, 'Casanova di Neri': 90, 'Casanuova delle Cerbaie': 55, 'Casar de Burbia': 38, 'Casarena': 13, 'Casata Monfort': 18, 'Casato1': 33, 'Cascabel': 15, 'Cascade Ridge': 13, 'Cascadia': 13, 'Cascata': 12, 'Cascina Adelaide': 59, 'Cascina Alberta': 27, 'Cascina Ballarin': 51, 'Cascina Bongiovanni': 42, 'Cascina Bretta Rossa': 20, 'Cascina Bruciata': 38, 'Cascina Casalin': 32, 'Cascina Castlet': 17, 'Cascina Chicco': 36, 'Cascina Corte Barosi-Battaglia': 16, 'Cascina Corte di Barosi Alessandro': 16, 'Cascina Cucco': 54, 'Cascina Cà Rossa': 35, 'Cascina La Barbatella': 50, 'Cascina La Ghersa': 12, 'Cascina Liuzzi': 10, 'Cascina Luisin': 41, 'Cascina Morassino': 37, \"Cascina Pian d'Or\": 7, 'Cascina Rabaglio': 28, 'Cascina Radice': 9, 'Cascina Roccalini': 18, 'Cascina Roera': 19, 'Cascina Saria': 35, 'Cascina Val del Prete': 30, 'Cascina Zerbetta': 19, 'Cascina del Monastero': 42, 'Cascina del Pozzo': 11, 'Cascina delle Rose': 43, \"Cascinacastle't\": 8, 'Cascinetta Vietti': 9, 'Case Bianche': 12, 'Case Paolin': 20, 'Casebianche': 13, 'Casella': 87, 'Casetta': 49, 'Casetto': 4, 'Casey Flat Ranch': 18, 'Casina di Cornia': 30, 'Casir Dos Santos': 23, 'Casisano Colombaio': 29, 'Casisano Tommasi': 49, 'Casita Mami': 8, 'Caspen': 7, 'Cass': 28, 'Cast': 36, 'Castalia': 37, 'Castaño': 7, 'Castel Boglione': 30, 'Castel Firmian': 10, 'Castel Grisch': 12, 'Castel Montplaisir': 6, 'Castel Pietraio': 13, 'Castel Roubine': 7, 'Castel Sallegg': 17, 'Castel de Bouza': 11, 'Castel di Pugna': 24, 'Castel di Salve': 19, 'Castelfeder': 16, 'Castelgiocondo': 68, \"Castell d'Encus\": 45, 'Castell del Remei': 8, \"Castell'In Villa\": 53, 'Castellaccia': 19, 'Castellani': 11, 'Castellani Michele & Figli': 43, 'Castellare': 39, 'Castellare di Castellina': 45, 'Castellargo': 15, 'Castellari Bergaglio': 23, 'Castellarin': 3, 'Castellblanch': 5, 'Casteller': 5, 'Castelli Martinozzi': 35, 'Castelli del Grevepesa': 26, 'Castellinuzza e Piuca': 10, 'Castello Banfi': 47, 'Castello Bonomi': 45, 'Castello Da Vinci': 19, 'Castello Gabiano': 33, 'Castello Il Palagio': 7, 'Castello La Leccia': 32, 'Castello Monaci': 14, 'Castello Montauto': 12, 'Castello Montaúto': 11, 'Castello Monte Vibiano Vecchio': 19, 'Castello Romitorio': 53, 'Castello San Donato in Perano': 23, 'Castello Sonnino': 19, 'Castello Tricerchi': 29, 'Castello Vicchiomaggio': 28, \"Castello d'Albola\": 33, 'Castello dei Rampolla': 135, 'Castello del Poggio': 11, 'Castello del Terriccio': 69, 'Castello del Trebbio': 19, 'Castello della Paneretta': 24, 'Castello della Rosa': 9, 'Castello della Sala': 20, 'Castello di Ama': 71, 'Castello di Amorosa': 59, 'Castello di Bolgheri': 36, 'Castello di Borghese': 17, 'Castello di Bossi': 42, 'Castello di Brolio': 22, 'Castello di Buttrio': 17, 'Castello di Cacchiano': 27, 'Castello di Corbara': 12, 'Castello di Fonterutoli': 30, 'Castello di Gabbiano': 21, 'Castello di Luzzano': 21, 'Castello di Meleto': 32, 'Castello di Monastero': 19, 'Castello di Monsanto': 29, 'Castello di Montegiove': 23, 'Castello di Montepò': 45, 'Castello di Monterinaldi': 18, 'Castello di Neive': 38, 'Castello di Nipozzano': 45, 'Castello di Poppiano': 21, 'Castello di Querceto': 37, 'Castello di Radda': 28, 'Castello di Selvole': 25, 'Castello di Spessa': 19, 'Castello di Uzzano': 28, 'Castello di Verduno': 56, 'Castello di Verrazzano': 37, 'Castellroig': 23, 'Castellucci Miano': 16, 'Castelluccio': 20, 'Castellví de la Marca': 5, 'Castelmaure': 12, 'Castelnau': 49, 'Castelo de Medina': 8, 'Castelo do Papa': 11, 'Castelvecchi': 43, 'Castelvecchio': 20, 'Castelveder': 16, 'Castelvero': 5, 'Castiglion del Bosco': 66, 'Castillo Catadau': 4, 'Castillo Clavijo': 12, 'Castillo Colina': 7, 'Castillo De Feliciana': 28, 'Castillo Labastida': 17, 'Castillo Rocio': 9, 'Castillo de Almansa': 6, 'Castillo de Cuzcurrita': 47, 'Castillo de Fuendeyalon': 3, 'Castillo de Fuenmayor': 5, 'Castillo de Jumilla': 7, 'Castillo de Liria': 3, 'Castillo de Maluenda': 17, 'Castillo de Mendoza': 17, 'Castillo de Monjardin': 7, 'Castillo de Monséran': 5, 'Castillo de Perelada': 12, 'Castillo de Sajazarra': 41, 'Castillo de Urtau': 20, 'Castillo del Barón': 8, \"Castillo's Hillside Shire\": 44, 'Castle': 19, 'Castle Rock': 7, 'Casto Oaks': 13, 'Casto Pequeño': 8, 'Castoro Cellars': 14, 'Castro Baroña': 14, 'Castro Brey': 14, 'Castro Martin': 13, 'Castrucci': 29, 'Casuccio Tarletti': 15, 'Catacula': 13, 'Cataldi Madonna': 46, 'Catalino': 5, 'Catania': 9, 'Cataregia': 9, 'Caterina': 12, 'Cathar': 43, 'Catharine Valley': 34, 'Cathedral Ridge': 25, 'Cathy MacGregor': 23, 'Catman': 24, 'Catoctin Creek': 18, 'Cattleya': 59, 'Cava Blanca': 10, 'Cava Blancher': 10, 'Cava Negra': 3, \"Cava d'Onice\": 68, 'Cavalchina': 19, 'Cavalier Bartolomeo': 68, 'Cavalierino': 16, 'Cavalli Tenuta degli Dei': 32, 'Cavallotto': 89, 'Cavas Hill': 7, 'Cavas de Chacras': 7, 'Cavas del Ampurdán': 7, 'Cavas del Conde': 2, 'Cavatappi': 12, 'Cavazza': 11, 'Cave B': 21, 'Cave Cooperative du Vendômois': 9, 'Cave Extrême': 8, 'Cave Freudenreich': 10, 'Cave Spring': 18, \"Cave d'Azé\": 10, 'Cave de Beblenheim': 8, 'Cave de Bissey': 16, 'Cave de Bourgueil': 11, 'Cave de Chardonnay': 10, 'Cave de Cleebourg': 11, 'Cave de Gan': 10, 'Cave de Genouilly': 12, 'Cave de Hunawihr': 14, 'Cave de Kientzheim-Kaysersberg': 19, 'Cave de Lugny': 10, 'Cave de Rasteau': 14, 'Cave de Rauzan': 5, 'Cave de Ribeauvillé': 21, 'Cave de Roquebrun': 11, 'Cave de Saumur': 10, 'Cave de Tain': 29, 'Cave de Turckheim': 31, 'Cave de Viré': 13, 'Cave des Grands Crus Blancs': 16, 'Cave des Producteurs de Jurançon': 19, 'Cave des Producteurs de Vouvray': 12, 'Cave des Vignerons de Buxy': 10, 'Cave des Vignerons de Mancey': 10, 'Cave des Vignerons de Prisse': 7, 'Cave du Château des Loges': 10, 'Cave du Marmandais': 11, 'Cave du Roi Dagobert': 38, 'Cave du Vin Blanc de Morgex et de la Salle': 18, 'Caven': 33, 'Caves Cooperatives de Donnas': 19, 'Caves Fleury': 7, 'Caves de Marsigny': 11, 'Caves de Rauzan': 6, 'Caves de la Loire': 12, 'Caves des Papes': 11, 'Caves du Val de France': 8, 'Caves du Val de Loire': 9, 'Cavicchioli': 11, 'Caviro': 2, 'Cavit': 11, 'Cayalla': 8, 'Caymus': 93, 'Cayu': 41, 'Cayuga Ridge Estate': 9, 'Cayuse': 68, 'Caño': 5, 'Cchia': 14, 'Ceago Vinegarden': 20, 'Cebada': 30, 'Cecchi': 20, 'Cecilia Beretta': 37, 'Cedar Creek': 20, 'Cedar Knoll': 35, 'Cedar Mountain': 18, 'Cedar River Cellars': 25, 'Cedar View Winery': 16, 'CedarCreek': 32, 'Cedarville': 20, 'Cedarville Vineyard': 22, 'Cedergreen Cellars': 18, 'Cefalicchio': 26, \"Cefalu'\": 46, 'Ceja': 37, 'Celani Family Vineyards': 97, 'Celestial Bay': 17, 'Celestino Pecci': 66, 'Cellar Hand': 12, 'Cellar Marti Fabra Carreras': 30, 'Cellar No. 8': 5, 'Cellars 33': 28, 'Cellars Avgvstvs Forvm': 29, 'Celler Arché Pagès': 20, 'Celler Barcelòna': 12, 'Celler Bartolomé': 41, 'Celler Burgos-Porta': 58, 'Celler Bàrbara Forés': 17, 'Celler Cecilio': 22, 'Celler Cooperatiu de Gandesa': 13, 'Celler Dosterras': 20, 'Celler La Bollidora': 15, 'Celler Pasanau': 33, 'Celler Piñol': 30, 'Cellers Baronia del Montsant': 17, 'Cellers Grifoll Declara': 14, 'Cellers Melis': 68, 'Cellers Sant Rafel': 16, 'Cellers Tarroné': 21, 'Cellers Unió': 14, 'Celli': 14, 'Cellier Saint-Sidoine': 11, 'Cellier des Chartreux': 15, 'Cellier des Dauphins': 5, 'Cembra': 13, 'Cenay': 28, 'Cencioni Patrizia': 60, 'Cennatoio': 41, \"Cent'Anni\": 35, 'Centanni Giacomo': 14, 'Centennial': 16, 'Center 38 North': 17, 'Center of Effort': 25, 'Centolani': 55, 'Centovigne': 24, 'Central Coast Group Project': 64, 'Century Oak': 14, 'Cenyth': 19, 'Cepa 21': 30, 'Ceralti': 25, 'Ceravolo': 13, 'Cerbaia': 48, 'Cerbaiona': 119, 'Cerebella': 23, 'Ceretto': 75, 'Cermeño': 8, 'Cerridwen': 50, 'Cerro Caliente': 15, 'Cerro Prieto': 34, 'Cerruti': 18, 'Cerulean': 21, 'Cesani': 16, 'Cesar Lucendo': 5, 'Cesari': 48, 'Cesarini Sforza': 23, 'Cesca Vicent': 27, 'Cescon Italo Storia e Vini': 9, 'Ceste': 28, 'Ceuso': 19, 'Ch.igai Takaha': 53, 'Chacewater': 18, 'Chacras': 12, 'Chaddsford': 16, 'Chai de Bordes': 8, 'Chain Gang': 12, 'Chais de Méribel': 15, 'Chakana': 13, 'Chakras': 10, 'Chaleur Estate': 54, 'Chalice Bridge': 10, 'Chalk Hill': 45, 'Challen': 51, 'Challenger Ridge': 30, 'Chalone': 20, 'Chalone Vineyard': 21, 'Chaltén': 11, 'Chaman': 11, 'Chamarré': 6, 'Chambers Rosewood Vineyards': 134, 'Chamisal Vineyards': 32, 'Champ de Rêves': 34, 'Champy': 14, 'Chanamé': 37, 'Chandler Reach': 20, 'Chandon': 29, 'Changala': 14, 'Chanin': 36, 'Channing Daughters': 17, 'Channing Perrine': 10, 'Chanoine': 53, 'Chanson Père et Fils': 81, 'Chantebelle': 5, 'Chanticleer': 49, 'Chapel Hill': 23, 'Chapillon': 11, 'Chappellet': 46, 'Chapter Capítulo 8': 7, 'Chapuy': 32, 'Charbay': 53, 'Chardenet': 49, 'Chardonnais': 23, 'Charles & Charles': 7, 'Charles B. Mitchell': 17, 'Charles Cimicky': 27, 'Charles Clément': 23, 'Charles Creek': 25, 'Charles Duret': 14, 'Charles Ellner': 47, 'Charles Fournier': 10, 'Charles Heidsieck': 63, 'Charles Heintz': 26, 'Charles Joguet': 29, 'Charles Krug': 41, 'Charles Lafitte': 37, 'Charles Melton': 27, 'Charles Orban': 41, 'Charles Smith': 49, 'Charles Sparr': 14, 'Charles Thomas': 7, 'Charles de Cazanove': 37, 'Charles de Fère': 8, 'Charles-Gilbert de Vindé': 56, 'Charlier & Fils': 34, 'Charnu': 49, 'Charter Oak': 40, 'Charthia': 29, 'Chartogne-Taillet': 37, 'Chartron et Trébuchet': 48, 'Chase': 48, 'Chasing Lions': 9, 'Chasing Venus': 10, \"Chassenay d'Arce\": 55, 'Chasseur': 41, 'Chateau Brisson': 14, 'Chateau Capion': 35, 'Chateau Chantal': 15, 'Chateau Chevalier': 20, 'Chateau Couronneau': 13, 'Chateau Côte Nord': 4, 'Chateau Dauzac': 50, 'Chateau Desmirail': 35, 'Chateau Faire Le Pont': 21, 'Chateau Faure Beauséjour': 19, 'Chateau Felice': 13, 'Chateau Gibalaux Bonnet': 8, 'Chateau Grand Traverse': 12, 'Chateau Haut Perthus': 6, 'Chateau Haut Rian': 15, 'Chateau La Calisse': 12, 'Chateau La Tour Carnet': 39, 'Chateau Lafayette Reneau': 15, 'Chateau Les Amoureuses': 19, 'Chateau Lettau': 26, 'Chateau Malbat': 19, 'Chateau Margene': 78, 'Chateau Meroux': 14, 'Chateau Molyneaux': 21, 'Chateau Montelena': 65, 'Chateau Morrisette': 12, 'Chateau Mourgues du Gres': 11, 'Chateau Peybonhomme-les-Tours': 16, 'Chateau Peyrassol': 20, 'Chateau Quattre': 37, 'Chateau Reynella': 18, 'Chateau Rollat': 38, 'Chateau Saint Louis': 11, 'Chateau Saint Nabor': 8, 'Chateau St. Jean': 31, 'Chateau Ste. Michelle': 18, 'Chateau Ste. Michelle & Dr. Loosen': 35, 'Chateau Walla Walla': 32, \"Chateau d'Angludet\": 35, 'Chateau de Launay': 33, 'Chateau de Manissy': 12, 'Chateau de Pibarnon': 31, 'Chateau de Pizay': 9, 'Chateau de Sadran': 10, \"Chateau de l'Oiselinière\": 11, 'Chateau du Donjon': 13, 'Chateau la Rame': 16, 'Chateau le Grand Verdus': 14, 'Chateau les Tuilleries': 10, 'Chatel': 10, 'Chatelain Desjacques': 6, 'Chatham': 12, 'Chatom': 11, 'Chatom Vineyards': 15, 'Chatter Creek': 18, 'Chavet Fils': 16, 'Chañarmuyo': 8, 'CheapSkate': 3, 'Checkered Cab': 5, \"Chef's Coat\": 20, 'Chehalem': 30, 'Chelan Estate': 10, 'Chelan Wine Company': 14, 'Chelsea Goldschmidt': 11, 'Chemin des Papes': 6, 'Chenoweth': 55, 'Chereau Carré': 6, 'Cherokee Vineyards': 10, \"Cherri d'Acquaviva\": 10, 'Cherrier Frères': 32, 'Cherry Hill': 20, 'Cherry Pie': 47, 'Cherry Tart': 14, 'Cherubino': 45, 'Cheryl LaVrar': 27, 'Chesebro': 16, 'Chesler': 60, 'Chessman': 11, 'Chester Kidder': 42, 'Cheval Quancard': 10, 'Cheval Sauvage': 41, 'Cheval des Andes': 74, 'Chevalier de Gruaud': 39, 'Chevalier de Lafoux Sainte Anne': 8, 'Cheviot Bridge': 10, 'Cheyanna': 10, 'Chiara Boschis - E. Pira e Figli': 78, 'Chiarello Family Vineyards': 42, 'Chiarito': 22, 'Chic Barcelona': 6, 'Chiesa Carlo': 15, 'Chigi Saracini': 20, \"Child's Play\": 21, 'Chillhouse': 14, 'Chime': 11, 'Chimere': 20, 'Chimney Rock': 70, 'Chinook': 11, 'Chiorri': 15, 'Chispas': 3, 'Chloe': 11, 'Chocolate Box': 11, 'Cholame': 23, 'Chopo': 14, 'Chouinard': 8, 'Chozas Carrascal': 18, 'Christian Lazo': 17, 'Christian Leperchois': 16, 'Christian Moueix': 5, 'Christiano Family': 13, 'Christine Andrew': 10, 'Christophe Cordier': 26, 'Christophe Pacalet': 9, 'Christophe Pertuzot': 23, 'Christopher Michael': 9, 'Chronic Cellars': 17, 'Chronicle': 39, 'Chrysalis': 18, 'Chumeia': 13, 'Church & State': 20, 'Churchill Cellars': 35, 'Château  de Paraza': 4, 'Château Abelyce': 37, 'Château Acker-Perreau': 12, 'Château Ad Francos': 30, 'Château Aiguilhe Querre': 13, 'Château Allégret': 10, 'Château Alta Gaïa': 16, 'Château Altimar': 20, 'Château Ambe Tour Pourret': 29, 'Château Amour': 13, 'Château Ampélia': 13, 'Château Andron': 10, 'Château Andron Blanquet': 19, 'Château Andréa': 10, 'Château Aney': 22, 'Château Angélus': 207, 'Château Anniche': 10, 'Château Anthonic': 23, 'Château Argadens': 8, 'Château Armandière': 17, 'Château Arnaucosse': 7, 'Château Arnaud': 40, 'Château Arnaud Jouan': 15, 'Château Arnauld': 46, 'Château Arzac': 20, 'Château Au Grand Paris': 7, 'Château Auguste': 10, 'Château Ausone': 457, 'Château Avernus': 31, 'Château Bahans Haut-Brion': 64, 'Château Balac': 37, 'Château Balestard': 28, 'Château Ballan-Larquette': 11, 'Château Baracan': 11, 'Château Barbanau': 12, 'Château Barbebelle': 12, 'Château Barbeiranne': 13, 'Château Barbé': 23, 'Château Barde Haut': 69, 'Château Bardins': 25, 'Château Bardoulet': 16, 'Château Baret': 19, 'Château Barreyre': 17, 'Château Barreyres': 17, 'Château Baston-Brillette': 23, 'Château Batailley': 51, 'Château Beau Rivage': 19, 'Château Beau-Site': 33, 'Château Beau-Séjour Bécot': 53, 'Château Beaubois': 9, 'Château Beauchêne': 8, 'Château Beaulieu': 9, 'Château Beaulieu Comtes de Tastes': 10, 'Château Beaumont': 16, 'Château Beauregard': 35, 'Château Beauregard Lagupeau': 14, 'Château Beauregard-Ducourt': 8, 'Château Beausejour-Duffau-Lagarrosse': 98, 'Château Beausoleil': 18, 'Château Beauséjour': 26, 'Château Beauvillage': 22, 'Château Bel Air': 14, 'Château Bel Air Perponcher': 10, 'Château Bel Enclos': 15, 'Château Bel Orme Martial': 18, 'Château Bel-Air': 16, 'Château Bel-Air Ortet': 25, 'Château Bel-Air Ouÿ': 28, 'Château Belcier': 8, 'Château Belgrave': 38, 'Château Belle Assise Coureau': 29, 'Château Belle Coline': 14, 'Château Belle Garde': 8, 'Château Belle Rive': 32, 'Château Belle-Garde': 8, 'Château Belle-Vue': 16, 'Château Bellefont-Belcier': 87, 'Château Bellegrave': 14, 'Château Bellegrave du Poujeau': 40, 'Château Bellerive': 23, 'Château Bellerose Figeac': 40, 'Château Bellevue': 12, 'Château Bellevue Canterrane': 25, 'Château Bellevue Favereau': 5, 'Château Bellevue Peycharneau': 11, 'Château Bellevue de Tayac': 25, 'Château Bellevue la Forêt': 12, 'Château Bellevue la Randée': 8, 'Château Belon': 8, 'Château Belrose': 8, 'Château Belvue': 7, 'Château Benoit': 10, 'Château Berliquet': 37, 'Château Bernadotte': 21, 'Château Bernés': 10, 'Château Berthenon': 19, 'Château Bertinerie': 13, 'Château Bessan Ségur': 16, 'Château Beychevelle': 47, 'Château Beynat': 16, 'Château Biac': 38, 'Château Bianca': 9, 'Château Bibian': 14, 'Château Billeron Bouquey': 14, 'Château Blaignan': 14, 'Château Blanchereau': 12, 'Château Blouin': 6, 'Château Bois Cardon': 12, 'Château Bois Chantant': 9, 'Château Bois Malot': 8, 'Château Bois Pertuis': 10, 'Château Bois Redon': 5, 'Château Bois de Favereau': 8, 'Château Bois de Rolland': 22, 'Château Boisson': 7, 'Château Bolaire': 6, 'Château Bonfort': 14, 'Château Bonnet': 9, 'Château Bonnin': 32, 'Château Borie de Noaillan': 7, 'Château Boswell': 81, 'Château Bouissel': 12, 'Château Bourbon': 9, 'Château Bourdieu': 8, 'Château Bourgneuf': 37, 'Château Bournac': 19, 'Château Bourron': 9, 'Château Bourseau': 44, 'Château Bouscaut': 31, 'Château Bousquette': 11, 'Château Boutisse': 21, 'Château Bovila': 9, 'Château Branaire-Ducru': 52, 'Château Branas Grand Poujeaux': 23, 'Château Brande-Bergère': 20, 'Château Brane-Cantenac': 42, 'Château Braude Fellonneau': 37, 'Château Brethous': 19, 'Château Brillette': 21, 'Château Briot': 7, 'Château Brown': 43, 'Château Brulescaille': 46, 'Château Bréhat': 17, 'Château Buisson Reydon': 5, 'Château Buisson-Redon': 7, 'Château Béard la Chapelle': 19, 'Château Bégadanet': 13, 'Château Béhèré Courtin': 71, 'Château Bélair-Monange': 205, 'Château Bélingard': 10, 'Château Cabezac': 8, 'Château Cadet-Bon': 72, 'Château Cadillac': 11, 'Château Cagnas': 8, 'Château Cahuzac': 8, 'Château Cailleteau Bergeron': 15, 'Château Caillou': 37, 'Château Cailloux de By': 28, 'Château Calissanne': 49, 'Château Calon': 35, 'Château Calon Ségur': 58, 'Château Calvimont': 19, 'Château Camarsac': 8, 'Château Cambon la Pelouse': 22, 'Château Cambon la Pelousse': 10, 'Château Camelot la Chapelle': 5, 'Château Camplazens': 12, 'Château Candale': 32, 'Château Canon': 86, 'Château Canon la Gaffelière': 69, 'Château Canteloup': 10, 'Château Cantelys': 28, 'Château Cantemerle': 32, 'Château Cantenac Brown': 43, 'Château Cantin': 37, 'Château Cantinot': 33, 'Château Cap Léon Veyrin': 23, 'Château Cap Saint-Martin': 10, 'Château Cap de Faugères': 14, 'Château Cap de Mourlin': 64, \"Château Cap l'Ousteau\": 16, 'Château Capbern': 14, 'Château Capdet': 19, 'Château Capet-Guillier': 60, 'Château Carbonnieux': 27, 'Château Carcanieux': 23, 'Château Carignan': 18, 'Château Caroline': 22, 'Château Caronne Ste Gemme': 16, 'Château Carpe Diem': 17, 'Château Castegens': 12, 'Château Castel des Maures': 8, 'Château Castelbruck': 41, 'Château Castenet': 7, 'Château Castera': 16, 'Château Cavalier': 13, 'Château Caville': 9, 'Château Cayla': 10, 'Château Certan de May de Certan': 105, 'Château Chai Neuf': 7, 'Château Chamaille': 9, 'Château Champ des Treilles': 10, 'Château Champ du Moulin': 5, 'Château Chantelune': 87, 'Château Chantelys': 13, 'Château Chantemerle': 12, \"Château Chapelle d'Aliénor\": 10, 'Château Charmail': 13, 'Château Chasse-Spleen': 23, 'Château Chatard': 10, 'Château Chaubinet': 9, 'Château Chauvin': 43, 'Château Chavrignac': 7, 'Château Cheval Blanc': 747, 'Château Cinc-Hilhs': 10, 'Château Cissac': 16, 'Château Citran': 28, 'Château Clairac': 11, 'Château Clarke': 23, 'Château Clauzet': 41, 'Château Clerc Milon': 49, 'Château Climens': 100, 'Château Clinet': 237, 'Château Clos Bourbon': 8, 'Château Clos Chaumont': 14, 'Château Clos Haut-Peyraguey': 42, 'Château Clos Mansio': 14, 'Château Clos Moulin Pontet': 8, 'Château Clos du Moulin': 23, 'Château Cluzan': 14, 'Château Clément Saint-Jean': 10, 'Château Clément Termes': 14, 'Château Clément-Pichon': 21, 'Château Combel la Serre': 12, 'Château Comte Devaugelas': 4, 'Château Coquillas': 28, 'Château Corbin': 32, 'Château Corbin Michotte': 22, 'Château Corconnac': 18, 'Château Cordeillan-Bages': 78, 'Château Cormeil-Figeac': 30, 'Château Cos Labory': 30, \"Château Cos d'Estournel\": 113, 'Château Cossieu Coutelin': 50, 'Château Cossieu-Coutelin': 26, 'Château Coste Peyrouse': 9, 'Château Coudray Montpensier': 10, 'Château Coufran': 23, 'Château Couhins': 14, 'Château Couhins-Lurton': 40, 'Château Coussieu-Coutelin': 35, 'Château Coussin': 20, 'Château Coustaut la Grangeotte': 5, 'Château Coustolle': 28, 'Château Coutet': 38, 'Château Coutinel': 14, 'Château Croix Mouton': 15, 'Château Croix de Gentis': 4, 'Château Croix de Mission': 12, 'Château Cru Godard': 19, 'Château Cru de Verdun': 16, 'Château Crusquet Sabourin': 12, 'Château Crusquet de Lagarcie': 22, 'Château Cruzeau': 22, 'Château Cône-Taillasson Sabourin': 10, 'Château Côte Montpezat': 21, 'Château Damase': 11, 'Château Dame Jane': 9, 'Château Darzac': 10, 'Château Dassault': 27, 'Château Dasvin-Bel-Air': 14, 'Château Deffends': 9, 'Château Denisiane': 10, 'Château Destieux': 50, \"Château Devise d'Ardilley\": 14, 'Château Deyrem Valentin': 46, 'Château Dina': 9, 'Château Doisy-Daëne': 34, 'Château Doisy-Védrines': 37, 'Château Doms': 15, 'Château Donjon de Bruignac': 13, 'Château Doyac': 28, 'Château Dubraud': 10, \"Château Duc d'Arnauton\": 13, 'Château Ducasse': 11, 'Château Ducla': 9, 'Château Ducluzeau': 19, 'Château Ducros': 12, 'Château Ducru Beaucaillou': 97, 'Château Duhart-Milon': 62, 'Château Duplessis': 19, 'Château Durfort-Vivens': 29, 'Château Duthil': 28, 'Château Dutruch Grand Poujeaux': 26, 'Château Escot': 24, 'Château Espérance': 37, 'Château Eugénie': 21, 'Château Faizeau': 25, 'Château Famaey': 12, 'Château Fantou': 14, 'Château Faugères': 30, 'Château Favray': 15, 'Château Fayat': 55, 'Château Fayau': 21, 'Château Feret Lambert': 19, 'Château Ferran': 20, 'Château Ferrande': 16, 'Château Ferrière': 27, 'Château Ferry Lacombe': 10, 'Château Figeac': 130, 'Château Filhot': 25, 'Château Flaugergues': 7, 'Château Fleur Cardinale': 41, 'Château Fleur Haut Gaussens': 14, 'Château Fleur de Charme': 9, 'Château Fleur de Plaisance': 12, 'Château Fleur du Roc': 14, 'Château Fleur la Forge': 15, 'Château Fleur la Mothe': 13, 'Château Floreal Laguens': 14, 'Château Flotis': 14, 'Château Fombrauge': 66, 'Château Fonbadet': 45, 'Château Fonchereau': 14, 'Château Fonfroide': 7, 'Château Fongaban': 13, 'Château Fongalan': 9, 'Château Fongrave': 16, 'Château Fonpiqueyre': 12, 'Château Fonplégade': 56, 'Château Fonréaud': 18, 'Château Fonsèche': 10, 'Château Fontana': 9, 'Château Fontenelle': 5, 'Château Fontenil': 50, 'Château Fontesteau': 19, 'Château Fortin Plaisance': 16, 'Château Fougas': 14, 'Château Fourcas Dupré': 23, 'Château Fourcas Hosten': 17, 'Château Fourchou': 7, 'Château Franc Cardinal': 10, 'Château Franc Couplet': 7, 'Château Franc Grace Dieu': 22, 'Château Franc Pipeau': 28, 'Château Franc le Maine': 60, 'Château Franc-Cardinal': 13, 'Château Franc-Pérat': 8, 'Château Frank': 19, 'Château Fredignac': 20, 'Château Frédignac': 26, 'Château Gaby': 40, 'Château Gaillard': 11, 'Château Gairoird': 10, 'Château Galès': 12, 'Château Gamage': 16, 'Château Gantonnet': 9, 'Château Gardut Haut Cluzeau': 15, 'Château Garreau': 21, 'Château Garrineau': 6, 'Château Gassier': 18, 'Château Gaudin': 35, 'Château Gaudrelle': 16, 'Château Gauthier': 18, 'Château Gazin': 82, 'Château Genlaire': 9, 'Château German': 16, 'Château Gigault': 14, 'Château Gigognan': 23, 'Château Giscours': 47, 'Château Gloria': 31, 'Château Glorit': 23, 'Château Godard Bellevue': 13, 'Château Goubau': 46, 'Château Goudichaud': 10, 'Château Goumin': 10, 'Château Gramond': 23, 'Château Grand Barrail Lamarzelle Figeac': 31, 'Château Grand Bertin de Saint Clair': 41, 'Château Grand Billard': 12, 'Château Grand Bireau': 23, 'Château Grand Boise': 22, 'Château Grand Bourgeau': 14, 'Château Grand Corbin': 28, 'Château Grand Destieu': 27, 'Château Grand Jean': 9, 'Château Grand Marchand': 7, 'Château Grand Maréchaud': 17, 'Château Grand Mayne': 38, 'Château Grand Meynau': 6, 'Château Grand Moulin': 11, 'Château Grand Moulinet': 17, 'Château Grand Pascaud': 8, 'Château Grand Pontet': 37, 'Château Grand Secret': 10, 'Château Grand Tayac': 60, 'Château Grand-Maison': 15, 'Château Grand-Portail': 10, 'Château Grand-Puy Ducasse': 22, 'Château Grand-Puy-Lacoste': 76, 'Château Grande Cassagne': 7, 'Château Grands Bois': 8, 'Château Gravas': 30, 'Château Graves de Pez': 41, 'Château Graville-Lacoste': 10, 'Château Grenouille': 78, 'Château Gressier Grand Poujeaux': 22, 'Château Greysac': 17, 'Château Grivière': 18, 'Château Gromel Bel Air': 5, 'Château Grossombre de Saint-Joseph': 12, 'Château Gruaud Larose': 52, 'Château Guerry': 19, 'Château Guibeau': 8, 'Château Guichot': 8, 'Château Guilhem': 7, 'Château Guillebot Plaisance': 10, 'Château Guillotin': 10, 'Château Guiot': 5, 'Château Guiraud': 55, 'Château Guitar': 8, 'Château Guitignan': 19, 'Château Hallet': 23, 'Château Hannetot': 31, 'Château Hauchat': 10, 'Château Haut Bages Libéral': 26, 'Château Haut Barrail': 13, 'Château Haut Batailley': 23, 'Château Haut Bellevue': 50, 'Château Haut Bergeron': 18, 'Château Haut Bertinerie': 17, 'Château Haut Bessac': 8, 'Château Haut Beyzac': 21, 'Château Haut Boilon': 10, 'Château Haut Boutisse': 55, 'Château Haut Brande': 7, 'Château Haut Breton Larigaudière': 37, 'Château Haut Cabut': 10, 'Château Haut Canteloup': 18, 'Château Haut Clairbes': 9, 'Château Haut Claribes': 8, 'Château Haut Colombier': 15, 'Château Haut Cormier': 13, 'Château Haut Dina': 9, 'Château Haut Gaudin': 10, 'Château Haut Grand Champ': 8, 'Château Haut Gravet': 41, 'Château Haut Grelot': 25, 'Château Haut Grignon': 16, 'Château Haut Guillebot': 5, 'Château Haut Lagrange': 23, 'Château Haut Laulion': 6, 'Château Haut Lignières': 14, 'Château Haut Mallet': 16, 'Château Haut Maurin': 7, 'Château Haut Mazerolles': 21, 'Château Haut Millet': 17, 'Château Haut Mondain': 8, 'Château Haut Mouleyre': 9, 'Château Haut Nadeau': 8, 'Château Haut Pasquet': 12, 'Château Haut Peyrefaure': 18, 'Château Haut Peyruguet': 7, 'Château Haut Pingat': 8, 'Château Haut Pougnan': 7, 'Château Haut Prieur': 10, 'Château Haut Seguin': 14, 'Château Haut Selve': 18, 'Château Haut Sociondo': 23, 'Château Haut Tour de Coutelin': 22, 'Château Haut Vieux Chêne': 7, 'Château Haut de la Bécade': 78, 'Château Haut la Pointe': 18, 'Château Haut le Valette': 8, 'Château Haut-Bacalan': 96, 'Château Haut-Bailly': 82, 'Château Haut-Beauséjour': 19, 'Château Haut-Bellevue': 24, 'Château Haut-Bergey': 32, 'Château Haut-Bernat': 25, 'Château Haut-Bourcier': 10, 'Château Haut-Brion': 489, 'Château Haut-Canteloup': 10, 'Château Haut-Cardinal': 28, 'Château Haut-Francarney': 32, 'Château Haut-Gelineau': 13, 'Château Haut-Goujon': 26, 'Château Haut-Guiraud': 12, 'Château Haut-La-Péreyre': 12, 'Château Haut-Lansac': 15, 'Château Haut-Logat': 24, 'Château Haut-Macô': 21, 'Château Haut-Marbuzet': 26, 'Château Haut-Mongeat': 19, 'Château Haut-Monplaisir': 28, 'Château Haut-Mouleyre': 10, 'Château Haut-Mévret': 15, 'Château Haut-Peyrous': 24, 'Château Haut-Pezat': 23, 'Château Haut-Pradier': 10, 'Château Haut-Rian': 14, 'Château Haut-Simard': 28, 'Château Haut-Sorillon': 4, 'Château Haut-Vigneau': 16, 'Château Henri Bonnaud': 14, 'Château Henry de France': 4, 'Château Hermitage Saint-Martin': 25, 'Château Hervé-Laroque': 20, 'Château Hosanna': 197, 'Château Hoste-Blanc': 19, 'Château Hostens-Picant': 14, 'Château Hourbanon': 19, 'Château Hourtin-Ducasse': 19, 'Château Hyot': 15, 'Château Jacques Noir': 23, 'Château Jamin': 7, 'Château Jandel': 26, 'Château Jarr': 7, 'Château Jean Faux': 19, 'Château Jean de Bel Air': 12, 'Château Jeandeman': 46, 'Château Jeanguillon': 10, 'Château Jeanrousse': 9, 'Château Joanin Bécot': 19, 'Château Joinin': 8, 'Château Joly': 15, 'Château Jolys': 16, 'Château Jonc Blanc': 10, 'Château Julian': 9, 'Château Julien': 25, 'Château Jussas': 14, 'Château K': 14, 'Château Kalian': 16, 'Château Kalon Nodoz': 16, 'Château Kirwan': 37, \"Château L'Ermitage\": 19, \"Château L'Escadre\": 23, 'Château La Barotte': 8, 'Château La Bastienne': 40, 'Château La Bourrée': 10, 'Château La Boutignane': 7, 'Château La Branne': 14, 'Château La Cardonne': 14, 'Château La Caussade': 10, 'Château La Clare': 17, 'Château La Clarière Laithwaite': 16, 'Château La Conseillante': 187, 'Château La Croix Chantecaille': 19, 'Château La Croix Lartigue': 36, 'Château La Croix Romane': 30, 'Château La Croix de Queynac': 8, 'Château La Dournie': 13, 'Château La Fleur Beaumont': 11, 'Château La Fleur Peyrabon': 21, 'Château La Fleur Plaisance': 10, 'Château La Fleur Poitou': 13, 'Château La Fleur Ribeyrolles': 8, 'Château La Fortine': 41, 'Château La Gabarre': 10, 'Château La Garricq': 30, 'Château La Grange Clinet': 9, 'Château La Grange de Bessan': 14, 'Château La Greffière': 12, 'Château La Jalgue': 8, 'Château La Lagune': 37, 'Château La Maroutine': 8, 'Château La Mission Haut-Brion': 474, 'Château La Mothe du Barry': 10, 'Château La Nerthe': 81, 'Château La Prade': 12, 'Château La Rame': 15, 'Château La Roche Bazin': 5, 'Château La Rose Gadys': 5, 'Château La Rose Saint Germain': 9, 'Château La Rose du Pin': 8, 'Château La Serre': 40, 'Château La Tour Figeac': 30, 'Château Labadie': 17, 'Château Labastide Orliac': 96, 'Château Labastidié': 8, 'Château Labat': 16, 'Château Labatut': 11, 'Château Laborde': 60, 'Château Labrousse': 3, 'Château Labégorce Margaux': 35, 'Château Lacaussade Saint-Martin': 5, 'Château Lacombe Cadiot': 21, 'Château Lacombe Noaillac': 13, 'Château Ladignac': 14, 'Château Lafaurie-Peyraguey': 57, 'Château Laffitte Carcasset': 32, 'Château Laffitte Laujac': 17, 'Château Lafite Rothschild': 447, 'Château Lafleur du Roy': 30, 'Château Lafleur-Gazin': 32, 'Château Lafon-Rochet': 30, 'Château Lafont Fourcat': 14, 'Château Lafont Menaut': 15, 'Château Laforge': 47, 'Château Laforêt': 10, 'Château Lagarosse': 20, 'Château Lagrange': 44, 'Château Lagrange Monbadon': 9, 'Château Lagrave': 12, 'Château Lagrave Aubert': 7, 'Château Lagrave Paran': 32, 'Château Lagrézette': 60, 'Château Lajarre': 15, 'Château Lalande Balestard': 14, 'Château Lalande Mausse': 14, 'Château Lalande-Borie': 15, 'Château Lalaudey': 28, 'Château Lamartine': 17, 'Château Lamothe': 11, 'Château Lamothe Barrau': 14, 'Château Lamothe Bouscaut': 37, 'Château Lamothe Castera': 9, 'Château Lamothe de Haux': 15, 'Château Lamothe-Bergeron': 21, 'Château Lamothe-Cissac': 22, 'Château Lamothe-Vincent': 8, 'Château Lamour': 15, 'Château Lamourette': 31, 'Château Lamy': 5, 'Château Lanbersac': 20, 'Château Landat': 15, 'Château Landereau': 12, 'Château Lanessan': 12, 'Château Langlais': 29, 'Château Langlet': 14, 'Château Langoa Barton': 49, 'Château Langrange Monbadon': 10, 'Château Lansac La Richarde': 13, 'Château Lanscade': 8, 'Château Lapelletrie': 14, 'Château Lapinesse': 19, 'Château Laribotte': 15, 'Château Laride': 14, 'Château Larmande': 20, 'Château Laroche Joubert': 9, 'Château Laronde Desormes': 16, 'Château Laronde Désormes': 19, 'Château Laroque': 40, 'Château Larose Perganson': 28, 'Château Larose Trintaudon': 19, 'Château Larose-Trintaudon': 16, 'Château Laroze': 28, 'Château Larrat': 10, 'Château Larrivaux': 19, 'Château Larrivet Haut-Brion': 32, 'Château Larroque': 8, 'Château Larteau': 10, 'Château Lary': 6, 'Château Lascombes': 57, 'Château Lassègue': 64, 'Château Lastours': 7, 'Château Latour': 625, 'Château Latour à Pomerol': 85, 'Château Latour-Laguens': 14, 'Château Latour-Martillac': 25, 'Château Laubes': 7, 'Château Laubès': 10, 'Château Lauduc': 9, 'Château Laujac': 14, 'Château Laulerie': 10, 'Château Laur': 50, 'Château Lauretan': 10, 'Château Laurou': 10, 'Château Lauzade': 11, 'Château Lauzanet': 5, 'Château Lavergne-Dulong': 10, 'Château Laville': 11, 'Château Laville Haut-Brion': 321, 'Château Le Bocage': 7, 'Château Le Boscq': 37, 'Château Le Bourdieu': 14, 'Château Le Cap': 11, 'Château Le Clou du Pin': 11, 'Château Le Crock': 24, 'Château Le Giron': 7, 'Château Le Grand Moulin': 8, 'Château Le Pin de Belcier': 79, 'Château Le Prieuré de Bellegarde': 10, 'Château Leboscq': 12, 'Château Lecusse': 8, 'Château Les Bertrands': 21, 'Château Les Charmes Godard': 16, 'Château Les Combes': 10, 'Château Les Gatines': 21, 'Château Les Grands Maréchaux': 8, 'Château Les Gravières de la Brandille': 15, 'Château Les Hauts de Palette': 12, 'Château Les Martins': 8, 'Château Les Palais': 7, 'Château Les Petits': 10, 'Château Les Petits Arnaud': 10, 'Château Les Rochers Mirande': 12, 'Château Les Trois Manoirs': 16, 'Château Lescalle': 13, 'Château Lestage': 19, 'Château Lestage Simon': 24, 'Château Lestrille': 6, 'Château Lestrille Capmartin': 11, 'Château Lestruelle': 14, 'Château Lieujean': 15, 'Château Lilian Ladouys': 18, 'Château Liversan': 16, 'Château Loudenne': 22, 'Château Loumelat': 9, 'Château Lousteauneuf': 15, 'Château Loyasson': 8, 'Château Luchey-Halde': 37, 'Château Lussan': 6, 'Château Lynch-Bages': 87, 'Château Lynch-Moussas': 46, 'Château Lyonnat': 30, 'Château Lécuyer': 48, 'Château Léognan': 46, 'Château Léon': 16, 'Château Léoube': 23, 'Château Léoville Barton': 91, 'Château Léoville Las Cases': 143, 'Château Léoville Poyferré': 96, 'Château Lézin': 7, 'Château Macalan': 4, 'Château Macquin': 14, 'Château Magdelaine': 48, 'Château Magdeleine Bouhou': 15, 'Château Magnan-Figeac': 32, 'Château Magneau': 12, 'Château Magnol': 17, 'Château Magondeau': 13, \"Château Maine d'Arman\": 8, 'Château Maine-Gazin': 11, 'Château Maison Blanche': 23, 'Château Maison Neuve': 16, 'Château Maison Noble': 8, 'Château Maison Noble Saint Martin': 10, 'Château Majoureau': 19, 'Château Majureau Sercillan': 10, 'Château Malaire': 13, 'Château Malartic-Lagravière': 42, 'Château Malavieille': 15, 'Château Malbat': 14, 'Château Malbec': 10, 'Château Malescasse': 12, 'Château Malherbe': 14, 'Château Mancèdre': 50, 'Château Mangot': 17, 'Château Manon la Lagune': 13, 'Château Marac': 9, 'Château Margaux': 351, 'Château Margüi': 18, \"Château Marion d'Audren\": 32, 'Château Maris': 41, 'Château Marjosse': 7, 'Château Marot': 12, 'Château Marouïne': 8, 'Château Marquis de Terme': 25, 'Château Marsau': 24, 'Château Martet': 37, 'Château Maréchaux': 12, 'Château Mas Neuf': 6, 'Château Maubert': 19, 'Château Maucaillou': 14, 'Château Maucamps': 25, 'Château Maucoil': 50, 'Château Maupague': 13, 'Château Maurac': 22, 'Château Mauvesin Barton': 29, 'Château Mayne Guyon': 4, 'Château Mayne Mazerolles': 4, 'Château Mayne Vieil': 12, 'Château Mazails': 10, 'Château Mazetier': 7, 'Château Mazeyres': 26, 'Château Meillier': 8, 'Château Merlet': 5, 'Château Metairie Neuve': 19, 'Château Meyney': 25, 'Château Meyre': 21, 'Château Mezain': 7, 'Château Mille-Roses': 48, 'Château Minuty': 30, 'Château Mirambeau Papin': 15, 'Château Miraval': 19, 'Château Mirefleurs': 10, 'Château Mission Saint Vincent': 12, 'Château Monbadon': 13, 'Château Monbousquet': 69, 'Château Monbrison': 26, 'Château Moncabrier': 8, 'Château Moncets': 19, 'Château Monconseil Gazin': 14, 'Château Monconseil-Gazin': 13, 'Château Moncontour': 13, 'Château Monfort Bellevue': 14, 'Château Mongravey': 31, 'Château Mont-Pérat': 23, 'Château Mont-Redon': 26, 'Château Montaiguillon': 46, 'Château Montaud': 8, 'Château Montcabrier': 7, 'Château Montet': 8, 'Château Montlandrie': 19, 'Château Montlau': 13, 'Château Montlisse': 32, 'Château Montrose': 145, 'Château Motte Maucourt': 7, 'Château Mougneaux': 9, 'Château Moulin Haut-Laroque': 28, 'Château Moulin Lafitte': 19, 'Château Moulin Saint-Georges': 34, 'Château Moulin de  Clotte': 14, 'Château Moulin de Beauséjour': 3, 'Château Moulin de Bel-Air': 23, 'Château Moulin de Canhaut': 21, 'Château Moulin de Clotte': 12, 'Château Moulin de Grillet': 60, 'Château Moulin de Guiet': 19, 'Château Moulin de Mallet': 7, 'Château Moulin de Vignolle': 7, 'Château Moulin de la Bridane': 28, 'Château Moulin de la Rose': 88, 'Château Mouton Rothschild': 329, 'Château Moya': 21, 'Château Moyau': 14, \"Château Myon de l'Enclos\": 30, 'Château Mémoires': 23, 'Château Méric': 22, 'Château Métairie Neuve': 16, 'Château Mézain': 7, 'Château Nardou': 12, 'Château Naudeau': 5, 'Château Nenin': 28, 'Château Nicot': 7, 'Château Noaillac': 13, 'Château Noblet': 9, 'Château Notre Dame du Quatourze': 10, 'Château Nozières': 16, 'Château Noël Les Charmes': 10, 'Château Olivier': 33, 'Château Ollieux Romanis': 15, 'Château Ormes de Pez': 21, 'Château Pabus': 55, 'Château Pailhas': 28, 'Château Palmer': 191, 'Château Paloumey': 19, 'Château Panchille': 11, 'Château Pape Clément': 119, 'Château Paradis': 18, 'Château Pas du Cerf': 13, 'Château Pasquet': 10, \"Château Patache d'Aux\": 16, 'Château Paveil de Luze': 23, 'Château Pavie': 242, 'Château Pavie Decesse': 214, 'Château Pavie Macquin': 82, 'Château Pavillon Bel-Air': 30, 'Château Pavillon de Boyrein': 6, 'Château Peneau': 9, 'Château Penin': 12, 'Château Perthus': 13, 'Château Pesquié': 19, 'Château Petit Moulin': 7, 'Château Petit-Freylon': 10, 'Château Peugeais': 10, 'Château Peuy Saincrit': 10, 'Château Pey La Tour': 9, 'Château Pey de Faure': 7, 'Château Pey de Pont': 13, 'Château Pey la Tour': 10, 'Château Peychaud': 10, 'Château Peyfaures': 19, 'Château Peymouton': 21, 'Château Peynaud-Bagnac': 5, 'Château Peyrabon': 11, 'Château Peyredon Lagravette': 19, 'Château Peyredoulle': 9, 'Château Peyros': 15, 'Château Philippe-le-Hardi': 24, 'Château Phélan-Ségur': 26, 'Château Pibran': 26, 'Château Pichon Longueville': 97, 'Château Pichon Longueville Comtesse de Lalande': 143, 'Château Picoron': 12, 'Château Picque Caillou': 26, 'Château Pierhem': 71, 'Château Pierrail': 15, 'Château Pierre de Montignac': 16, 'Château Pierre-Bise': 34, 'Château Pierrousselle': 10, 'Château Pigoudet': 11, 'Château Pilet': 12, 'Château Pillebois': 15, 'Château Pindefleurs': 21, 'Château Pipeau': 25, 'Château Piron': 21, 'Château Plaisance': 15, 'Château Platon': 10, 'Château Plince': 40, 'Château Poitevin': 14, 'Château Pomeys': 14, 'Château Pontac Monplaisir': 26, 'Château Pontet-Canet': 81, 'Château Pontoise Cabarrus': 12, 'Château Ponzac': 25, 'Château Portillon': 9, 'Château Potelle': 39, 'Château Potensac': 17, 'Château Poujeaux': 19, 'Château Preuillac': 21, 'Château Prieuré Borde-Rouge': 10, 'Château Prieuré-Lichine': 45, 'Château Prieuré-les-Tours': 10, 'Château Providence': 150, 'Château Puech-Haut': 32, 'Château Puisseguin la Rigodrie': 29, 'Château Puy Marceau': 9, 'Château Puy Mouton': 23, 'Château Puy Rigaud': 14, 'Château Puy-Servain': 19, 'Château Puyanché': 14, 'Château Puygueraud': 13, 'Château Pégau': 16, 'Château Périer': 11, 'Château Pétrus': 2044, 'Château Queyssard': 8, 'Château Quinsac': 10, 'Château Quintus': 51, 'Château Rahoul': 20, 'Château Ramafort': 18, 'Château Ramage la Batisse': 19, 'Château Rauzan Despagne': 10, 'Château Rauzan-Gassies': 46, 'Château Rauzan-Ségla': 65, 'Château Raymond-Lafon': 105, 'Château Recougne': 9, 'Château Renard': 17, 'Château Renard Mondesir': 29, 'Château Respide-Médeville': 28, 'Château Revelette': 11, 'Château Reverdi': 23, 'Château Reynon': 13, 'Château Reysson': 18, 'Château Ribaute': 14, 'Château Ricaud': 10, 'Château Rieussec': 41, 'Château Rimauresq': 15, 'Château Riotor': 11, 'Château Rivensan': 6, 'Château Rives-Blanques': 13, 'Château Robert': 55, 'Château Robin': 14, 'Château Robin des Moines': 17, 'Château Roc Meynard': 11, 'Château Roc Montalon': 10, 'Château Roc Taillade': 12, 'Château Roc de Boissac': 19, 'Château Roc de Levraut': 7, 'Château Roc de Minvielle': 10, 'Château Roc de Ségur': 5, 'Château Roche-Lalande': 31, 'Château Rochebelle': 57, 'Château Rocher Bellevue': 10, 'Château Rocher Calon': 14, 'Château Rocher-Bonregard': 37, 'Château Rocher-Figeac': 23, 'Château Rodin': 10, 'Château Roland-La-Garde': 18, 'Château Rollan de By': 28, 'Château Romer du Hayot': 50, 'Château Roque le Mayne': 19, 'Château Roquefeuille': 20, 'Château Roquefort': 14, 'Château Roques Mauriac': 13, 'Château Roquetaillade la Grange': 13, 'Château Roquevieille': 13, 'Château Roubaud': 7, 'Château Roubine': 17, 'Château Roullet': 53, 'Château Rousset-Caillau': 12, 'Château Roustaing': 8, 'Château Roustan': 8, 'Château Routas': 9, 'Château Rouzerol': 8, 'Château Roylland': 26, 'Château Réal Martin': 13, \"Château Réal d'Or\": 14, 'Château Réaut': 22, 'Château Saincrit': 18, 'Château Saint Ahon': 25, 'Château Saint Baillon': 10, 'Château Saint Baulery': 9, \"Château Saint Esteve d'Uchaux\": 25, 'Château Saint Martin de la Garrigue': 8, 'Château Saint Seurin': 10, 'Château Saint Urbain': 14, 'Château Saint-André Corbin': 19, 'Château Saint-Corbian': 26, 'Château Saint-Didier-Parnac': 14, 'Château Saint-Florian': 7, 'Château Saint-Florin': 7, 'Château Saint-Germain': 8, 'Château Saint-Léon': 10, 'Château Saint-Maur': 32, 'Château Saint-Michel': 19, 'Château Saint-Nabor': 9, 'Château Saint-Nicolas': 14, 'Château Saint-Pierre': 24, 'Château Saint-Robert': 11, 'Château Saint-Sernin': 12, 'Château Saint-Sulpice': 10, 'Château Saint-Urbain': 10, 'Château Saint-Urban': 14, 'Château Sainte Barbe': 10, 'Château Sainte Marguerite': 21, 'Château Sainte Marie': 9, 'Château Sainte Roseline': 22, 'Château Sainte-Anne': 11, 'Château Sainte-Barbe': 10, 'Château Sainte-Béatrice': 10, 'Château Sainte-Croix': 10, 'Château Sainte-Luce Bellevue': 16, 'Château Sainte-Marguerite': 23, 'Château Sainte-Marie': 7, 'Château Saintongey': 14, 'Château Salettes': 32, 'Château Sansey': 6, 'Château Saransot-Dupré': 25, 'Château Seguin': 11, 'Château Semonlon': 13, 'Château Sergant': 24, 'Château Siaurac': 15, 'Château Sigalas Rabaud': 96, 'Château Signac': 13, 'Château Simard': 14, 'Château Simon': 44, 'Château Siran': 22, 'Château Smith Haut Lafitte': 53, 'Château Sociando-Mallet': 28, 'Château Sorbey': 10, 'Château Soudars': 18, 'Château Soussac': 11, 'Château Soutard': 30, 'Château Souverain': 16, 'Château St. Roch de Laurens': 14, 'Château Suau': 15, 'Château Suduiraut': 52, 'Château Ségonzac': 8, 'Château Séguin': 16, 'Château Ségur de Cabanac': 82, 'Château Sémeillan Mazeau': 23, 'Château Sénilhac': 32, 'Château Sénéjac': 11, 'Château Sérilhan': 17, 'Château Talbot': 38, 'Château Tanesse': 14, 'Château Tanunda': 36, 'Château Tassin': 9, 'Château Taussin': 6, 'Château Tayet': 26, 'Château Terrasson': 11, 'Château Terre Blanque': 7, 'Château Terres Douces': 5, 'Château Tertre de Belvès': 14, 'Château Tertre de Launay': 6, 'Château Tertre de Viaud': 16, 'Château Tessendey': 12, 'Château Teyssier': 25, 'Château Thieuley': 12, 'Château Thivin': 14, 'Château Thuerry': 17, 'Château Thuron': 49, 'Château Thénac': 15, 'Château Timberlay': 12, 'Château Tire Pé': 10, 'Château Torpez': 14, 'Château Toudenac': 8, 'Château Toumilon': 13, 'Château Tour Baladoz': 69, 'Château Tour Bayard': 17, 'Château Tour Canon': 21, 'Château Tour Chapoux': 8, 'Château Tour Grand Colombier': 24, 'Château Tour Grand Faurie': 29, 'Château Tour Grand Mayne': 10, 'Château Tour Haut-Caussan': 17, 'Château Tour Prignac': 13, 'Château Tour Robert': 42, 'Château Tour Rozier': 23, 'Château Tour Saint Germain': 9, 'Château Tour Saint Vincent': 15, 'Château Tour Saint-Germain': 12, 'Château Tour Saint-Joseph': 18, 'Château Tour Saint-Vincent': 12, 'Château Tour Seran': 30, 'Château Tour Simard': 32, \"Château Tour d'Auron\": 10, \"Château Tour d'Horable\": 17, 'Château Tour de Bessan': 23, 'Château Tour de Bigorre': 5, 'Château Tour de Bonnet': 10, 'Château Tour de Calens': 22, 'Château Tour de Cazelle': 11, 'Château Tour de Gilet': 14, 'Château Tour de Goua': 18, 'Château Tour de Guiet': 17, 'Château Tour de Lagarde': 44, 'Château Tour de Mirambeau': 13, 'Château Tour de Mons': 23, 'Château Tour de Pez': 15, 'Château Tour de Pressac': 33, 'Château Tour des Gendres': 26, 'Château Tour des Termes': 23, 'Château Tour du Moulin': 30, 'Château Tour le Pin': 9, 'Château Tourans': 40, 'Château Tournefeuille': 27, 'Château Tournelles': 12, 'Château Tourril': 19, 'Château Tourteran': 33, 'Château Toutigeac': 9, 'Château Trians': 10, \"Château Tricot d'Arsac\": 16, 'Château Trimoulet': 23, 'Château Trocard': 7, 'Château Trocard Monrepos': 10, 'Château Trois Moulins': 12, 'Château Trolliet Lafite': 14, 'Château Tronquoy-Lalande': 37, 'Château Troplong Mondot': 117, 'Château Trotanoy': 292, 'Château Trottevieille': 55, 'Château Troupian': 14, 'Château Truquet': 14, 'Château Tuilerie Pagès': 7, 'Château Turcaud': 13, 'Château Témperance': 23, 'Château Val Joanis': 11, \"Château Val d'Arenc\": 20, 'Château Valade': 34, 'Château Valandraud': 113, 'Château Valcolombe': 10, 'Château Valentin': 20, 'Château Vannières': 20, 'Château Venus': 19, 'Château Verdignan': 23, 'Château Vergnes Beaulieu': 13, 'Château Vermont': 8, 'Château Veronique': 11, 'Château Vessière': 9, 'Château Victoria': 13, 'Château Vieil Orme': 7, 'Château Vieille Dynastie': 26, 'Château Viella': 9, 'Château Vieux Cardinal Lafaurie': 24, 'Château Vieux Ferrand': 41, 'Château Vieux Ligat': 10, 'Château Vieux Manoir': 6, 'Château Vieux Montagne': 32, 'Château Vieux Moulin': 20, 'Château Vieux Peyrouquet': 19, 'Château Vieux Porier': 6, 'Château Vieux Robin': 31, 'Château Vignelaure': 16, 'Château Vignol': 9, 'Château Villa Bel Air': 17, 'Château Villemaurine': 32, 'Château Vincens': 28, 'Château Viranel': 10, 'Château Virant': 5, 'Château Vircoulon': 5, 'Château Vitallis': 18, 'Château Vrai Caillou': 9, 'Château Vray Croix de Gay': 59, 'Château Woltner': 41, 'Château Yon Figeac': 32, \"Château d'Agassac\": 21, \"Château d'Aiguilhe\": 23, \"Château d'Alix\": 19, \"Château d'Angludet\": 24, \"Château d'Anglès\": 12, \"Château d'Antugnac\": 11, \"Château d'Aqueria\": 12, \"Château d'Arce\": 12, \"Château d'Arche\": 39, \"Château d'Arcins\": 16, \"Château d'Arcole\": 20, \"Château d'Argadens\": 7, \"Château d'Armailhac\": 50, \"Château d'Arsac\": 20, \"Château d'Arveyres\": 8, \"Château d'Arvigny\": 10, \"Château d'Astros\": 14, \"Château d'Aydie\": 13, \"Château d'Azur\": 28, \"Château d'Esclans\": 48, \"Château d'Escurac\": 19, \"Château d'Esteau\": 10, \"Château d'Estoublon\": 23, \"Château d'Eyran\": 55, \"Château d'Hanteillan\": 13, \"Château d'Haurets\": 8, \"Château d'Issan\": 28, \"Château d'Ollières\": 23, \"Château d'Or et de Gueules\": 17, \"Château d'Orschwihr\": 13, \"Château d'Ourbenac\": 10, \"Château d'Uza\": 12, \"Château d'Yquem\": 724, 'Château de Basty': 8, 'Château de Beaucastel': 75, 'Château de Beaupré': 12, 'Château de Beauregard': 35, 'Château de Beauregard-Ducourt': 7, 'Château de Bel': 10, 'Château de Bel-Air': 28, 'Château de Belcier': 18, 'Château de Bellevue': 23, 'Château de Bergun': 5, 'Château de Berne': 17, 'Château de Birot': 13, 'Château de Blaignac': 6, 'Château de Bligny': 51, 'Château de Bonhoste': 13, 'Château de Bordes-Quancard': 7, 'Château de Bousquet': 8, 'Château de Brague': 10, 'Château de Braude': 19, 'Château de Bregançon': 14, 'Château de Brigue': 12, 'Château de Brondeau': 10, 'Château de Brousse': 37, 'Château de Brézé': 20, 'Château de Calavon': 20, 'Château de Callac': 14, 'Château de Camarsac': 9, 'Château de Camensac': 19, 'Château de Campuget': 10, 'Château de Candale': 37, 'Château de Caraguilhes': 9, 'Château de Carolle': 5, 'Château de Cayx': 40, 'Château de Chaintres': 25, 'Château de Chambert': 21, 'Château de Chambrun': 30, 'Château de Chamirey': 40, 'Château de Chantegrive': 17, 'Château de Chassagne-Montrachet': 37, 'Château de Chatelard': 16, 'Château de Chénas': 15, 'Château de Corbiac': 12, 'Château de Corcelles': 15, 'Château de Cordes': 12, 'Château de Corneilla': 17, 'Château de Cornemps': 7, 'Château de Costis': 6, 'Château de Crain': 13, 'Château de Cranne': 11, 'Château de Cruzeau': 15, 'Château de Crézancy': 19, 'Château de Cénac': 24, 'Château de Cérons': 29, 'Château de Côme': 39, 'Château de Farel': 7, 'Château de Ferrand': 29, 'Château de Fesles': 16, 'Château de Fieuzal': 35, 'Château de Fleurie': 15, 'Château de Fonbel': 15, 'Château de Fontenille': 8, 'Château de Fountgraves': 5, 'Château de France': 52, 'Château de Francs': 21, 'Château de Fuissé': 46, 'Château de Garcinières': 18, 'Château de Garros': 11, 'Château de Gaudou': 17, 'Château de Gayon': 26, 'Château de Genibon': 9, 'Château de Gironville': 12, 'Château de Goëlane': 10, 'Château de Hauterive': 13, 'Château de Janicon': 26, 'Château de Jau': 12, 'Château de Javernand': 18, 'Château de Jonquieres': 11, 'Château de Juliénas': 17, 'Château de Jurque': 17, 'Château de Lacarelle': 8, 'Château de Lagarde': 11, 'Château de Lagorce': 5, 'Château de Lamarque': 23, 'Château de Lancyre': 15, 'Château de Landure': 10, 'Château de Landué': 11, 'Château de Lardiley': 9, 'Château de Lastours': 15, 'Château de Lavagnac': 15, 'Château de Lavernette': 24, 'Château de Laville': 9, 'Château de Lescours': 32, 'Château de Lestiac': 18, 'Château de Lionne': 13, 'Château de Lisennes': 9, 'Château de Lugagnac': 8, 'Château de Lussac': 10, 'Château de Léoube': 15, 'Château de Macard': 16, 'Château de Malengin': 14, 'Château de Maligny': 27, 'Château de Malleret': 20, 'Château de Marsan': 9, 'Château de Meursault': 15, 'Château de Minière': 15, 'Château de Mirande': 12, 'Château de Monbadon': 14, 'Château de Monrecueil': 2, 'Château de Montfort': 12, 'Château de Montguéret': 10, 'Château de Nages': 9, 'Château de Nardon': 12, 'Château de Paillet-Quancard': 11, 'Château de Palayson': 32, 'Château de Pampelonne': 18, 'Château de Panigon': 28, 'Château de Parenchère': 11, 'Château de Parnay': 59, 'Château de Pennautier': 4, 'Château de Perligues': 8, 'Château de Pez': 33, 'Château de Pierreux': 18, 'Château de Piote': 18, 'Château de Pitray': 13, 'Château de Pizay': 10, 'Château de Portets': 23, 'Château de Potiron': 10, 'Château de Pourcieux': 10, 'Château de Pressac': 30, 'Château de Raousset': 14, 'Château de Rayne Vigneau': 46, 'Château de Respide': 16, 'Château de Reynaud': 41, 'Château de Rhodes': 11, 'Château de Ribebon': 32, 'Château de Riberon': 19, 'Château de Ricaud': 17, 'Château de Rochemorin': 18, 'Château de Roquebrune': 21, 'Château de Roquefort': 12, 'Château de Rouquette': 10, 'Château de Rousse': 24, 'Château de Sadran': 10, 'Château de Saint Martin': 16, 'Château de Saint-Cosme': 37, 'Château de Saint-Martin': 16, 'Château de Sancerre': 22, 'Château de Santenay': 58, 'Château de Seguin': 10, 'Château de Sours': 16, 'Château de Suronde': 74, 'Château de Ségriès': 12, 'Château de Sérame': 15, 'Château de Tabuteau': 12, 'Château de Targé': 28, 'Château de Terrefort Bibonne': 10, 'Château de Terrefort-Quancard': 12, 'Château de Thauvenay': 12, 'Château de Tigné': 24, 'Château de Tiregand': 20, 'Château de Tourteyron': 14, 'Château de Tracy': 42, 'Château de Trinquevedel': 12, 'Château de Trousse': 8, 'Château de Valcombe': 7, 'Château de Valflaunès': 10, 'Château de Varennes': 11, 'Château de Vauclaire': 7, 'Château de Vaucouleurs': 10, 'Château de Vaugelas': 7, 'Château de Vaux': 8, 'Château de Villambis': 17, 'Château de Villegeorge': 10, 'Château de Virecourt': 10, \"Château de l'Annonciation\": 55, \"Château de l'Aubrade\": 7, \"Château de l'Enclos\": 4, \"Château de l'Escarelle\": 15, \"Château de l'Hyvernière\": 7, 'Château de la Bouyère': 6, 'Château de la Brède': 44, 'Château de la Chaize': 17, 'Château de la Cour': 45, \"Château de la Cour d'Argent\": 12, 'Château de la Croix': 35, 'Château de la Crée': 81, 'Château de la Font du Loup': 48, 'Château de la Galinière': 11, 'Château de la Gardine': 69, 'Château de la Grave': 15, 'Château de la Grenière': 32, 'Château de la Guimonière': 5, 'Château de la Jaubertie': 11, 'Château de la Liquiere': 19, 'Château de la Ragotiere': 13, 'Château de la Rivière': 10, 'Château de la Roche-Aux-Moines': 35, 'Château de la Roulerie': 14, 'Château de la Selve': 32, 'Château de la Terrière': 14, 'Château de la Tour': 258, 'Château de la Tuilerie': 16, 'Château de la Vieille Tour': 12, 'Château des Annereaux': 26, 'Château des Annibals': 13, 'Château des Antonins': 9, 'Château des Arnauds': 11, 'Château des Arras': 10, 'Château des Augustins': 12, 'Château des Bardes': 19, 'Château des Bertrands': 16, 'Château des Bormettes': 16, 'Château des Cabans': 14, 'Château des Charmes': 12, 'Château des Combes': 8, 'Château des Demoiselles': 18, 'Château des Fougères': 29, 'Château des Gimarets': 22, 'Château des Gravières': 10, 'Château des Jacques': 28, 'Château des Judes': 6, 'Château des Karantes': 21, 'Château des Landes': 24, 'Château des Lattes': 11, 'Château des Laudes': 23, 'Château des Loges': 10, 'Château des Matards': 13, 'Château des Mille Anges': 16, 'Château des Moines Menodin': 10, 'Château des Perligues': 8, 'Château des Pertonnières': 10, 'Château des Rontets': 31, 'Château des Sarrins': 16, 'Château des Séraphin': 14, 'Château des Tours': 13, 'Château des Tourtes': 13, 'Château du Bailli': 19, 'Château du Barrailh': 16, 'Château du Barry': 7, 'Château du Bernat': 7, 'Château du Biac': 34, 'Château du Bois Chantant': 8, 'Château du Bousquet': 8, 'Château du Breuil': 11, 'Château du Caillau': 13, 'Château du Carrubier': 12, 'Château du Cartillon': 22, 'Château du Cayrou': 11, 'Château du Chatelard': 13, 'Château du Châtelard': 14, 'Château du Claouset': 7, 'Château du Coing de Saint-Fiacre': 12, 'Château du Coudray Montpensier': 12, 'Château du Coudray Montpensier\\xa0': 14, 'Château du Courlat': 37, 'Château du Cros': 11, 'Château du Cèdre': 42, \"Château du Domaine de l'Eglise\": 64, 'Château du Donjon': 10, 'Château du Galoupet': 16, 'Château du Glana': 50, 'Château du Grand Bos': 50, 'Château du Grand Pierre': 10, 'Château du Juge': 9, 'Château du Lort': 10, 'Château du Luc': 18, 'Château du Moulin': 35, 'Château du Moulin Rouge': 13, 'Château du Moulin-à-Vent': 37, 'Château du Parc': 28, 'Château du Perier': 14, 'Château du Petit Thouars': 14, 'Château du Pin Franc': 12, 'Château du Pitray': 10, 'Château du Port': 16, 'Château du Prieur': 7, 'Château du Prieuré des Mourgues': 14, 'Château du Puget': 14, 'Château du Raux': 13, 'Château du Retout': 13, 'Château du Roc': 28, 'Château du Rouët': 9, 'Château du Seguinier': 9, 'Château du Seuil': 19, 'Château du Taillan': 17, 'Château du Tasta': 32, 'Château du Tertre': 35, 'Château du Trignon': 20, 'Château du Vallier': 24, 'Château du Vieux Puit': 10, 'Château du Vieux-Guinot': 72, \"Château l' Oiseau\": 10, \"Château l'Afrique\": 16, \"Château l'Argenteyre\": 18, \"Château l'Avocat\": 14, \"Château l'Eglise Saget\": 8, \"Château l'Enclos\": 50, \"Château l'Escadre\": 9, \"Château l'Escart\": 13, \"Château l'Espérance\": 21, \"Château l'Estang\": 10, \"Château l'Oasis\": 10, \"Château l'Orangerie\": 7, 'Château la Baronnerie': 17, 'Château la Barotte': 5, 'Château la Bassonnerie': 38, 'Château la Bastidette': 10, 'Château la Bessane': 27, 'Château la Brande': 14, 'Château la Bretonnière': 10, 'Château la Calisse': 24, 'Château la Calvaire': 10, 'Château la Caminade': 12, 'Château la Canorgue': 11, 'Château la Chapelle Despagnet': 19, 'Château la Chapelle Maillard': 8, 'Château la Chapelle aux Moines': 18, 'Château la Clide': 77, 'Château la Colombière': 16, 'Château la Coustarelle': 23, 'Château la Croix Blanche': 11, 'Château la Croix Margautot': 14, 'Château la Croix Melin': 16, 'Château la Croix Romane': 25, 'Château la Croix Saint-Pierre': 10, 'Château la Croix St-Pierre': 9, 'Château la Croix de Gay': 32, 'Château la Croix de Roche': 10, 'Château la Croix du Casse': 46, 'Château la Croizille': 105, 'Château la Dominique': 55, 'Château la Doyenne': 37, 'Château la Favière': 12, 'Château la Fleur': 11, 'Château la Fleur Bellevue': 9, 'Château la Fleur Peyrabon': 16, 'Château la Fleur Poitou': 27, 'Château la Fleur-Pétrus': 177, 'Château la Font du Jeu': 14, 'Château la Fortune': 55, 'Château la France': 7, 'Château la Freynelle': 9, 'Château la Gaffelière': 42, 'Château la Garde': 35, 'Château la Garricq': 19, 'Château la Genestière': 16, 'Château la Gordonne': 15, 'Château la Gorre': 19, 'Château la Grande Barthe': 32, 'Château la Grave': 14, 'Château la Gravette Lacombe': 12, 'Château la Gravière Grand Poujeaux': 55, 'Château la Grolet': 13, 'Château la Grâce Dieu': 28, 'Château la Guillaumette': 5, 'Château la Gurgue': 13, 'Château la Hargue': 8, 'Château la Haye': 18, 'Château la Jorine': 12, 'Château la Lauzette': 21, 'Château la Levrette': 28, 'Château la Longua': 13, 'Château la Louvière': 44, 'Château la Maroutine': 8, 'Château la Marzelle': 50, 'Château la Mascaronne': 16, 'Château la Mothe du Barry': 12, 'Château la Moulinière': 6, 'Château la Moutète': 10, 'Château la Patache': 40, 'Château la Pervenche': 28, 'Château la Petite Roque': 13, 'Château la Rayre': 11, 'Château la Reyne': 16, 'Château la Roche Bazin': 14, 'Château la Rode': 16, 'Château la Roque de By': 11, 'Château la Rose Belair': 7, 'Château la Rose Bellevue': 10, 'Château la Rose de Vitrac': 5, 'Château la Rose du Pin': 9, 'Château la Roseraie': 8, 'Château la Révérence': 38, 'Château la Tonnelle': 12, 'Château la Tour Blanche': 50, 'Château la Tour Chapoux': 8, 'Château la Tour de Bessan': 32, 'Château la Tour de By': 28, 'Château la Tour de Mons': 17, \"Château la Tour de l'Evêque\": 10, 'Château la Tourbeille': 8, 'Château la Valade': 8, 'Château la Valière': 14, 'Château la Varière': 29, 'Château la Verrière': 10, 'Château la Vieille Cure': 17, 'Château la Vivonne': 11, 'Château la Voie': 9, 'Château le Bergey': 5, 'Château le Bon Pasteur': 83, 'Château le Bonnat': 13, 'Château le Breton': 10, 'Château le Calvaire': 10, 'Château le Castellot': 38, 'Château le Chêne': 12, 'Château le Devoy Martine': 14, 'Château le Doyenne': 15, 'Château le Gardera': 11, 'Château le Grand Moulin': 23, 'Château le Grand Paroissien': 19, 'Château le Grand Verdus': 9, 'Château le Joyeux': 7, 'Château le Manoir': 60, 'Château le Mayne Turon': 3, \"Château le Moulin d'Ulysse\": 32, 'Château le Moulin de la Jaumarde': 10, 'Château le Noble': 12, 'Château le Pape': 60, 'Château le Paradis': 16, 'Château le Payral': 12, 'Château le Peuy Saincrit': 8, 'Château le Pey': 15, 'Château le Peyrat': 8, 'Château le Piat': 17, 'Château le Prieuré': 36, 'Château le Pré de la Lande': 12, 'Château le Raz': 16, 'Château le Reysse': 21, 'Château le Roudier': 23, 'Château le Sanctuaire': 19, 'Château le Sartre': 19, 'Château le Sèpe': 14, 'Château le Temple': 46, 'Château le Vivier': 14, 'Château les Ancres': 7, 'Château les Anguilleys': 37, 'Château les Arromans': 9, 'Château les Aubastons': 15, 'Château les Aubiers': 15, 'Château les Barraillots': 20, 'Château les Berthets': 8, 'Château les Bertrands': 14, 'Château les Bormettes': 12, 'Château les Charmes Godard': 14, 'Château les Clauzots': 11, 'Château les Conseillans': 10, 'Château les Croisille': 12, 'Château les Crostes': 19, 'Château les Grands  Maréchaux': 11, 'Château les Grands Chênes': 37, 'Château les Graves de Lavaud': 18, 'Château les Guyonnet': 13, 'Château les Hautes Graves': 12, \"Château les Hauts d'Aglan\": 13, 'Château les Hauts de Palette': 12, 'Château les Joyeuses': 9, 'Château les Lattes': 19, 'Château les Martinelles': 10, 'Château les Mottes Pradier': 9, 'Château les Ormes': 77, 'Château les Ormes Sorbet': 2999, 'Château les Ormes de Pez': 30, 'Château les Pasquets': 8, 'Château les Petits Arnauds': 18, 'Château les Peyroulets': 9, 'Château les Reuilles': 7, 'Château les Roches de Ferrand': 32, 'Château les Templiers': 6, 'Château les Terrasses de Bouey': 5, 'Château les Tonnelles': 13, 'Château les Tours des Verdots': 13, 'Château les Valentines': 18, 'Château les Vergnes': 8, 'Château les Verriers': 7, 'Château les Vieilles Pierres': 23, 'Château les Vieux Moulins': 20, 'Château les Vimières': 41, 'Chêne': 40, 'Chêne Bleu': 56, 'Ciabot Berton': 50, \"Ciacci Piccolomini d'Aragona\": 47, 'Ciao Bella': 8, 'Ciavolich Giuseppe': 20, 'Cicchitti': 20, 'Cielo': 96, 'Cielo Malibu Estate Vineyards': 81, 'Cielo e Terra': 8, 'Cielo y Tierra': 23, 'Cigale': 15, 'Cigar Box': 7, 'Cigliuti': 35, 'Cignale': 67, 'Cima': 37, 'Cima Collina': 27, 'Cimarone': 26, 'Cimarossa': 61, 'Cims de Porrera': 52, 'Cinciano': 26, 'Cinco Sentidos': 15, 'Cinnabar': 27, 'Cinquain': 30, 'Cinzano': 8, 'Cipriana': 27, 'Circadia': 21, 'Circe': 12, 'Circles Edge': 11, 'Cirillo': 61, 'Ciro Picariello': 17, 'Cirotto': 19, 'Cirque du Vin': 12, 'Cirulli': 23, 'Cispiano': 10, 'Citari': 17, 'Citation': 41, 'Citille di Sopra': 55, 'City Limits': 10, 'City Winery Chicago': 22, 'City Winery of New York': 30, 'Civello': 9, 'Civielle - Cantina della Valtenesi e della Lugana': 7, 'Ciù Ciù': 12, 'Claar': 15, 'Claiborne & Churchill': 20, 'Clairault': 14, 'Clara': 12, 'Clara Marcelli': 15, 'Clarbec': 21, 'Clarendelle': 13, 'Clarendon Hills': 81, 'Clark-Clauden': 77, 'Clark-Claudon': 70, 'Clarksburg Wine Company': 15, 'Clary Ranch': 32, 'Clau de Nell': 43, 'Claude Baron': 25, 'Claude Lafond': 10, 'Claude Riffault': 32, 'Claudia Springs': 18, 'Claudio Alario': 69, 'Claudio Quarta': 11, 'Clautiere': 19, 'Clavesana': 17, 'Clavo Cellars': 25, 'Clawson Creek': 41, 'Clay Pigeon': 20, 'Clay Station': 8, 'Clayhouse': 16, 'Clearwater Canyon': 18, 'Clement et Florian Berthier': 14, 'Clendenen': 27, 'Clendenen Family': 39, 'Clerget': 9, 'Cleto Chiarli': 10, 'Clif Family': 20, 'Cliff Creek': 18, 'Cliff Lede': 56, 'Cliffhanger': 9, 'Climbing': 9, 'Cline': 11, 'Clinton': 19, 'Cloak & Dagger': 37, 'Clockspring': 4, 'Clonakilla': 19, 'Clone 7': 14, 'Cloninger': 11, 'Clos Alivu': 16, 'Clos Badon-Thunevin': 50, 'Clos Barenys': 15, 'Clos Beauregard': 49, 'Clos Berenguer del Molar': 63, 'Clos Cantenac': 37, 'Clos Chapon': 11, 'Clos Cypres': 50, 'Clos Dady': 45, 'Clos Dels Coduls': 13, 'Clos Erasmus': 110, 'Clos Figueras': 43, 'Clos Floridène': 14, 'Clos Fourtet': 68, 'Clos Gebrat': 19, 'Clos Haut-Peyraguey': 36, 'Clos Junet': 22, 'Clos La Chance': 23, 'Clos La Soleya': 11, 'Clos LaChance': 23, 'Clos Larcis': 110, 'Clos Mogador': 65, 'Clos Monicord': 15, 'Clos Mont-Blanc': 10, 'Clos Pegase': 33, 'Clos Pepe': 44, 'Clos Poggiale': 23, 'Clos Pons': 23, 'Clos Puy Arnaud': 20, 'Clos René': 78, 'Clos Saint Michel': 32, 'Clos Saint-Joseph': 34, 'Clos Saint-Vincent': 19, 'Clos Sainte-Anne': 29, 'Clos Solène': 66, 'Clos Teddi': 18, 'Clos Triguedina': 39, 'Clos Troteligotte': 19, 'Clos Ventana': 13, 'Clos Venturi': 28, \"Clos d'Argentine\": 34, \"Clos d'Audhuy\": 12, \"Clos d'Yvigne\": 11, 'Clos de Chacras': 21, 'Clos de Gamot': 30, 'Clos de Haute-Combe': 16, \"Clos de L'Oratoire des Papes\": 35, 'Clos de Nit': 5, 'Clos de Tafall': 17, 'Clos de Tart': 286, \"Clos de l'Hermitage\": 27, 'Clos de la Coulée de Serrant': 73, 'Clos de la Tech': 59, 'Clos de los Siete': 12, 'Clos des Amis': 13, 'Clos des Augustins': 14, 'Clos des Bachelards': 18, 'Clos des Justices': 11, 'Clos des Menuts': 11, 'Clos des Moiselles': 10, 'Clos des Nines': 34, 'Clos des Rocs': 25, 'Clos des Terrasses': 10, 'Clos du Bois': 16, 'Clos du Canton des Ormeaux': 32, 'Clos du Cellier aux Moines': 25, 'Clos du Gaimont': 14, 'Clos du Lac': 9, 'Clos du Marquis': 37, 'Clos du Moulin': 23, 'Clos du Roy': 23, 'Clos du Val': 41, \"Clos l'Hermitage\": 21, 'Clos la Bohème': 33, 'Clos la Coutale': 10, 'Closerie du Bailli': 19, 'Cloud 9': 28, 'Cloud View': 50, 'Cloudburst': 201, 'Cloudlift Cellars': 18, 'Cloudline': 12, 'Clouds Rest': 31, 'Cloudveil': 10, 'Clover Hill': 29, 'Clovis Point': 30, 'Club Deluxe': 19, 'Clunia': 43, 'Cluster M45': 66, 'Clément Klur': 17, 'Co Dinn': 41, 'Coach House': 22, 'Coast': 4, 'Coastal Ridge': 2, 'Coastline': 6, 'Coastline Cellars': 5, 'Coastview': 30, 'Coates': 22, 'Cobb': 65, 'Cobblestone': 37, 'Cobden Wini': 33, 'Cocchi': 36, 'Coccinella': 6, 'Cockatoo Ridge': 4, 'Cockerell': 23, \"Cockfighter's Ghost\": 11, 'Cocobon': 4, 'Coda': 21, 'Codice Citra': 21, 'Codirosso': 5, 'Codorníu': 9, 'Codorníu Napa': 37, 'Coelho': 23, \"Coeur d'Alene\": 22, 'Coeur de Terre': 29, 'Coffee Pot Cellars': 15, 'Coffele': 16, 'Coghlan': 35, 'Coho': 40, 'Coiron': 7, 'Col Saliz': 11, 'Col Solare': 65, 'Col Vetoraz': 23, 'Col Vetoraz Spumanti': 17, \"Col d'Orcia\": 56, \"Col de' Salici\": 10, 'Col dei Venti': 29, 'Col di Bacche': 29, 'Col di Lamo': 47, 'Col di Luna': 7, 'Col di Rocca': 10, 'Cola': 22, 'Colby': 8, 'Colby Red': 8, 'Colcanyon': 31, 'Cold Heaven': 20, 'Cold Water Creek': 8, 'Coldisole': 26, 'Coldstream Hills': 14, 'Colene Clemens': 39, 'Colesel': 15, 'Colgin': 189, 'Coli': 15, 'Colin': 45, 'Colina Verde': 14, 'Colio': 12, 'Collalbrigo': 16, 'Collato': 10, 'Collavini': 30, 'Collazzi': 24, 'Colle Bereto': 22, 'Colle Nero': 3, 'Colle S. Mustiola di Fabio Cenni': 37, 'Colle Spinello': 25, 'Colle dei Bardellini': 8, 'Colle dei Venti': 16, 'ColleStefano': 11, 'Collection 35': 28, 'Collection des Anges': 6, 'College Cellars': 17, 'Collegiale des Domaines de Loire': 14, 'Collelceto': 39, 'Collemassari': 32, 'Collemattoni': 52, 'Collet': 55, 'Collevite': 14, 'Colli Ripani': 11, 'Colli del Soligo': 11, 'Colli di Castelfranci': 12, 'Colli di Lapio': 29, 'Colli di Serrapetrona': 23, 'Collier Falls': 27, 'Collin-Bourisset': 11, 'Collina San Ponzio': 26, 'Collina Serragrilli': 56, 'Collosorbo': 45, 'Collovray et Terrier': 19, 'Colmello di Grotta': 14, 'Colognole': 17, 'Colombaio': 44, 'Colombera & Garella': 23, 'Colombo': 32, 'Colomé': 33, 'Colonia Las Liebres': 4, 'Colonnara': 19, 'Colores del Sol': 7, 'Colosi': 15, \"Colter's Creek\": 15, 'Colterenzio': 22, 'Columbia Crest': 14, 'Columbia Winery': 16, 'Colutta': 15, 'Colvin Vineyards': 18, 'Com e Bella': 20, 'Comando-G': 63, 'Comartin': 28, 'Comelli': 14, 'Comenge': 17, 'Comm. G. B. Burlotto': 46, 'Commanderie de Peyrassol': 14, 'Commanderie de la Bargemone': 14, 'Communication Block': 57, 'Comoloco': 4, 'Compagnie Viticole de Provence': 8, 'Compass': 5, 'Compañia de Vinos del Atlántico': 12, 'Compilation': 18, 'Complexity': 22, 'Comte Audoin de Dampierre': 31, 'Comte LaFond': 32, 'Comte de Lantage': 35, 'Comtes de Dampierre': 61, 'Comtesse Thérèse': 17, 'Con un Par': 12, 'Conarium': 26, 'Concannon': 16, 'Concentration': 9, 'Concertum': 14, 'Concilio': 5, 'Conclusion': 28, 'Concrete': 27, 'Condado de Haza': 44, 'Condado de Oriza': 9, 'Conde Ansurez': 8, 'Conde Bel': 12, 'Conde de Altava': 7, 'Conde de Caralt': 6, 'Conde de Hervías & Mencos': 42, 'Conde de Jauregui': 9, 'Conde de Olzinellas': 12, 'Conde de San Cristóbal': 19, 'Conde de Siruela': 21, 'Conde de Subirats': 7, 'Conde de la Salceda': 38, 'Condes de Albarei': 8, 'Condesa Eylo': 8, 'Condesa de Leganza': 6, \"Condor's Summit\": 5, 'Condé': 21, 'Confidence': 10, 'Confrerie de Oisly et Thesée': 4, 'Congress Springs': 7, 'Coniglio': 39, 'Conn Creek': 37, 'Conn Valley': 49, 'Conquista': 5, 'Conquista de Argentina': 4, \"Conreria d'Scala Dei\": 19, 'Consejo de la Alta': 28, 'Conselve': 8, 'Consilience': 19, 'Consorzio Vini Tipici di San Marino': 17, 'Conspire': 24, 'Constant': 76, 'Contadi Castaldi': 26, 'Contador': 318, 'Conte Brandolini': 9, 'Conte Collalto': 10, 'Conte Ferdinando Guicciardini': 21, 'Conte Leopardi': 16, 'Conte Loredan Gasparini': 7, \"Conte d'Attimis-Maniago\": 22, 'Conterno Fantino': 56, 'Conti Costanti': 77, 'Conti Formentini': 12, 'Conti Leopardi di San Leopardo': 10, 'Conti Zecca': 18, 'Conti di Buscareto': 13, 'Conti di Sn Bonifacio': 32, 'Contini': 12, 'Contino': 91, 'Continuum': 140, 'Contour': 10, 'Contrada Michele': 17, 'Contrada Santo Spirito di Passopisciaro': 37, 'Contrade di Taurasi - Lonardo': 44, 'Contratto': 78, 'Contucci': 34, 'Conundrum': 16, 'Convento Cappuccini': 11, 'Convento Oreja': 22, 'Convento San Francisco': 36, 'Convento de Las Claras': 17, 'Convergence Zone': 17, 'Conveyance': 11, 'Conviviale': 3, 'Conway': 49, \"Cook's\": 2, 'Cookies & Cream': 5, 'Cookoothama': 7, 'Cool Woods': 8, 'Coomber Family Ranch': 102, 'Cooper': 14, 'Cooper Mountain': 20, 'Cooper Station': 6, 'Cooper Vineyards': 15, 'Cooper-Garrod': 28, 'Cooralook': 11, 'Copain Wines': 38, 'Copeland Creek': 23, 'Copper Belt': 16, 'Copper River Estate': 10, 'Coppiere': 10, 'Coppo': 41, 'Coquelicot': 28, 'Coquena': 20, 'Coquerel Family Wine Estates': 24, 'Cor Cellars': 14, 'Coral Wines': 14, 'Corazón Verde': 10, 'Corbett Canyon': 4, 'Cordant': 34, 'Cordella': 40, 'Cordero di Montezemolo': 55, 'Cordeuil': 37, 'Cordier': 11, 'Core Winery': 25, 'Corey Creek': 9, 'Corinne et Pierre Grossot': 16, 'Coriole': 19, 'Corison': 68, 'Corkscrew': 22, 'Corley': 53, 'Corley Reserve': 46, 'Corliss Estates': 59, 'Cormòns': 7, 'Cornaleto': 19, 'Cornarea': 22, 'Corner 103': 39, 'Cornerstone': 53, 'Corolilla': 8, 'Corona de Aragón': 7, 'Corona de Castilla': 16, 'Corte Adami': 17, 'Corte Aleardi': 69, 'Corte Archi': 29, 'Corte Campagnola': 27, 'Corte Falco': 10, 'Corte Figaretto': 28, 'Corte Fornello': 15, 'Corte Giacobbe': 11, 'Corte Giara': 10, 'Corte Giona': 30, 'Corte Lenguin': 33, 'Corte Mainente': 5, 'Corte Moschina': 17, 'Corte Pavone': 51, 'Corte Rugolin': 47, 'Corte San Benedetto': 29, \"Corte Sant' Alda\": 82, \"Corte Sant'Alda\": 114, 'Corte Sermana': 13, 'Corte alla Flora': 8, 'Corte dei Papi': 18, 'Corte dei Venti': 42, 'Corteforte': 42, 'Cortenova': 6, 'Cortijo': 5, 'Coruce': 17, 'Corvalle': 24, 'Corvallis Cellars': 16, 'Corvidae': 7, 'Corvo': 6, 'Corvus': 28, 'Cosa Obra': 21, 'Cosecheros y Criadores': 6, 'Cosentino': 31, 'Cosme Palacio y Hermanos': 19, 'Cosmos': 32, 'Costa Archi': 20, 'Costa Olmo': 53, 'Costa de Oro': 30, 'Costa del Sol': 10, 'Costa di Bussia': 26, 'Costantino': 20, 'Costanza Malfatti': 39, 'Costaripa': 20, 'Costaval': 18, 'Coste Ghirlanda': 47, 'Costers del Priorat': 55, 'Costers del Siurana': 72, 'Cota 585': 7, 'Cote Tariquet': 9, 'Coto de Gomariz': 22, 'Coto de Hayas': 7, 'Coto de Imaz': 25, 'Cottanera': 25, 'Cottini': 21, 'Cottonwood Canyon': 35, 'Cottonwood Creek': 4, 'Cottonwood Winery of Oregon': 17, 'Coturri Winery': 23, 'Coudert Pere et Fils': 12, 'Cougar': 32, 'Cougar Crest': 28, \"Couleur d'Aquitaine\": 7, 'Couloir': 38, 'Coulson Eldorado': 10, 'Couly-Dutheil': 26, 'Counter Punch': 39, 'Coup de Foudre': 76, 'Coup de Grace': 22, 'Courtney Benham': 14, \"Courtney's Angels\": 5, 'Couvillion': 12, 'Couvillion Winery': 20, 'Covenant': 45, 'Covey Run': 5, 'Covides': 19, 'Covila': 14, 'Covilalba': 21, 'Covington': 28, 'Cow Bell': 19, 'Cowhorn': 30, 'Cox': 7, 'Coyote Canyon': 22, 'Coyote Creek': 5, 'Crabtree': 10, 'Craftsman': 4, 'Crane Brothers': 28, 'Crane Family': 33, 'Crane Lake': 2, 'Craneford': 20, 'Crauford': 16, 'Crawford': 16, 'Crayelle Cellars': 19, 'Creed of Barossa': 21, 'Creekside Cellars': 30, 'Creencia': 19, 'Crescendo': 64, 'Crespi Ranch': 16, 'Creō': 64, 'Criadores de Rioja': 7, 'Crichton Hall': 64, 'Cricket Hill': 19, 'Crimson Ranch': 10, 'Crinella': 21, 'Criss Cross': 13, 'Crissante Alessandria': 53, 'Cristalino': 5, 'Cristiari': 15, 'Cristobal 1492': 5, 'Cristom': 32, 'Criterion': 10, 'Croad': 28, 'Crocedimezzo': 53, 'Crocker & Starr': 50, 'Croix Milhas': 14, 'Croix du Mayne': 10, 'Croma Vera': 21, 'Crooked Path': 25, 'Crosby Roamann': 50, 'CrossKeys': 20, 'Crossbarn Paul Hobbs': 41, 'Crossbarn by Paul Hobbs': 25, 'Crossfork Creek': 23, 'Croteaux': 17, 'Crown Point': 164, 'Croze': 28, 'Cru': 22, 'Cru Lagaillarde': 28, 'Cru Monplaisir': 18, 'Cru Vin Dogs': 28, 'Crucillon': 2, 'Crush': 7, 'Crush Farm': 16, 'Crushed': 6, 'Crux': 27, 'Cruz': 6, 'Cruz Alta': 10, 'Cruz Andina': 14, 'Cruz Montesa': 14, 'Cruz de Alba': 19, 'Cruz de Piedra': 6, 'Cruzat': 14, 'Cryptic': 10, 'Crystal Valley Cellars': 12, 'Crápula': 40, 'Cuatro Pasos': 9, 'Cuatro Rayas': 10, 'Cuatro Vacas Gordas': 7, 'Cubanisimo Vineyards': 22, 'Cubo': 5, 'Cuboid': 16, \"Cuckoo's Nest\": 9, 'Cuda Ridge Wines': 28, 'Cueto': 9, 'Cueva de las Manos': 10, 'Cuillin Hills': 22, 'Cullen': 56, 'Culmina': 50, 'Cult X': 44, 'Cultivate': 10, 'Cultivé Cellars': 23, 'Culton': 38, 'Cultura': 30, 'Cuma': 8, 'Cumbre of Vine Hill': 47, 'Cummins Road': 19, 'Cuneo': 15, 'Cupano': 96, 'Cupcake': 8, 'Curly Flat': 23, 'Curran': 21, 'Currency Creek Estate': 9, 'Curtis': 16, 'Curto': 14, 'Curto Marco': 64, 'Curveball': 12, 'Custard': 16, 'Cusumano': 14, 'Cutruzzola': 27, 'Cuttaway Hill Estate': 9, 'Cuttings': 46, 'Cuvaison': 27, 'Cuvée Jean-Paul': 4, \"Cuvée Lion d'Or\": 5, 'Cuvée Lucia': 16, 'Cuvée Valentin Duc': 7, 'Cuvée Wine Cellars': 20, 'Cuvée de Peña': 6, 'Cyan': 26, 'Cyatho': 8, 'Cycles Gladiator': 6, 'Cynthus': 37, 'Cypress': 5, 'Cyrus': 41, 'Cà Bianca': 15, 'Cà Di Rajo': 10, 'Cà La Bionda': 54, 'Cà Lojera': 20, 'Cà Montanari': 12, 'Cà Richeta': 19, 'Cà Salina': 10, 'Cà Vittoria': 12, 'Cà dei Frati': 24, 'Cà del Doge': 2, 'Cà del Sarto': 8, 'Cà del Vispo': 10, 'Cà del Vént': 21, 'Cà di Frara': 22, 'Cà di Rajo': 14, 'Cà ed Balos': 9, 'CàMaiol': 17, 'Cálago': 10, 'Còlpetrone': 54, 'Cória': 15, 'Côte Bonneville': 54, 'Côte Nicault': 64, 'Côtes de Ciel': 39, 'Côté Mas': 9, \"D'Aione\": 20, \"D'Alessandro\": 12, \"D'Alfonso-Curran\": 55, \"D'Anbino\": 20, \"D'Angelo\": 21, \"D'Antiche Terre\": 17, \"D'Arenberg\": 25, \"D'Argenzio\": 30, \"D'Autrefois\": 8, 'D-Cubed Cellars': 20, 'D. Pedro de SoutoMaior': 13, 'D. Ventura': 15, 'D.G. Viticultors': 49, 'D.H. Gustafson': 14, 'D.H. Lescombes': 19, 'D.R. Stephens': 79, 'DAOU': 87, 'DARE by Viader': 32, 'DC Flynt MW Selections': 5, 'DENO': 25, 'DOC Wine Selection': 8, 'DSG Vineyards': 47, 'Da Vinci': 29, 'DaMa': 19, 'Dacapo': 22, 'Dachshund': 9, 'Dado': 6, 'Daedalus': 18, 'Daedalus Cellars': 18, 'Daglia Canyon': 14, 'Daguet': 5, 'Dahlia': 18, 'Dal Cero Tenuta di Corte Giacobbe': 12, 'Dal Forno Romano': 303, 'Dalfiume': 1, 'Dalla Valle': 96, 'Dalliance': 13, 'Dalrymple': 43, 'Dalton': 23, 'Dalwhinnie': 37, 'Dama del Lago': 5, 'Damalisco': 14, 'Damas': 10, 'Damia': 12, 'Damian Rae': 42, 'Damiani': 18, 'Damien Laureau': 20, 'Damien et Romain Bouchard': 32, 'Damilano': 56, 'Damsel': 28, 'Dan Aykroyd Wines': 14, 'DanCin': 27, 'Dance': 30, 'Dancing Bear Cellars': 13, 'Dancing Bull': 7, 'Dancing Coyote': 6, 'Dancing Creek': 20, 'Dancing Crow': 12, 'Dancing Derby': 8, 'Dancing Hares': 91, 'Dane Cellars': 26, 'Daniel': 50, 'Daniel Barraud': 31, 'Daniel Belda': 11, 'Daniel Chotard': 25, 'Daniel Cohn': 17, 'Daniel Gehrs': 17, 'Daniel Rion': 47, 'Daniel Wines': 50, 'Daniele Reale': 14, \"Danielle de l'Ansée\": 7, 'Dante': 6, 'Dante Rivetti': 50, 'Dante Robere': 27, 'Dante Robino': 8, 'Danza del Sol': 28, 'Danzante': 5, 'Daou': 50, 'Darby': 23, 'Darcie Kent Vineyards': 21, 'Dardano': 19, 'Darien': 13, 'Dario Coos': 59, 'Darioush': 57, 'Darjean Jones': 45, 'Dark Earth': 12, 'Dark Horse': 5, 'Dark Hundred': 23, 'Dark Matter': 87, 'Dark Star': 16, 'Darms Lane': 42, 'Dascomb Cellars': 21, 'Dashe Cellars': 21, 'Dauntless': 25, 'Dauny Père et Fils': 22, 'Dautel-Cadot': 55, 'Dauvergne & Ranvier': 18, 'Davenport Cellars': 14, 'Daviana': 46, 'David Arthur': 83, 'David Bruce': 29, 'David Clinton': 21, 'David Coffaro': 16, 'David Duband': 100, 'David Family': 65, 'David Franz': 32, 'David Fulton': 36, 'David Girard': 23, 'David Hill': 19, 'David James': 10, 'David Moreau': 31, 'David Noyes': 27, 'David Sterza': 22, 'David Wynn': 6, 'Davies': 44, 'Davis Bynum': 29, 'Davis Estates': 41, 'Davis Family': 34, \"Dawn's Dream\": 18, 'Day': 29, 'Day Owl': 10, 'De Alberto': 13, 'De Angelis': 11, 'De Bardos': 30, 'De Bortoli': 15, 'De Coelo': 67, 'De Faveri': 23, 'De Filippi': 13, 'De Fina': 64, 'De Forville': 15, 'De Ladoucette': 31, 'De Loach': 28, 'De Lozar': 11, 'De Lucia': 25, 'De Luze': 6, 'De Mour': 19, 'De Novo': 26, 'De Paola Vineyard': 22, 'De Ponte Cellars': 45, 'De Saint Gall': 35, 'De Sante': 32, 'De Sousa & Fils': 69, 'De Stefani': 38, 'De Tierra': 22, 'De Tomas': 19, 'De Venoge': 93, 'DeLille': 50, 'DeLorimier': 23, 'DeLucia Vineyards': 25, 'DeRose': 18, 'DeTierra Vineyards': 27, 'Dead On': 13, 'Deakin Estate': 3, 'Dealy Lane': 14, 'Deaver': 20, 'Debonné': 10, 'Decades5': 128, 'Declaration': 69, 'Deco Provence - Villa Azur': 7, 'Decoy': 17, 'Decroux': 64, 'Decugnano dei Barbi': 21, 'Ded.Reckoning': 28, 'Deep Purple': 6, 'Deep Sea': 20, 'Deer Creek': 18, 'Deerfield': 28, 'Deerfield Ranch': 29, 'Deering': 35, 'Degani': 36, 'Dehesa de Luna': 15, 'Dehesa de los Canónigos': 41, 'Dehesa de los Llanos': 22, 'Dehesa el Carrascal': 19, 'Dehesas y Viñedos de Navamarín': 37, 'Dehlinger': 42, 'Dehours': 32, 'Dei': 23, 'Del Bondio': 27, 'Del Carlo Winery': 25, 'Del Dotto': 69, 'Del Fava Family': 21, 'Del Rio': 20, 'Delamotte': 59, 'Delaney Blue Vineyards': 10, 'Delas Frères': 41, 'Delatite': 13, 'Delbeck': 40, 'Delectus': 75, 'Delfino': 21, 'Delfosse': 27, 'Delgadillo': 78, 'Delgado': 24, 'Delgado Zuleta': 12, 'Delibori': 24, 'Delicato': 8, 'Delius': 50, 'Della': 54, 'Delmas': 43, 'Delta Landing': 10, 'Deltetto': 31, 'Demarie': 30, 'Demencia de Autor': 55, 'Demessey': 22, 'Demetria': 34, 'Demimo': 6, 'Demière-Ansiot': 111, 'Den Hoed': 69, 'Denario': 12, 'Denier-Handal': 21, 'Denis Dutron': 12, 'Denis Jamain': 14, 'Denis Jeandeau': 39, 'Denis Père et Fils': 24, 'Dennen': 23, 'Denner': 38, 'Deovlet': 37, 'Derbes': 33, 'Derby': 23, 'Derey Frères': 27, 'Des Amis': 14, 'Des Voigne': 20, 'Des Voigne Cellars': 22, 'Descendientes de J. Palacios': 39, 'Desert Wind': 13, 'Desmond': 30, 'Desolation Flats': 11, 'Despagne': 5, 'Desperate Red': 14, 'Desperate White': 14, 'Despierta': 2, 'Dessilani': 33, 'Destello': 9, 'Destro': 29, 'Detert Family Vineyards': 32, 'Deuce': 32, 'Deumayen': 18, 'Deutz': 89, 'Deux Amis': 13, 'Devaux': 42, 'Devil Proof': 104, \"Devil's Advocate\": 16, \"Devil's Lair\": 12, \"Devil's Marbles\": 5, 'Devium': 27, 'Devona': 41, 'Devorah Creek': 22, 'Dewitt': 27, 'Dexter': 41, 'Dezzani': 15, 'Di Arie': 21, 'Di Bruno': 18, 'Di Filippo': 26, 'Di Fronzo': 34, 'Di Giorgio Family Wines': 15, 'Di Giovanna': 13, 'Di Lenardo': 5, 'Di Majo Norante': 12, 'Di Meo': 30, 'Di Prima': 13, 'Di Stefano': 17, 'DiStefano': 23, 'Diablita': 11, 'Diablo de Uco': 8, 'Diadema': 63, 'DiamAndes': 14, 'Diamond Creek': 171, 'Diamond Oaks de Maniar': 20, 'Diamond Ridge': 3, 'Diamond Ridge Vineyards': 13, 'Diamond Springs Vineyard': 32, 'Diamond Terrace': 55, 'Diatom': 34, 'Diaz Bayo': 20, 'Dibon': 6, 'Dichotomy': 25, 'Didier Dagueneau': 46, 'Didier Montchovet': 22, 'Diego Conterno': 42, 'Diego Finocchi': 19, 'Dierberg': 31, 'Dieter Meier': 30, 'Dievole': 27, 'Diez Llorente': 20, 'Diez-Caballero': 13, 'Digi Or': 14, 'Dilecta': 40, 'Diliberto': 17, 'Dillon': 16, 'Dinastía Vivanco': 52, 'Dion': 25, 'Dionigi': 14, 'Diora': 22, 'Dios Ares': 15, \"Director's Cut\": 21, 'Dirler-Cadé': 13, 'Dirupi': 59, 'Discoveries': 5, 'Diseño': 6, 'Disruption': 9, 'District': 23, 'District 7 Wines': 14, 'Dits del Terra': 110, 'Diversion': 11, 'Divine Llama': 12, 'Division': 20, 'Diví Elegància': 12, 'Dixie Flyer Vineyards': 5, 'Do Ferreiro': 20, 'Dobbes Family Estate': 35, 'Dobbin Lane Wines': 3, 'Doce Robles': 23, 'Dog House': 5, 'Dog Tail': 4, 'Doga delle Clavule': 10, 'Dogarina': 12, 'Dogliotti 1870': 8, 'Dogwood': 25, 'Dois Irmãos': 31, 'Dolce': 69, 'Dolce Stefania': 9, 'Dolin': 31, 'Dolina': 23, 'Dolmo': 5, 'Dom Bardo': 11, 'Dom Caudron': 53, 'Domados': 7, 'Domaine A. Cailbourdin': 16, 'Domaine A. Machard de Gramont': 41, 'Domaine Adèle Rouzé': 14, 'Domaine Alain Assadet': 15, 'Domaine Alban Roblin': 17, 'Domaine Albert Mann': 20, 'Domaine Alfred': 22, 'Domaine Allimant-Laugner': 17, 'Domaine Alzitana': 14, 'Domaine Amirault': 22, 'Domaine Anderson': 43, 'Domaine Andre Brunel': 5, 'Domaine André Bonhomme': 16, 'Domaine André Collonge': 10, 'Domaine André Colonge': 9, 'Domaine Ansen': 37, 'Domaine Antonin Guyon': 64, 'Domaine Arnoux Père et Fils': 61, 'Domaine Auchère': 15, 'Domaine Bachey-Legros': 19, 'Domaine Bahourat': 7, 'Domaine Baptiste Boutes': 10, 'Domaine Barcelo': 5, 'Domaine Barmès-Buecher': 33, \"Domaine Baron de l'Ecluse\": 19, 'Domaine Barraud': 21, 'Domaine Beausejour': 10, 'Domaine Becquet': 16, 'Domaine Begude': 14, 'Domaine Belland': 27, 'Domaine Belle': 34, 'Domaine Bellegarde': 17, 'Domaine Benoît & Mathieu Fleuriet': 21, 'Domaine Bernard Fleuriet et Fils': 38, 'Domaine Bernard Moreau': 12, 'Domaine Bernard Moreau et Fils': 59, 'Domaine Bernhard & Reibel': 30, 'Domaine Berrien': 14, 'Domaine Berrod': 7, 'Domaine Bertagna': 116, 'Domaine Berthet-Bondet': 43, 'Domaine Berthoumieu': 18, 'Domaine Bertrand': 14, 'Domaine Billaud-Simon': 60, 'Domaine Borgnat': 18, 'Domaine Borie de Maurel': 3, 'Domaine Bott-Geyl': 23, 'Domaine Bousquet': 12, 'Domaine Bru-Baché': 38, 'Domaine Brunet': 10, 'Domaine Bruno Clair': 252, 'Domaine Brusset': 23, 'Domaine Buisson Battault': 104, 'Domaine Bègue-Mathiot': 23, 'Domaine Cabirau': 12, 'Domaine Cady': 7, 'Domaine Calvet-Thunevin': 41, 'Domaine Capmartin': 13, 'Domaine Carneros': 44, 'Domaine Carrette': 19, 'Domaine Cauhapé': 16, 'Domaine Cazes': 21, 'Domaine Chaintreuil': 17, 'Domaine Champeau': 13, 'Domaine Chancelle': 14, 'Domaine Chandon': 25, 'Domaine Chandon de Briailles': 44, 'Domaine Chanson': 77, 'Domaine Chantal Lescure': 110, 'Domaine Chantepierre': 10, 'Domaine Charles Baur': 19, 'Domaine Charles Frey': 24, 'Domaine Charles Thomas': 7, 'Domaine Charly Nicolle': 47, 'Domaine Chasselay': 21, 'Domaine Chatelain': 17, 'Domaine Chavet': 14, 'Domaine Chavy-Chouet': 17, 'Domaine Chenevières': 28, 'Domaine Cherrier et Fils': 19, 'Domaine Chevillon-Chezeaux': 49, 'Domaine Cheysson': 16, 'Domaine Chignard': 18, 'Domaine Chiroulet': 9, 'Domaine Christian Moreau Père et Fils': 64, 'Domaine Christophe Camu': 26, 'Domaine Clair Moreau': 8, 'Domaine Clarence Dillon': 93, 'Domaine Claude Branger': 14, 'Domaine Claude Nouveau': 25, 'Domaine Clos Gautier': 16, 'Domaine Clos Salomon': 37, 'Domaine Clusel-Roch': 43, 'Domaine Combe Blanche': 15, 'Domaine Coquard Loison-Fleurot': 47, 'Domaine Coquard Loisson-Fleurot': 85, 'Domaine Cordaillat': 11, 'Domaine Cordier': 33, 'Domaine Cordier Père et Fils': 19, 'Domaine Corine Perchaud': 24, 'Domaine Corne-Loup': 10, 'Domaine Coteau': 23, 'Domaine Coudoulis': 17, 'Domaine Courbis': 41, 'Domaine Courtois': 7, 'Domaine Coustarret': 26, 'Domaine Curot': 12, 'Domaine Cédrick Bardin': 20, 'Domaine Céline et Frédéric Gueguen': 16, \"Domaine D'en Ségur\": 13, 'Domaine Damien Lorieux': 10, 'Domaine Damiens': 12, 'Domaine Dampt Père et Fils': 23, 'Domaine Danica': 25, 'Domaine Daniel Dugois': 28, 'Domaine Daniel Largeot': 24, 'Domaine Daniel Reverdy et Fils': 20, 'Domaine Degher': 31, 'Domaine Delaporte': 45, 'Domaine Delorme et Fils': 22, 'Domaine Delsol': 6, 'Domaine Denis Gaudry': 14, 'Domaine Des Meix Porons': 32, 'Domaine Divio': 37, 'Domaine Dominique Gruhier': 21, 'Domaine Dominique Pabiot': 16, 'Domaine Dominique Piron': 13, 'Domaine Don Gonzalo': 16, 'Domaine Dozon': 14, 'Domaine Dragon': 11, 'Domaine Drouhin': 35, 'Domaine Drouhin Oregon': 45, 'Domaine Dublère': 36, 'Domaine Dubost': 10, 'Domaine Dugois': 28, 'Domaine Dujac': 185, 'Domaine Dumas': 15, 'Domaine Duperray': 10, 'Domaine Dupeuble Père et Fils': 10, 'Domaine Dupré': 12, 'Domaine Dyckerhoff': 14, 'Domaine Eden': 27, 'Domaine Ehrhart': 20, 'Domaine Ellevin': 31, 'Domaine Emmanuel Fellot': 11, 'Domaine Emmanuel Giboulot': 50, 'Domaine Eugène Meyer': 15, 'Domaine FL': 26, 'Domaine Fabrice Larochette': 18, 'Domaine Faiveley': 122, 'Domaine Famille Lignères': 18, 'Domaine Ferme Saint-Martin': 11, 'Domaine Fernand Engel': 17, 'Domaine Ferret': 41, 'Domaine Feuillat-Juillot': 21, 'Domaine Fincham': 12, 'Domaine Fond Croze': 15, 'Domaine Fond Moiroux': 14, 'Domaine Font de Michelle': 45, 'Domaine Foretal': 10, 'Domaine Fouassier': 20, 'Domaine Fourrey': 24, 'Domaine Franck Besson': 16, 'Domaine Franck Millet': 22, 'Domaine François Schmitt': 23, 'Domaine François Villard': 39, 'Domaine Françoise André': 50, 'Domaine Fribourg': 8, 'Domaine Fritz Schmitt': 18, 'Domaine G. Metz': 18, 'Domaine Gardiés': 18, 'Domaine Garnier Fils': 32, 'Domaine Gavoty': 17, 'Domaine Geoffrenet-Morval': 14, 'Domaine Georg Rafael Vineyards': 37, 'Domaine George': 20, 'Domaine Georges Vernay': 63, 'Domaine Gerald Talmard': 10, 'Domaine Gerard Charvet': 17, 'Domaine Gilles Chollet': 18, 'Domaine Gilles Morat': 29, 'Domaine Girard': 19, 'Domaine Gonon': 24, 'Domaine Gramenon': 10, 'Domaine Grand St Paul': 7, 'Domaine Gresser': 37, 'Domaine Grier': 17, 'Domaine Grosbois': 29, 'Domaine Grosset': 10, 'Domaine Grossot': 31, 'Domaine Gueguen': 17, 'Domaine Guenault': 9, 'Domaine Guillaman': 12, 'Domaine Guillemot-Michel': 30, 'Domaine Guindon': 7, 'Domaine Guy & Yan Dufouleur': 37, 'Domaine Guy & Yvan Dufouleur': 58, 'Domaine Guy Mousset': 10, 'Domaine Gérard Duplessis': 35, 'Domaine Gérard Fiou': 25, 'Domaine Gérard Neumeyer': 18, 'Domaine Harmonie des Arpents': 17, 'Domaine Haut Marin': 5, 'Domaine Henri Delagrange': 85, 'Domaine Henri Rebourseau': 230, 'Domaine Henry Pellé': 17, 'Domaine Heresztyn': 88, 'Domaine Hering': 14, 'Domaine Hirsch': 21, 'Domaine Houchart': 9, 'Domaine Huguenot': 42, 'Domaine Huët': 46, 'Domaine J. Meuret': 32, 'Domaine Jacourette': 13, 'Domaine Jacques Prieur': 216, 'Domaine Jacques-Frédéric Mugnier': 68, 'Domaine Jamet': 93, \"Domaine Jas d'Esclans\": 14, 'Domaine Jayer-Gilles': 79, 'Domaine Jean Bousquet': 11, 'Domaine Jean Chartron': 14, 'Domaine Jean Foillard': 22, 'Domaine Jean Grivot': 252, 'Domaine Jean Monnier et Fils': 45, 'Domaine Jean Petitot et Fils': 31, 'Domaine Jean Sipp': 16, 'Domaine Jean Teiller': 16, 'Domaine Jean-Luc Mader': 19, 'Domaine Jean-Michel Gerin': 161, 'Domaine Jean-Paul Balland': 17, 'Domaine Jean-Paul Picard': 20, 'Domaine Jean-Paul et Benoît Droin': 41, 'Domaine Jean-Pierre Vacher et Fils': 17, 'Domaine Jeannin-Naltet': 39, 'Domaine Jessiaume': 35, 'Domaine Jo Pithon': 44, 'Domaine Joseph Belland': 70, 'Domaine Joël Delaunay': 11, 'Domaine Julie Belland': 46, 'Domaine Juliette Avril': 23, 'Domaine Jérôme Gradassi': 34, 'Domaine Klipfel': 10, 'Domaine L. Chatelain': 26, 'Domaine La Borie Blanche': 16, 'Domaine La Consonnière': 35, 'Domaine La Jeanne': 9, 'Domaine La Soufrandise': 21, 'Domaine La Tour de Gâtigne': 9, 'Domaine Labet': 18, 'Domaine Labruyère': 46, 'Domaine Lafond': 13, 'Domaine Lagneau': 10, 'Domaine Laleure-Piot': 74, 'Domaine Lamy-Pillot': 50, 'Domaine Landrat-Guyollot': 20, 'Domaine Laporte': 25, 'Domaine Laroche': 66, 'Domaine Lathuilière Gravallon': 46, 'Domaine Lathuilière-Gravallon': 28, 'Domaine Laurens': 11, 'Domaine Laurier': 8, 'Domaine Le Billoud': 8, 'Domaine LeSeurre': 18, 'Domaine Leflaive': 211, 'Domaine Les Carmels': 19, 'Domaine Les Hauts de Mercurol': 23, 'Domaine Lignères': 6, 'Domaine Loew': 21, 'Domaine Loubejac': 13, 'Domaine Louis Carillon': 82, 'Domaine Louis Moreau': 41, 'Domaine Luc et Lise Pavelot': 64, 'Domaine Lucien Barrot et Fils': 46, 'Domaine Luneau-Papin': 25, 'Domaine Luquet': 14, 'Domaine Léon Boesch': 22, 'Domaine Maby': 15, 'Domaine Machard de Gramont': 39, 'Domaine Maillard': 60, 'Domaine Marc Jambon': 19, 'Domaine Marc Morey': 79, 'Domaine Marc Roy': 82, 'Domaine Marcel Deiss': 34, 'Domaine Marengo': 24, 'Domaine Marie Berenice': 25, 'Domaine Martin': 9, 'Domaine Masson-Blondelet': 21, 'Domaine Matthias et Emile Roblin': 27, 'Domaine Meriwether': 17, 'Domaine Mersiol': 20, 'Domaine Michel': 19, 'Domaine Michel Bouzereau': 64, 'Domaine Michel Brock': 14, 'Domaine Michel Brégeon': 12, 'Domaine Michel Fonne': 15, 'Domaine Michel Goubard': 16, 'Domaine Michel Thomas et Fils': 15, 'Domaine Michel-Andreotti': 25, 'Domaine Michelas St Jemm': 14, 'Domaine Miquel': 4, 'Domaine Mirabau': 8, 'Domaine Moillard': 83, 'Domaine Moltès': 16, 'Domaine Montaude': 7, 'Domaine Montrose': 9, 'Domaine Mussy': 35, 'Domaine Méo-Camuzet': 199, 'Domaine Nicolas Boiron': 10, 'Domaine Nicolas Rossignol': 52, 'Domaine Nigri': 30, 'Domaine Ninot': 23, 'Domaine Normand': 21, 'Domaine Olivier Merlin': 15, 'Domaine Ostertag': 37, 'Domaine Paquet et Fils': 19, 'Domaine Pascal Prunier-Bonheur': 132, 'Domaine Pascal et Mireille Renaud': 19, 'Domaine Patrice Colin': 10, 'Domaine Patrice Magni': 28, 'Domaine Patrice Moreux': 17, 'Domaine Patrick Javillier': 55, 'Domaine Paul Thomas': 23, 'Domaine Pavelot': 26, 'Domaine Pellé': 139, 'Domaine Perraud': 19, 'Domaine Perrot-Minot': 379, 'Domaine Perzinsky': 10, 'Domaine Petroni': 15, 'Domaine Pfister': 26, 'Domaine Philippe & Vincent Jaboulet': 39, 'Domaine Philippe Delesvaux': 64, 'Domaine Philippe Faury': 29, 'Domaine Philippe Gilbert': 17, 'Domaine Philippe Goulley': 24, 'Domaine Philippe Portier': 14, 'Domaine Philippe Raimbault': 17, 'Domaine Pichot': 41, 'Domaine Pierre Duret': 14, 'Domaine Pierre Guillemot': 44, 'Domaine Pierre Labet': 64, 'Domaine Pierre Noire': 14, 'Domaine Pierre Usseglio et Fils': 19, 'Domaine Pignier': 26, 'Domaine Pinnacle': 26, 'Domaine Pinson': 42, 'Domaine Piquemal': 18, 'Domaine Poli': 10, 'Domaine Pommier': 31, 'Domaine Pont de Guestres': 17, 'Domaine Pouillon': 17, 'Domaine Poulleau Père et Fils': 32, 'Domaine Pral': 12, 'Domaine René Bouvier': 109, 'Domaine René Monnier': 49, 'Domaine Reverdy-Ducroux': 10, 'Domaine Richard Rottiers': 14, 'Domaine Rieflé': 28, 'Domaine Rieflé-Landmann': 25, 'Domaine Rives-Blanques': 5, 'Domaine Robert Klingenfus': 10, 'Domaine Roblin': 30, 'Domaine Roche-Audran': 20, 'Domaine Roger & Christophe Moreux': 26, 'Domaine Roger Belland': 41, 'Domaine Roger Champault': 15, 'Domaine Roger Sabon': 14, 'Domaine Roland Schmitt': 16, 'Domaine Rolet Père et Fils': 22, 'Domaine Romy': 8, 'Domaine Roses Camille': 127, 'Domaine Rossignol-Février Père et Fils': 110, 'Domaine Rossignol-Trapet': 91, 'Domaine Rotier': 19, 'Domaine Roumagnac': 8, 'Domaine Roux': 14, 'Domaine Royal de Jarras': 10, 'Domaine Régis Champier': 16, 'Domaine Saint Andrieu': 10, 'Domaine Saint Andéol': 13, 'Domaine Saint Antonin': 11, 'Domaine Saint Gayan': 10, 'Domaine Saint Gregory': 21, 'Domaine Saint Martin': 8, 'Domaine Saint Pierre': 15, \"Domaine Saint Roman d'Esclans\": 15, 'Domaine Saint-Aix': 16, 'Domaine Saint-André de Figuière': 21, 'Domaine Saint-Nabor': 9, 'Domaine Saint-Rémy': 20, 'Domaine Sainte Croix': 14, 'Domaine Sainte Croix La Manuelle': 13, 'Domaine Sainte Lucie': 14, 'Domaine Sainte Léocadie': 17, 'Domaine Sainte-Eugénie': 7, 'Domaine Sainte-Marie': 17, 'Domaine Sangouard': 9, 'Domaine Sangouard-Guyot': 19, 'Domaine Santa Barbara': 12, 'Domaine Santa Duc': 52, 'Domaine Santa Giulietta': 12, 'Domaine Sarrabelle': 12, 'Domaine Sarragousse': 11, 'Domaine Saumaize-Michelin': 23, 'Domaine Sautereau': 16, 'Domaine Schoffit': 42, 'Domaine Seguin': 24, 'Domaine Seilly': 25, 'Domaine Serene': 68, 'Domaine Serres Mazard': 8, 'Domaine Sipp-Mack': 20, 'Domaine Siret-Courtaud': 10, 'Domaine Sophie Cinier': 123, 'Domaine Sorin': 10, 'Domaine Specht': 12, \"Domaine St Martin d'Agel\": 7, 'Domaine St Pierre': 10, 'Domaine St. George': 5, 'Domaine Ste. Michelle': 8, 'Domaine Sylvain Pataille': 41, 'Domaine Sébastien Dampt': 30, 'Domaine Sérol': 18, 'Domaine Talmard': 9, 'Domaine Tempier': 52, 'Domaine Terlato & Chapoutier': 28, 'Domaine Terre de Mistral': 13, 'Domaine Thibert Père et Fils': 19, 'Domaine Thierry Drouin': 20, 'Domaine Thierry Mortet': 33, 'Domaine Thomas & Fils': 23, 'Domaine Thunevin-Calvet': 41, 'Domaine Tinel-Blondelet': 23, 'Domaine Torraccia': 20, 'Domaine Touzot': 10, 'Domaine Trois Frères': 12, 'Domaine Trouillet': 23, 'Domaine Uby': 6, 'Domaine Vacheron': 39, \"Domaine Val d'Astier\": 16, 'Domaine Verret et Fils': 17, 'Domaine Vetriccie': 8, 'Domaine Vico': 12, 'Domaine Victor Sornin': 12, 'Domaine Vigneau-Chevreau': 18, 'Domaine Vincent Bouzereau': 41, 'Domaine Vincent Carême': 25, 'Domaine Vincent Dancer': 73, 'Domaine Vincent Dauvissat': 41, 'Domaine Vincent Delaporte': 34, 'Domaine Vincent Girardin': 75, 'Domaine Vincent Paris': 36, 'Domaine Vincent Pinard': 37, 'Domaine Vincent Stoeffler': 23, 'Domaine Viret': 32, 'Domaine Vrignaud': 39, 'Domaine Weinbach': 34, 'Domaine Yves Martin': 17, 'Domaine Zinck': 19, 'Domaine Zind-Humbrecht': 57, 'Domaine aux Moines': 16, \"Domaine d'Antugnac\": 7, \"Domaine d'Arton\": 9, \"Domaine d'Astros\": 9, \"Domaine d'Eole\": 14, \"Domaine d'Escausses\": 12, \"Domaine d'Estoublon\": 25, 'Domaine de Ballade': 5, 'Domaine de Baronarques': 32, 'Domaine de Beaumalric': 11, 'Domaine de Beaupré': 10, 'Domaine de Beaurenard': 30, 'Domaine de Bel Air': 14, 'Domaine de Bellene': 69, 'Domaine de Bendel': 11, 'Domaine de Bernier': 7, 'Domaine de Billards': 15, 'Domaine de Biéville': 14, 'Domaine de Boischampt': 10, 'Domaine de Bonserine': 50, 'Domaine de Brau': 8, 'Domaine de Brigue': 10, 'Domaine de Cabriac': 7, 'Domaine de Cambis': 14, 'Domaine de Camparine': 7, 'Domaine de Caseneuve': 8, 'Domaine de Cassan': 20, 'Domaine de Cause': 22, 'Domaine de Champarlan': 16, 'Domaine de Chatenoy': 14, 'Domaine de Chevalier': 74, 'Domaine de Chevilly': 11, 'Domaine de Châteaumar': 20, 'Domaine de Colette': 10, 'Domaine de Colonat': 17, 'Domaine de Courcel': 69, 'Domaine de Courteillac': 13, 'Domaine de Coussergues': 8, 'Domaine de Cristia': 46, 'Domaine de Cébène': 25, 'Domaine de Côtes Rémont': 13, 'Domaine de Dauliac': 19, 'Domaine de Dionysos': 10, 'Domaine de Espiers': 31, 'Domaine de Familongue': 22, 'Domaine de Fondrèche': 17, 'Domaine de Fonfile': 9, 'Domaine de Fontavin': 26, 'Domaine de Fontenille': 8, 'Domaine de Foretal': 10, 'Domaine de Gensac': 23, 'Domaine de Givaudan': 12, 'Domaine de Gournier': 6, 'Domaine de Grand Garant': 16, 'Domaine de Grange Neuve': 8, 'Domaine de Gry-Sablon': 15, 'Domaine de Guiot': 7, 'Domaine de Jarras': 8, 'Domaine de Joÿ': 6, 'Domaine de Juchepie': 20, \"Domaine de L'Olivier\": 6, 'Domaine de Laballe': 8, 'Domaine de Lamothe': 5, 'Domaine de Lartigue': 4, 'Domaine de Leyre-Loup': 19, 'Domaine de Lischetto': 13, 'Domaine de Magalanne': 14, 'Domaine de Magnaut': 5, 'Domaine de Maison Neuve': 14, 'Domaine de Malavieille': 13, 'Domaine de Marcoux': 50, 'Domaine de Maubet': 7, 'Domaine de Millet': 5, 'Domaine de Mirail': 6, 'Domaine de Ménard': 6, 'Domaine de Nalys': 43, 'Domaine de Nerleux': 13, 'Domaine de Nizas': 12, 'Domaine de Pajot': 5, 'Domaine de Paris': 10, 'Domaine de Pellehaut': 6, 'Domaine de Ponteveze': 12, 'Domaine de Poulvarel': 14, 'Domaine de Pouy': 4, 'Domaine de Reuilly': 14, 'Domaine de Roche Guillon': 9, 'Domaine de Roche-Guillon': 13, 'Domaine de Rome': 14, 'Domaine de Saint-Antoine': 6, 'Domaine de Saint-Guirons': 33, 'Domaine de Salvard': 10, 'Domaine de Savagny': 31, 'Domaine de Souviou': 14, 'Domaine de Sulauze': 14, 'Domaine de Suremain': 34, 'Domaine de Terra Vecchia': 10, 'Domaine de Terrebrune': 18, 'Domaine de Thulon': 8, 'Domaine de Trevallon': 41, 'Domaine de Valdition': 17, 'Domaine de Valmengaux': 16, 'Domaine de Vaugondy': 9, 'Domaine de Villalin': 12, 'Domaine de Villargeau': 11, 'Domaine de Villeneuve': 47, 'Domaine de Viranel': 9, 'Domaine de Virginie': 5, 'Domaine de Vodanis': 14, \"Domaine de l'A\": 38, \"Domaine de l'Amaurigue\": 13, \"Domaine de l'Aujardière\": 11, \"Domaine de l'Aurage\": 41, \"Domaine de l'Echelette\": 11, \"Domaine de l'Ecu\": 15, \"Domaine de l'Edre\": 35, \"Domaine de l'Engarran\": 7, \"Domaine de l'Eole\": 11, \"Domaine de l'Ermitage\": 14, \"Domaine de l'Espérouze\": 7, \"Domaine de l'Hermitage\": 18, \"Domaine de l'Herré\": 8, \"Domaine de l'Idylle\": 12, \"Domaine de l'Oratoire Saint-Martin\": 16, 'Domaine de la Bastide': 8, 'Domaine de la Bastide Blanche': 14, 'Domaine de la Berthète': 8, 'Domaine de la Bonne Tonne': 18, 'Domaine de la Bégude': 33, 'Domaine de la Cave du Rocher': 10, 'Domaine de la Chezatte': 14, 'Domaine de la Citadelle': 19, 'Domaine de la Coche': 10, 'Domaine de la Combe au Loup': 12, 'Domaine de la Commanderie': 11, 'Domaine de la Cote': 69, 'Domaine de la Coume du Roy': 18, 'Domaine de la Courtade': 7, 'Domaine de la Croix': 19, 'Domaine de la Croix Senaillet': 26, 'Domaine de la Denante': 15, 'Domaine de la Ferté': 25, 'Domaine de la Foliette': 12, 'Domaine de la Forêt': 5, 'Domaine de la Garenne': 16, 'Domaine de la Gaverie': 10, 'Domaine de la Grande Séouve': 12, 'Domaine de la Graveirette': 14, 'Domaine de la Grenaudière': 10, 'Domaine de la Guicharde': 9, 'Domaine de la Janasse': 30, 'Domaine de la Lande': 10, 'Domaine de la Loge': 28, 'Domaine de la Louvetrie': 6, 'Domaine de la Madone': 8, 'Domaine de la Mordorée': 26, 'Domaine de la Motte': 6, \"Domaine de la Métairie d'Alon\": 13, 'Domaine de la Noblaie': 16, 'Domaine de la Pepière': 13, 'Domaine de la Perruche': 16, 'Domaine de la Petite Cassagne': 8, 'Domaine de la Pigeade': 10, 'Domaine de la Potardière': 4, \"Domaine de la Pousse d'Or\": 121, 'Domaine de la Prébende': 10, 'Domaine de la Quilla': 8, 'Domaine de la Renjarde': 10, 'Domaine de la Rivaudiere': 8, 'Domaine de la Sanglière': 12, 'Domaine de la Sauveuse': 11, 'Domaine de la Solitude': 9, 'Domaine de la Terre Rouge': 23, 'Domaine de la Tour Blanche': 19, 'Domaine de la Tour Boisée': 8, 'Domaine de la Tour du Bief': 28, 'Domaine de la Tour du Bon': 28, 'Domaine de la Tourlaudière': 8, 'Domaine de la Tourmaline': 9, 'Domaine de la Vallongue': 13, 'Domaine de la Vieille Cure': 8, 'Domaine de la Vieille Julienne': 20, 'Domaine de la Villaudière': 16, 'Domaine de la Vougeraie': 79, 'Domaine des 2 Ânes': 10, 'Domaine des Aspras': 13, 'Domaine des Baguiers': 19, 'Domaine des Baumard': 27, 'Domaine des Bernardins': 24, 'Domaine des Berthiers': 18, 'Domaine des Blagueurs': 5, 'Domaine des Béguineries': 14, 'Domaine des Cantarelles': 7, 'Domaine des Carteresses': 10, 'Domaine des Caves du Prieuré': 15, 'Domaine des Chaintres': 23, 'Domaine des Chers': 20, 'Domaine des Cognettes': 11, 'Domaine des Comtes Lafon': 138, 'Domaine des Corbillières': 11, 'Domaine des Coteaux des Travers': 7, 'Domaine des Croix': 83, 'Domaine des Deux Roches': 17, 'Domaine des Diables': 18, 'Domaine des Elephants': 10, 'Domaine des Entrefaux': 8, 'Domaine des Escaravailles': 34, 'Domaine des Florets': 26, 'Domaine des Fouques': 8, 'Domaine des Gandines': 19, 'Domaine des Gaudets': 17, 'Domaine des Grandes Perrières': 16, 'Domaine des Grandes Vignes': 17, 'Domaine des Hauts Châssis': 23, 'Domaine des Hauts de Sanziers': 10, 'Domaine des Lambrays': 192, 'Domaine des Levrys': 19, 'Domaine des Mapliers': 17, 'Domaine des Marrans': 16, 'Domaine des Maréchaux': 11, 'Domaine des Mondes': 23, 'Domaine des Mouilles': 9, 'Domaine des Nugues': 14, 'Domaine des Pasquiers': 11, 'Domaine des Perdrix': 128, 'Domaine des Pierrettes': 10, 'Domaine des Remizières': 41, 'Domaine des Rochelles': 31, 'Domaine des Roches Neuves': 23, 'Domaine des Sabines': 30, 'Domaine des Sablonnettes': 6, 'Domaine des Terres Dorées': 12, 'Domaine des Terrisses': 11, 'Domaine des Tilleuls': 9, 'Domaine des Tourterelles': 34, 'Domaine des Valanges': 18, 'Domaine des Varoilles': 137, 'Domaine des Verchères': 10, 'Domaine des Vieilles Caves': 16, 'Domaine du Bois de Saint-Jean': 10, 'Domaine du Chalet Pouilly': 22, 'Domaine du Claouset': 8, 'Domaine du Clos Gautier': 15, \"Domaine du Clos d'Alari\": 15, 'Domaine du Clos des Fées': 33, 'Domaine du Clos du Fief': 10, 'Domaine du Closel': 25, 'Domaine du Colombier': 30, 'Domaine du Comte Liger-Belair': 1351, 'Domaine du Coudray': 19, 'Domaine du Crampilh': 19, 'Domaine du Cros': 11, 'Domaine du Deffends': 18, 'Domaine du Dragon': 13, 'Domaine du Fief aux Dames': 12, 'Domaine du Grand Bouqueteau': 10, 'Domaine du Grand Cros': 13, 'Domaine du Grand Montmirail': 32, 'Domaine du Grand Tinel': 31, 'Domaine du Gros Pata': 10, 'Domaine du Haut Bourg': 15, 'Domaine du Haut-Poncié': 15, 'Domaine du Moulin': 16, 'Domaine du Moulin Berger': 14, 'Domaine du Moulin-Pouzay': 20, 'Domaine du Moulié': 8, 'Domaine du Pegau': 115, 'Domaine du Penlois': 10, 'Domaine du Petit Bondieu': 10, 'Domaine du Petit Clocher': 8, 'Domaine du Petit Coteau': 13, 'Domaine du Petit Métris': 33, 'Domaine du Pradas': 32, 'Domaine du Prieuré': 19, 'Domaine du Prince': 36, 'Domaine du Père Caboche': 8, 'Domaine du Raifault': 18, 'Domaine du Rey': 7, 'Domaine du Rin du Bois': 8, 'Domaine du Rochoy': 19, 'Domaine du Salvard': 9, 'Domaine du Tariquet': 8, 'Domaine du Théron': 13, 'Domaine du Touch': 8, 'Domaine du Touja': 4, 'Domaine du Trapadis': 11, 'Domaine du Tunnel': 32, 'Domaine du Vieil Orme': 12, 'Domaine du Vieux Lazaret': 44, 'Domaine du Vieux Vauvert': 14, 'Domaine du Vissoux': 17, \"Domaine l'Ancienne Cure\": 29, 'Domaine la Bastide Blanche': 20, 'Domaine la Bouissiere': 21, 'Domaine la Boutinière': 37, 'Domaine la Chevaliere': 5, 'Domaine la Colombette': 11, 'Domaine la Croix Chaptal': 9, 'Domaine la Croix des Marchands': 9, 'Domaine la Croix des Vainqueurs': 17, \"Domaine la Grand'Vigne\": 9, 'Domaine la Hitaire': 6, 'Domaine la Mereuille': 56, 'Domaine la Montagnette': 7, 'Domaine la Paonnerie': 16, 'Domaine la Roubine': 18, 'Domaine la Salette': 5, 'Domaine la Taste': 5, 'Domaine le Bout du Lieu': 23, 'Domaine le Clos de Caveau': 17, 'Domaine le Colombier': 10, 'Domaine le Couroulu': 14, 'Domaine le Galantin': 22, 'Domaine le Portail': 5, 'Domaine le Renard': 10, 'Domaine le Roc': 12, 'Domaine le Virolys': 16, 'Domaine les Amouriers': 19, 'Domaine les Bruyeres': 20, 'Domaine les Cantates': 19, 'Domaine les Capréoles': 14, 'Domaine les Carmels': 30, 'Domaine les Fils de René Quénard': 14, 'Domaine les Fines Graves': 15, 'Domaine les Fouques': 10, 'Domaine les Grands Presbytères': 12, 'Domaine les Hautes Noëlles': 10, 'Domaine les Hauts de Riquets': 23, 'Domaine les Loges de la Folie': 24, 'Domaine les Pins': 19, 'Domaine les Roques de Cana': 14, 'Domaines Arnaud de Raignac': 15, 'Domaines Astruc': 7, 'Domaines Barons de Rothschild (Lafite)': 13, 'Domaines Bunan': 15, 'Domaines Devillard': 47, 'Domaines Dominique Piron': 16, 'Domaines Duffort': 12, 'Domaines Grassa': 1, 'Domaines Landron': 12, 'Domaines Lapalu': 6, 'Domaines Leflaive Macon-Verze': 22, 'Domaines Ott': 35, 'Domaines Paul Mas': 9, 'Domaines Pierre Chavin': 7, 'Domaines Pochon': 18, 'Domaines Schlumberger': 23, 'Domaines Tatin': 14, 'Domaines Vinet': 9, 'Domecq': 9, 'Domenico': 23, 'Domenico Cavazza': 14, 'Domenico Clerico': 116, 'Domenico Fraccaroli': 27, 'Domenico de Bertiol': 12, 'Domiciano de Barrancas': 9, 'Domingo Hermanos': 16, 'Domingo Molina': 20, 'Domini de la Cartoixa': 37, 'Dominican Oaks': 10, 'Dominio Basconcillos': 31, 'Dominio Buenavista': 7, 'Dominio Do Bibei': 40, 'Dominio Dostares': 24, 'Dominio IV': 28, 'Dominio Lasierpe': 11, 'Dominio de Atauta': 76, 'Dominio de Berzal': 48, 'Dominio de Conte': 23, 'Dominio de Eguren': 3, 'Dominio de Pingus': 164, 'Dominio de Punctum': 5, 'Dominio de Tares': 26, 'Dominio de la Vega': 14, 'Dominio del Plata': 9, 'Dominio del Viento': 10, 'Dominios de Castilla': 7, 'Dominique Cornin': 22, 'Dominique Pabiot': 16, 'Dominique Portet': 21, 'Domino': 3, 'Dominus': 86, 'Domodimonti': 12, 'Domus Vitae': 48, 'Domìni Veneti': 43, 'Don & Sons': 15, 'Don Bernardino': 13, 'Don Cristobal 1492': 4, 'Don Ernesto': 29, 'Don Leta': 10, 'Don Manuel Villafañe': 14, 'Don Miguel Gascón': 11, 'Don Olegario': 15, 'Don Patrick': 10, 'Don Ramón': 5, 'Don Rodolfo': 5, 'Don Román': 12, 'Donatella Cinelli Colombini': 53, 'Donati': 19, \"Donato D'Angelo\": 20, 'Donedei': 30, 'Donelan': 45, 'Donelli': 12, 'Donjon de Bruignac': 10, 'Donkey & Goat': 27, 'Donna Anita': 10, 'Donna Laura': 13, 'Donna Olga': 46, 'Donna Olimpia 1898': 28, 'Donnachiara': 22, 'Donnafugata': 31, 'Donne Fittipaldi': 82, 'Dono dal Cielo': 21, 'Donovan-Parke': 9, 'Donum': 66, 'Doohickey': 17, 'Doon Buggy': 5, 'Dopff & Irion': 16, 'Dopff Au Moulin': 20, 'Doren': 31, 'Dorigo': 23, 'Dos Cabezas': 16, 'Dos Lagos Vineyards': 110, 'Dos Victorias': 36, 'Dosio': 53, 'Double Bond': 40, 'Double Canyon': 36, 'Double Decker': 5, 'Double Eagle': 69, 'Doubleback': 79, 'Douce Nature': 7, 'Doudet Naudin': 17, 'Douglas Green': 6, 'Douglas Vineyards': 40, 'Doukénie': 23, 'Dourthe': 7, 'Downing Estate': 28, 'Dowsett Family': 20, 'Doyenne': 33, 'Doña Paula': 15, 'Doña Silvina': 29, 'Doña Sol': 0, 'Dr. Klapper': 17, 'Dr. Konstantin Frank': 14, 'Dr. Loosen & J. Christopher': 64, 'Dracaena': 23, 'Draga': 37, 'Dragani': 9, 'Dragonette': 37, 'Dragonfly Creek': 9, 'Dragonia': 5, 'Drake': 46, 'Drappier': 58, 'Drassanes': 11, 'Draxton': 19, 'Dreaming Tree': 10, 'Drei Donà': 20, 'Drei Donà Tenuta La Palazza': 26, 'Dreolino': 21, 'Drew': 34, 'Dreyer Sonoma': 6, 'Drink Washington State': 17, 'Drops of Jupiter': 10, 'Drouet Frères': 7, 'Drouhin Oregon Roserock': 39, 'Drumheller': 7, 'Drusian': 12, 'Dry Creek Vineyard': 20, 'Dry Mill': 21, 'Drytown': 10, 'DuCard': 27, 'Duarte Georgetown': 21, 'Dubindil': 27, 'Dubl': 38, 'Dubost': 40, 'Duca del Frassino': 14, 'Duca di Castelmonte': 10, 'Duca di Salaparuta': 22, 'Duca di Saragnano': 10, 'Ducarosso': 6, 'Duchessa Lia': 13, 'Duchman Family': 21, 'Duck Pond': 13, 'Duck Walk': 11, 'Duckhorn': 62, 'Due Cani': 32, 'Due Torri': 5, 'Due Vigne': 21, 'Duemani': 66, 'Duende': 7, 'Dujac Fils & Pere': 58, 'Dumas Station': 28, 'Duménil': 39, 'Dunbar': 25, 'Duncan Peak': 22, 'Dundee Springs': 9, 'Dune Buggy': 5, 'Dunham': 32, 'Dunites': 25, 'Dunnewood': 5, 'Dunning Vineyards': 27, 'Dunstan': 35, 'Duo des Mers': 7, 'Duran': 16, 'Durant': 30, 'Durigutti': 18, 'Durney': 20, 'Dusk to Dawn': 21, 'Dussek Family Cellars': 19, 'Dusted Valley': 30, 'Dusty Cellars': 13, 'Dutch Bill Creek': 21, 'Dutch Henry Winery': 38, 'Dutcher Crossing': 32, 'Dutschke': 27, 'Dutton Estate': 30, 'Dutton-Goldfield': 37, 'Duval & Blanchet': 20, 'Duval-Leroy': 48, 'Duvernay': 21, 'Dyer': 65, 'Dynamite Vineyards': 9, 'Dynasty Cellars': 22, 'Día Naciente': 5, 'Díaz Bayo': 27, 'Dürer-Weg': 11, 'E & J Gallo': 27, 'E. B. Foote': 13, 'E. Guigal': 69, 'E. Pira e Figli (Chiara Boschis)': 62, 'E16': 36, 'ENSO': 32, 'EOS': 18, 'EXP': 9, 'Eagle & Rose Estate': 10, 'Eagle Canyon': 8, 'Eagle Castle': 21, 'Eagle Crest': 9, 'Eagle Eye': 33, 'Eagle Glen': 14, 'Eagle Ridge': 23, 'Eaglepoint Ranch': 17, 'Eagles Landing': 22, 'Eaglewood': 21, 'Early Mountain': 24, 'Earth 2.0': 16, 'Earth 3.0': 7, 'Earth Wise': 19, \"Earth's Harvest\": 0, 'Earthquake': 20, 'Earthshaker': 10, 'Earthworks': 13, 'East Valley': 22, 'Eastburn Vineyards': 30, 'Easton': 18, 'Easton House': 5, 'Eastwood': 4, 'Eberle': 19, 'Ebony': 23, 'Ecco Domani': 7, 'Echelon': 8, 'Echo Ridge': 38, 'Eclectic': 14, 'Eco Terreno': 21, 'Eddy Family': 28, 'Eden Canyon': 27, 'Eden Road': 43, 'EdenVale': 28, 'Edetària': 20, 'Edge': 14, 'Edgewood': 15, 'Edi Keber': 25, 'Edizione Pennino': 33, 'Edmeades': 20, 'Edmond August': 33, 'Edmonds Winery': 20, 'Edmunds St John': 18, 'Edna Valley Vineyard': 16, 'Eduardo Garrido García': 25, 'Educated Guess': 15, 'Edward Sellers': 23, 'Edwards': 19, 'Edwin Dyer': 20, 'Efeste': 27, 'Egeo': 8, 'Egger-Ramer': 15, 'Ego Bodegas': 22, 'Egret': 15, 'Eguren': 4, 'Eguren Ugarte': 10, 'Ehlers Estate': 42, 'Ehrenberg': 21, 'Ehret': 29, 'Ehrhardt': 11, 'Ehrhart': 15, 'Eight Bells': 21, 'Eight Sides': 10, 'Eighty Four': 43, 'Eisold-Smith': 40, 'Ektimo Vineyards': 22, 'El Agosto': 23, 'El Arte de Vivir': 10, 'El Bully': 6, 'El Burro': 7, 'El Centimo': 22, 'El Circulo': 7, 'El Copero': 1, 'El Cortijillo': 4, 'El Coto': 16, 'El Curato': 10, 'El Encanto': 4, 'El Enemigo': 56, 'El Escocés Volante': 21, 'El Esteco': 25, 'El Fogón': 5, 'El Furioso': 7, 'El Ganador': 5, 'El Grifo': 14, 'El Hada': 7, 'El Hijo': 20, 'El Lugar': 34, 'El Molet': 10, 'El Molinet': 10, 'El Molino': 38, 'El Molino de Puelles': 26, 'El Morrión': 4, 'El Nido': 86, 'El Niño': 13, 'El Pensador': 9, 'El Pistolero': 28, 'El Porvenir': 20, 'El Prado': 3, 'El Raval': 8, 'El Rosal': 11, 'El Roy': 12, 'El Sequé': 34, 'El Solar de Orfila': 8, 'El Vinculo': 17, 'El Xamfrà': 10, 'Elaine Maria': 12, 'Elan': 42, 'Elara': 18, 'Elderton': 42, 'Eldridge Estate': 41, 'Eleanor': 44, 'Electra': 9, 'Elemants by Artesa': 10, 'Element': 9, 'Elements': 12, 'Elements by Artesa': 14, 'Elements of Sonoma': 34, 'Elena Fucci': 37, 'Elena Walch': 25, 'Elephant Seven': 29, 'Eleusis': 13, 'Eleva': 28, 'Elevation Cellars': 22, 'Eleven': 19, 'Eleven Eleven': 53, 'Eli Madyson': 34, 'Eliana': 13, 'Elias Mora': 51, 'Elio Grasso': 62, 'Elio Perrone': 16, 'Elios': 14, 'Elisabetta': 20, 'Eliseo Silva': 5, 'Elizabeth Chambers': 32, 'Elizabeth Rose': 12, 'Elk Cove': 32, 'Elk Creek Vineyards': 24, 'Elke': 23, 'Elkhorn Peak': 22, 'Elkhorn Ridge': 23, 'Ellanelle': 28, 'Ellen Landing': 13, 'Ellena': 44, 'Ellman Family': 59, 'Elsom Cellars': 29, 'Elvio Cogno': 49, 'Elyse': 35, 'Elysian Fields': 15, 'Emblem': 38, 'Embrujo': 5, 'Emerald Hare': 10, 'Emeri': 7, 'Emeritus': 40, 'Emerson': 13, 'Emidio Pepe': 79, 'Emile Balland': 16, 'Emile Beyer': 30, 'Emile Leclère': 82, 'Emilio Bulfon': 16, 'Emilio Moro': 98, 'Emilio Rojo': 35, \"Emilio's Terrace\": 57, 'Emina': 18, 'Eminent Domaine': 32, 'Emmanuel Darnaud': 19, 'Emmanuel Fellot': 16, 'Emmi Veruccia': 25, 'Emmolo': 22, 'Empire Estate': 12, 'Emvy Cellars': 32, 'En Fuego': 8, 'En Garde': 56, 'EnRoute': 56, 'Enanzo': 5, 'Enate': 16, 'Encanto': 10, 'Encendido': 16, 'Endrizzi': 18, 'Enio Ottaviani': 10, 'Enjoie': 16, 'Enkidu': 24, 'Enlace': 10, 'Eno': 24, 'Enos Vineyard': 41, 'Enoteca Five': 32, 'Enotria': 10, 'Enrico': 6, 'Enrico Bergadano': 55, 'Enrico Gatti': 54, 'Enrico Santini': 31, 'Enrico Serafino': 16, 'Enrique Foster': 22, 'Enrique Mendoza': 24, 'Ensemble': 16, 'Ensemble Cellars': 40, 'Enticer': 38, 'Entrepreneur': 132, 'Entropy Cellars': 23, 'Entwine': 8, 'Envolve': 30, 'Envy': 35, 'Enza': 10, 'Enzo': 62, 'Enzo Boglietti': 49, 'Eola Hills': 13, 'Eolo': 8, 'Epicurean': 16, 'Epilogo': 7, 'Epilogue': 9, 'Epiphany': 25, 'Episode': 164, 'Epoch Estate Wines': 57, 'Eponymous': 39, 'Eppalock Ridge': 25, 'Equifera': 60, 'Equilibrio': 8, 'Equinox': 58, 'Erath': 28, 'Erba': 37, 'Erbaluna': 60, 'Eredi Enzo Raspi': 17, 'Eredi Lodali': 64, 'Eresma': 16, 'Eric Cottat': 14, 'Eric Guerra': 37, 'Eric K. James': 20, 'Eric Kent': 36, 'Eric Louis': 14, 'Eric Ross': 27, 'Eric Taillet': 33, 'Erik Banti': 12, 'Eristavi Winery': 23, 'Ermacora': 12, 'Ermisch': 25, 'Ermita San Antonio': 3, 'Ermita Veracruz': 11, 'Ermita de Nieve': 8, 'Ernest': 36, 'Ernest & Julio Gallo': 66, 'Ernest Rapeneau': 34, 'Ernesto Catena': 11, 'Erste Neue': 14, 'Eruption': 18, 'Escalada Do Sil': 32, 'Eshcol Ranch': 5, 'Esoterica by Kent Rasmussen': 32, 'Espana Robles': 14, 'Espectacle': 114, 'Esperanza': 6, 'Esperto': 7, 'Espiritu de Argentina': 5, 'Espiritu del Pomar Junction': 19, 'Esprit du Rhône': 7, 'Espuela del Gaucho': 8, 'Ess & See': 21, 'Essencia Vendima': 10, 'Esser': 8, 'Esser Cellars': 6, 'Estancia': 12, 'Estancia Piedra': 25, 'Estandon': 10, 'Estate 1856': 26, 'Estate Crush': 15, 'Estefania': 21, 'Estepa': 16, 'Esterlin': 69, 'Esterlina': 24, 'Estirpe Tonbert': 7, 'Estraié': 14, 'Estrella Creek': 22, 'Estrin': 19, 'Et Fille': 31, 'Etablissements Thunevin': 13, 'Eterna Juventud': 12, 'Eternal': 28, 'Etienne Boileau': 23, 'Etienne Sauzet': 147, 'Etienne de Tauriac': 19, 'Etude': 58, 'Euclid Wines': 73, 'Eufloria': 7, 'Eugene Wine Cellars': 14, 'Eugenio Bocchino': 86, 'Eugenio Bustos': 9, 'Eugenio Collavini': 24, 'Evaia': 9, 'Evans & Tate': 16, 'Evans Family': 14, 'Evans Wine Company': 7, 'Evening Land': 47, 'Everett Ridge': 20, 'Evergreen': 16, 'Evergreen Vineyards': 13, 'Everhart Cellars': 24, 'Evesham Wood': 22, 'Evine': 6, 'Evodia': 4, 'Evohé': 7, 'Evoke': 64, 'Evolve': 19, 'Ex': 13, 'Ex Nihilo': 128, 'Exem': 8, 'Exopto': 30, 'Experience': 20, 'Expression 34': 41, 'Expression 38': 36, 'Expression 39': 36, 'Expression 44°': 33, 'Exuberance': 36, 'Ey': 10, 'Eye Candy': 2, 'Ezio': 1, 'F.J. Serra': 13, 'FEL': 41, 'FLO': 6, 'Fabbioli Cellars': 20, 'Fabiano': 33, 'Fabien Collonge': 15, 'Fabio Motta': 19, 'Fabre Montmayou': 10, 'Fabre en Provence': 12, 'Fabrizio Battaglino': 19, 'Fabrizio Dionisio': 25, 'Factories & Smoke': 21, 'Failla': 40, 'Failla Jordan': 32, 'Fair Hare': 8, 'Fairbank Sutton Grange': 16, 'Fairhope': 37, 'Fairsing': 39, 'Fairview Cellars': 26, 'Faiveley': 43, 'Falchini': 28, 'Falcone': 30, 'Falcor': 32, 'Falesco': 17, 'Falkenstein': 20, 'Falkner': 22, 'Fall Creek': 23, 'Fall Line': 23, 'Fallbrook': 23, 'Falling Star': 0, 'Fallon Place': 30, 'Famiglia Cielo': 7, 'Famiglia Meschini': 17, 'Familia Cassone': 15, 'Familia Cecchin': 6, 'Familia Colombi': 13, 'Familia Los Agüeros': 10, 'Familia Marguery': 13, 'Familia Mayol': 10, 'Familia Montaña': 6, 'Familia Schroeder': 13, 'Familia Solana': 9, 'Familia Villanueva': 14, 'Famille Hauller': 13, 'Famille Laplace': 13, 'Famille Negrel': 12, 'Famille Perrin': 40, 'Famille Quiot': 28, \"Famille d'Amecourt\": 10, 'Familly Valéry': 10, 'Família Oliveda': 9, 'Fanetti - Tenuta S. Agnese': 23, 'Faniel et Fils': 40, 'Fantelli': 6, 'Fantesca': 50, 'Fanti': 44, 'Fantinel': 19, 'Fanucchi': 25, 'Far Niente': 98, 'Farella-Park': 25, 'Farina': 41, 'Farm Boy': 11, 'Farm Girl': 8, 'Farnese': 12, 'Farnetella': 15, 'Farrier': 18, 'Fasi Crest': 18, 'Fassati': 15, 'Fat Bastard': 6, 'Fat Cat': 5, 'Fat Croc': 3, 'Fat Gaucho': 7, 'Fat Monk': 8, 'Fatalone': 11, 'Fattoi': 52, 'Fattori': 20, 'Fattoria Alois': 21, 'Fattoria Ambra': 15, 'Fattoria Bagnolo': 32, 'Fattoria Bini': 10, 'Fattoria Campigiana': 10, 'Fattoria Carpineta Fontalpino': 15, 'Fattoria Casa Sola': 21, 'Fattoria Casetto dei Mandorli': 21, 'Fattoria Coroncino': 21, 'Fattoria Corzano e Paterno': 32, 'Fattoria Del Cerro': 16, 'Fattoria Fibbiano': 15, 'Fattoria Garbole': 43, 'Fattoria Giuseppe Savini': 9, 'Fattoria Il Colombaio': 12, 'Fattoria Il Lago': 12, 'Fattoria Il Muro': 9, 'Fattoria Kappa': 8, 'Fattoria La Lecciaia': 37, 'Fattoria La Massa': 64, 'Fattoria La Ripa': 28, 'Fattoria La Rivolta': 20, 'Fattoria La Vialla': 15, 'Fattoria Laila': 12, 'Fattoria Lavacchio': 26, 'Fattoria Le Pupille': 45, 'Fattoria Le Sorgenti': 7, 'Fattoria Le Terrazze': 16, 'Fattoria Mantellassi': 13, 'Fattoria Montecchio': 12, 'Fattoria Montellori': 30, 'Fattoria Moretto': 15, 'Fattoria Nittardi': 60, 'Fattoria Paradiso': 17, 'Fattoria Petriolo': 12, 'Fattoria Petrolo': 74, 'Fattoria Poggerino': 23, 'Fattoria Poggio Capponi': 17, 'Fattoria Poggiopiano': 15, 'Fattoria Resta': 32, 'Fattoria Rodano': 21, 'Fattoria San Felo': 18, 'Fattoria San Michele a Torri': 19, 'Fattoria Sardi': 18, 'Fattoria Scopone': 35, 'Fattoria Selvanova': 11, 'Fattoria Sorbaiano': 28, 'Fattoria Sovestro': 8, 'Fattoria Terre del Marchesato': 35, 'Fattoria Torre a Cona': 25, 'Fattoria Tregole': 13, 'Fattoria Uccelliera': 9, 'Fattoria Valacchi': 13, 'Fattoria Vitiano': 6, 'Fattoria Zerbina': 25, 'Fattoria dei Barbi': 51, 'Fattoria del Cerro': 13, 'Fattoria della Talosa': 18, 'Fattoria di Basciano': 14, 'Fattoria di Casalbosco': 17, 'Fattoria di Corsignano': 28, 'Fattoria di Grignano': 31, 'Fattoria di Lamole': 52, 'Fattoria di Magliano': 30, 'Fattoria di Montecchio': 9, 'Fattoria di Montemaggio': 22, 'Fattoria di Petrognano': 15, 'Fattoria di Petroio': 16, 'Fattoria di Ruppiano': 19, 'Fattoria di Sammontana': 14, 'Fattoria di San Quintino': 9, 'Fattoria di Travalda': 23, 'Fattoria di Valiano': 19, 'Fattoria il Palagio': 8, 'Fattoria la Castellina': 21, 'Fattorie Azzolino': 15, 'Fattorie Parri': 17, 'Fattorie Romeo del Castello': 21, 'Fatty Pope': 14, 'Faunus': 17, 'Faust': 46, 'Fausta': 41, 'Faustino Rivero Ulecia': 6, 'Fay': 33, 'Fayolle Fils & Fille': 47, 'Fazeli Cellars': 36, 'Fazi Battaglia': 23, 'Fazio': 20, 'Feather': 52, 'Federico Paternina': 10, 'Fedriani Laffitte': 10, 'Feist': 20, 'Felipe Rutini': 23, 'Felix Callejo': 23, 'Felix Lavaque': 38, 'Felix Solis': 3, 'Feliz Noche': 45, 'Felline': 14, 'Felsina': 48, 'Felten Cellars': 17, 'Fenestra': 16, 'Ferghettina': 55, 'Ferguson Crest': 26, 'Ferllen': 12, 'Fernando Diéguez Otero': 12, 'Fernando Dupont': 56, 'Ferngrove': 10, 'Fernwood': 25, 'Fernández Gómez': 16, 'Fernández de Piérola': 17, 'Ferragú Ornello': 37, 'Ferrandes': 36, 'Ferrando': 64, 'Ferrari': 41, 'Ferrari Iris e Figli': 28, 'Ferrari-Carano': 29, 'Ferraton Pere et Fils': 31, 'Ferraud et Fils': 14, 'Ferrer Bobet': 57, 'Ferrero': 44, 'Ferriere Vineyards': 23, 'Ferro Family Wines': 29, 'Ferruccio Deiana': 23, 'Ferruccio Sgubin': 10, 'Ferrum': 12, 'Ferré I Catasús': 18, 'Fess Parker': 30, 'Fesstivity': 34, 'Festival and Feast': 18, 'Fetish': 15, 'Fetzer': 7, 'Feudi del Pisciotto': 15, 'Feudi della Medusa': 48, 'Feudi di San Gregorio': 32, 'Feudi di San Marzano': 10, \"Feudi di Terra d'Otranto\": 13, 'Feudo Antico': 16, 'Feudo Arancio': 9, 'Feudo Disisa': 16, 'Feudo Maccari': 23, 'Feudo Monaci': 8, 'Feudo Montoni': 15, 'Feudo Principi di Butera': 19, 'Feudo Solaria': 20, 'Feudo di Santa Tresa': 12, 'Fiddlebender': 10, 'Fiddlehead': 32, 'Fiddlehead Cellars': 27, 'Fiddletown Cellars': 24, 'Fidelitas': 36, 'Fidelity': 9, 'Fidora': 50, 'Fiegl': 12, 'Field Recordings': 10, 'Field Stone': 19, 'Fielding Hills': 28, 'Fields': 20, 'Fields Family': 21, 'Fiesta Winery': 12, 'Fiesta del Pomar Junction': 27, 'Fietri': 29, 'Fife': 21, 'Fifi': 18, 'Fig': 26, 'Figaro': 5, 'Figge': 24, 'Figgins': 52, 'Figuière': 19, 'Filippi': 15, 'Fillaboa': 16, 'Filus': 12, 'Filón': 7, 'Finca 8': 28, 'Finca Adelma': 16, 'Finca Agostino': 15, 'Finca Albret': 21, 'Finca Allende': 87, 'Finca Antigua': 7, 'Finca Anzil': 21, 'Finca Arantei': 14, 'Finca Bacara': 28, 'Finca Casa Lo Alto': 20, 'Finca Constancia': 14, 'Finca Coronado': 24, 'Finca Decero': 26, 'Finca Don Carlos': 19, 'Finca El Encinal': 13, 'Finca El Monegrillo': 30, 'Finca El Origen': 11, 'Finca El Paso': 7, 'Finca El Portillo': 5, 'Finca El Quiñón': 41, 'Finca El Retiro': 7, 'Finca Flichman': 17, 'Finca Hispana': 8, 'Finca Jakue': 12, 'Finca Koch': 8, 'Finca La Anita': 18, 'Finca La Daniela': 6, 'Finca La Emperatriz': 31, 'Finca La Estacada': 10, 'Finca La Luz': 17, 'Finca La María': 13, 'Finca La Mata': 16, 'Finca La Niña': 4, 'Finca La Pica': 19, 'Finca Lalande': 13, 'Finca Las Moras': 11, 'Finca Las Yeguas': 7, 'Finca Los Lirios': 11, 'Finca Los Maza': 16, 'Finca Los Olmos': 9, 'Finca Manzanos': 6, 'Finca Mayor': 40, 'Finca Milena': 2, 'Finca Montepedroso': 11, 'Finca Mores': 17, 'Finca Nueva': 11, 'Finca Pasión': 10, 'Finca Perdriel': 27, 'Finca Salazar': 6, 'Finca Sandoval': 37, 'Finca Santa Justina': 14, 'Finca Simonassi': 5, 'Finca Sobreño': 20, 'Finca Sophenia': 15, 'Finca Teira': 13, 'Finca Tobella': 27, 'Finca Torremilanos': 19, 'Finca Urquiza': 7, 'Finca Valpiedra': 23, 'Finca Ventura': 10, 'Finca Vides': 10, 'Finca Vieja': 4, 'Finca Villacreces': 21, 'Finca Wölffer': 20, 'Finca Zubastía': 5, 'Finca [ñ]': 14, 'Finca de Arantei': 13, 'Finca del Castillo': 5, 'Finca del Marquesado': 12, 'Finca del Valle': 2, 'Finca la Celia': 15, 'Finca la Malena': 9, 'Finca la Melonera': 14, 'Finca la Rinconada': 19, 'Finca las Caraballas': 21, 'Finca las Nubes': 14, 'Fincas Don Martino': 21, 'Fingerprints': 5, \"Finke's Widow\": 9, 'Finn Hill': 20, \"Finnegan's Lake\": 10, 'Fioravante': 10, \"Fiore d'Arancio\": 10, 'Fire Block': 13, 'Fire Station Red': 10, 'Fire and Oak': 11, 'Firebrix': 7, 'Firefall': 5, 'Firefly Night': 37, 'Firefly Ridge': 5, 'Firelands': 6, 'Firestarter': 10, 'Firesteed': 14, 'Firestone': 16, 'Firriato': 22, 'First & Local': 6, 'First Colony': 18, 'First Press': 12, 'Fishbone': 10, 'Fisher': 43, 'Fisheye': 3, 'Fitzpatrick': 11, 'Five Friends': 5, 'Five Rivers': 7, 'Five Rows': 9, 'Five Star Cellars': 30, 'FiveWise': 7, 'FiàNobile': 21, 'Fjord': 14, 'Flambeaux': 50, 'Flanagan': 49, 'Flechas de los Andes': 22, 'Fleming Jenkins': 29, 'Fletcher': 44, 'Fleur': 10, 'Fleur de California': 10, 'Fleur de Charme': 18, 'Fleur de Lyeth': 6, 'Fleur de Lys': 14, 'Fleur de Nuit': 2, 'Fleuron': 27, 'Fleury': 31, 'Flinch': 30, \"Flinder's Bay\": 10, 'Flinders Run': 20, 'Flint & Steel': 10, 'Flocchini': 20, 'Flock by Smoking Loon': 10, 'Floodgate': 19, 'Flor De Campo': 13, 'Flora Springs': 56, 'Florent Descombe': 15, 'Florian Roblin': 22, 'Florio': 16, 'Flors': 16, 'Flourish': 6, 'Flowers': 52, 'Fluteau': 39, 'FlyWine': 11, 'Flying Cloud': 14, 'Flying Dreams': 28, 'Flying Fish': 9, 'Flying Goat Cellars': 36, 'Flying Horse': 33, 'Flying Leap': 27, 'Flying Trout': 27, 'Flywheel': 26, 'Foderà': 32, 'Foffani': 10, 'Fog Alley': 12, 'Fog Crest': 35, 'Fog Head': 10, 'Fog Hill': 7, 'Fog Theory': 16, 'Fogdog': 32, 'Foggy Bridge': 21, 'Fogline Vineyards': 31, 'Foley': 34, 'Foley & Phillips': 7, 'Foley Johnson': 50, 'Folie à Deux': 17, 'Folin Cellars': 24, 'Folk Machine': 21, 'Folktale': 21, 'Folkway': 26, 'Folonari': 12, 'Fondo Antico': 6, 'Fondo del Barbera': 12, 'Fongoli': 24, 'Font I Jordana': 14, 'Fontaine du Clos': 32, 'Fontaleoni': 6, 'Fontana Candida': 10, \"Fontana d'Italia\": 6, 'Fontanabianca': 42, 'Fontanafredda': 40, 'Fontanavecchia': 22, 'Fontanella': 31, 'Fonterenza': 39, 'Fonterutoli': 20, 'Fontes & Phillips': 30, 'Fontevecchia': 46, 'Fontodi': 65, \"Fonty's Pool\": 10, 'Foodies': 3, 'Foppiano': 17, 'Foppoli': 31, 'For a Song': 8, 'Foraci': 10, 'Foradori': 38, 'Forbidden Zin': 8, 'Force Majeure': 51, 'Force of Nature': 15, 'Forchini': 24, 'Forchir': 6, 'Forefathers': 33, 'Forefront': 18, 'Forenzo': 11, 'Forest Glen': 5, 'ForestVille': 4, 'Foretell': 87, 'Forge Cellars': 25, 'Forgeron': 24, 'Forget-Brimont': 56, 'Foris': 11, 'Forjas del Salnés': 32, 'Forlorn Hope': 36, 'Formation': 10, 'Fornacelle': 29, 'Fornacina': 47, 'Fort Ross': 32, 'Fort Ross Vineyard': 55, 'Fort Walla Walla': 23, 'Fortant': 7, 'Forteto della Luja': 12, 'Forth': 17, 'Forti del Vento': 10, 'Fortino': 26, 'Fortitude': 21, 'Fortius': 7, 'Fortnight': 14, 'Fortress': 23, 'Fortunati': 21, 'Fortune 1621': 21, 'Forward Kidd': 41, 'Foss Marai': 14, 'Fossacolle': 43, 'Fossil Point': 11, 'Fosso Corno': 8, 'Fotinos Brothers': 46, 'Foundry': 41, 'Foundry Vineyards': 25, 'Fount': 12, 'Fountainhead': 37, 'Four Aces': 8, 'Four Brix': 29, 'Four Cairn': 32, 'Four Degrees of Riesling': 9, 'Four Emus': 6, 'Four Fields': 14, 'Four Lanterns': 36, 'Four Paws & A Tail': 8, 'Four Sisters': 8, 'Four Sisters Ranch': 20, 'Four Sons': 21, 'Four Vines': 17, 'Fournier Père et Fils': 21, 'Fourplay': 7, 'Fourrey et Fils': 19, 'Foursight': 31, 'Fourteen Appellations': 78, 'Fowles Wine': 18, 'Fox Brook': 13, 'Fox Creek': 15, 'Fox Meadow': 22, 'Fox Run': 16, 'Foxen': 37, 'Foxen 7200': 37, 'Foxtrot': 37, 'Foyt Family': 51, 'Fra Guerau': 9, 'Fraccaroli': 9, 'Fralich': 25, 'Francesc Sanchez Bas': 42, 'Francesco Boschis': 11, 'Francesco Rinaldi': 51, 'Franchere': 22, 'Franchetto': 9, 'Franci': 89, 'Francis Berwyn': 8, 'Francis Blanchet': 19, 'Francis Coppola': 17, 'Francis Ford Coppola': 16, 'Francis Tannahill': 31, 'Franciscan': 28, 'Franck & Olivier Mousset': 11, 'Franck and Jean-François Bailly': 16, 'Franco M. Martinetti': 49, 'Franco Molino Cascina Rocca': 44, 'Franco Serra': 40, 'Francois Baur': 25, 'Francois Labet': 13, 'Francone': 26, 'Frank Cornelissen': 59, 'Frank Family': 54, 'Frankland Estate': 23, 'Franklin Tate': 10, 'Franz Gojer-Glögglhof': 18, 'Franz Haas': 34, 'Franzinelli Socini Guelfi': 14, 'François Baur': 18, 'François Buffet': 46, 'François Chidaine': 13, 'François Cotat': 21, 'François Lurton': 19, 'François Millet': 22, 'Françoise Chauvenet': 5, 'Frascole': 15, 'Fratelli Alessandria': 55, 'Fratelli Berlucchi': 37, 'Fratelli Bortolin': 12, 'Fratelli Bucci': 20, 'Fratelli Gancia': 15, 'Fratelli Martini': 8, 'Fratelli Muratori': 32, 'Fratelli Ponte': 28, 'Fratelli Seghesio': 44, 'Fratelli Urciuolo': 32, 'Fratelli Zeni': 6, 'Frati Bianchi': 18, 'Fratta Pasini': 33, 'Frazier': 52, 'Freakshow': 14, 'Freedom Run': 19, 'Freelander': 8, 'Freeman': 41, 'Freemark Abbey': 45, 'Freestone': 68, 'Frei Brothers': 16, 'Freitas': 32, 'Freixa Rigau': 16, 'Freixenet': 8, 'Freja': 17, 'French Creek': 22, 'French Hill': 26, 'French Rabbit': 4, 'Frenchie Winery': 23, \"Frenchman's Gulch\": 21, 'Frequency': 30, 'Frescobaldi': 23, 'Frey': 13, 'Frey-Sohler': 12, 'Frias': 60, 'Frick': 18, 'Friday Monkey': 5, 'Friedeman': 28, 'Frisby': 16, 'Frisk': 6, 'Frisson Wines': 60, 'Fritz': 23, \"Frog's Leap\": 30, 'Frogmore Creek': 19, 'Frontier Red': 5, 'Frost Bitten': 8, 'Frostwatch': 24, 'Fruscalzo': 12, 'Frédéric Brouca': 17, 'Frédéric Lornet': 29, 'Frédéric Mallo': 14, 'Fuchsia': 7, 'Fuego Blanco': 19, 'Fuente del Conde': 5, 'Fuentes': 35, 'Fuerza': 11, 'Fulcrum': 43, 'Fulget': 13, 'Fuligni': 68, 'Fulkerson': 9, 'Full Circle': 3, 'Full Pull & Friends': 24, 'Fullerton': 32, 'Fulvio Luigi Serni': 34, 'Fumanelli': 69, 'Funckenhausen': 10, 'Fundatio': 4, 'Funky Llama': 2, 'Furioso': 50, 'Furlan': 13, 'Furthermore': 35, 'Fuse': 19, 'Fusée': 1, 'Futura 14': 35, 'Féraud-Brunel': 26, 'G & L Lurton': 35, 'G D Vajra': 41, 'G. H. Mumm': 57, 'G. Moulinier': 10, 'G. Reedy': 26, 'G.A. Rossi di Medelana': 141, 'G.H. Martel': 31, 'GEN 7': 21, 'Gaba do Xil': 12, 'Gabarda': 10, 'Gabriel Meffre': 14, 'Gabriele Scaglione': 43, 'Gabriele Valeriani': 18, 'Gadais Père et Fils': 12, 'Gadino': 16, 'Gaggioli': 10, 'Gagliole': 48, 'Gaierhof': 13, 'Gain Bay': 14, 'Gainey': 21, 'Gaintza': 14, 'Gaja': 283, 'Gala Rouge': 5, 'Galadino': 2, 'Galante': 27, 'Galardi': 78, 'Galatea Effect': 81, 'Galaxy': 63, 'Galda': 8, 'Galerie': 30, 'Galizeus': 9, 'Galleano': 15, 'Gallegos': 33, 'Galleron': 40, 'Galleron Laine': 28, 'Gallica': 87, 'Gallimard Père et Fils': 44, 'Gallo Estate': 82, 'Gallo Family Vineyards': 11, 'Gallo Signature Series': 29, 'Gallo of Sonoma': 14, 'Galvan': 36, 'Gamache': 22, 'Gamba': 29, 'Gamba Gnirega': 38, 'Gamble Family Vineyards': 46, 'Game of Thrones': 14, 'Gan Eden': 20, 'Gancedo': 32, 'Gancia': 16, 'Gandia': 4, 'Gandona': 169, 'Gann': 18, 'Garavin': 78, 'Garbó': 13, 'Garcia Hermanos': 10, 'Garciarévalo': 9, 'Garcilaso': 26, 'García Figuero': 91, 'Gardel': 11, 'Garden Creek': 55, 'Garfield Estates': 13, 'Garganuda': 11, 'Gargiulo': 51, 'Garmón': 52, 'Garnacha de Fuego': 3, 'Garnet': 15, 'Garnet Vineyards': 25, 'Garnier et Fils': 51, 'Garofalo': 10, 'Garofoli': 17, 'Garretson': 22, 'Garriotin': 15, 'Garré': 25, 'Gary Farrell': 38, 'Gassier': 12, 'Gaston Chiquet': 52, 'Gatos Locos': 16, 'Gattavecchi': 15, 'Gauchezco': 14, 'Gaucho Andino': 7, 'Gaucho Club': 5, 'Gaudio': 10, 'Gauguine': 23, 'Gauthier': 24, 'Gauthier-Christophe': 38, 'Gavilan': 16, 'Gayda': 7, 'Gazur': 13, 'Gear and Sprocket': 14, 'Gecko': 10, 'Gehricke': 33, 'Gelfand': 24, 'Gemella': 50, 'Gemin': 10, 'Gemma': 32, 'Gemtree': 16, 'Gen Del Alma': 22, 'Gen5': 7, 'Generation 7': 16, 'Generations of Sonoma': 23, 'Genio Español': 9, 'Genio del Pago': 50, 'Genium Celler': 35, 'Genius Loci': 16, 'Genius Wines': 38, 'Genoa': 21, 'Gentile Collins': 10, 'Genuine Risk': 16, 'Geode': 12, 'Geoff Merrill': 14, 'Geoff Tate': 23, 'George IV': 37, 'Georges Duboeuf': 12, 'Georges Lacombe': 30, 'Georges Vigouroux': 22, 'Gerald Talmard': 8, 'Geretto': 5, 'Germano Angelo': 68, 'Germano Ettore': 49, 'Gershon Bachus': 41, 'Gersing': 24, 'Gewurz': 7, 'Geyser Peak': 18, 'Ghione': 12, 'Ghost Block': 65, 'Ghost Gum': 4, 'Ghost Hill': 27, 'Ghost Pines': 16, 'Ghost Waltz': 28, 'Ghostrider': 9, 'Ghostrunner': 9, 'Ghostwriter': 30, 'Gia Domella': 32, 'Giacomo Ascheri': 34, 'Giacomo Conterno': 201, 'Giacomo Fenocchio': 36, 'Giacomo Grimaldi': 51, 'Giacomo Mori': 15, 'Giacomo Vico': 13, 'Giaconda': 79, 'Giacosa Fratelli': 41, 'Gian Piero Marrone': 32, 'Gianelli': 18, 'Gianfranco Alessandria': 27, 'Gianfranco Fino': 69, 'Gianni Brunelli': 57, 'Gianni Buonomo': 40, 'Gianni Doglia': 10, 'Gianni Gagliardo': 81, 'Gianni Tessari': 12, 'Gianni Voerzio': 52, 'Giannoni Fabbri': 8, 'Giant Steps': 29, 'Giarusso': 14, 'Giavi': 11, 'Gibbs': 20, \"Gibson's BarossaVale\": 69, 'Gifford Hirlinger': 21, 'Gifft': 14, 'Gigante': 16, 'Gigi Rosso': 45, 'Gil Luna': 8, 'Gilardi': 7, 'Gilbert Cellars': 16, 'Gilberto Boniperti': 17, \"Gill's Pier\": 37, 'Gilles Blanchet': 12, 'Gilles Flacher': 48, 'Gilles Louvet': 10, 'Gilles Morat': 25, 'Gilles Robin': 21, 'Gilligan': 19, 'Gimenez Riili': 22, 'Gina': 5, 'Ginestet': 5, 'Gini': 18, 'Gino Fasoli': 38, 'Gino da Pinot': 10, 'Giol': 11, 'Gionelli': 5, 'Giordano': 14, 'Giorgio Meletti Cavallari': 22, 'Giornata': 27, 'Giovanna Madonia': 22, 'Giovanna Tantini': 11, 'Giovanni Almondo': 25, 'Giovanni Chiappini': 65, 'Giovanni Dri Il Roncat': 34, 'Giovanni Manzone': 85, 'Giovanni Rosso': 56, 'Giovello': 7, 'Girard': 24, 'Girardet': 19, 'Girasole': 8, 'Giribaldi': 25, 'Girl Go Lightly': 8, 'Girlan': 18, 'Girly Girl': 9, 'Girolamo Dorigo': 21, 'Girolamo Russo': 34, 'Girolate': 78, 'Giró Ribot': 6, 'Gitton Père et Fils': 21, 'Giulia Negri': 37, 'Giulio Accornero e Figli': 32, 'Giulio Ferrari': 78, 'Giulio Straccali': 6, 'Giuseppe Apicella': 12, 'Giuseppe Campagnola': 48, 'Giuseppe Cortese': 38, 'Giuseppe Gabbas': 26, 'Giuseppe Lonardi': 25, 'Giuseppe Rinaldi': 139, 'Giuseppe Sedilesu': 23, 'Già': 10, 'Gladium': 8, 'Glaetzer': 45, 'Glaetzer-Dixon': 30, 'Glaser': 14, 'Glass House': 13, 'Glass Mountain': 4, 'Glasshaus': 30, 'Glen Eldon': 17, 'Glen Ellen': 4, 'Glen Fiona': 20, 'Glen Manor': 30, 'Glencorrie': 32, 'Glennhawk': 23, 'Glenora': 13, 'Glenwood Cellars': 22, 'Gloria Ferrer': 25, 'Glorie Farm Winery': 13, 'Glunz': 28, 'Glárima': 8, 'Gnarly Head': 6, 'Gnekow': 7, 'Goat Bubbles': 36, 'Goats Trail': 6, 'Godelia': 18, 'Godiolo': 11, 'Godspeed': 26, 'Godwin': 25, 'Gofessel': 41, 'Gold Hill': 19, 'Golden': 31, 'Golden Cluster': 55, 'Golden Ridge': 21, 'Golden Triangle': 53, 'Goldeneye': 66, 'Golding': 15, 'Goldschmidt': 86, 'Gomba': 36, 'Gondomar Del Reino': 13, 'Gonfalone': 1, 'González Byass': 30, 'Good Harbor': 9, 'Goodfellow': 28, 'Goose Ridge': 19, 'Goose Watch': 12, 'Gooseneck': 14, 'Gordon Brothers': 18, 'Gordon Estate': 22, 'Gordonzello': 14, 'Goretti': 31, 'Gorge': 10, 'Gorgo': 8, 'Gorka Izagirre': 12, 'Gorman': 38, 'Gorrebusto': 7, 'Gosalbez Orti': 44, 'Gosford': 5, 'Gosset': 74, 'Gotan': 2, 'Gotas de Mar': 15, 'Gotham': 9, 'Gothic': 18, 'Gotin': 11, 'Gottardi': 40, 'Gotín del Risc': 15, 'Gouguenheim Winery': 8, 'Goulée': 28, 'Goundrey': 8, 'Goutorbe-Bouillot': 39, 'Goyette': 16, 'GraEagle': 19, 'Gracciano della Seta': 15, 'Grace Cellars': 19, 'Grace Estate': 19, 'Grace Lane': 8, 'Graci': 28, 'Gracianna': 36, \"Gradis'ciutta\": 14, 'Graffigna': 12, 'Graffito': 15, 'Gramercy': 41, 'Gramercy Vineyards': 32, 'Gramona': 28, 'Gran Altura': 7, 'Gran Cardiel': 6, 'Gran Castillo Royal': 13, 'Gran Familia': 7, 'Gran Gesta': 10, 'Gran Moraine': 37, 'Gran Oristan': 10, 'Gran Pasión': 7, 'Gran Passione': 7, 'Gran Rigau': 12, 'Gran Sarao': 8, 'Gran Veigadares': 96, 'Gran Vinaio': 8, 'Granate': 10, 'Granbazán': 14, 'Grand Archer': 10, 'Grand Bateau': 10, 'Grand Bourgeau': 10, 'Grand Enclos du Château de Cérons': 15, 'Grand Napa': 48, 'Grand Nicolet': 10, 'Grand Pacific': 5, 'Grand Rêve': 40, 'Grande Folie': 36, 'Grande River': 13, 'Grandes Vinos y Viñedos': 10, 'Grandial': 5, 'Grandin': 6, 'Grandmaster': 8, 'Grands Amis Winery': 14, 'Granite Heights': 15, 'Granite Springs': 12, 'Granja Ntra, Sra. de Remelluri': 49, 'Grant Burge': 22, 'GrapeHeart Vineyards': 59, 'Grassini': 43, 'Grasso': 43, 'Grasso Fratelli': 60, 'Gratallops': 114, 'Gratavinum': 35, 'Grati': 16, 'Gratia': 23, 'Gratien et Meyer': 15, 'Graton Ridge': 36, 'Grattamacco': 63, 'Gravel Bar': 13, 'Gravelly Ford': 7, 'Graveyard': 30, 'Gravity Hills': 16, 'Gravner': 98, 'Gray Ghost': 22, 'Grayson': 6, 'Grayson Cellars': 7, 'Graziano': 13, 'Graziano Merotto': 27, 'Great American Wine Company': 10, 'Great Sage': 50, 'Great Western': 5, 'Greater Purpose': 12, 'Greedy': 19, 'Green & Red': 16, 'Green Path': 8, 'Green Point': 13, 'Green Truck': 9, 'Greener Planet': 5, 'Greenhill': 25, 'Greenock Creek': 65, 'Greenstone': 32, 'Greenwood Ridge': 19, 'Greg Norman California Estates': 9, 'Greg Norman Estates': 14, 'Grego': 8, 'Gregoletto': 13, 'Gregoriano': 15, 'Gregory Graham': 19, 'Gremillet': 38, 'Greppi Cupi': 35, 'Gresser': 16, 'Grevino': 50, 'Grey Stack': 26, 'Grey Wolf Cellars': 21, 'Greyscale': 38, 'Greystone': 7, 'Greystone Cellars': 8, 'Grgich Hills': 54, 'Gridley': 37, 'Griesbauerhof': 15, 'Grieve': 45, 'Grifalco': 16, 'Griffin Creek': 31, 'Grillo': 32, 'Grimaldi Bruna': 50, \"Grimm's Bluff\": 49, 'Grindstone': 11, 'Gristina': 13, 'Grittini': 10, 'Grizzly Peak': 19, 'Grizzly Republic': 27, 'Grochau': 18, 'Groom': 21, 'Gros Ventre': 45, 'Grosset': 27, 'Groth': 43, 'Grotta del Ninfeo': 14, 'Grotta del Sole': 14, 'Ground Boots': 60, 'Ground Effect': 27, 'Groupe Clinet': 10, 'Grove Ridge': 5, 'Grove Street': 21, 'Grow Wines': 30, 'Gru': 4, 'Gruet': 22, 'Gruppo Casaleone': 13, 'Guado al Melo': 38, 'Guado al Tasso': 74, 'Gualdo del Re': 28, 'Guanaco': 10, 'Guarachi Family': 70, 'Guardian': 24, 'Guardian Cellars': 23, 'Guarnieri': 13, 'Guastaferro': 105, 'Guasti Clemente': 17, 'Gubinelli': 14, 'Guelbenzu': 16, 'Guenoc': 12, 'Guerra': 14, 'Guerra Albano': 15, 'Guerrero Fernandez': 22, 'Guerrieri Rizzardi': 40, 'Guglielmo': 17, 'Guicciardini Strozzi': 28, 'Guidi 1929': 14, 'Guido Berta': 17, 'Guido Porro': 36, 'Guilbaud Frères': 7, 'Guillaume Gros': 15, 'Guitián': 19, 'Gulfi': 25, 'Gulleyan Winery': 22, 'Gumdale': 4, 'Gump Markus Prackwieser': 23, 'Gundian': 11, 'Gundlach Bundschu': 26, 'Gunsight Rock': 14, 'Gurra di Mare': 20, 'Gustafson Family': 21, 'Gustave Lorentz': 25, 'Guy Saget': 18, 'Guy-Pierre Jean & Fils': 16, 'Guyomar': 37, 'Guyot Choppin': 28, 'Gypsy Canyon': 108, 'Gypsy Dancer': 45, 'Gyéjacquot Frères': 38, 'Gård': 19, 'Gérard Bertrand': 37, 'Gérard Brisson': 12, 'Gérard Charvet': 14, 'Gérard Loriot': 41, 'H & G': 10, 'H Mynors': 16, 'H to H': 5, 'H. Billiot Fils': 72, 'H. Blin': 50, 'H. Gray': 19, 'H. Lun Winery': 10, 'H.Germain': 25, 'HAGT': 13, 'HB': 12, 'HK Generations': 29, 'HKG': 27, 'HRM Rex Goliath': 4, 'Haak': 23, 'Haan': 30, 'Haarth': 10, 'Hacienda': 3, 'Hacienda del Carche': 9, 'Hacienda del Plata': 14, 'Haciendas Durius': 8, 'Hagafen': 19, 'Hagen Heights': 40, 'Hahn': 15, 'Hahn Estates': 11, 'Haka by Labyrinth': 16, 'Halcon': 29, 'Halcyon': 31, 'Half Mile Creek': 4, 'Hall': 91, 'Halleck': 41, 'Halos de Jupiter': 10, 'Halter Ranch': 23, 'Halyard': 19, 'Hamacher': 25, 'Hamelin Bay': 19, 'Hames Valley Vineyards': 19, 'Hamilton': 22, \"Hamilton's Bluff\": 5, \"Hamilton's Ewell Vineyard\": 8, 'Hamlet': 11, 'HammerSky': 48, \"Hanaiali'i\": 25, 'Hancock & Hancock': 14, 'Hand Made by Marketta': 18, 'Hand of God': 64, 'HandCraft': 7, 'Handal-Denier': 25, 'Handley': 16, 'Handpicked': 8, 'Hanging Vine': 7, 'Hangtime': 12, 'Hanna': 27, 'Hannah Nicole Vineyards': 20, 'Hans Fahden': 20, 'Hansen Cellars': 10, 'Hansen/Grunner': 19, 'Hanson Vineyards': 15, 'Hanzell': 69, 'Happs': 41, 'Happy Camper': 4, 'Happy Canyon Vineyard': 32, 'Haraszthy': 15, 'Harbes Family Vineyard': 22, 'Harbison Wines': 71, 'Hard Row To Hoe': 22, 'Hard Six Cellars': 41, 'Hardys': 9, 'Hargrave': 11, 'Harken': 10, 'Harlan Estate': 263, 'Harlequin': 21, 'Harlow Ridge': 5, 'Harmonique': 32, 'Harmony Cellars': 19, 'Harney Lane': 19, 'Harper Voit': 38, 'Harrington': 33, 'Harrison': 63, 'Harrison Clarke': 35, 'Harry & David': 15, 'Hart': 33, 'Hart 2 Hart': 19, 'Hartford': 37, 'Hartford Court': 49, 'Hartley-Ostini': 25, 'Hartwell': 73, 'Harvest Moon': 22, 'Harveys': 10, 'Hasley': 16, 'Hat in the Ring': 5, 'Hatcher': 18, 'Hauck': 27, 'Hauer of the Dauen': 9, 'Hauner': 23, 'Haut Marin': 6, 'Haute Red': 6, 'Havana Rose': 4, 'Havens': 33, 'Hawk Crest': 7, 'Hawk Watch Winery': 27, 'Hawk and Horse Vineyards': 62, 'Hawkes': 40, 'Hawkins Cellars': 21, 'Hawks View': 27, 'Hawkstone': 23, 'Hawley': 24, 'Hawthorne': 20, 'Hawthorne Ridge': 3, 'Hay Shed Hill': 17, 'Hayes Valley': 9, 'Hayman & Hill': 9, 'Hayward by Folin Cellars': 37, 'Haywood': 22, 'Hazaña': 10, 'Hazlitt 1852 Vineyards': 14, 'Hazyblur': 19, 'HdV': 53, 'Head High': 26, 'Headbanger': 14, 'Healdsburg': 3, 'Healdsburg Ranches': 9, 'Healdsburg Viticultural Society': 8, 'Hearst Ranch': 22, 'Heart & Hands': 21, 'Heart Catcher': 25, \"Heart O' The Mountain\": 43, 'Heartache': 6, 'Heartfelt': 37, 'Hearthstone': 22, 'Heartland': 21, 'Heath Wines': 30, 'Heathcote Estate': 61, 'Heathfield Ridge': 10, 'Heathvale': 17, \"Heaven's Cave\": 18, 'Heavyweight': 9, 'Hecho por Ruben': 46, 'Hecht & Bannier': 17, 'Hector Wine Company': 15, 'Hedgeline': 13, 'Hedges': 21, 'Hedges Family Estate': 21, 'Hedonismo': 5, 'Heggies Vineyard': 16, 'Heibel Ranch': 48, 'Heidsieck & Co Monopole': 44, 'Heintz': 37, 'Heitz': 94, 'Helfrich': 14, 'Heliodoro': 12, 'Helix': 15, 'Helix by Reininger': 21, 'Hellbent': 7, 'Heller Estate': 15, 'Hellfire': 10, 'Helvetia': 12, 'Helwig': 17, 'Hemar': 16, 'Hendry': 25, 'Henehan Hills': 13, 'Henri Abele': 41, 'Henri Abelé': 38, 'Henri Bourgeois': 23, 'Henri Ehrhart': 9, 'Henri Goutorbe': 55, 'Henri Milan': 36, 'Henri Perrusset': 12, 'Henri Schoenheitz': 16, 'Henri de Villamont': 43, 'Henriet-Bazin': 64, 'Henriot': 78, 'Henry Brochard': 8, 'Henry Earl': 29, 'Henry Estate': 14, 'Henry Fessy': 17, 'Henry Marionnet': 13, 'Henry Natter': 20, 'Henry of Pelham': 25, \"Henry's Drive Vignerons\": 23, 'Henschke': 125, 'Hensley': 40, 'Hensteeth': 45, 'Hentley Farm': 34, 'Heras Cordon': 33, 'Heredad Soliterra': 14, 'Heredad Ugarte': 19, 'Herederos de Martínez Fuente': 10, 'Herencia': 44, 'Heretat Mastinell': 10, 'Heretat Montrubí': 31, 'Heringer': 21, 'Heritage': 19, 'Heritage Road': 11, 'Heritance': 19, 'Herman Story': 32, 'Herman Walters': 12, 'Hermann J. Wiemer': 26, 'Hermanos Lurton': 8, 'Hermes': 10, 'Heron': 8, 'Heron Hill': 17, 'Herrera': 110, 'Hersly': 48, 'Hertelendy': 91, 'Hervé Baudry': 14, 'Hervé Kerlann': 21, 'Hervï¿½ Seguin': 16, 'Herzog': 32, 'Herzog Selection': 3, 'Hesketh': 12, 'Hesperian': 58, 'Hess': 24, 'Hess Collection': 36, 'Hess Select': 10, 'Hestan': 61, 'Hestia': 16, 'Hestia Cellars': 24, 'Hesvera': 27, 'Hewitson': 26, 'Hewitt': 135, 'Hey Mambo': 7, 'Hi Wines': 6, 'Hibou': 49, 'Hickinbotham': 87, 'Hidalgo': 27, 'Hidden Cellars': 8, 'Hidden Jewel': 10, 'Hidden Oak': 22, 'Hidden Ridge': 57, 'Hideaway Creek': 13, 'High Altitude': 7, 'High Desert': 9, 'High Hook': 12, 'High Note': 7, 'High Pass': 19, 'High Valley': 18, 'High Valley Vineyard': 21, 'Highflyer': 16, 'Highland Cellars': 9, 'Highland Hills Winery': 20, 'Highland Oaks': 28, 'Highland Springs': 13, 'Highlands': 63, 'Hightower': 26, 'Highway 12': 19, 'Highway 128': 10, 'Highway 253': 11, 'Higueruela': 6, 'Hilanda': 12, 'Hilary Goldschmidt': 28, 'Hill Family Estate': 41, 'Hill Wine Company': 14, 'Hill of Content': 12, 'Hill-Smith Estate': 15, 'Hilliard Bruce': 50, 'Hilltown': 2, 'Hilt & Blade': 14, 'Hindsight': 37, 'Hinman': 9, 'Hinojosa': 6, 'Hip Chicks': 17, 'Hippolyte Reverdy': 16, 'Hirsch': 54, 'Hiruzta': 15, 'History': 46, 'Hitching Post': 37, 'Hob Nob': 6, 'Hobo': 18, 'Hocus Pocus': 15, 'Hogue': 9, 'Hoi Polloi': 41, 'Holdredge': 34, 'Hollen Family Vineyards': 9, 'Hollick': 15, \"Holly's Hill\": 16, 'Hollywood & Vine': 45, 'Hollywood Hill': 27, 'Holman Ranch': 21, 'Holmes Harbor Cellars': 21, 'Holus Bolus': 26, 'Hom': 10, 'Homage': 64, 'Honeywood Winery': 15, 'Honig': 39, 'Honker Blanc': 8, 'Honor Winery': 38, 'Honoratus': 32, 'Honrama': 30, 'Hood Crest': 20, 'Hoodsport': 7, 'Hook & Ladder': 16, 'Hooker': 29, 'Hoopes': 46, 'Hoopla': 16, 'Hop Kiln': 13, 'Hope Estate': 8, 'Hopkins Vineyard': 10, 'Hopper Creek': 31, 'Horan Estates': 17, 'Horeau-Beylot': 35, 'Horned Toad': 73, 'Hors Categorie': 214, 'Horse & Plow': 16, 'Horse Play': 7, 'Horsepower': 102, 'Horton': 16, 'Hosmer': 12, 'Hospices de Saumur': 18, 'Houdini': 27, 'Houghton': 10, \"Hound's Tree\": 20, 'Hourglass': 109, 'House Band': 0, 'House Family Vineyards': 33, \"Housley's Century Oak\": 32, 'Hovey': 15, 'Howard Park': 20, 'Howell Mountain Vineyards': 42, 'Howell at the Moon': 87, 'Howling Moon': 7, 'Howling Wolves': 13, 'Hoyt Family Vineyards': 25, 'Huber': 21, 'Huber & Bléger': 13, 'Hubert Brochard': 17, 'Hubert Meyer': 10, 'Hubert Veneau': 16, 'Hubert Weber': 28, 'Hudson Shah': 19, 'Hudson Vineyards': 73, 'Hudson-Chatham': 16, 'Huerta de Albalá': 34, 'Huett': 31, 'Hug': 30, 'Huge Bear': 41, 'Hugel': 39, 'Hugh Hamilton': 18, 'Hughes Wellman': 41, 'Hugo': 12, 'Hugues Godmé': 59, 'Huguet de Can Feixes': 12, 'Hullabaloo': 10, 'Humanao': 31, 'Humberto Canale': 12, 'Hume': 18, 'Humilitat': 23, 'Hundred Acre': 239, 'Hundred Suns': 21, 'Hungerford Hill': 16, 'Hungry Blonde': 23, 'Hungry Hawk': 25, 'Hunnicutt': 48, 'Hunt & Ryde': 46, 'Hunt Cellars': 40, 'Hunt Country Vineyards': 9, 'Hunt McKay': 110, 'Hunter Ashby': 17, 'Hunter DeHaven': 19, 'Hunter III': 41, 'Hunterdon': 10, 'Hunters Grove': 12, 'Huntington': 13, 'Huré Frères': 54, 'Husch': 12, 'Hyatt': 8, 'Hyatt Vineyards': 4, 'Hyde de Villaine': 80, 'Hyland': 39, 'Hypothesis': 32, 'Hélène Garcin': 40, 'Héroe': 18, 'I Balzini': 33, 'I Botri': 14, 'I Campi': 11, 'I Capitani': 18, 'I Carpini': 25, 'I Clivi': 20, 'I Custodi': 21, 'I Fabbri': 16, 'I Favati': 26, 'I Feudi di Romans': 9, 'I Giusti e Zanza': 28, 'I Greppi': 26, 'I Saltari': 57, 'I Sodi': 35, 'I Stefanini': 12, 'I Veroni': 15, 'I Vignaioli di Santo Stefano': 18, \"I'M\": 17, 'II Moons': 27, 'IL Gioiello': 17, 'IL Piccolo Borgo': 10, 'Ibarra': 26, 'Icardi': 41, 'Icaria': 18, 'Icaria Creek': 35, 'Icario': 23, 'Ichanka': 5, 'Ici/La-Bas': 24, 'Icono': 10, 'Ideology': 45, 'Ideology Cellars': 39, 'Idilico': 16, 'Idilicum': 4, 'Idrias': 21, 'Idylwood': 19, 'Ignacio Marín': 11, 'Ignatus': 5, 'Ikal 1150': 14, 'Il Bastardo': 5, 'Il Borro': 26, 'Il Bosco di Grazia': 63, 'Il Brunone': 15, 'Il Cancelliere': 40, 'Il Cascinone': 16, 'Il Cavaliere': 4, 'Il Cavalierino': 32, 'Il Chiosso': 31, 'Il Cocco': 87, 'Il Colle': 23, 'Il Collino di Todi': 14, 'Il Colombaio di Cencio': 10, 'Il Colombaio di Santa Chiara': 19, 'Il Colombaio di Santachiara': 13, 'Il Conte': 12, \"Il Conte d'Alba\": 5, 'Il Conventino': 23, 'Il Corno': 12, 'Il Faggeto': 13, 'Il Falchetto': 15, \"Il Feuduccio Di S. Maria D'Orni\": 27, 'Il Fitto': 12, 'Il Follo': 11, 'Il Grappolo': 46, 'Il Grillesino': 17, 'Il Macchione': 37, 'Il Marroneto': 72, 'Il Molino di Grace': 32, 'Il Mosnel': 32, 'Il Palagio': 24, 'Il Palagione': 7, 'Il Palazzino': 20, 'Il Palazzo': 28, 'Il Palazzone': 84, 'Il Paradiso di Frassina': 47, 'Il Paradiso di Manfredi': 80, 'Il Poggiolo': 40, 'Il Poggiolo E. Cosimi': 69, 'Il Poggione': 55, 'Il Pollenza': 28, 'Il Roncal': 21, 'Il Roverone': 36, 'Il Sassolo': 11, 'Il Sogno di Annibale': 8, 'Il Tasso': 6, 'Il Valentiano': 36, 'Il Vino dei Padri': 14, 'Ila': 40, 'Ilaria': 44, 'Ileana': 9, 'Illahe': 15, 'Illinois Sparkling Co.': 25, 'Illuminate': 5, 'Illuminati Dino': 24, 'Illumination': 36, 'Illustrious': 18, 'Ilona': 29, 'Ilsley': 48, 'Ilurce': 5, 'Imagery': 26, 'Imagination Wines': 19, 'Imagine': 37, 'Imagine Moore': 11, 'Immersion': 5, 'Impostino': 13, 'In Re': 40, 'Inacayal': 9, 'Inalto': 26, 'Inama': 14, 'Inca': 4, 'Inception': 21, 'Incognito': 13, 'Inconceivable': 19, 'Indian Rock': 13, 'Indian Springs': 8, 'Indian Valley': 20, 'Indigené': 17, 'Indigo Hills': 7, 'Indis': 10, 'Indulge': 13, 'Infidel': 19, 'Infinitus': 5, 'Infinity': 5, 'Influence': 13, 'Inglenook': 76, 'Ingleside': 17, 'Inherit the Sheep': 69, 'Inizi': 25, 'Inkberry': 9, 'Inkling': 7, 'Inkwell': 16, 'Inman Family': 40, 'Inniskillin': 68, 'Innocent Bystander': 15, 'Innocenti': 40, 'Inocencio': 29, 'Insania': 23, 'Insatiable': 6, 'Insomnia': 6, 'Inspiración Pampano': 5, 'Inspiration': 31, 'Inspire Moore': 14, 'Inspiri': 40, 'Insurrection': 11, 'Intelligent Design': 29, 'Intrinsic': 16, 'Inurrieta': 14, 'Io': 29, 'Ioppa': 26, 'Iota Cellars': 31, 'Ippolito 1845': 23, 'Iranzo Fields': 1, 'Iris Vineyards': 21, 'Irish': 15, 'Irish Monkey Cellars': 18, 'Iron Horse': 41, 'Iron Hub': 21, 'Iron Side': 10, 'Ironberry': 5, 'Ironstone': 11, 'Ironwood': 1, 'Irony': 10, 'Irvine Family Vineyards': 26, 'Irwin Family Vineyards': 16, 'Isabel Mondavi': 24, 'Isabelle et Pierre Clément': 16, 'Isenhower': 19, 'Isenhower Cellars': 17, 'Isidoro Polencic': 15, 'Isolabella della Croce': 11, 'Isole e Olena': 73, 'Ispiri': 46, 'Istine': 35, 'Italo Cescon': 13, 'Iter': 14, 'Itsas Mendi': 16, 'Ivory and Burt': 10, 'Izadi': 22, 'J & J': 22, 'J Bell Cellars': 22, 'J Ludlow': 23, 'J Vineyards & Winery': 35, 'J Wilkes': 17, 'J Wrigley': 34, 'J. & F. Lurton': 20, 'J. Alberto': 32, 'J. Benton Furrow': 14, 'J. Bookwalter': 41, 'J. Christopher': 33, 'J. D. Laurent': 5, 'J. Daan': 14, 'J. Davies': 79, 'J. Dumangin Fils': 72, 'J. Fernández de Arcaya Galdiano': 10, 'J. Garcia Carrion': 3, 'J. Hofstatter': 15, 'J. Jacaman': 30, 'J. Keverson': 21, 'J. Lohr': 21, 'J. Lynne': 13, 'J. M. Gobillard et Fils': 41, 'J. McClelland': 30, 'J. Moreau & Fils': 17, 'J. Moss Wines': 60, 'J. Rickards': 21, 'J. Rochioli': 68, 'J. Scott Cellars': 16, 'J. Wilkes': 23, 'J. Wright': 23, 'J. de Telmont': 59, 'J.J. Mchale': 12, 'J.K. Carrière': 23, 'J.L. Chave': 74, 'J.P. Chenet': 5, 'J.R. Carter': 69, 'J.R. Dill': 12, 'J.R. Wagner': 15, 'J.V. Fleury': 28, 'JAQK Cellars': 27, 'JC Cellars': 28, 'JC Van Staden': 15, 'JCB': 73, 'JCK Wine Company': 31, 'JCP Maltus': 99, 'JCR': 44, 'JD': 40, 'JFJ': 5, 'JJ Hahn': 32, 'JLC': 20, 'JM Cellars': 33, 'JR Wine': 35, 'Jacella': 17, 'Jack': 72, 'Jack Barrett': 10, 'Jack Creek': 31, 'Jack Nicklaus Wines': 42, 'Jack Tone': 14, \"Jack's House\": 10, 'Jackhammer': 9, 'Jackson Estate': 30, 'Jackson-Triggs': 15, 'Jacob Franklin': 46, 'Jacob Williams': 26, \"Jacob's Creek\": 12, 'Jacopo Biondi-Santi': 39, 'Jacquart': 45, 'Jacques Bardelot': 28, 'Jacques Bourguignon': 11, 'Jacques Charlet': 18, 'Jacques Picard': 57, 'Jacquesson et Fils': 122, 'Jacuzzi': 12, 'Jacùss': 33, 'Jada Vineyard & Winery': 44, 'Jade Moon': 22, 'Jade Mountain': 12, 'Jadix': 8, 'Jaffe': 49, 'Jaffelin': 32, 'Jaffurs': 30, 'Jaillance': 11, 'Jalama': 21, 'James Charles': 21, 'James Estate': 4, 'James Family Cellars': 27, 'James Johnson': 50, 'James Mitchell': 10, 'James Oatley': 9, 'James River': 20, 'James Wyatt': 14, 'Jamesport': 19, 'Jamie Slone Wines': 36, 'Jamieson Canyon': 13, 'Jamieson Ranch': 19, 'JanKris': 9, 'Jana': 18, 'Jankara': 16, 'Janny': 10, 'Jansz': 24, 'Januik': 29, 'Januik Winery': 24, 'Janzen': 88, 'Jané Ventura': 10, 'Jardín de Lúculo': 5, 'Jargon': 5, 'Jarrero': 10, 'Jarvis': 96, 'Jasci': 25, 'Jasci & Marchesani': 18, 'Jason-Stephens': 23, 'Jasper': 10, 'Jasper Hill': 78, 'Jasper Sisco': 20, 'Jaspi': 14, 'Jaume Serra': 6, 'Javadi': 29, 'Jawbone': 32, 'Jax': 25, 'Jaxon': 22, 'Jaxon Keys': 17, 'Jayson': 46, 'Jean Albrecht': 13, 'Jean Berteau': 10, 'Jean Biecher & Fils': 37, 'Jean Curial': 13, 'Jean Edwards': 48, 'Jean Josselin': 29, 'Jean Laurent': 62, 'Jean León': 38, 'Jean Loron': 11, 'Jean Manciat': 21, 'Jean Maréchal': 22, 'Jean Milan': 61, 'Jean Pabiot et Fils': 18, 'Jean Perrier et Fils': 11, 'Jean Reverdy et Fils': 18, 'Jean Rijckaert': 27, 'Jean de la Fontaine': 54, 'Jean-Baptiste Adam': 26, 'Jean-Christophe Perraud': 30, 'Jean-Claude Boisset': 66, 'Jean-Claude Debeaune': 13, 'Jean-Claude Roux': 13, 'Jean-Luc Baldès': 26, 'Jean-Luc Colombo': 44, 'Jean-Luc Joillot': 18, 'Jean-Luc Mayard': 32, 'Jean-Luc and Paul Aegerter': 78, 'Jean-Marc Bernhard': 18, 'Jean-Marc Brocard': 31, 'Jean-Marc Burgaud': 13, 'Jean-Marie Chaland': 23, 'Jean-Marie Challand': 22, 'Jean-Maurice Raffault': 12, 'Jean-Max Roger': 19, 'Jean-Michel Cazes': 9, 'Jean-Michel Dupré': 21, 'Jean-Michel Sorbe': 15, 'Jean-Noël Haton': 49, 'Jean-Paul Brun': 17, 'Jean-Paul Paquet': 17, 'Jean-Paul Picard': 20, 'Jean-Paul Thevenet': 23, 'Jean-Pierre Moueix': 15, 'Jean-Pierre et Michel Auvigué': 19, 'Jeaunaux-Robin': 48, 'Jed Wines': 22, 'Jeeper': 78, 'Jeff Gordon': 45, 'Jefferson Vineyards': 22, 'Jekel': 9, 'Jelly Jar': 16, 'Jellybean Wines': 8, 'Jenica Peak': 5, 'Jenke': 17, 'Jenner': 15, 'Jepson': 11, 'Jericho Canyon Vineyard': 38, 'Jeriko': 28, 'Jermann': 39, \"Jessie's Grove\": 29, 'Jessup Cellars': 31, 'Jettlynn': 25, 'Jeunesse': 8, 'Jewel': 5, 'Jewelry Box': 21, 'Jezebel': 10, 'Jigar': 20, 'Jigsaw': 14, 'Jim Ball': 43, 'Jim Barry': 34, 'Jim Palmer': 55, 'Jindalee': 4, 'Jinks Creek': 23, 'Jip Jip Rocks': 13, \"Joan D'Anguera\": 40, 'Joan Simó': 55, 'Joanne Weir': 29, 'Joaquín Gálvez Bauzá': 34, 'Jocelyn': 25, 'Jodar': 23, 'Joel Gott': 20, 'Joey Tensley': 12, 'Joffré e Hijas': 18, 'Johan': 27, 'Johan Vineyards': 20, 'John Anthony': 32, 'John Duval Wines': 49, 'John Robert Eppler': 55, 'John Tyler': 35, \"John's Blend\": 41, 'Johndrow Vineyards': 20, 'Johnson Estate': 20, 'Joie': 16, 'Joleté': 19, 'Joliesse': 4, 'Jon Nathaniel': 41, 'Jonata': 93, 'Jones Family': 63, 'Jones of Washington': 10, 'Jones von Drehle': 12, 'Jonquille': 20, 'Jorche': 23, 'Jordan': 35, 'Jordi Miró': 14, 'Jorge Ordoñez & Co.': 14, 'Jorge Ordóñez & Co.': 29, 'Jorian Hill': 23, 'Josef Brigl': 8, 'Josef Chromy': 27, 'Josef Niedermayr': 19, 'Josef Weger': 20, 'Josep Grau Viticultor': 21, 'Joseph': 32, 'Joseph Balland-Chapuis': 10, 'Joseph Carr': 18, 'Joseph Cattin': 21, 'Joseph Cellars': 48, 'Joseph Drouhin': 63, 'Joseph Faiveley': 58, 'Joseph Family': 30, 'Joseph Filippi': 19, 'Joseph Fritsch': 14, 'Joseph Jewell': 31, 'Joseph Mellot': 23, 'Joseph Perrier': 65, 'Joseph Phelps': 75, 'Joseph Soggé': 30, 'Joseph Swan Vineyards': 26, 'Josetta Saffirio': 59, 'Josh Cellars': 10, 'Josmeyer': 26, 'José Dhondt': 48, 'José Pariente': 17, 'Joullian': 22, 'Jourdan & Pichard': 14, 'Jovino': 12, 'Joyce': 24, 'Joyful Noise': 30, 'Juan Carlos Sancha': 30, 'Juan Gil': 9, 'Juan de Juanes': 7, 'Judd': 20, \"Judd's Hill\": 38, 'Judeka': 12, 'Judge Palmer': 63, 'Judson Hale Winery': 23, 'Jules': 15, 'Julia James': 10, \"Julia's Dazzle\": 11, 'Julien Schaal': 25, 'Juliet': 41, 'Julietta': 38, 'Juniper': 19, 'Juslyn Vineyards': 70, 'JustNat': 22, 'Justin': 39, 'Juvé y Camps': 16, 'Juxtapoz': 19, 'Jérémie Huchet': 15, 'Jérôme Gueneau': 18, 'K Squared Cellars': 23, 'K Vintners': 41, 'K&M;': 28, 'K. Furtado': 22, 'K. Martini & Son': 17, 'K5 Argiñano': 19, 'Kadiem': 91, 'Kaella': 20, 'Kaena': 27, 'Kaesler': 57, 'Kagan': 44, 'Kahn': 11, 'Kaiken': 16, 'Kalaris': 39, 'Kalbarri': 3, 'Kale': 34, 'Kaleidos': 32, 'Kali Hart': 13, 'Kalleske': 27, 'Kamen Estate': 41, 'Kamiak': 9, 'Kamiak Cellar': 5, 'Kana': 14, 'Kandarian': 17, 'Kanga Reserve': 1, 'Kangarilla Road': 19, 'Kanzler': 45, 'Kapcsandy Family Winery': 172, 'Karah Estate': 28, 'Karine': 24, 'Karl Lawrence': 41, 'Karly': 16, 'Karma': 10, 'Karma Vineyards': 46, 'Karmere': 7, 'Kasia': 37, 'Kason': 25, 'Kastania': 32, 'Kasuari': 38, 'Katherine Goldschmidt': 15, 'Kathken Vineyards': 15, 'Kathryn Hall Vineyards': 72, 'Kathryn Kennedy': 61, 'Katnook Estate': 26, 'Kay Brothers': 60, 'Kazmer & Blaise': 41, 'Keating': 40, \"Kedar's K'orus\": 7, 'Keefer Ranch': 34, 'Keegan': 26, 'Keeler': 16, 'Keenan': 47, 'Keever': 42, 'Keira': 24, 'Keith Tulloch': 21, 'Kelby James Russell': 10, 'Kelham': 37, 'Kelleher': 42, 'Keller': 39, 'Keller Estate': 41, 'Kellerei Kaltern Caldaro': 16, 'Kelley Fox': 42, 'Kelly Family Vineyards': 40, 'Kelly Fleming': 62, \"Kelly's Revenge\": 0, 'Kempe': 34, 'Ken Brown': 39, 'Ken Wright': 43, 'Kendall-Jackson': 21, 'Kendric': 23, 'Kendric Vineyards': 18, 'Kenefick Ranch': 42, 'Kennedy Family': 28, 'Kennedy Shah': 19, 'Kenneth Volk': 24, 'Kenneth-Crawford': 35, 'Kent Rasmussen': 31, 'Kentia': 10, 'Kenwood': 17, 'Kerloo': 29, 'Kessler-Haak': 27, 'Kest Wines': 16, 'Kestrel': 22, 'Keswick Vineyards': 23, 'Ketcham Estate': 35, 'Kettle Valley': 23, 'Kettmeir': 15, 'Keuka Lake Vineyards': 15, 'Keuka Spring': 14, 'Kevin White': 20, 'Khroma': 10, 'Khárisma': 13, 'Kiamie': 27, 'Kicker Cane': 14, 'Kidder Family Wines': 18, 'Kilda': 3, 'Kilikanoon': 39, 'Killer Juice': 14, 'Killerby': 23, 'Killian': 20, 'Killibinbin': 10, 'Kilroy Was Here!': 14, 'Kimmel': 28, 'Kimsey': 50, 'Kindred': 31, 'King': 9, 'King Estate': 28, 'King Family': 25, 'King Fish': 1, 'King Vintners': 23, \"King's Garden Vineyards\": 11, 'Kingman': 11, 'Kings Carey': 20, 'Kings Mountain': 46, 'Kings Ridge': 9, 'Kingston Estate': 20, 'Kinkead Ridge': 10, 'Kinter Collins': 13, 'Kinton': 12, 'Kiona': 19, 'Kirkland Ranch': 19, 'Kirkland Signature': 8, 'Kiss Chasey': 10, 'Kissos': 35, 'Kit Fox': 8, 'Kitchen Sink': 6, 'Kitá': 26, 'Kivelstadt Cellars': 24, 'Kiwi Cuvée': 5, 'Klaus Lentsch': 20, 'Klee': 16, 'Klinker Brick': 19, 'Klipfel': 17, 'Kluge Estate': 24, 'Knapp': 10, 'Knappstein': 21, 'Knight Hill': 19, 'Knights Bridge': 81, 'Knudsen': 40, 'Kobler': 30, 'Koehler': 20, 'Koenig': 11, 'Koenig Vineyards': 32, 'Koi Pond': 13, 'Kokomo': 25, 'Kongsgaard': 50, 'Kono Barú': 9, 'Kontokosta': 23, 'Kontos': 28, 'Konzelmann': 27, 'Koonowla': 19, 'Kooyong': 38, 'Kopriva': 12, 'Korbel': 9, 'Korbin Kameron': 40, 'Kori': 30, 'Kornell': 19, 'Kosta Browne': 40, 'Koves-Newlan': 21, 'Koz': 7, 'Kraemer': 8, 'Kramer': 19, 'Krasia May': 82, 'Kris': 7, 'Kriselle': 20, 'Kristodd': 52, 'Kriter': 6, 'Krow Shore': 10, 'Krug': 350, 'Krupp Brothers': 66, 'Krutz': 35, 'Ksana': 22, 'Ku Dé Ta': 6, 'Kudos': 14, 'Kuehn': 17, 'Kuentz-Bas': 22, 'Kukeri': 68, 'Kuleto Estate': 42, 'Kumbaya': 4, 'Kunde': 21, 'Kungfu Girl': 7, 'Kunin': 21, 'Kunza': 17, 'Kupel Wieser': 11, 'Kupelwieser': 10, 'Kurmisti': 7, 'Kurtz Family': 27, 'Kutch': 33, 'Kuyam': 24, 'Kynsi': 30, 'Kyra': 12, 'Kössler': 15, 'L de Lyeth': 8, \"L'Aietta\": 44, \"L'Antica Fornace di Ridolfo\": 16, \"L'Antica Quercia\": 13, \"L'Arboc\": 8, \"L'Arbossar\": 98, \"L'Arco\": 49, \"L'Armangia\": 26, \"L'Arène des Anges\": 8, \"L'Astore Masseria\": 10, \"L'Atzar\": 18, \"L'Aventure\": 52, \"L'Avion\": 30, \"L'Ecole No. 41\": 24, \"L'Egrégoire\": 50, \"L'Enclos des Braves\": 14, \"L'Oca Ciuca\": 12, \"L'Oliveto\": 19, \"L'Orcio\": 23, \"L'Ostal Cazes\": 14, \"L'Ptit Paysan\": 16, \"L'original French Kiss\": 6, 'L. Tramier & Fils': 34, 'LAN': 16, 'LJ Crafted Wines': 31, 'LTU': 55, 'LVE': 73, 'LVVR': 14, 'LXV': 36, 'La Antigua': 21, 'La Bastide Blanche': 19, 'La Battagliola': 13, 'La Baume': 2, 'La Bellanotte': 17, 'La Belle Collection': 10, 'La Berrière': 6, 'La Bete': 32, 'La Bioca': 50, 'La Boatina': 16, 'La Bodega de Pinoso': 7, 'La Bollina': 19, 'La Bouvaude': 7, 'La Braccesca': 20, \"La Ca' Nova\": 39, 'La Calonica': 24, 'La Canosa': 8, 'La Capilla': 34, 'La Cappuccina': 12, 'La Carraia': 10, \"La Casa Dell'Orco\": 14, 'La Casa Maguila': 7, 'La Casaccia': 11, 'La Castellada': 58, 'La Castellina': 25, 'La Catrina': 7, 'La Cave de Pomerols': 5, 'La Cave des Vignerons de Pfaffenheim': 16, 'La Caña': 17, 'La Cerbaiola': 152, 'La Cereza': 19, 'La Chablisienne': 35, 'La Chanterelle': 32, 'La Chapelle Gordonne': 13, 'La Chertosa': 23, 'La Cheteau': 9, 'La Chiripada': 19, 'La Chouette': 14, 'La Châsse': 6, 'La Châsse du Pape': 6, 'La Ciarliana': 16, 'La Cignozza': 13, 'La Clarine Farm': 16, 'La Collina dei Ciliegi': 38, 'La Collina dei Lecci': 36, 'La Colombina': 34, 'La Confrérie de Oisly et Thésée': 6, \"La Conreria d'Scala Dei\": 25, 'La Corsa': 15, 'La Corte': 9, 'La Coterie': 8, 'La Courtade': 9, 'La Crema': 26, 'La Croix': 38, 'La Croix Martelle': 18, 'La Croix de Renaud': 11, 'La Croix du Pin': 5, 'La Croix du Prieur': 10, 'La Crusset': 13, 'La Cuna de la Poesia': 5, 'La Cuvée Mythique': 10, 'La Dama': 24, 'La Diacceta': 6, 'La Diligence': 40, 'La Doga': 13, 'La Dolce Vita': 14, 'La Face Cachée de la Pomme': 28, 'La Famiglia': 19, 'La Famiglia di Robert Mondavi': 8, 'La Farra': 12, 'La Fenêtre': 31, 'La Ferme Martin': 8, 'La Ferme des Sept Lunes': 41, 'La Fiammenga': 25, 'La Fiera': 3, 'La Filice': 22, 'La Fiorita': 42, 'La Fleur Ribeyrolles': 9, 'La Folia Winery': 23, 'La Follette': 31, 'La Font du Vent': 11, 'La Forcine': 12, 'La Forge Estate': 7, 'La Fornace': 57, 'La Fortuna': 47, 'La Francesca': 1, 'La Fusina': 30, 'La Galinière': 10, 'La Gerla': 45, 'La Giaretta': 28, 'La Gioiosa': 10, 'La Gironda di Galandrino': 16, 'La Gitana': 26, 'La Grande Côte': 14, 'La Granja 360': 2, 'La Greña': 17, 'La Grille': 8, 'La Guardiense': 5, 'La Honda Winery': 24, 'La Jara': 10, 'La Jota Vineyard': 57, 'La Lastra': 16, 'La Legua': 12, 'La Luz': 30, 'La Madonnina': 13, 'La Magia': 80, 'La Mancina': 10, 'La Mannella': 68, 'La Mano': 6, 'La Marca': 9, 'La Marea': 25, 'La Massa': 39, 'La Masserie': 19, 'La Mejorada': 10, 'La Merika': 9, 'La Monacesca': 20, 'La Mondianese': 15, 'La Montagne': 37, 'La Montecchia': 41, 'La Montina': 32, 'La Mormoraia': 10, 'La Mozza': 9, 'La Ninota': 10, 'La Noble': 7, 'La Palazzetta': 42, 'La Patache': 7, 'La Perla Marco Triacca': 23, 'La Perla del Priorat': 18, 'La Piasola': 13, 'La Pieve': 46, 'La Pisara': 5, 'La Pitchoune': 46, 'La Pleïade II': 18, 'La Poderina': 55, 'La Porta di Vertine': 23, 'La Posta': 10, 'La Poussie': 20, 'La Prevostura': 26, 'La Puerta': 5, 'La Purísima': 10, 'La Querce': 13, 'La Quercia': 13, 'La Querciola': 46, 'La Querciolina': 14, 'La Rajade': 14, 'La Rasina': 49, 'La Rata': 61, 'La Regola': 27, 'La Riada': 5, 'La Rioja Alta': 44, 'La Riojana Coop': 2, 'La Riva dei Frati': 9, 'La Riviera': 10, 'La Rochelle': 35, 'La Roncaia': 35, 'La Rose de Pauillac': 23, \"La Rusticana d'Orsa\": 41, 'La Sabbiona': 19, 'La Sansonina': 23, 'La Sauvageonne': 6, 'La Scolca': 23, 'La Selva': 18, 'La Selvaccia': 44, 'La Sera': 14, 'La Serena': 74, 'La Sibilla': 28, 'La Sirena': 66, 'La Soufrandière': 32, 'La Spinetta': 77, 'La Spinona': 27, 'La Staffa': 10, 'La Stoppa': 21, 'La Storia': 21, 'La Storia by Trentadue': 22, 'La Togata': 56, 'La Tordera': 15, 'La Torre': 46, 'La Torricella': 41, 'La Tosa': 31, 'La Traiana': 20, 'La Tunella': 20, 'La Universal': 39, 'La Val': 12, 'La Valentina': 16, 'La Valle': 35, 'La Velona': 45, 'La Viarte': 17, 'La Vida': 9, 'La Vida al Camp': 14, 'La Vidaubanaise': 9, 'La Vieille Ferme': 4, 'La Vigna di Iseppo': 12, 'La Villa': 4, 'La Villa Veneta': 3, 'La Vis': 10, 'La Voix': 43, 'La Vuelta': 3, 'La Xarmada': 16, 'La Yunta': 5, 'La Zerba': 12, 'La Zorra': 20, 'La di Motte': 9, 'LaLuca': 9, 'LaStella': 21, 'LaVelle': 15, 'LaZarre': 18, 'Laberinto': 7, 'Labouré-Roi': 35, 'Labyrinth': 32, 'Lacatus': 7, 'Lacheteau': 8, 'Lachini': 40, 'Ladera': 49, 'Ladoucette': 23, 'Lady Grace': 10, 'Lady Hill': 21, 'Ladybug': 7, 'Laelaps': 30, 'Laely': 28, 'Laetitia': 27, 'Lafage': 26, 'Lafond': 25, 'Lafou': 28, 'Lagana': 20, 'Lagar da Condesa': 11, 'Lagar de Besada': 10, 'Lagar de Bouza': 10, 'Lagar de Cervera': 20, 'Lagar de Costa': 10, 'Lagar de Indra': 9, 'Lagar del Rey': 19, 'Lagarde': 20, 'Lagaria': 5, 'Lagniappe': 46, 'Lago di Merlo': 13, 'Laguna': 23, 'Laguna de la Nava': 7, 'Lail': 61, 'Laimburg': 16, 'Laird': 39, 'Lake Breeze': 20, 'Lake Chelan': 21, 'Lake Missoula': 32, 'Lake Sonoma': 14, 'Lake and Vine Cellars': 22, 'Lakewood': 11, 'Laleure-Piot': 26, 'Lalla Gully': 14, 'Lallier': 57, 'Lamadrid': 20, 'Lambardi': 53, 'Lambert': 28, 'Lambert Bridge': 22, 'Lamberti': 10, 'Lamborghini': 31, 'Lamborn Family Vineyards': 69, 'Lamiable': 57, 'Lamin': 78, 'Lamole di Lamole': 21, 'Lamont': 21, 'Lamoreaux Landing': 13, 'Lamoretti': 20, 'Lampyridae': 71, 'Lanari': 39, 'Lancaster': 56, 'Lancelot-Pienne': 28, 'Lanciola': 28, 'Lander-Jenkins': 10, 'Landmark': 31, 'Landsman': 32, 'Landy Family Vineyards': 42, 'Lane Tanner': 22, 'Lang': 13, 'Lang & Reed': 25, 'Lange': 32, 'LangeTwins': 15, 'Langhorne Crossing': 7, 'Langlois-Chateau': 19, 'Langmeil': 47, 'Langtry': 28, 'Lannac Saint-Jean': 19, 'Lanson': 90, 'Lantieri de Paratico': 29, 'Lantz': 27, 'Lapeyre': 12, 'Lapis Luna': 8, 'Lar de Paula': 16, 'Lar de Sotomayor': 12, 'Laraine': 12, 'Laraneta': 19, 'Larchago': 17, 'Larkspur': 11, 'Larmandier-Bernier': 55, 'Larner': 32, 'Laroche': 9, 'Laroque': 8, 'Larrea': 15, 'Larry Cherubino': 16, 'Larry Hyde and Sons': 55, 'Las Capas': 6, 'Las Colinas Del Ebro': 7, 'Las Hermanas': 8, 'Las Moras': 9, 'Las Palmeras': 11, 'Las Perdices': 14, 'Las Positas': 32, 'Las Rocas de San Alejandro': 10, 'Las Valles': 4, 'Las Vertientes': 29, 'Las Vides': 7, 'Lasalde Elkartea': 12, 'Lasseter': 47, 'Lassègue': 41, 'Last Judgment': 17, 'Last Light': 25, 'Last Summer': 25, 'Latah Creek': 10, 'Latcham': 23, 'Lateral': 32, 'Latitude 46° N': 21, 'Latium di Morini': 22, 'Latta': 33, 'Laudet': 7, 'Laudun Chusclan': 9, 'Laughing Stock': 21, 'Launa': 25, 'Laura Michael': 36, 'Laura Zahtila': 44, \"Laura's Vineyard\": 19, 'Laurel Glen': 30, 'Laurel Gray': 15, 'Laurel Lake': 12, 'Laurelwood': 19, 'Lauren Ashton Cellars': 30, 'Laurence Féraud': 17, 'Laurens': 10, 'Laurent Gauthier': 17, 'Laurent Kraft': 12, 'Laurent Miquel': 11, 'Laurent de Bescombes Singla': 28, 'Laurent-Perrier': 85, 'Laurentide': 14, 'Laurier': 12, 'Laurona': 26, 'Lava Cap': 17, 'Lavau': 23, 'Lavender Ridge': 15, 'Lavinea': 54, 'Law': 123, 'Lawer': 22, 'Lawrelin': 35, 'Lawson Ranch': 3, 'Layer Cake': 9, 'Layla': 4, 'Lazy Creek': 33, 'Lazy River': 21, 'Lazy Susan Ranch': 75, 'Lazzeretti': 66, 'Le 7 Camicie': 7, 'Le Albare': 13, 'Le Battistelle': 15, 'Le Bellerive': 26, 'Le Bertarole': 21, 'Le Bertille': 16, 'Le Bocce': 14, 'Le Bonheur': 12, \"Le Bord'eau du Clos des Moiselles\": 9, 'Le Brun de Neuville': 61, 'Le Buche': 30, 'Le Bèrne': 23, 'Le Cadeau': 43, 'Le Caniette': 24, 'Le Carillon de Rouget': 73, 'Le Carré': 104, 'Le Casalte': 27, 'Le Casematte': 16, 'Le Casque': 21, 'Le Cercle des Vignerons Saint-Louis': 8, 'Le Cercle des Vignerons de Saint-Louis': 10, 'Le Chanceux': 55, 'Le Charmel': 7, 'Le Chateau': 22, 'Le Chiuse': 52, 'Le Cimate': 34, 'Le Cinciole': 18, 'Le Cirque': 10, 'Le Classique from the 3 Springs Vineyard': 13, 'Le Clos de Beau-Père': 50, 'Le Colture': 16, 'Le Contesse': 10, 'Le Corti dei Farfensi': 8, 'Le Drunk Rooster': 7, 'Le Due Terre': 39, 'Le Dôme': 197, 'Le Farnete': 10, 'Le Fervent': 16, 'Le Filigare': 13, 'Le Fonti': 23, 'Le Fonti a San Giorgio': 10, 'Le Fraghe': 12, 'Le Ginestre': 33, 'Le Gode': 70, 'Le Grand Courtage': 14, 'Le Grand Noir': 6, 'Le Grand Vallat': 14, 'Le Grascete': 27, 'Le Grix de la Salle': 37, 'Le Jaja de Jau': 5, 'Le Macchiole': 131, 'Le Macioche': 50, 'Le Mandolare': 14, 'Le Manzane': 7, 'Le Marchesine': 31, 'Le Marognole': 39, 'Le Mas de Bertrand': 16, \"Le Mas de l'Ecriture\": 23, 'Le Masciare': 20, 'Le Miccine': 26, 'Le Mistral': 31, 'Le Morette': 19, 'Le Mulet Rouge': 18, 'Le Nardian': 64, \"Le P'tit Paysan\": 15, 'Le Palaie': 36, 'Le Paradou': 5, 'Le Petit Cochonnet': 5, 'Le Petit Panier': 7, 'Le Petite Coquerel': 28, 'Le Piane': 46, 'Le Pianelle': 31, 'Le Potazzine': 54, 'Le Prince': 13, 'Le Pépin': 2, 'Le Ragnaie': 53, 'Le Ragose': 47, 'Le Regge': 18, 'Le Roc': 11, 'Le Roi des Pierres': 23, 'Le Rose': 37, 'Le Rouge de Saint-Louis': 6, 'Le Salette': 67, 'Le Senate': 16, 'Le Solive': 7, 'Le Strette': 50, 'Le Strie': 45, 'Le Torri': 5, 'Le Torri di Campiglioni': 39, 'Le Val': 5, 'Le Vieux Donjon': 23, 'Le Vieux Pin': 46, 'Le Vigne': 28, 'Le Vigne di Alice': 20, \"Le Vigne di Ca' Nova\": 16, 'Le Vigne di Domenico': 25, 'Le Vigne di Eli': 30, 'Le Vigne di Zamò': 15, 'Le Vin': 21, 'LePlan-Vermeersch': 36, 'LeSaffre': 41, 'Lea': 25, 'League of Rogues': 23, 'Leah Jørgensen Cellars': 23, 'Leal Vineyards': 20, 'Lealtanza': 31, 'Leaping Horse': 3, 'Leaping Lizard': 7, 'Leasingham': 15, 'Lecci e Brocchi': 25, 'Lecco': 22, 'Lechthaler': 9, 'Lechère': 37, 'Leconfield': 23, 'Leda': 37, 'Ledger David': 22, 'Ledgewood Creek': 9, 'Ledson': 37, 'Lee Family Farm': 11, 'Leese-Fitch': 7, 'Leeuwin Estate': 32, 'Left Bend': 32, 'Left Coast Cellars': 21, 'Left Foot Charley': 12, 'Legacy': 66, 'Legado Muñoz': 6, 'Legado del Moncayo': 7, 'Legaris': 29, 'Legendre': 17, 'Legras & Haas': 44, 'Legón': 10, 'Leira': 10, 'Lelarge-Pugeot': 41, 'Lelia': 6, 'Lemelson': 29, 'Lenné Estate': 40, 'Lenz': 20, 'Leo Steen Wines': 21, 'Leon Beyer': 30, 'Leonard Oakes': 24, 'Leonard Wine Company': 41, 'Leonardo Family Vineyards': 8, 'Leone de Castris': 13, 'Leoness': 48, 'Leonesse Cellars': 31, 'Leonetti Cellar': 74, 'Leonhardt': 40, 'Leopoldo I di Toscana': 20, 'Lepe': 19, 'Les Alliés': 7, 'Les Astéries': 140, 'Les Belles Collines': 51, 'Les Bourgeois': 7, 'Les Caves Roties de Pente': 35, 'Les Caves de Bailly': 8, 'Les Chemins de Bassac': 10, 'Les Clos de Paulilles': 15, 'Les Collines': 7, 'Les Collines du Bourdic': 8, 'Les Costières de Pomerols': 6, 'Les Crêtes': 30, 'Les Dauphins': 9, 'Les Deux Rives': 7, 'Les Domaines Auriol': 5, 'Les Douves de LaTour Carnet': 22, 'Les Fontenilles': 14, 'Les Frères Couillaud': 12, 'Les Frères Perroud': 18, 'Les Fusionels': 21, 'Les Galets de Sauveterre': 11, 'Les Hauts de Croix de Labrie': 37, 'Les Hauts de Lagarde': 8, 'Les Hauts de Tousquiron': 18, 'Les Héritiers du Comte Lafon': 25, 'Les Jamelles': 5, 'Les Maîtres Vignerons de Saint-Louis': 7, \"Les Maîtres Vignerons de la Presqu'île de Saint-Tropez\": 13, 'Les Mines': 14, 'Les Parcelles de Stéphane Derenoncourt': 11, 'Les Quatre Tours': 11, 'Les Rocailles': 14, 'Les Rochettes': 10, 'Les Trois Couronnes': 15, 'Les Trouvés': 16, 'Les Useres': 12, \"Les Vignerons D'Estezargues\": 10, 'Les Vignerons Réunis de Monségur': 10, 'Les Vignerons de Cases de Péne': 4, 'Les Vignerons de Chusclan': 8, 'Les Vignerons de Florensac': 8, 'Les Vignerons de Grimaud': 5, 'Les Vignerons de Tautavel Vingrau': 20, 'Les Vignerons de Tavel': 10, 'Les Vignerons de Tutiac': 24, 'Les Vignerons de la Méditerranée': 7, 'Les Vignerons des Coteaux Romanais': 14, \"Les Vignerons des Côtes d'Agly\": 18, 'Les Vignerons des Terroirs de la Noëlle': 9, 'Les Vignerons du Mont-Ventoux': 5, 'Les Vignerons du Pallet': 5, \"Les Vignes d'Alexandre\": 37, 'Les Vignes des Prêcheurs': 15, 'Les Vignobles Foncalieu': 10, 'Les Vignobles Gueissard': 13, 'Les Villages de Terroir Catalan': 18, 'Les Vins Aujoux': 10, 'Les Vins Bréban': 10, 'Les Vins Skalli': 10, 'Les Vins de Vienne': 43, \"Les Vins de l'Herré\": 6, 'Les Voleurs': 28, 'Lestonnat': 10, 'Leto': 37, 'Letrari': 13, 'Leucadia': 5, 'Leuta': 31, 'Levendi': 41, 'Leverage': 41, 'Leveroni': 12, 'Levo': 29, 'Lewelling': 41, 'Lewis': 45, 'Lexicon': 7, 'Lexington': 51, 'Li Veli': 6, 'Liana Estates': 25, 'Liberalia': 37, 'Liberated': 12, 'Liberty Lake': 23, 'Liberty School': 8, 'Libra': 20, 'Librandi': 16, 'Licenciado': 50, 'Lichen Estate': 37, 'Licia': 10, 'Licinia': 43, 'Lieb': 18, 'Liebart-Régnier': 43, 'Lieff': 44, 'Lieubeau': 14, 'Lighthouse': 10, 'Lilbert-Fils': 55, 'Lily': 10, 'Limb': 32, 'Limerick Lane': 37, 'Limited by Cambridge Cellars': 11, 'Linaje Garsea': 28, 'Linard-Gontier': 32, 'Lincourt': 21, 'Lindemans': 7, 'Linden': 25, 'Line 39': 5, 'Lineage': 123, 'Linked': 105, 'Linne Calodo': 38, 'Lioco': 42, 'Lion Ranch': 19, 'Lion Valley': 9, 'Lion des Aubrots': 13, 'Lionel Osmin & Cie': 10, 'Lionheart': 30, 'Lions Peak': 19, 'Liparita': 34, 'Liquid Farm': 38, 'Lis Neris': 29, 'Lisabella': 7, 'Lisini': 74, 'Lismore Range': 7, 'Listel': 5, 'Little Black Dress': 6, 'Little Chica': 6, 'Little Giant': 35, 'Little Penguin': 3, \"Little Rascal's\": 5, 'Little Rebel': 10, 'Little Stone Vineyard': 9, 'Little Vineyards': 28, 'Littorai': 55, 'Littore': 23, 'Livernano': 30, 'Livia Fontana': 55, 'Livingston Moffett': 54, 'Livio Felluga': 36, 'Livio Sassetti': 64, 'Livio Voghera': 30, 'Livius': 64, 'Livon': 23, 'Llama': 10, 'Llano Estacado': 10, 'Lleiroso': 42, 'Llicorella Vins': 31, 'Llopart': 20, 'Lloyd of Calcareous': 42, 'Lo Nuevo': 8, 'Lo Sparviere': 28, 'Loacker': 14, 'Loacker Corte Pavone': 46, 'Lobo': 51, 'Lobo Hills': 22, 'Loca': 7, 'Locatelli': 21, 'Locati Cellars': 18, 'Locations': 14, 'Lockwood': 11, 'Locus': 15, 'Lodi Estates': 16, 'Lodmell Cellars': 21, 'Lodola Nuova': 20, 'Loess': 26, 'Loft': 21, 'Logan': 14, 'Logan Australia': 13, 'Logan Ridge': 4, 'Logos': 5, 'Lohsa': 12, 'Lois Rae': 28, 'Loken Cellars': 16, 'Lokoya': 314, 'Lola': 18, 'Lola Kay': 12, 'Lolonis': 18, 'Loma Prieta': 39, 'Lombard et Cie': 54, 'Lombardi': 32, 'Lombardo': 13, 'Londer': 28, 'Lone Birch': 7, 'Lone Canary': 11, 'Lone Madrone': 34, 'Long Flat': 9, 'Long Gamma': 6, 'Long Island Merlot Alliance': 28, 'Long Meadow Ranch': 28, 'Long Point': 10, 'Longboard': 31, 'Longevity': 21, 'Longfellow': 32, 'Longoria': 31, 'Longplay': 23, 'Longship': 23, 'Longview': 13, 'Longwood': 21, 'Lonia': 10, 'Lonsdale Ridge': 3, 'Lookout Point': 16, 'Lookout Ridge': 66, 'Loom': 17, 'Loomis': 18, 'Loose End': 13, 'Lopez Noceti': 7, 'Lorca': 8, 'Loredan Gasparini': 14, 'Loredona': 6, 'Lorena Garcia': 10, 'Lorenz Martini': 35, 'Lorenzi Estate': 40, 'Lorenzon': 10, 'Lorgeril': 8, 'Loring Wine Company': 37, 'Loriñon': 9, 'Lornano': 34, 'Loron et Fils': 17, 'Los 3 Bandidos': 5, 'Los 800': 16, 'Los Alisos': 10, 'Los Andes': 7, 'Los Andicos': 10, 'Los Cielos': 4, 'Los Clop': 9, 'Los Cucos de la Alberquilla': 7, 'Los Dos': 3, 'Los Haroldos': 13, 'Los Monteros': 6, 'Los Navales de Martúe': 7, 'Los Nevados': 5, 'Los Padres': 16, 'Los Pinos Ranch': 15, 'Los Portales': 15, 'Los Vencejos': 17, 'Losada': 23, 'Loscano': 12, 'Losi': 32, 'Losi Querciavalle': 30, 'Lost Angel': 5, 'Lost Blues': 34, 'Lost Canyon': 32, 'Lost Creek': 20, 'Lost Oak': 18, 'Lost River': 15, 'Lost Summer': 5, 'Lost Vineyards': 3, 'Lost and Found Winery': 40, 'Lot 205': 5, 'Loteta': 5, 'Loubud': 19, 'Louis Bernard': 15, 'Louis Bouillot': 14, 'Louis Chalvon': 38, 'Louis Changarnier': 8, 'Louis Chavy': 14, 'Louis Chevallier': 20, 'Louis Drescher': 10, 'Louis Jadot': 91, 'Louis Latour': 110, 'Louis M. Martini': 44, 'Louis Max': 34, 'Louis Mousset': 5, 'Louis Métaireau': 17, 'Louis Perdrier': 4, 'Louis Pommery': 16, 'Louis Roederer': 118, 'Louis Sipp': 17, 'Louis Tête': 11, 'Louis de Camponac': 5, 'Louis de Grenelle': 16, 'Louis de Sacy': 32, 'Louise Brison': 37, 'Louloute': 14, 'Loup Blanc': 16, 'Love': 4, 'Love & Hope': 14, 'Love & Squalor': 25, 'Love Noir': 8, 'Love That Red': 29, 'Love and Meritage': 21, 'LoveThisLife': 8, 'Lovingston': 15, 'Lovo': 10, 'Lowden Hills': 29, 'Loxarel': 9, 'Loxton': 20, 'Lozano': 5, 'Loïc Mahe': 28, 'Luberri': 20, 'Luc Mérat': 50, 'Luca': 23, 'Luca Bosio': 33, 'Luca Faccinelli': 14, 'Lucania': 17, 'Lucas & Lewellen': 19, 'Lucas Carton': 6, 'Lucas Vineyards': 10, 'Lucca': 5, 'Luccarelli': 15, 'Lucchetti': 7, 'Luccio': 5, 'Luccío': 4, 'Luce': 64, 'Luce della Vite': 63, 'Lucente': 21, 'Lucia': 36, 'Luciana Cordioli': 22, 'Luciano Sandrone': 146, 'Lucie': 47, 'Lucien Albrecht': 23, 'Lucien Crochet': 18, 'Lucien Lardy': 21, 'Lucien Le Moine': 102, 'Lucienne': 37, 'Lucky': 18, 'Lucky Frog': 5, 'Lucky Rock Wine Co.': 14, 'Lucky Star': 5, 'Lucy': 12, 'Ludwig': 11, 'Luianico': 3, 'Luiano': 21, 'Luigi Baudana': 52, 'Luigi Bosca': 24, 'Luigi Maffini': 26, 'Luigi Oddero & Figli': 83, 'Luigi Pira': 45, 'Luigi Righetti': 34, 'Luigi Tecce': 50, 'Luigi Voghera': 46, 'Luis Alegre': 28, 'Luis Cañas': 25, 'Luis Segundo Correas': 9, 'Luiz Barichello': 37, 'Lujon': 12, 'Luke': 19, 'Luke Donald': 29, 'Luko': 34, 'Lula': 30, 'Luli': 12, 'Lullaby': 22, 'Lulu B.': 4, 'Lumen': 22, 'Luminis': 14, 'Luminous Hills': 26, 'Lumos': 18, 'Luna': 37, 'Luna Beberide': 21, 'Luna Di Luna': 6, 'Luna Hart': 20, 'Luna Nuda': 8, 'Lunadoro': 33, 'Lunar Wines': 39, 'Lundeen': 25, 'Lungarotti': 30, 'Lupé-Cholet': 12, 'Luretta': 18, 'Lurra': 6, 'Lusco': 18, 'Lusso Della Terra': 24, 'Lustau': 21, 'Lutea': 29, 'Lutum': 45, 'Lyeth': 12, 'Lynch': 53, 'Lynch Wines': 17, 'Lynmar': 44, 'Lyric by Etude': 19, 'Lágrimas de Maria': 8, 'Légende': 12, 'Léo de la Gaffelière': 7, 'Léon Perdigal': 10, 'Léonce Bocquet': 12, 'Lété-Vautrain': 25, 'Lícia': 9, 'M by Martellotto': 29, 'M by Michael Mondavi': 176, 'M. & J-F Bertrand': 10, 'M. Autumn': 25, 'M. Chapoutier': 76, 'M. Cosentino': 28, 'M. Trinchero': 17, 'M2': 23, 'MAD Wines': 18, 'MC Wines': 30, 'MC2': 9, 'MCV': 29, 'MICA Cellars': 23, 'MJ Galliard': 10, 'Ma Verité': 60, 'Ma(i)sonry': 32, 'Maal': 22, 'MacCallum': 25, 'MacLaren': 32, 'MacLeod': 21, 'MacMurray Estate Vineyards': 28, 'MacMurray Ranch': 25, 'MacPhail': 42, 'MacRostie': 31, 'Macari': 21, 'Macaron': 10, 'Macauley': 77, 'Macaw Creek': 11, 'Macchia': 20, 'Macchialupa': 20, 'Machiavelli': 22, 'Machine Breaker': 17, 'Macindoe': 17, 'Mackey Vineyards': 20, 'Mackinaw Trail': 31, 'Maclean': 25, 'Macquariedale': 16, 'Maculan': 23, 'Mad Crush': 5, 'Mad Dogs & Englishmen': 6, 'Mad Duck': 12, 'Mad Fish': 12, 'Mad Hatter': 49, 'Mad Housewife': 5, 'Maddalena': 10, 'Mademoiselle Comédie': 8, 'Madison Chase Vineyards': 37, 'Madison Ridge': 6, 'Madonna Alta': 19, 'Madonna Estate': 21, 'Madonna Nera': 39, 'Madorom': 46, 'Madrigal': 40, 'Madrone Mountain': 24, 'Madroña': 15, 'Maestral': 32, 'Maestro Sanguineti': 10, 'Maestro di Antichi Castelli': 27, 'Maetierra Dominum': 31, 'Magali': 50, 'Maggio': 4, 'Maggio Vini': 17, 'Maggiovini': 8, 'Maggy Hawk': 56, 'Magic Door': 24, 'Magic Maker': 10, 'Magistrate': 12, 'Magito': 12, 'Magna Mater': 21, 'Magness': 15, 'Magnificent Wine Company': 8, 'Magnitude': 41, 'Magnolia Court': 9, 'Magnífico': 5, 'Magpie Estate': 11, 'Mahoney': 19, 'Mahonia': 13, 'MaidenStoen': 16, 'Mailly Grand Cru': 62, 'Main & Geary': 12, 'Main Street': 5, 'Maior de Mendoza': 17, 'Maipe': 8, 'Mairena': 12, 'Maison Ambroise': 31, 'Maison Angelvin': 22, 'Maison Basque': 18, 'Maison Belle Claire': 11, 'Maison Bertrand Ravache': 8, 'Maison Bleue': 27, 'Maison Bouachon': 29, 'Maison Bouey': 10, 'Maison Champy': 57, 'Maison Denuzière': 10, 'Maison Duhard': 5, 'Maison Ginestet': 14, 'Maison Givas': 11, 'Maison Hebrard': 6, 'Maison Jean-Baptiste Béjot': 9, 'Maison Jessiaume': 103, \"Maison L'Envoyé\": 24, 'Maison Malet Roquefort': 10, 'Maison Marcel': 7, 'Maison Matisco': 23, 'Maison Nicolas': 4, 'Maison Nicolas Perrin': 53, 'Maison Saint Aix': 14, 'Maison Sichel': 7, 'Maison Stéphane Brocard': 21, 'Maison de la Villette': 5, 'Maison des 3 Ponts': 7, 'Maison du Midi': 17, 'Maisonry': 29, 'Maitea': 8, 'Majolini': 32, 'Mak': 11, 'Makana': 66, 'Malabaila': 23, 'Malacari': 12, 'Malavasi Daniele': 16, 'Maldonado': 36, 'Malene Wines': 16, 'Malesan': 6, 'Maley Brothers Vineyards': 25, 'Malgra': 14, 'Malgrà': 31, 'Malibràn': 16, 'Malibu': 26, 'Malibu Rocky Oaks': 18, 'Malk': 43, 'Mallea': 20, 'Malm': 20, 'Malondro': 15, 'Maloney': 55, 'Malumbres': 9, 'Malvirà': 26, 'Malvolio': 40, 'Mamarracho': 6, 'Mamete Prevostini': 42, 'Manara': 25, 'Manaresi': 23, 'Mancan': 0, 'Manciat-Poncet': 18, 'Mandois': 87, 'Mandolin': 5, 'Mandolina': 14, 'MandraRossa': 7, 'Mandu': 8, 'Mangiacane': 23, 'Mania': 10, 'Manifesto!': 10, 'Manilow': 10, 'Manincor': 25, 'Mannina Cellars': 17, 'Mannucci Droandi': 19, 'Mano A Mano': 9, 'Manoir de la Tête Rouge': 20, 'Manoir du Capucin': 21, 'Manoir du Carra': 10, 'Manookian': 41, 'Manos Negras': 12, 'Manross': 47, 'Mansfield-Dunne': 35, 'Mansion Creek': 18, 'Mantel Blanco': 10, 'Manteo': 12, 'Mantra': 28, 'Manu Propria': 28, 'Manuel Manzaneque': 23, 'Manuel Manzaneque Suárez': 15, 'Manuel Olivier': 38, 'Manuel Seguin': 20, 'Manyana': 4, 'Manzanita Creek': 26, 'Manzone': 24, 'Manzone Fratelli': 33, 'Manzoni': 24, 'Mapema': 30, 'Maple Creek': 29, 'Maple Lane': 41, 'Maple Ridge': 3, 'Mar de Castilla': 4, 'Mar de Envero': 16, 'Mar de Frades': 16, 'Mar de León': 2, 'Mar de Viñas': 12, 'Mara': 25, 'Marabino': 27, 'Maragas': 16, 'Marangona': 13, 'Marc Bredif': 14, 'Marc Deschamps': 13, 'Marc Dupas': 7, 'Marc Kreydenweiss': 35, 'Marc Sorrel': 99, 'Marcarini': 35, 'Marcato': 10, 'Marcel Couturier': 24, 'Marcel Hugg': 11, 'Marcel Lapierre': 20, 'Marcel Martin': 3, 'Marcel Moineaux': 41, 'Marcella Giuliani': 20, 'March': 25, 'Marchand & Burch': 30, 'Marchesato degli Aleramici': 49, 'Marchese Carlo Guerrieri Gonzaga': 16, 'Marchese de Petri': 10, \"Marchese dell'Elsa\": 10, 'Marchesi Alfieri': 36, 'Marchesi Antinori': 78, 'Marchesi Cattaneo di Belforte': 27, 'Marchesi De Gregorio': 14, 'Marchesi Fumanelli': 52, 'Marchesi Ginori Lisci': 17, 'Marchesi Gondi': 29, 'Marchesi Incisa della Rocchetta': 18, 'Marchesi Torrigiani': 21, \"Marchesi de' Frescobaldi\": 30, 'Marchesi di Barolo': 54, 'Marchesini': 9, 'Marchetti': 11, 'Marchiori': 16, 'Marchiori & Barraud': 21, 'Marco Abella': 114, 'Marco Bonfante': 17, 'Marco Cecchini': 12, 'Marco Felluga': 18, 'Marco Negri': 11, 'Marco Porello': 10, 'Marco Real': 12, 'Marco Scolaris': 10, 'Marco Zunino': 7, 'Marco de Bartoli': 30, 'Marcus James': 6, 'Marea': 5, 'Marega': 12, 'Marenco': 34, 'Maretima': 10, 'Margan': 12, 'Margerum': 26, 'Marguerite-Ryan': 38, 'Mari': 30, 'Maria Casanovas': 25, 'Mariah': 23, 'Mariana': 5, 'Marianello': 30, 'Marie Copinet': 36, 'Marietta Cellars': 19, 'Marilena Barbera': 16, 'Marilyn': 24, 'Marilyn Merlot': 21, 'Marilyn Remark': 24, 'Marilyn Sauvignon Blonde': 10, 'Marimar Estate': 35, 'Marimar Torres': 27, 'Mario Bazán': 34, 'Mario Gagliasso': 47, 'Mario Marengo': 44, 'Mario Perelli-Minetti': 40, 'Mario Schiopetto': 25, 'Marion': 41, 'Marion-Bosser': 42, 'Marionette': 8, 'Mariposa': 13, 'Marisa Cuomo': 42, \"Marita's Vineyard\": 109, 'Marius': 7, 'Mark David': 27, 'Mark Moretti': 30, 'Mark Ryan': 37, 'Mark West': 9, 'Market Vineyards': 30, 'Markham': 25, 'Marko': 16, 'Marktree': 4, 'Markus Wine Co': 15, 'Marland': 13, 'Marlargo': 11, 'Maroon': 42, 'Marotti Campi': 11, 'Marq': 9, 'Marquee': 10, 'Marques Escriba': 5, 'Marques de Arienzo': 12, 'Marques de Griñon': 48, 'Marques de Monistrol': 7, 'Marques de Moral': 7, 'Marques de Toledo': 5, 'Marques de Tomares': 17, 'Marques de Ulia': 10, 'Marques de la Musa': 7, 'Marquis Philips': 10, 'Marquis de Belon': 14, 'Marquis de Chasse': 5, 'Marquis de Goulaine': 10, 'Marquis de Perlade': 8, 'Marquis de la Tour': 5, 'Marqués de Alella': 7, 'Marqués de Almonacid': 5, 'Marqués de Arviza': 23, 'Marqués de Campo Nuble': 12, 'Marqués de Caro': 8, 'Marqués de Castilla': 5, 'Marqués de Chivé': 6, 'Marqués de Cáceres': 15, 'Marqués de Elciego': 38, 'Marqués de Gelida': 11, 'Marqués de Irún': 8, 'Marqués de Legarda': 10, 'Marqués de Montañana': 8, 'Marqués de Murrieta': 48, 'Marqués de Olivara': 6, 'Marqués de Reala': 4, 'Marqués de Riscal': 17, 'Marqués de Terán': 12, 'Marqués de Valdueza': 20, 'Marqués de Valparaíso': 18, 'Marqués de Vargas': 45, 'Marqués de Vitoria': 19, 'Marqués de Vizhoja': 15, 'Marqués de la Concordia': 15, 'Marqués del Campo': 10, 'Marqués del Puerto': 28, 'Marr': 17, 'Marrenon': 8, 'Marshall': 15, 'Marshall Davis': 27, 'Marshall Family Wines': 35, 'Marston Family': 78, 'Marsuret': 15, 'Martella': 28, 'Martellotto': 26, 'Martellozzo': 18, 'Martha Clara': 16, 'Martin & Weyrich': 15, 'Martin Alfaro': 24, 'Martin Estate': 76, 'Martin Family Vineyards': 20, 'Martin Lane Winery': 21, 'Martin Ranch': 24, 'Martin Ray': 27, 'Martin Schaetzel': 29, 'Martin Woods': 27, 'Martinelle': 12, 'Martinelli': 43, 'Martinez & Martinez': 17, 'Martinez Bujanda': 18, 'Martini & Rossi': 7, 'Martino': 21, 'Martinsancho': 11, 'Martorana': 30, 'Martí Fabra': 21, 'Martín Berdugo': 14, 'Martín Códax': 10, 'Marulli': 10, 'Mary Elke': 20, 'Maryhill': 19, 'Marziano Abbona': 41, 'Mas': 19, 'Mas Amiel': 23, 'Mas Belles Eaux': 19, 'Mas Blanch I Jové': 21, 'Mas Carlot': 8, 'Mas Champart': 19, 'Mas Chappell': 28, 'Mas Dels Frares': 11, 'Mas Doix': 73, 'Mas Fi': 7, 'Mas Foraster': 15, 'Mas Franch': 28, 'Mas Gabinèle': 19, 'Mas Igneus': 29, 'Mas Janeil by Francois Lurton': 8, 'Mas La Mola': 34, 'Mas Martinet': 40, 'Mas Marçal': 4, 'Mas Oncle Ernest': 10, 'Mas Pere': 11, 'Mas Saint-Louis': 70, 'Mas Sainte Berthe': 12, 'Mas Sorrer': 10, \"Mas d'en Gil\": 48, 'Mas de Cadenet': 15, 'Mas de Daumas Gassac': 32, 'Mas de Gourgonnier': 12, 'Mas de Guiot': 9, 'Mas de Lavail': 18, 'Mas de Libian': 14, 'Mas de Monistrol': 6, 'Mas de Pampelonne': 12, 'Mas de Subirà': 23, \"Mas de l'Abundància\": 28, 'Mas de la Barben': 29, 'Mas de la Dame': 21, 'Mas del Périé': 34, 'Mas des Bressades': 9, 'Mas des Etoiles': 23, 'Mas des Mas': 11, 'Mas du Fadan': 10, 'Mas du Goudareau': 26, 'Mas du Soleilla': 35, 'Masachs': 7, 'Masari': 37, 'Mascarello Giuseppe e Figlio': 155, 'Maschio dei Cavalieri': 14, 'Masciarelli': 32, 'Mascota': 15, 'Maset del Lleó': 15, 'Masi': 53, 'Masi Tupungato': 10, 'Masia Puigmoltó': 12, \"Masies d'Avinyo\": 16, 'Masked Rider': 8, 'Maso Canali': 17, 'Maso Martis': 74, 'Maso Poli': 20, 'Mason Cellars': 11, 'Masottina': 19, 'Massanera': 28, 'Massena': 31, 'Masseria Altemura': 11, 'Masseria Felicia': 41, 'Masseria del Feudo': 8, 'Masseria del Feudo Grottarossa': 16, 'Masserie Pisari': 10, 'Masseto': 531, 'Massi di Mandorlaia': 28, 'Massimago': 22, 'Massimiliano Vivalda': 15, 'Massimo': 7, 'Massimo Daldin': 8, 'Massimo Ronca': 10, 'Massolino': 82, 'Massucco': 17, 'Masterpiece': 8, 'Masthead': 23, 'Mastroberardino': 30, 'Mastrojanni': 69, 'Masut da Rive': 21, 'Masùt da Rive': 15, 'Masút': 38, 'Matanzas Creek': 35, 'Matané': 9, 'Matarredonda': 16, 'Matarromera': 55, 'Match': 61, 'Matchbook': 10, 'Matello': 30, 'Materra Cunat Family Vineyards': 40, 'Mathew Bruno': 87, 'Mathilde Chapoutier Sélection': 14, 'Mathilde et Yves Gangloff': 68, 'Mathis': 25, 'Matias Bertona Wines': 14, 'Matias Riccitelli': 41, 'Matias Wines': 30, 'Matiz': 10, 'Matriarch': 73, 'Matrix': 33, 'Matsu': 26, 'Mattebella': 20, 'Matteo': 60, 'Matthew Daniel': 64, 'Matthews': 39, 'Matthews Estate': 26, 'Matthiasson': 32, 'Mattina Fiore': 33, 'Mattucci': 30, 'Maurice Carrie': 8, 'Maurice Ecard': 27, 'Maurice Martin': 16, 'Maurice Schoech & Fils': 23, 'Mauricio Lorca': 12, 'Maurigi': 21, 'Mauritson': 27, 'Mauro': 53, 'Mauro Franchino': 39, 'Mauro Molino': 42, 'Mauro Sebaste': 26, 'Mauro Veglio': 42, 'Maurodos': 37, 'Maverick': 15, \"Mawson's\": 11, 'Maximo': 4, 'Maxville': 47, 'Mayacamas': 30, 'Maybach': 117, 'Mayo': 23, 'Mayol': 10, 'Mayoral': 2, 'Mayro-Murdick': 28, 'Maysara': 30, 'Maysie Cellars': 9, 'Mayu': 6, 'Mazza Chautauqua Cellars': 12, 'Mazza Vineyards': 35, 'Mazzei': 39, 'Mazzi': 37, 'Mazzocco': 28, 'Mazzoni': 14, 'McCall': 31, 'McCay Cellars': 24, 'McClean': 14, 'McClean X': 14, 'McConnell Estates Winery': 11, 'McCrea': 25, 'McCrea Cellars': 23, 'McDermaid': 19, 'McDowell': 10, 'McEvoy Ranch': 26, 'McFadden': 15, 'McGah Family': 30, 'McGrail': 31, 'McGregor': 21, 'McGuigan': 6, 'McIlroy': 18, 'McIntyre Vineyards': 26, 'McKahn': 24, 'McKenzie-Mueller': 23, 'McKinley Springs': 11, 'McKinney': 19, 'McLaren Vale Premium Wines': 14, 'McManis': 6, 'McNab Ridge': 18, 'McPherson': 10, 'McPherson Wine Company': 4, 'McPrice Myers': 29, \"McWilliam's\": 10, \"McWilliam's Hanwood Estate\": 7, \"McWilliam's of Coonawarra\": 31, 'Meador Estate': 32, 'Meadowcroft': 27, 'Meander': 83, 'Medanos': 11, 'Mederaño': 5, 'Medici Ermete': 13, 'Medlock Ames': 38, 'Medrano': 5, 'Medulas': 12, 'Medusa': 24, 'Meek Family': 14, 'Meeker': 37, 'Meerea Park': 26, 'Megan Anne': 46, 'Megandina Cellars': 45, 'Meiomi': 16, 'Melanson': 57, 'Melanto Terrace': 6, 'Melhill': 50, 'Melini': 14, 'Melior': 7, 'Melipal': 17, 'Mellisoni': 44, 'Mellowood': 20, 'Meloni': 17, 'Melrose': 16, 'Melville': 28, 'Melée': 25, \"Member's Mark\": 3, 'Mendel': 32, 'Mendelson': 26, 'Mendielle Vertu': 20, 'Mendocino Farms': 21, 'Mendocino Gold': 7, 'Mendocino Vineyards': 32, 'Mendoza Vineyards': 33, 'Menduco': 7, 'Mensch': 14, 'Meola Vineyards': 48, 'Mer Blanc': 7, 'Mer Soleil': 30, 'Meran': 14, 'Mercer': 19, 'Mercer Canyons': 9, 'Mercy': 21, 'Meridian': 7, 'Merisi': 18, 'Merk': 10, 'Mermaid Ridge': 10, 'Meroi': 55, 'Meroni': 69, 'Merops': 30, 'Merotto': 19, 'Merriam': 25, 'Merrill Cellars': 23, 'Merriman': 29, 'Merritt': 8, 'Merry Cellars': 26, 'Merry Edwards': 43, 'Merryvale': 50, 'Mersenne': 34, 'Merum': 9, 'Merus': 135, 'Mesa': 24, 'Mesa Del Sol': 26, 'Mesh': 19, 'Mesoneros de Castilla': 16, 'Messina Hof': 12, 'Mestres': 26, 'Metaphora': 91, 'Metate Hill Vineyards': 23, 'Meteor': 201, 'Methius': 50, 'Method': 19, 'Methven Family Vineyards': 21, 'Mettler Family Vineyards': 17, 'Metz Road': 26, 'Metzker Family Estates': 50, 'Meulnart Père et Fils': 13, 'Meurgey-Croses': 63, 'Meyblum et Fils': 5, 'Meyer Family Cellars': 39, 'Meyer Family Vineyards': 22, 'Meyer-Fonné': 18, 'Mezzacorona': 7, 'Mi Sueño': 38, 'Mi Terruño': 21, 'Mia Bea': 16, 'Mia Nipote Winery': 31, \"Mia's Playground\": 12, 'Miali': 11, 'Michael Bernard': 12, 'Michael David': 22, 'Michael Florentino': 18, 'Michael Florentino Cellars': 27, 'Michael Gill Cellars': 47, 'Michael James Wines': 42, 'Michael Mondavi Family Estate': 71, 'Michael Pozzan': 11, 'Michael Rose Cellars': 22, 'Michael Shaps': 27, 'Michael Sullberg': 8, 'Michael-Scott': 31, 'Michaud': 32, 'Michel & Stéphane Ogier': 86, 'Michel Gassier': 11, 'Michel Gros': 43, 'Michel Laroche': 2, 'Michel Lynch': 7, 'Michel Léon': 5, 'Michel Moritz': 234, 'Michel Picard': 27, 'Michel Redde': 15, 'Michel Redde et Fils': 22, 'Michel Reybier': 105, 'Michel Tissot': 10, 'Michel Torino': 14, 'Michel Vattan': 20, 'Michel et Joana Ecard': 64, 'Michel-Schlumberger': 30, 'Michele Chiarlo': 43, 'Michele Satta': 52, 'Michele Taliano': 50, 'Michele Ventura': 14, 'Michelle': 8, 'Middle Ridge': 30, 'Middle Sister': 7, 'Midlife Crisis': 14, 'Midnight': 26, 'Midolini': 19, 'Midsummer Cellars': 34, 'Mignanelli': 25, 'Migration': 39, 'Miguel Arroyo Izquierdo': 10, 'Mikami Vineyards': 31, 'Mike Ditka': 41, 'Mike and Molly Hendry': 30, 'Miklus': 35, 'Mil Piedras': 7, 'Milange': 60, 'Milbrandt': 18, 'Milcampos': 16, 'Milenrama': 11, 'Miles': 19, 'Miles From Nowhere': 8, 'Mileto': 15, 'Mill Creek': 16, 'Millbrook': 19, 'Miller Wine Works': 21, 'Milliaire': 16, 'Millésimé': 45, 'Milo': 17, 'Milton Park': 8, 'Milziade Antano': 41, 'Minassian-Young': 16, 'Mineo Family Vineyards': 13, 'Miner': 41, 'Mineral Wines': 24, 'Minimus': 29, 'Ministry of the Vinterior': 12, 'Mionetto': 12, 'Miquel Pons': 12, 'Mira': 42, 'Mirabeau': 16, 'Mirabelle': 20, 'Mirabile': 18, 'Miracle Hill': 37, 'Miracle Valley': 21, 'Miradou': 6, 'Mirafiore': 86, 'Miraflores': 22, 'Miralta': 19, 'Miramont': 19, 'Mirassou': 8, 'Miro': 21, 'Miroballi Wines': 19, 'Mirone': 4, 'Mirror': 73, 'Mirù': 26, 'Mission Hardware': 9, 'Mission Hill': 42, 'Mission Park': 3, 'Mission Trail': 19, 'Mistinguett': 10, 'Mistress': 34, 'Mitchell': 12, 'Mitchell Katz Winery': 17, 'Mitchelton': 21, 'Mithra': 169, 'Mitolo': 32, 'Mittnacht Frères': 18, 'Mixed Bag': 5, 'Mocali': 30, 'Mocavero': 22, 'Moccagatta': 50, 'Mochetto': 11, 'Mocine': 17, 'Mockingbird': 132, 'Mocén': 15, 'Modus Operandi': 39, 'Moffett': 32, 'Mogollon': 10, 'Moillard': 70, \"Mojon's Bench\": 25, 'Mola': 36, 'Moletto': 18, 'Molinari Carlo': 69, 'Molino': 31, \"Molino di Sant'Antimo\": 32, 'Mollie': 25, 'Molliver Vineyards': 7, 'Mollydooker': 56, 'Molnar Family': 21, 'Molí dels Capellans': 19, 'Mommessin': 9, 'MommyJuice': 5, 'Monasterio de las Viñas': 11, 'Monastir': 12, 'Moncaro': 22, 'Monchiero': 34, 'Monchiero Carbone': 23, 'Moncigale': 7, 'Mondavi/Rosemount': 10, 'Mondet': 35, 'Mondo del Vino': 6, 'Mondoro': 10, 'Monfil': 6, 'Monfort-Bellevue': 14, 'Mongarda': 12, 'Mongioia': 24, 'Moniker': 20, 'Monmousseau': 10, 'Monochrome': 35, 'Monogamy': 7, 'Monogram': 30, 'Monsieur Touton': 6, 'Mont Gravet': 4, 'Mont Marçal': 15, 'Mont Paral': 10, 'Mont Rubí': 12, 'Mont Saint-Vincent': 2, 'Mont Sec': 9, 'Mont Tauch': 10, 'Mont-Ferrant': 14, 'Montage': 7, 'Montagna': 67, 'Montalbera': 23, 'Montalvo Wilmot': 11, 'Montaribaldi': 32, 'Montaubret': 35, 'Montaudon': 36, 'Montauto': 18, 'Monte Amán': 5, 'Monte Antico': 12, 'Monte Campo': 5, 'Monte Cicogna': 10, 'Monte Cinco': 34, 'Monte Clavijo': 5, 'Monte De Oro': 45, 'Monte Faliesi': 28, 'Monte Faustino': 55, 'Monte Ferro': 16, 'Monte Hiniesta': 25, 'Monte Lago': 14, 'Monte Negro': 15, 'Monte Pinadillo': 10, 'Monte Rossa': 32, 'Monte Santoccio': 19, 'Monte Schiavo': 15, 'Monte Smith': 15, 'Monte Tondo': 19, 'Monte Volpe': 13, 'Monte Zovo': 19, \"Monte dall'Ora\": 66, 'Monte del Frà': 35, 'Monte del Frá': 18, 'Monteabellón': 24, 'Montebaco': 26, 'Montebelli': 15, 'Montebro': 12, 'Montebuena': 8, 'Montecappone': 12, 'Montecariano': 42, 'Montecastro': 28, 'Monteci': 41, 'Montecillo': 13, 'Montecruz': 5, 'Montefrasco': 6, 'Montelle': 9, 'Montelvini': 9, 'Montelvini Venegazzù': 10, 'Montemaggiore': 29, 'Montemar Wines': 35, 'Montemercurio': 31, 'Montenidoli': 20, 'Montenisa': 26, 'Montepeloso': 87, 'Montepio': 8, 'Monteraponi': 46, 'Monterebro': 12, 'Monterey Vineyard': 2, 'Monterotondo': 17, 'Montesco': 24, 'Montesel': 15, 'Montesel Renzo': 14, 'Montesierra': 2, 'Montesole': 17, 'Montespina': 8, 'Montevannos': 14, 'Monteverro': 107, 'Montevertine': 78, 'Montevetrano': 54, 'Montevicor': 8, 'Monteviejo': 36, 'Montevina': 7, 'Montezovo': 30, 'Montezuma': 10, 'Montgó': 8, 'Monthaven': 9, 'Monthuys Père et Fils': 26, 'Monti': 31, 'Monticello Vineyards': 37, 'Montinore': 16, 'Montipagano': 14, 'Montirius': 18, 'Montmassot': 8, 'Montoliva': 15, 'Montona': 23, 'Montonale': 14, 'Montoya': 8, 'Montpellier': 4, 'Montpezat': 7, 'Montresor': 27, 'Montsarra': 11, 'Montserrat Canals Torres': 11, 'Monzio Compagnoni': 19, 'MooBuzz': 12, 'Moon Eyes': 9, 'Moon Mountain Vineyard': 18, 'Moonbeam': 8, 'Moonday Night Harvest': 5, 'Moone-Tsai': 89, 'Mooney Family': 51, 'Moonstone': 22, 'Moorooduc': 46, 'Moorooroo': 11, 'Moralia': 5, 'Morambro Creek': 17, 'Morando': 6, 'Morell-Lawrence': 23, 'Morell-Peña': 37, 'Moreno BHLV': 23, 'Moretti Omero': 27, 'Morey-Blanc': 82, 'Morgadio': 12, 'Morgadío': 12, 'Morgan': 27, 'Morgan Simpson': 13, 'Morgante': 19, 'Morini': 11, 'Morisfarms': 18, 'Morlanda': 39, 'Mormoraia': 12, 'Moro di Rinaldini': 13, 'Moroder': 41, 'Morovino': 13, 'Morris Ranch': 34, 'Morrison Lane': 22, 'Morro Bay': 6, 'Morro View Winery': 18, 'Morse': 16, 'Mosaic': 19, 'Mosby': 16, 'Moscadoro': 7, 'Moscato Bella': 7, 'Moscato Rubino': 5, 'Moscone': 25, 'Moser': 29, 'Moser Scharding': 28, 'Moshin': 37, 'Mosolo Gleni': 10, 'Mosquito Fleet': 31, 'Moss Roxx': 18, 'Moss Wood': 36, 'Mossback': 16, 'Most Wanted Winery': 26, 'Motif': 3, 'Motos Liberty': 7, 'Motta': 13, 'Mottura': 19, 'Moulin Touchais': 50, 'Moulin de Gassac': 5, 'Moulin de Lène': 7, 'Mount Baker': 12, 'Mount Baker Vineyards': 10, 'Mount Eden': 32, 'Mount Eden Vineyards': 37, 'Mount Horrocks': 19, 'Mount Langi Ghiran': 15, 'Mount Mary': 100, 'Mount Palomar': 13, 'Mount Pleasant Winery': 21, 'Mount Si': 21, 'Mount St. Helena': 10, 'Mount Tamalpais': 17, 'Mount Veeder': 50, 'Mountain Dome': 18, 'Mountain Door': 5, 'Mountain Gate': 16, 'Mountain View': 9, 'Mounts': 26, 'Mourrel Azurat': 10, 'Moutard Père et Fils': 40, 'Mouton-Cadet': 5, 'Moxy': 29, 'Moët & Chandon': 109, 'Mr. Riggs': 20, 'Ms. Behave': 30, 'Mt. Billy': 23, 'Mt. Brave': 62, 'Mt. Jagged': 12, 'Mt. Konocti Winery': 22, 'Mt. Monster': 8, 'Mt. Vernon': 21, 'Muddy Arch': 28, 'Muddy Boot': 8, 'Mueller': 32, 'Mueller Family Vineyards': 64, 'Muga': 41, 'Muirwood': 9, 'Mullan Road': 35, 'Mulvane Wine Co.': 50, 'Mumm Cuvée Napa': 21, 'Mumm Napa': 29, 'Municipal Winemakers': 21, 'Munselle': 55, 'Mureda': 5, 'Murgo': 22, 'Muri-Gries': 19, \"Murphy's Law\": 9, 'Murphy-Goode': 16, 'Murray': 13, 'Murray Street': 38, \"Murrieta's Well\": 21, 'Muruve': 13, 'Muròla': 10, 'Muscardini': 32, 'Muse': 32, 'Musella': 33, 'Musetta': 20, 'Museum': 17, 'Musset-Roullier': 15, 'Musso': 30, 'Mustache Vineyards': 10, 'Mustiguillo': 38, 'Mustilli': 15, 'Mutt Lynch': 12, 'Mutuo': 11, 'Muzic': 15, 'My Essential': 11, 'My Moon': 5, 'Myka': 19, 'Myriad Cellars': 30, 'Mystic Cliffs': 2, 'Mythology': 14, 'Máté': 47, 'Mähler-Besse': 17, 'Médeville Collection': 34, 'Mémoires': 6, 'Ménage a Trois': 8, 'Ménage à Trois': 10, 'N. Kendall Wines': 25, 'Nabuko': 8, 'Naches Heights': 11, 'Nacido del Quórum': 15, 'Nacina': 14, 'Nada Fiorenzo': 32, 'Nada Giuseppe': 35, 'Nadia': 29, 'Nadine et Maurice Guerrin': 28, 'Naggiar': 21, 'Nagy': 26, 'Nagy 2': 23, 'Naia': 12, 'Naiara': 28, 'Naked Mountain': 15, 'Nalle': 32, 'Nals Margreid': 17, 'Namasté Vineyards': 10, 'Nando': 6, 'Nanfro': 16, \"Nanna's Short Cake\": 13, 'Nanni Copè': 62, 'Nanni Copé': 40, 'Napa Angel': 62, 'Napa Angel by Montes': 62, 'Napa Cellars': 19, 'Napa Creek': 8, 'Napa Dan': 18, 'Napa Family Vineyards': 5, 'Napa Glen': 23, 'Napa Redwoods Estate': 41, 'Napa Ridge': 5, 'Napa Smith': 31, 'Napa Station': 13, 'Napa Valley Cattle Company': 40, 'Napa Valley Vineyards': 10, 'Napa Wine Co.': 22, 'Napa by N.A.P.A.': 14, 'Napeequa': 15, 'Napoma': 25, 'Nardello': 10, 'Nardone Baker': 5, 'Narmada': 21, 'Narrow Gate': 18, 'Narsai David': 40, 'Nashwauk': 66, 'Natale Verga': 9, 'Nathalie et Gilles Fèvre': 18, 'Nathaniel Rose': 84, 'Nativ': 24, 'Native 9': 50, 'Native Flora': 47, 'Native Sun': 46, 'Natura Iblea': 19, 'Naughty Boy': 12, 'Navardia': 7, 'Navarro': 17, 'Navarro Correas': 15, 'Neal Family': 36, 'Nearly Naked': 7, 'Nebla': 7, 'Nefarious': 22, 'Nefarious Cellars': 19, 'Negretti': 43, 'Negro Angelo e Figli': 39, 'Negro Giuseppe': 41, 'Negro Lorenzo': 19, 'Neirano': 6, 'Nelle': 29, 'Nelms Road': 16, 'Nelson': 18, 'Nelson Family Vineyards': 19, 'Nelwood Wines': 7, 'Nemesio': 11, 'Neo': 40, 'Nepenthe': 13, 'Nera': 24, 'Nerelli': 32, 'Nervi': 36, 'Nessa': 10, 'Neu Direction': 6, 'Nevada Ridge': 20, 'Neveu': 9, 'New Departure': 20, 'New Kent': 16, 'Newell': 29, 'Newhouse Family': 41, 'Newlan': 15, \"Newman's Own\": 5, 'Newsome-Harlow': 23, 'Newsprint': 15, 'Newton': 52, 'Neyers': 37, 'Niagara Landing': 19, 'Nica': 6, 'Nice': 57, 'Nice Pairing': 7, 'Nicholas Cole': 45, 'Nicholas Cole Cellars': 52, 'Nicholls': 36, 'Nicholson Ranch': 38, 'Nick Faldo': 9, 'Nickel & Nickel': 70, 'Nickname': 6, 'Nico': 14, 'Nicolas Feuillatte': 65, 'Nicolas Gaudry': 21, 'Nicolas Idiart': 13, 'Nicolas Maillet': 23, 'Nicolas Millet': 17, 'Nicolas Potel': 74, 'Nicolas-Jay': 69, 'Nicolaysen Family Vineyards': 41, 'Nicolis': 42, 'Nicolucci': 22, 'Nicora': 44, 'Nicosia': 11, 'Nidia': 10, 'Niebaum-Coppola': 71, 'Niedermayr Josef': 22, 'Niedrist': 34, 'Niel Santofimia': 5, 'Nielson by Byron': 20, 'Nieto Senetiner': 13, 'Night Harvest by R.H. Phillips': 3, 'Night Owl': 7, 'Nine Barrel': 60, 'Nine Gables': 14, 'Nine Hats': 13, 'Nine North Wine Company': 12, 'Nine Stones': 8, 'Nine x Nine': 8, 'Niner': 28, 'Ninety+': 15, 'Nino Franco': 23, 'Nino Negri': 35, 'Ninth Island': 13, 'Ninín': 23, 'Nipa': 23, 'Nirvana': 5, 'Nisia': 16, 'Nita': 19, 'Nittardi': 29, 'Nitty Gritty': 23, 'Nivarius': 9, \"Nk'Mip Cellars\": 18, 'No': 7, 'No BS': 4, 'No Girls': 61, 'No Limit': 57, 'No Time': 6, 'Noah': 19, 'Nobelle': 23, 'Nobilissima': 9, 'Nobility': 64, 'Noble Aconcagua': 9, 'Noble Estate': 18, 'Noble Tree': 13, 'Noble Vines': 8, 'Nobos': 15, 'Noceto': 16, 'Nodland': 21, 'Noelia Ricci': 19, 'Nola': 23, 'Nomadica': 19, 'Nonno Zito': 46, 'Noon': 105, 'Nora': 13, 'Nora da Neve': 21, 'Nord Estate': 33, 'Nordby': 46, 'Norman': 16, 'Normans': 10, 'North 42 Degrees': 15, 'North Gate': 15, 'North by Northwest': 22, 'Northstar': 39, 'Northwest Cellars': 19, 'Northwest Collection': 19, 'Northwest Totem Cellars': 22, 'Nos Riqueza': 9, 'Noster Inicial': 14, 'Nostrada': 5, 'Notre Vin': 90, 'Notro': 7, 'Nottingham Cellars': 34, 'Nottola': 21, 'Nova Vita': 21, 'Novaia': 38, 'Novella': 5, 'Novelty Hill': 19, 'Noviello': 26, 'Novus': 7, 'Novy': 19, 'Now Presenting...': 7, 'Nuestra Familia Bodeguera': 20, 'Nuestras Cepas': 10, 'Nugan Family Estates': 10, 'Nuggucciet': 30, 'Nuiton-Beaunoy': 24, 'Numanthia': 92, 'Nuna': 12, 'Nuntia Vini': 19, 'Nunum': 37, 'Nuthatch Cellars': 23, 'Nōmade': 10, 'O': 9, 'O Rei de Campoverde': 17, \"O'Brien\": 38, \"O'Connor\": 28, \"O'Reilly's\": 9, \"O'Shaughnessy\": 55, \"O'Vineyards\": 13, 'O-Neh-Da': 12, 'O. Fournier': 22, 'ONX': 36, 'OS Winery': 24, 'OT': 14, 'OZV': 8, 'Oak Farm': 18, 'Oak Farm Vineyards': 22, 'Oak Grove': 3, 'Oak Knoll': 12, 'Oak Mountain': 87, 'Oak Ridge': 10, 'Oak Summit': 22, 'Oak and Vine': 7, 'Oakford': 70, 'Oakridge': 15, 'Oakstone': 12, 'Oakville Cross': 50, 'Oakville East': 98, 'Oakville Ranch': 47, 'Oakville Terraces': 91, 'Oakville Winery': 29, 'Oakwild Ranch': 32, 'Oasi degli Angeli': 146, 'Obalo': 11, 'Obelisco Estate': 43, 'Oberon': 15, 'Obrien & Obrien': 21, 'Obscurity': 17, 'Obsession': 10, 'Obsidian': 23, 'Obsidian Ridge': 31, 'Obvio': 7, 'Obviously': 7, 'Ocaso': 6, \"Occam's Razor\": 41, 'Occasio': 25, 'Occhioverde': 12, 'Occhipinti': 29, 'Occidental Road Cellars': 26, 'Ocelli': 28, 'Ochoa': 12, 'Ocone': 13, 'Oddero': 63, 'Odette': 85, 'Odisea': 19, 'Odonata': 25, 'Odyssea': 4, 'Odyssey': 21, 'Oenophile Wines': 20, 'Oeste Verde': 10, 'Of The Place': 20, 'Ofanto': 23, 'Oferente': 14, 'Off the Leash.': 17, 'Ogier': 20, 'Ognissole': 19, 'Ojai': 29, 'Okapi': 47, 'Olabisi': 42, 'Old Acre Wines': 105, 'Old Cannery Row': 11, 'Old Ghost': 30, 'Old House': 13, 'Old School': 30, 'Old Soul': 9, 'Old Winery': 11, 'Old World': 20, 'Olde Lockford': 10, 'Olek Bondonio': 59, 'Olema': 14, 'Oliver Conti': 26, 'Oliverhill': 23, 'Olivero': 41, 'Olivetta': 9, 'Olivi': 38, 'Olivier Leflaive': 93, 'Olivier Ravoire': 34, 'Olivier Rivière': 47, 'Olivini': 21, 'Ollivier Frères': 7, 'Olsen': 17, 'Olsen Estates': 24, 'Olsen Family Vineyards': 14, 'Olson Ogden': 35, 'Olvena': 24, 'Ombu': 7, 'Omen': 14, 'Omero': 28, 'On Point': 29, 'On Q': 106, 'OnThEdge': 34, 'Onabay': 15, 'Once Upon a Vine': 8, \"Once and It's Gone\": 13, 'One': 30, 'One And Done': 5, 'One Chain': 10, 'One Hope': 15, 'One Iron': 32, 'One Leaf': 8, 'One Million Cuttings': 17, 'One Three': 19, 'One Woman': 25, 'Onesta': 18, 'Onix': 15, 'Onlooker': 19, 'Onward': 20, 'Opaque': 24, 'Open Book': 30, 'Open Range': 11, 'Ophalum': 10, 'Opolo': 23, 'Optima': 22, 'Opus One': 173, 'Oraison': 6, 'Orballo': 16, 'Orchid Hill': 21, 'Ordaz Family Wines': 33, 'Oreades': 4, 'Oreana': 13, 'Oregon Territory': 12, 'Oregon Trails': 14, 'Orentano': 30, 'Orfila': 25, 'Organic Vintners': 11, 'Oriel': 32, 'Origin': 18, 'Origin Napa': 20, 'Original House Wine': 6, 'Oriol Rossell': 16, 'Orion Wine': 8, 'Orion Wines': 7, 'Orlando Abrigo': 30, 'Orma': 75, 'Ormanni': 24, 'Ormilles': 7, 'Ornella Molon': 13, 'Ornellaia': 113, 'Oro de Castilla': 10, 'Orogeny': 29, 'Orpheus': 16, 'Orsi Family Vineyards': 24, 'Ortman Family': 24, 'Oráculo': 62, 'Osborne': 11, 'Osborne Selección': 15, 'Oscar Bosio': 8, 'Oso Libre': 29, 'Osoti': 7, 'Osoyoos Larose': 23, \"Osprey's Dominion\": 19, 'Ossiam': 5, 'Ossian': 23, 'Ostatu': 20, 'Ostras Pedrin': 11, 'Otanon': 9, 'Otazu': 13, 'Otero Ramos': 23, 'Otis Kenyon': 25, 'Otium': 20, 'Ott & Murphy': 21, 'Ottella': 19, 'Ottimino Vineyards': 23, 'Our Daily Red': 5, 'Ousterhout': 24, 'Outback Chase': 2, 'Outlander': 4, 'Outlier': 18, 'Outlot': 13, 'Ovation': 44, 'Ovene': 27, 'Overbluff Cellars': 15, 'Overland': 22, 'Ovid': 173, 'Ovidio García': 46, 'Ovum': 19, 'Owen Roe': 38, \"Owen's Estate\": 9, 'Owen-Sullivan': 35, 'Owl Ridge': 23, 'Oxer Basteguieta': 64, 'Oxford Landing': 4, 'Oyikil': 23, 'Ozwell Vintners': 6, 'Ozzie-Ba-Ru': 11, 'O•S Winery': 21, 'P. Louis Martini': 37, 'P2': 36, 'PLR Legacy': 23, 'PRIE Vineyards and Winery': 19, 'Pablo Claro': 10, 'Pablo del Villar': 5, 'Pace': 28, 'Pacific Coast': 30, 'Pacific Crest': 12, 'Pacific Echo': 21, 'Pacific Flyway': 4, 'Pacific Heights Wines': 16, 'Pacific Oasis': 10, 'Pacific Ridge': 39, 'Pacific Rim': 13, 'Pacific Star': 13, 'Pacifica': 24, 'Paco & Lola': 15, 'Paco Garcia': 20, 'Padelletti': 65, 'Padilla Erickson': 28, 'Padis': 76, 'Paeonia': 23, 'Paetra': 18, 'Pagani': 14, 'Pagani de Marchi': 28, 'Page Cellars': 24, 'Page Mill Winery': 20, 'Page Springs': 24, 'Pago Aylés': 5, 'Pago Casa Gran': 12, 'Pago Casa del Blanco': 19, 'Pago Jean Leon': 46, 'Pago de Callejo': 41, 'Pago de Carraovejas': 66, 'Pago de Larrainzar': 37, 'Pago de Sangara': 45, 'Pago de Valdetruchas': 13, 'Pago de la Jaraba': 6, 'Pago de los Capellanes': 55, 'Pago del Vostal': 12, 'Pagos Familia Langa': 11, 'Pagos de Quintana': 31, 'Pagos de Valcerracin': 26, 'Pagos del Galir': 11, 'Pagos del Moncayo': 16, 'Pagos del Rey': 10, 'Pagter Brothers': 35, 'Pahlmeyer': 72, 'Pahrump Valley Winery': 64, 'Pahí Poboleda': 21, 'Paiko': 6, 'Painous': 10, 'Painted Rock': 49, 'Painter Bridge': 2, 'Paitin': 37, 'Paix Sur Terre': 36, 'Paixar': 71, 'Pala': 22, 'Palacio de Bornos': 9, 'Palacio de Fefiñanes': 18, 'Palacio de La Vega': 8, 'Palacio de Primavera': 28, 'Palacio del Burgo': 9, 'Palacios Remondo': 25, 'Paladin': 10, 'Palagetto': 13, 'Palaia Vineyards': 11, 'Palamà': 13, 'Palandri': 7, 'Palari': 64, 'Palazzo': 61, 'Palazzo Maffei': 32, 'Palazzo Vecchio': 24, 'Palazzo Wine': 48, 'Palazzone': 12, 'Palencia': 26, 'Pali': 31, 'Palladino': 50, 'Pallas': 9, 'Palma Real': 7, 'Palmadina': 7, 'Palmaz': 79, 'Palmer': 15, 'Palmer & Co': 73, 'Palmeri': 42, 'Palmina': 33, 'Palmoletino': 10, 'Palo Alto': 14, 'Paloma': 42, 'Palos': 9, 'Palouse': 27, 'Paltrinieri': 16, 'Palumbo Family Vineyards': 36, 'Paluzzi': 8, \"Pam's Cuties\": 0, 'Pampa': 6, 'Pampano': 4, 'Pampas del Sur': 7, 'Pamplin': 31, 'Panache Cellars': 17, 'Panarroz': 6, 'Pandemonium': 5, 'Pandemonium Wines': 7, 'Pangloss Cellars': 25, 'Paniole': 22, 'Panizzi': 18, 'Pannier': 51, 'Pannotia Vineyards': 6, 'Pannunzio': 8, 'Pantago': 7, 'Panthea': 32, 'Panther Creek': 34, 'Panzanello': 17, 'Paoletti': 39, 'Paolo Calì': 17, 'Paolo Manzone': 50, 'Paolo Marcarino': 9, 'Paolo Rodaro': 20, 'Paolo Scavino': 65, 'Papa Luna': 15, 'Papapietro Perry': 43, 'Pappas Wine Company': 12, 'Paracombe': 23, 'Paradigm': 42, 'Paradis': 5, 'Paradise Peak': 4, 'Paradise Ranch': 28, 'Paradise Ridge': 25, 'Paradise Springs': 26, 'Paradiso di Frassina': 62, 'Paradisone': 45, 'Paraducci Wine Cellars': 32, 'Paraduxx': 52, 'Paraiso Vineyards': 19, 'Parallel': 77, 'Parallel Rows': 28, 'Paramo de Corcos': 21, 'Paramus': 10, 'Paranoia': 5, 'Paraschos': 16, 'Paratus': 76, 'Parcel 41': 15, 'Pardas': 24, 'Pardevalles': 18, 'Pardon et Fils': 14, 'Parducci': 13, 'Paredon': 28, 'Parejas Cellars': 10, 'Parigot & Richard': 17, 'Paringa': 8, 'Paripaso': 7, 'Paris Valley Road Cellars': 9, 'Paris-Simoneau': 7, 'Park Lane': 12, 'Parker': 40, 'Parker Station': 8, 'Parkers Estate': 13, 'Parkmon': 19, 'Parmeson': 29, 'Parmoleto': 19, 'Paro': 24, 'Parra Family': 6, 'Parrish Family': 44, 'Parry Cellars': 50, 'Parsonage Village': 39, 'Parusso': 54, 'Parxet': 16, 'Parés Baltà': 20, 'Pasaje Alto': 7, 'Pasanau Germans': 26, 'Pascal & Alain Lorieux': 32, 'Pascal & Nicolas Reverdy': 17, 'Pascal Aufranc': 17, 'Pascal Berthier': 18, 'Pascal Bouchard': 44, 'Pascal Doquet': 57, 'Pascal Granger': 12, 'Pascal Jolivet': 34, 'Pascal Rollet': 25, 'Paschal': 15, 'Pascual Toso': 22, 'Pasetti': 24, 'Pasini San Giovanni': 14, 'Pasion de Tango': 5, 'Paskett': 20, 'Paso Creek': 12, 'Paso a Paso': 5, 'PasoPort': 25, 'Pasolasmonjas': 21, 'Pasorina': 5, 'Pasqua': 32, 'Pasquale Pelissero': 25, 'Passaggio': 33, 'Passalacqua': 33, 'Passing Clouds': 23, 'Passing Time': 64, 'Passion Vineyards': 18, 'Passopisciaro': 51, 'Pat Paulsen Vineyards': 18, 'Pata Negra': 7, 'Patel': 102, 'Paterna': 12, 'Paternoster': 40, 'Paternò di Vittoria': 32, 'Patianna': 13, 'Patient Cottat': 16, 'Patit Creek': 22, 'Patit Creek Cellars': 17, 'Patland': 73, 'Patria': 20, 'Patriarche Père et Fils': 12, 'Patrice Moreux': 23, 'Patricia Green Cellars': 40, 'Patrick Coulbois': 16, 'Patrick De Ladoucette': 10, 'Patrick M. Paul': 21, 'Patrick Tranchand': 16, 'Patrimony': 246, 'Patritti': 10, 'Patrocinio': 11, 'Patterson': 21, 'Patton Valley': 38, 'Patz & Hall': 47, 'Paul Beaudet': 11, 'Paul Blanck': 20, 'Paul Bouchard & Cie': 4, 'Paul Buisse': 7, 'Paul Cheneau': 9, 'Paul Delane': 13, 'Paul Dolan': 18, 'Paul Durdilly': 7, 'Paul Hobbs': 96, 'Paul Jaboulet Aîné': 58, 'Paul Lato': 50, 'Paul Mathew': 28, \"Paul O'Brien\": 28, 'Paul Prieur et Fils': 18, 'Paul Reitz': 14, 'Paul Thomas': 3, 'Paul de Albas': 78, 'Pauletts': 17, 'Paulo': 37, 'Paumanok': 21, 'Pavilion': 7, 'Pavilion Crossing': 8, 'Pavillion Crossing': 8, 'Pavin & Riley': 5, 'Pavona': 12, 'Pax': 37, 'Paxton': 25, 'Payana': 6, 'Pazo Baión': 30, 'Pazo De Villarei': 14, 'Pazo Pondal': 12, 'Pazo Ribeiro': 5, 'Pazo San Mauro': 12, 'Pazo Serantellos': 6, 'Pazo Torrado': 10, 'Pazo Viladomar': 11, 'Pazo da Bouciña': 12, 'Pazo das Tapias': 9, 'Pazo de Arribi': 13, 'Pazo de Barrantes': 24, 'Pazo de Eiras': 20, 'Pazo de Galegos': 17, 'Pazo de Señorans': 31, 'Pazos del Rey': 10, 'Pazzo': 25, \"Pe're Alessandro\": 23, 'Peace Water': 32, 'Peachy Canyon': 22, 'Peacock Cellars': 21, 'Peake Ranch': 32, 'Pear Valley': 21, 'Pearl and Stone': 30, 'Pearmund': 18, 'Pearson Vineyards': 28, 'Pecchenino': 32, 'Pecci Celestino': 65, 'Pech Merle': 21, 'Peconic Bay Winery': 17, 'Pecunia': 40, 'Pedernales': 22, 'Pedestal': 49, 'Pedro Escudero': 9, 'Pedro Romero': 44, 'Pedroncelli': 10, 'Pegaso': 42, 'Pegasus Estate': 46, 'Pehu-Simonet': 60, 'Peique': 27, 'Peirano': 7, 'Peju': 43, 'Peju Province': 24, 'Peju Province Winery': 46, 'Pelassa': 19, 'Pelissero': 49, 'Pellegrini': 21, 'Pellegrini Vineyards': 19, 'Peller': 76, 'Pellet Estate': 69, 'Peloton': 24, 'Peltier': 12, 'Peltier Station': 7, 'Pelton House': 30, 'Pelvillain Frères': 12, 'Pemartín': 8, 'Penascal': 4, 'Pence Ranch': 31, 'Penché': 49, \"Pend d'Oreille\": 15, 'Pendleton': 29, 'Pendulum': 13, 'Penedo Borges': 19, 'Penelope Sanchez': 7, 'Penfolds': 82, 'Penguin Bay': 10, 'Peninsula': 12, 'Peninsula Ridge': 19, 'Penley Estate': 28, 'Penman Springs': 18, 'Penmara': 5, 'Penner-Ash': 43, 'Penns Woods': 37, \"Penny's Hill\": 22, 'Pennyfield Wines': 13, 'Pennyroyal Farm': 25, 'Pennywise': 7, 'Pentagon': 21, 'Penumbra': 17, 'Penya': 7, \"People's Wine Revolution\": 12, 'Pepi': 5, 'Pepi Lignana': 14, 'Pepper Bridge': 46, 'Pepper Tree': 44, 'Pepperwood Grove': 4, 'Per Sempre': 40, 'Peralta': 5, 'Perazzeta': 12, 'Perbacco Cellars': 24, 'Perception': 42, 'Pere Ventura': 13, 'Perelada': 16, 'Perfect 10': 5, 'Peri Bigogno': 22, 'Perimeter': 5, 'Periple': 21, 'Periscope': 13, 'Perla del Garda': 20, 'Perlage': 13, 'Perrier Jouët': 151, 'Perrin & Fils': 16, 'Perry Creek': 16, 'PerryMoore': 99, 'Perticaia': 23, 'Pertinace': 30, 'Perusini': 20, 'Pescaja': 23, 'Pesquera': 33, 'Pessagno': 27, 'Pessagno Winery': 18, 'Pessimist': 6, 'Pestoni Family': 36, 'Petaluma': 34, 'Peteglia': 25, 'Peter Cellars': 23, 'Peter Franus': 28, 'Peter Howland': 21, 'Peter Lehmann': 30, 'Peter McCoy': 37, 'Peter Michael Winery': 65, 'Peter Paul Wines': 37, 'Peter Weber': 7, 'Peter Zemmer': 13, 'Peters Family': 36, 'Peterson': 20, 'Petit & Bajan': 50, 'Petit Bistro': 5, 'Petite Sirène': 12, 'Petito': 46, 'Petra': 51, 'Petrolo': 47, 'Petroni': 38, 'Petrucco': 11, 'Petrussa': 14, 'Pettavel': 19, 'Pewsey Vale': 17, 'Pey-Marin': 25, 'Peza do Rei': 12, 'Pezat': 12, 'Pezzi King': 25, 'Peña Roble': 17, 'Peñagudo': 18, 'Peñalba Herraiz': 10, 'Peñascal': 4, 'Pfeiffer': 12, 'Pfendler': 34, 'Phantom Bay': 5, 'Phantom Rivers': 20, 'PharaohMoans': 89, 'Pheasant Valley Winery': 20, 'Phebus': 18, 'Phelan Vineyard': 64, 'Phelps Creek': 23, 'Phifer Pavitt': 66, 'Philip Carter': 30, 'Philip Shaw': 23, 'Philip Staley': 12, 'Philippe Borlais': 9, 'Philippe Colin': 71, 'Philippe Fontaine': 58, 'Philippe Girard': 20, 'Philippe Gonet': 29, 'Philippe Jeannot': 23, 'Philippe Pacalet': 202, 'Philippe Portier': 15, 'Philippe Prié': 41, 'Philippe Raguenot': 10, 'Philippe Viallet': 15, 'Philippe-Lorraine': 14, 'Philipponnat': 74, 'Phillips Hill': 33, 'Philo Ridge': 18, 'Phipps': 32, 'Phoenix': 21, 'Phoenix Ranch': 20, 'Piaggia': 32, \"Pian dell'Orino\": 55, 'Pian delle Querci': 37, 'Pian delle Vigne': 73, 'PianCornello': 55, 'Piandibugnano': 20, 'Pianetta': 27, 'Pianirossi': 14, 'Piantate Lunghe': 22, 'Piattelli': 12, 'Piazzano': 16, 'Piazzo Armando': 30, 'Picardy': 21, 'Picayune': 20, 'Picazo': 62, 'Picciau': 8, 'Piccini': 20, 'Piccoli': 25, 'Piccolo': 19, 'Picket Fence': 13, 'Picnic at Pomar Junction': 10, 'Pico Cuadro': 16, 'Pico Maccario': 12, 'Pico Madama': 29, 'Picolino': 12, 'Picos Pardos': 13, 'Pictor': 37, 'Piedra Creek': 19, 'Piedra Hill': 39, 'Piedrasassi': 38, 'Piegaia': 13, 'Pier': 48, 'Piera Martellozzo': 11, 'Pierluigi Zampaglione': 5, 'Piero Busso': 54, 'Piero Mancini': 10, 'Pieropan': 30, 'Pierpaolo Pecorari': 12, 'Pierre Amadieu': 29, 'Pierre André': 39, 'Pierre Archambault': 14, 'Pierre Boniface': 12, 'Pierre Chainier': 5, 'Pierre Chardigny': 17, 'Pierre Cornu Camus': 26, 'Pierre Coursodon': 19, 'Pierre Deschamps': 10, 'Pierre Dupond': 3, 'Pierre Gaillard': 20, 'Pierre Gerbais': 53, 'Pierre Gimonnet et Fils': 55, 'Pierre Gonon': 29, 'Pierre Gruber': 12, 'Pierre Henri Morel': 32, 'Pierre Jacolin': 14, 'Pierre Jean': 2, 'Pierre Merguey': 26, 'Pierre Moncuit': 50, 'Pierre Morey': 65, 'Pierre Morin': 20, 'Pierre Moulin': 8, 'Pierre Ponnelle': 8, 'Pierre Prieur et Fils': 17, 'Pierre Péters': 49, 'Pierre Qui Roule': 5, 'Pierre Sparr': 16, 'Pierre Vessigaud': 23, 'Pierre and Charles Sparr': 10, 'Pierre-Luc Bouchaud': 9, 'Pierre-Yves et Olivier Fichet': 13, 'Piersanti': 5, 'Pietra Santa': 15, 'Pietracolata': 5, 'Pietracupa': 27, 'Pietradolce': 37, 'Pietrafitta': 12, 'Pietralta': 16, 'Pietranera': 44, 'Pietraventosa': 19, 'Pietro Beconcini': 22, 'Pietro Caciorgna': 38, 'Pietro Clementi': 36, 'Pietro Rinaldi': 43, 'Pietro Zardini': 34, 'Pietroso': 40, 'Pievalta': 19, 'Pieve Santa Restituta': 140, 'Pieve Santo Stefano': 21, 'Pieve Vecchia': 11, \"Pieve de' Pitti\": 14, 'Pig & Poke': 10, 'Pighin': 13, 'Pigro': 10, 'Pike Road': 11, 'Pikes': 19, 'Pilandro': 12, 'Pillar Rock': 110, 'Pillitteri': 36, 'Pillsbury': 26, 'Pinanfarina': 46, 'Pindal': 5, 'Pindar Vineyards': 14, 'Pine & Brown': 48, 'Pine & Post': 2, 'Pine Ridge': 60, 'Pingao': 8, 'Pingón': 30, 'Pininfarina': 82, 'Pinino': 31, 'Pink Flamingo': 4, 'Pink Truck': 4, 'Pink by Yellowglen': 7, 'Pino': 13, 'Pinord': 16, 'Pinot Evil': 10, 'Pinot Patch': 9, \"Pinot d'Oro\": 20, 'Pintia': 55, 'Pinuaga': 10, 'Pio Cesare': 50, 'Piocho': 22, 'Pioiero': 17, 'Piollot Père et Fils': 39, 'Piombaia Rossi-Cantini': 48, 'Piper Sonoma': 12, 'Piper-Heidsieck': 55, 'Pipers Brook Vineyard Estate': 13, 'Pipestone Vineyards': 28, 'Pipeta': 11, 'Piping Shrike': 10, 'Pippin Hill Farm': 18, 'Pirathon': 23, 'Pircas Negras': 6, 'Piro': 32, 'Piro Piro Piccolo': 14, 'Pirouette': 49, 'Pirro Varone': 19, 'Pisoni': 22, 'Pitars': 10, 'Pittacum': 30, 'Pittsburgh': 46, 'Piziali': 25, 'Pizzolato': 7, 'Piña': 68, 'Placido': 4, 'Plaisance Ranch': 21, 'Plan B': 27, 'Planeta': 26, 'Plantagenet': 14, 'Platform 9': 13, 'Playtime': 8, 'Plaza de Mulas': 3, 'Plowbuster': 14, 'Plozner': 11, 'Plozza': 50, 'Plumb Cellars': 22, 'Plumia': 18, 'Plumpjack': 57, 'Plungerhead': 11, 'Plush': 22, 'Pluvium': 4, 'PoderNuovo a Palazzone': 23, 'Podere Brizio': 60, 'Podere Capaccia': 20, 'Podere Castellinuzza': 14, 'Podere Ciona': 16, 'Podere Forte': 133, 'Podere Guado al Melo': 20, 'Podere Il Castellaccio': 14, \"Podere L'Aione\": 41, 'Podere La Berta': 10, 'Podere La Cappella': 16, 'Podere La Vigna': 46, 'Podere Le Ripi': 115, 'Podere Monastero': 46, 'Podere Paganico': 32, 'Podere Prospero': 38, 'Podere Provinciale Cantina Laimburg': 12, 'Podere Ruggeri Corsini': 32, 'Podere San Cristoforo': 20, 'Podere San Giacomo': 43, 'Podere Sapaio': 45, 'Podere Scopetone': 50, 'Podere ai Valloni': 35, 'Podere dal Nespoli': 16, 'Podere dei Brichhi Astigiani': 10, 'Podere il Caio': 8, 'Podere il Pozzo': 17, 'Podere la Marronaia': 11, 'Poderi Alasia': 21, 'Poderi Aldo Conterno': 111, 'Poderi Angelini': 14, 'Poderi Arancio': 10, 'Poderi Arcangelo': 10, 'Poderi Brizio': 60, 'Poderi Colla': 40, 'Poderi Elia': 46, 'Poderi Foglia': 10, 'Poderi Luigi Einaudi': 53, 'Poderi Morini': 10, 'Poderi San Lazzaro': 19, 'Poderi dal Nespoli 1929': 14, 'Poderi dei Bricchi Astigiani': 19, 'Poderi del Paradiso': 20, 'Podversic Damijan': 55, 'Poema': 8, \"Poet's Leap\": 23, 'Poetic Cellars': 25, 'Poggi Wines': 64, 'Poggiarellino': 36, 'Poggio Ai Chiari': 35, 'Poggio Al Mulino': 25, 'Poggio Alloro': 16, 'Poggio Antico': 73, 'Poggio Argentiera': 25, 'Poggio Bertaio': 14, 'Poggio Bonelli': 22, 'Poggio Borgoni': 35, 'Poggio Dei Poggi': 11, 'Poggio Lungo': 15, 'Poggio Mandorlo': 43, 'Poggio Morino': 10, 'Poggio Nardone': 34, 'Poggio Nicchiaia': 5, 'Poggio Rubino': 50, 'Poggio Salvi': 8, 'Poggio Scalette': 42, 'Poggio Stenti': 27, 'Poggio Trevvalle': 14, 'Poggio Verrano': 37, 'Poggio al Casone': 12, 'Poggio al Chiuso': 16, 'Poggio al Lupo': 52, 'Poggio al Tesoro': 39, 'Poggio al Tufo': 13, 'Poggio al Vento': 19, 'Poggio alla Sala': 19, 'Poggio alle Querce': 20, 'Poggio alle Sughere': 15, 'Poggio di Bortolone': 32, 'Poggio di Sotto': 232, 'Poggio il Castellare': 61, 'Poggiobello': 16, 'Poggiotondo': 26, 'Poggioventoso': 19, 'Poiema': 15, 'Point & Line': 34, 'Point Concepción': 14, 'Point Ormond': 10, 'Poissinet': 42, 'Pojer & Sandri': 15, 'Pol Roger': 101, 'Poliziano': 29, 'Pollak': 23, 'Pomar Junction': 27, 'Pomar Viñedos': 13, 'Pomelo': 5, 'Pommery': 56, 'Pomum': 23, 'Pomum Cellars': 23, 'Ponchione Maurizio': 16, 'Pondera': 26, 'Pont de Chevalier': 56, 'Pont du Rhône': 7, 'Ponte': 38, 'Ponte Vecchio': 9, 'Ponte da Boga': 21, 'Pontecilla': 5, 'Pontin del Roza': 8, 'Ponzi': 34, 'Pooles Rock Wines': 13, 'Poonawatta Estate': 55, 'Popcorn': 10, 'Pope Valley Winery': 24, 'Portal del Montsant': 24, 'Portal del Priorat': 25, 'Portalupi': 33, 'Porter Family Vineyards': 43, 'Portfolio': 121, 'Portia': 29, 'Portlandia': 19, 'Portola Vineyards': 28, 'Ports of New York': 37, 'Poseidon': 32, 'Posh': 7, 'Posto Bello': 11, 'Potek': 39, 'Potel-Aviron': 8, 'Potomac Point': 17, \"Potter's Vineyard\": 19, 'Poupille': 28, 'Powers': 14, 'Powicana Farm': 30, 'Pozo Valley': 15, 'Pozzi': 5, 'Prada A Tope': 14, 'Pradio': 5, 'Prado Rey': 16, 'Pradorey': 16, 'Prager': 41, 'Pratello': 12, 'Pratesi': 18, 'Praxis': 13, 'PreVail': 78, 'Precedent': 19, 'Predator': 10, 'Preece': 10, 'Prejean': 7, 'Prelius': 12, 'Preludio': 15, 'Premius': 5, 'Première': 8, 'Presidio': 12, \"Presqu'ile\": 34, 'Press Cellars': 23, 'Pressed': 32, 'Preston': 15, 'Prestwood': 68, 'Pretty Sally': 19, 'Pretty-Smith': 18, 'Previous': 18, 'Pricum': 58, 'Pride Mountain': 64, 'Priest Ranch': 32, 'Prieure Saint-Hippolyte': 8, 'Prieuré St. Jean de Bébian': 37, 'Prieuré de Montézargues': 18, 'Prim Family': 46, 'Prima & Nuova Cantina': 7, 'Prima Cuvee': 9, 'Prima Cuvée': 10, 'Prima Materia': 20, 'Prima Mazzo': 8, 'Primarius': 11, 'Prime': 40, 'Prime Solum': 60, 'Primo Estate': 14, 'Primos': 19, 'Primosic': 17, 'Primus': 14, 'Prince Michel': 10, 'Prince de Tabourg': 14, 'Princesa': 13, 'Principe Corsini': 28, 'Principe Corsini Fattoria Le Corti': 32, 'Principe Pallavicini': 11, 'Principe di Corleone': 12, 'Principessa Gavia': 9, 'Principessa Perlante': 11, 'Principi di Porcìa': 6, 'Principi di Spadafora': 22, 'Principiano': 9, 'Principiano Ferdinando': 29, 'Prinsi': 37, 'Prior Art': 12, 'Prior Pons': 38, 'Privitera': 8, 'Prix': 48, 'Prizm': 50, 'Procrastinate': 5, 'Prodigal': 38, 'Prodigo': 6, 'Producta Vignobles': 9, 'Producteurs Plaimont': 14, 'Produttori Colterenzio': 21, 'Produttori Vini Manduria': 8, 'Produttori del Barbaresco': 50, 'Proelio': 20, 'Proemio': 21, 'Progettidivini': 7, 'Project Paso': 8, 'Promessa': 4, 'Prominence': 20, 'Promise': 201, 'Proper': 37, 'Prophecy': 9, 'Proprietà Sperino': 45, 'Prospect 772': 28, 'Prosper': 28, 'Prosper Maufoux': 30, 'Prospero': 17, 'Proteus': 21, 'Protos': 34, 'Proulx': 29, 'Provenance Vineyards': 46, 'Provence Rosé': 8, 'Provence Wine Maker': 14, 'Proverbial': 21, 'Provincial Vineyards': 22, 'Provolo': 80, 'Proximity': 69, 'Proximity Twenty Six': 64, 'Pruneto': 21, 'Prunotto': 43, 'Prà': 22, 'Prêt a Boire': 64, 'Príncipe de Viana': 11, 'Publix': 17, 'Puccioni': 22, 'Puelles': 28, 'Puerta Colorada': 5, 'Puerta Palma': 8, 'Puertas Novas': 14, 'Puget Purveyors': 19, 'Pugilist': 16, 'Pugliese': 9, 'Pugnane': 37, 'Puiatti': 15, 'Pujanza': 45, 'Pulchella': 37, 'Pulchrum': 43, 'Pulenta Estate': 19, 'Pull': 12, 'Puma Road': 25, 'Pumphouse': 6, 'Punch': 37, 'Punk Dog': 14, 'Punset': 30, 'Punt Road': 18, 'Punta del Cielo': 19, 'Punters Corner': 18, 'Punto y Coma': 10, 'Pura Vida': 37, 'Puramun': 31, 'Pure': 9, 'Pure Cru': 32, 'Pure Provence': 9, 'Purlieu': 41, 'Puro Uno': 37, 'Purple Cowboy': 6, 'Purple Hands': 32, 'Purple Heart Wines': 14, 'Purple Star': 11, 'Pursued by Bear': 55, 'Pursuit': 37, 'Pushpin': 5, 'Putah Creek': 24, 'Puydeval': 9, 'Pyrenees': 14, 'Páramo de Guzmán': 24, 'Père Anselme': 16, 'Q': 10, 'Q & A': 9, 'Q Collection': 25, 'Q Sonoma': 11, 'Qaramy': 19, 'Quackenbush': 15, 'Quadra': 29, 'Quadrant': 10, 'Quadri': 3, 'Quady': 16, 'Quady North': 23, 'Quai de la Lune': 6, 'Quail Creek': 5, 'Quail Ridge': 22, \"Quails' Gate\": 18, 'Qualia': 25, 'Quara': 14, 'Quarticello': 16, 'Quasar': 20, 'Quattro Leoni': 11, 'Quattrocchi': 10, 'Queen of Hearts': 6, 'Queensgate': 3, 'Querce Bettina': 45, 'Querceta': 30, 'Querceto': 7, 'Querceto di Castellina': 23, 'Quercia al Poggio': 27, 'Querciabella': 46, 'Querciavalle': 26, 'Quest Cellars': 20, 'Quickfire': 14, 'Quilceda Creek': 75, 'Quilici': 7, 'Quilt': 37, 'Quimay': 11, 'Quinola': 64, 'Quinta Couselo': 15, 'Quinta Cruz': 17, 'Quinta Sardonia': 41, 'Quinta da Muradella': 42, 'Quinta de Aves': 9, 'Quintana de Cue': 28, 'Quintarelli': 62, 'Quintessa': 103, 'Quintet': 40, 'Quivet Cellars': 39, 'Quivira': 22, 'Quiévremont': 20, 'Quo': 10, 'Qupé': 29, 'R & B Cellars': 22, 'R Collection': 9, 'R Wines': 15, 'R+': 8, 'R. Dubois et Fils': 25, 'R. Lopez de Heredia': 31, 'R. Merlo': 20, 'R. Stuart & Co.': 27, 'R. de Ayala Lete E Hijos': 16, 'R.H. Phillips': 7, 'R.L. Buller & Son': 33, 'R.O.Q. Corp': 14, 'R2': 27, 'R35': 10, 'R8': 9, 'RBJ': 5, 'RMH': 43, 'RN Estate': 39, 'Rabble': 15, 'Rabid Red': 10, 'Raccaro': 27, 'Racchus': 7, 'Racemi': 9, 'Rack & Riddle': 15, 'Raconteur': 13, 'Radar': 10, 'Radikon': 56, 'Radio Boca': 3, 'Radius': 5, 'Radog': 15, 'Raeburn': 14, 'Rafael Cambra': 20, 'Rafael Palacios': 28, 'Raffaele Garbarino': 64, 'Raffaldini': 14, \"Rafferty's Rules\": 13, 'Raffy': 19, 'Rage': 50, 'Rahn': 37, 'Rail2Rail': 11, 'Raimat': 6, 'Rain Dance': 16, 'Rainbow Ridge': 8, 'Raineri Gianmatteo': 33, 'Rainoldi': 30, 'Rainstorm': 10, 'Raised By Wolves': 23, 'Raiza': 6, 'Rally Point Wines': 26, 'Ram': 16, \"Ram's Gate\": 52, \"Ram's Leap\": 8, 'Ramey': 59, 'Ramian': 50, 'Ramirez de la Piscina': 15, \"Ramiro's Wine Cellar\": 57, 'Rampa di Fugnano': 14, 'Rampoldi': 4, 'Ramsay': 13, 'Ramseyer': 32, 'Ramspeck': 13, 'Ramspur': 52, 'Ramón Bilbao': 20, 'Ranch 32': 12, 'Ranchero Cellars': 23, 'Ranchita Canyon': 17, 'Rancho Arroyo Grande': 18, 'Rancho Maria': 27, 'Rancho Sisquoc': 17, 'Rancho Zabaco': 17, 'Randall Harris': 5, 'Random Wine': 23, 'Ranfurlys Way': 21, 'Rangeland': 22, 'Ransom': 20, 'Raphael': 22, 'Raphael Dal Bo': 11, 'Raphael Sallet': 10, 'Rapido Red': 6, 'Rappahannock Cellars': 22, 'Raptor Ridge': 27, 'Rare': 5, 'Rarecat': 71, 'Rasa': 54, 'Rascal': 5, 'Rascioni e Cecconello': 17, 'Rasi': 34, 'Rattalino': 49, 'Ravenswood': 31, 'Raventós I Blanc': 30, 'Raventós de Alella': 12, 'Ravines': 15, 'Ravoire et Fils': 10, \"Ray's Station Vineyards\": 21, 'RayLen': 12, \"Raye's Hill\": 21, 'Raylee': 20, 'Raymond': 40, 'Raymond Beck': 7, 'Raymond Burr': 27, 'Raza': 18, \"Razor's Edge\": 7, 'Raúl Pérez': 80, 'RdV': 70, 'Re Manfredi': 29, 'Real Compañia de Vinos': 5, 'Real Sitio de Ventosilla': 64, 'Real del Pedro': 2, 'Reaper': 23, 'Reasons': 29, 'Reata': 21, 'Rebusity': 6, 'Recchia': 23, 'Recoletas': 18, 'Recorba': 8, 'Record Family Wines': 21, 'Rectoral de Amandi': 14, 'Rectoral do Mar': 14, 'Rectoral do Umia': 11, 'Recuerdo': 22, 'Red 7': 18, 'Red Beret': 6, 'Red Bicyclette': 6, 'Red Bucket': 8, 'Red C': 30, 'Red Cap': 16, 'Red Car': 42, 'Red Côte': 8, 'Red Earth': 7, 'Red Electra': 9, 'Red Guitar': 7, 'Red Knot': 8, 'Red Lava': 19, 'Red Mare': 32, 'Red Mud': 10, 'Red Newt Cellars': 17, 'Red Poets': 58, 'Red Pony Ranch': 11, 'Red Puro': 10, 'Red Rock': 8, 'Red Rover': 4, 'Red Sky': 25, 'Red Stich': 45, 'Red Stitch': 45, 'Red Table Cellars': 19, 'Red Tail Ridge': 16, 'Red Theory': 7, 'Red Thread Wines': 55, 'Red Truck': 6, 'Red XS': 10, 'Redbank': 8, 'Redbone': 12, 'Redbud': 0, 'Redd Brand': 10, 'Redemption': 16, 'Redgate': 16, 'Redhawk': 17, 'Redline': 18, 'Redmon': 51, 'Redtree': 3, 'Redwood': 4, 'Redwood Creek': 3, 'Redwood Empire': 18, 'Redwood Ridge Estate': 19, 'Reeves Ranch': 29, 'Reflections': 44, 'Refugio Ranch': 25, 'Regale Winery and Vineyards': 45, 'Regan': 25, 'Regina Viarum': 14, 'Reginato': 12, 'Regio Cantina': 23, 'Region 1': 4, 'Regusci': 38, 'Reid Family Vineyards': 25, 'Reif Estate': 40, 'Reign': 37, \"Reilly's\": 14, 'Reina de Castilla': 10, 'Reininger': 34, 'Reino de los Mallos': 14, 'Rejadorada': 18, 'Relic': 56, 'Relincho': 2, 'Remelluri': 45, 'Remo Farina': 43, 'Remoissenet Père et Fils': 100, 'Remy': 41, 'Remy-Pannier': 9, 'Remírez de Ganuza': 62, 'Renaissance': 29, 'Renato Keber': 19, 'Renato Ratti': 47, 'Renaudin': 12, 'Rendarrio Vineyards': 28, 'Rendition': 4, 'Renegade': 7, 'Renieri': 32, 'Rentas de Fincas': 11, 'Renteria': 34, 'Rento': 58, 'Renwood': 25, 'Renzo Marinai': 68, 'Renzo Masi': 4, 'Renzo Seghesio': 68, 'René Barbier': 2, 'René Geoffroy': 55, 'René Muré': 29, 'René Sparr': 9, 'Replica': 11, 'Republic of Wine': 9, 'Resalte': 44, 'Resilience': 11, 'Resonata': 5, 'Respite': 40, 'Ressia': 29, 'Ressò': 3, 'Resta': 9, 'Restivo': 7, 'Retorno': 5, 'Retour': 55, 'Retro': 31, 'Retzlaff': 31, 'Reula': 9, 'Reuling Vineyard': 60, 'Reustle': 25, 'Revana': 91, 'Revancha': 21, 'Revello Fratelli': 46, 'Revelry': 35, 'Reverdito': 36, 'Reverie': 55, 'Reversanti': 24, 'Revival': 110, 'Revolution': 15, 'Rex Hill': 35, 'Rexach Baqués': 16, 'Rexford': 25, 'Reyes': 18, 'Reynolds': 7, 'Reynolds Family Winery': 58, 'Reynoso': 27, 'Reynvaan Family Vineyards': 60, 'Reyter': 5, 'Rezabal': 14, 'Rezonja': 24, 'Rhapsody': 8, 'Rhiannon': 7, 'Rhodan': 13, 'Riaza': 19, 'Ribas de Cabrera': 70, 'Ribas del Cúa': 25, 'Ribbon Cliff': 24, 'Ribbon Ridge': 28, 'Ribera de Ulver': 8, 'Riberal': 8, 'Riboli': 46, 'Ribota': 8, 'Ricardo Santos': 14, 'Ricardus Corculum': 32, 'Ricci Curbastro': 30, 'Rich & Creamy': 10, 'Rich Table': 14, 'Richard Bourgeois': 14, 'Richard Hamilton': 14, 'Richard Partridge': 58, 'Richard Perry': 40, 'Richard Rottiers': 19, 'Riché': 18, 'Rickshaw': 10, 'Ricochet': 14, 'Ricominciare': 17, 'Ricordi': 9, 'Ricossa': 16, 'Riddoch Estate': 12, 'Rideau': 37, 'Ridge': 36, 'Ridgeline': 32, 'Ridolfi': 45, 'Riecine': 21, 'Rieflé': 24, 'Rigal': 14, 'Rigg Estate Vineyards': 73, 'Righteous': 14, 'Riglos': 28, 'Rignana': 25, 'Rijckaert': 25, 'Rimauresq': 12, 'Rinaldi': 15, 'Rinaldini': 10, 'Ringbolt': 16, 'Ringer': 5, 'Rio Madre': 6, 'Rio Perdido': 7, 'Rio Seco': 8, 'Rioja Vega': 18, 'Riondo': 10, 'Rios de Tinta': 9, 'Ripken': 20, 'Riposte': 15, 'Rippey': 19, 'Risata': 10, 'Riscal': 4, 'Riseccoli': 17, 'Ristow Estate': 52, 'Rivalta': 12, 'Rivani': 2, 'Rivarey': 3, 'Rivata': 26, 'Rive Droite Rive Gauche': 10, 'River Road': 14, 'River Rock': 23, 'River Star': 19, \"River's Edge\": 16, 'RiverAerie': 11, 'Rivera': 19, 'Rivera de Castilla': 6, 'Riverbench': 30, 'Riverbend': 12, 'Riverhaven': 24, 'Riverina Estates': 4, 'Riverside': 2, 'Rivetti Massimo': 30, 'Rivetto': 61, 'Rivino': 21, 'Rivka Simone': 21, 'Rizieri': 43, 'Rizzi': 35, 'Road i Red': 5, 'Road i White': 5, 'Roadhouse Winery': 42, 'Roagna': 89, 'Roanoke Vineyards': 25, 'Roar': 39, 'Roark Wine Co.': 29, 'Robalino': 12, 'Robert Biale': 43, 'Robert Craig': 47, 'Robert Foley': 42, 'Robert Giraud': 2, 'Robert Goulley': 14, 'Robert Goyette': 14, 'Robert Hall': 15, 'Robert Hunter': 23, 'Robert James Lynch': 37, 'Robert James Wines': 33, 'Robert John': 52, 'Robert Karcher et Fils': 17, 'Robert Karl': 23, 'Robert Klingenfus': 18, 'Robert Losey': 20, 'Robert Mondavi': 27, 'Robert O. Smasne': 51, 'Robert Oatley': 18, 'Robert Pecota': 14, 'Robert Pepi': 6, 'Robert Perroud': 15, 'Robert Ramsay': 26, 'Robert Renzoni': 27, 'Robert Sinskey': 38, 'Robert Skalli': 12, 'Robert Stemmler': 30, 'Robert Young': 40, 'Robert et Bernard Plageoles': 19, 'Roberto Cipresso': 19, 'Roberto Cosimi': 32, 'Roberto Mascelloni': 23, 'Roberts & Rogers': 59, 'Robinson Family Vineyards': 57, 'Roblar': 31, 'Robledo': 32, 'Rocca': 60, 'Rocca Bernarda': 18, 'Rocca Felice': 19, 'Rocca Giovanni': 40, 'Rocca del Dragone': 9, 'Rocca del Principe': 17, 'Rocca delle Macìe': 22, 'Rocca di Castagnoli': 25, 'Rocca di Fabbri': 13, 'Rocca di Frassinello': 43, 'Rocca di Montegrossi': 24, 'Rocca di Montemassi': 13, 'Roccafiore': 15, 'Rocche Castamagna': 10, 'Rocche Costamagna': 40, 'Rocche dei Manzoni': 91, 'Roccheviberti': 36, 'Roccolo Grassi': 47, 'Roccolo del Lago': 10, 'Roche': 22, 'Roche de Bellene': 108, 'Rochford': 19, 'Rochioli': 47, 'Rock & Vine': 11, 'Rock Hollow': 9, 'Rock Lobster': 10, 'Rock Point': 8, 'Rock Rabbit': 5, 'Rock Stream': 10, 'Rock View': 16, 'Rock Wall': 24, 'Rock Wren': 19, 'RockBare': 12, 'Rockgarden': 20, 'Rocking Horse': 18, 'Rocking K': 46, 'Rockledge Vineyards': 32, 'Rockpile': 28, 'Rockroom Winemaking Cooperative': 39, 'Rocky Gully': 9, 'Rocky Hill': 27, 'Rocky Point': 45, 'Rocland Estate': 10, 'Roco': 47, 'Rodney Strong': 25, 'Rodolfo Cosimi': 41, 'Rodrigue Molyneaux': 23, 'Rodriguez Sanzo': 7, 'Roederer Estate': 25, 'Roessler': 33, 'Roger Goulart': 15, 'Roger Lassarat': 24, 'Roger Luquet': 19, 'Roger Roessler': 45, 'Roger et Didier Raimbault': 29, 'Rogers & Rufus': 18, 'Rojo Mojo': 5, 'Roku': 7, 'Roland Champion': 54, 'Roland Lavantureux': 12, 'Roland Tissier et Fils': 19, 'Rolf Binder': 25, 'Rolland & Galarreta': 18, 'Rolling': 6, 'Rolling Bay Winery': 18, 'Romain Bouchard': 26, 'Romain Reverdy': 19, 'Romanelli': 24, 'Romantic': 5, 'Rombauer': 50, 'Romeo': 38, 'Romililly': 29, 'Rominger West': 15, 'Ron Rubin': 26, 'Ronan': 11, 'Ronca': 13, 'Ronchi San Giuseppe': 10, 'Ronchi di Cialla': 32, 'Ronchi di Giancarlo Rocca': 37, 'Ronco Blanchis': 12, 'Ronco Calino': 28, 'Ronco Dei Pini': 13, 'Ronco dei Tassi': 14, 'Ronco del Gelso': 19, 'Ronco del Gnemiz': 17, 'Ronco delle Betulle': 22, 'Roney': 27, 'Rontana': 10, 'Rooster Hill': 13, 'Roots': 27, 'Ropiteau': 5, 'Roque Colás': 30, 'Roquero': 7, 'Roquesán': 10, 'Rosa Nautica': 19, \"Rosa d'Oro\": 17, 'Rosati Family': 23, 'Rose & Son': 18, 'Rose & Thistle': 28, \"Rose 'N' Blum\": 7, 'Rosedale Wines': 14, 'Rosehall Run': 23, 'Rosemont': 14, 'Rosemount': 11, 'Rosenblum': 22, 'Rosenthal': 25, 'Rosenthal-Malibu Estate': 33, 'Roshambo': 17, 'Ross Andrew': 22, 'Ross Estate': 16, 'Rossi Wallace': 22, 'Rosé de Guiet': 12, 'Rotari': 14, 'Rotation Vineyards': 5, 'Roth': 19, 'Rothbury Estate': 3, 'Rotllan Torra': 63, 'Rotta': 24, 'Round Barn': 20, 'Round Hill': 3, 'Round Pond': 40, 'RouteStock': 12, 'RouteStock Cellars': 13, 'Roux Père et Fils': 51, 'Row Eleven': 20, 'Rowland': 110, 'Roxo Port Cellars': 50, 'RoxyAnn': 18, 'Roy Estate': 103, 'Roy J. Maier': 45, 'Royal Muscato': 3, 'Royal Oaks': 14, 'Royal de Jarras': 9, 'Royale NV Brut': 10, 'Roza Ridge': 11, 'Rua': 34, 'Rubberneck': 6, 'Rubeus of Lore': 14, 'Rubicon Estate': 74, 'Rubiejo': 9, 'Rubinelli Vajol': 38, 'Rubines': 15, 'Rubinna': 50, 'Rubino Estates Winery': 23, 'Rubissow': 78, 'Rubissow-Sargent': 23, 'Rubissow-Sargent Reserve': 110, 'Rubus': 12, 'Ruby': 33, 'Ruby Hill Winery': 24, 'Ruby Red': 15, 'Ruca Malen': 18, 'Rudd': 47, 'Rudeles': 29, 'Rudius': 49, 'Rued': 20, 'Ruffino': 33, 'Ruggeri & C.': 17, 'Ruhlmann': 11, 'Ruinart': 103, 'Rule of Three': 50, 'Rulo': 18, 'Rulo Winery': 13, 'Rumpus': 16, 'Running Brook': 11, 'Running with Bulls': 14, 'Rusack': 30, 'Rusden': 73, 'Rush Vineyards': 22, 'Russell Creek': 25, 'Russian Hill': 27, 'Russian Ridge': 22, 'Russian River Vineyards': 33, 'Russiz Superiore': 24, 'Russo': 41, 'RustRidge': 32, 'Ruston': 41, 'Ruta 22': 8, 'Rutherford Grove': 36, 'Rutherford Hill': 28, 'Rutherford Ranch': 21, 'Rutherford Vintners': 7, 'Rutherglen Estates': 9, 'Rutini': 15, 'Rutz': 26, 'Ryan Cochrane': 33, 'Ryan Patrick': 16, 'Ryzin': 10, 'Régis Jouan': 19, 'Rémy-Pannier': 13, 'Réserve des Oliviers': 40, 'Résonance': 47, 'Réva': 69, 'Rôtie Cellars': 31, 'S&G; Estate': 73, 'S. Anderson': 34, 'S. Delafont': 18, 'S. Lucia': 45, 'S. P. Drummer': 37, 'S.C. Pannell': 56, 'S.R. Tonella': 43, 'SIP': 10, 'SKN': 9, 'SOLID': 19, 'STG': 8, 'SVI': 27, 'Sabartés': 11, 'Sabina Vineyards': 80, 'Sabine': 7, \"Sables d'Azur\": 7, 'Sabotage': 41, 'Sacha Lichine': 7, 'Sacred Stone': 5, 'Sada': 25, 'Saddle Ranch': 26, 'Saddleback': 28, 'Saddleback Cellars': 30, 'Saenz-Olazabal': 12, 'Saffron Fields Vineyard': 42, 'Sage Road': 14, \"Sagebrush Annie's\": 30, 'Sagelands': 7, 'Saget la Perrière': 21, 'Saggi': 38, 'Saini': 26, 'Saint André de Figuière': 10, 'Saint Cosme': 55, 'Saint Gregory': 14, 'Saint Helena Winery': 64, \"Saint John's Road\": 14, 'Saint K': 25, 'Saint Laurent': 18, 'Saint-Hilaire': 7, 'Saint-Jean des Sources': 8, 'Sainte Marie des Crozes': 10, 'Saintsbury': 37, 'Sakonnet': 19, 'Saladini Pilastri': 10, 'Salatin': 11, 'Salcheto': 24, 'Salcis': 32, 'Saldo': 23, 'Salem Wine Company': 19, 'Salena Estate': 5, 'Salentein': 21, 'Salexis': 29, 'Salicutti': 68, 'Salida': 18, 'Salis 1637': 27, 'Salitage': 19, 'Sallier de la Tour': 5, 'Salmon Harbor': 4, 'Salomon Estate': 34, 'Salon': 318, 'Saltbird': 20, 'Salustri': 22, 'SalvaTerra': 33, 'Salvano': 21, 'Salvatore Molettieri': 45, 'Salvatore Principe': 5, 'Salvestrin': 52, 'Salviano': 9, 'Salvioni': 228, 'Samsara': 33, 'Samson': 11, 'Samuel Louis Smith': 31, 'Samuel Robert': 20, 'San Antonio': 25, 'San Antonio Abad': 5, 'San Benedetto': 13, 'San Biagio': 50, 'San Carlo': 69, 'San Cassiano': 44, 'San Fabiano': 17, 'San Fabiano Calcinaia': 25, 'San Felice': 41, 'San Felipe': 5, 'San Fereolo': 10, 'San Filippo': 37, 'San Filippo di Giannelli': 53, 'San Francisco Wine Press': 14, 'San Gabriel': 14, 'San Giacomo': 35, 'San Giorgio a Lapi': 5, 'San Giorgio di Perdomini': 13, 'San Giuseppe': 16, 'San Giusto a Rentennano': 33, 'San Huberto': 9, 'San Jacopo da Vicchiomaggio': 12, 'San Juan Vineyards': 12, 'San Leonino': 22, 'San Lorenzo': 28, 'San Lorenzo Vini': 16, 'San Luciano': 23, 'San Luis Canyon': 4, 'San Marcos Creek': 21, 'San Martino': 20, 'San Michele Eppan': 23, 'San Osvaldo': 10, 'San Patrignano': 39, 'San Pedro': 8, 'San Pedro de Yacochuya': 26, 'San Polino': 56, 'San Polo': 39, 'San Quirico': 9, 'San Romano': 14, 'San Rustico': 40, 'San Saba': 15, 'San Sakana': 36, 'San Silvestro': 11, 'San Simeon': 18, 'San Simone': 10, 'San Telmo': 2, 'San Vicente': 50, 'San Vincenti': 11, 'Sanchez Muliterno': 9, 'Sanchez Romate': 9, 'Sancho Barón': 19, 'Sanctuary': 27, 'Sand Dollar': 10, 'Sand Hill': 37, 'Sand Point': 7, 'Sandalford': 16, 'Sandeman': 18, 'Sanders Ridge': 12, 'Sandhi': 45, 'Sandler': 30, 'Sandro de Bruno': 18, 'Sandrone': 72, 'Sands Point': 10, 'Sanfeletto': 13, 'Sanford': 32, 'Sangenís I Vaqué': 37, 'Sangervasio': 28, 'Sanglier Cellars': 27, 'Sanguis': 57, 'Sannino': 22, 'Sanpaolo': 10, 'Sans Liege': 24, 'Sans Wine Co': 5, 'Sansonina': 31, 'Sant Agnese dei F.lli Gigli': 46, 'Sant Eurosia': 11, 'Sant Rafel': 10, 'Sant Wines': 40, \"Sant'Andrea in Colle\": 10, \"Sant'Anjelus\": 10, \"Sant'Evasio\": 17, 'Santa Ana': 6, 'Santa Barbara': 23, 'Santa Barbara Winery': 15, 'Santa Cristina': 8, 'Santa Cruz Mountain Vineyard': 24, 'Santa Duc': 11, 'Santa Faustina': 20, 'Santa Florentina': 3, 'Santa Julia': 5, 'Santa Lucia': 20, 'Santa Margherita': 16, 'Santa Maria': 48, 'Santa Maria La Palma': 8, 'Santa Quiteria': 5, 'Santa Sofia': 26, 'Santa Ynez Valley Vineyards': 28, 'Santana': 2, 'Sante Arcangeli': 35, 'Santero': 5, 'Santi': 26, 'Santiago Ruiz': 12, 'Santini': 2, 'Santino': 13, 'Santo Stefano': 23, 'Santonegro': 5, 'Santos Beck': 9, 'Sapolil Cellars': 31, 'Sapphire Hill': 27, 'Sapphire Mountain Cellars': 12, 'Sapíens': 5, 'Saracco': 14, 'Saracina': 22, \"Sarah's Vineyard\": 24, 'Sardus Pater': 26, 'Sariah Cellars': 19, 'Sartarelli': 12, 'Sartori': 24, 'Sarzotti': 23, 'SassodiSole': 41, 'Sassotondo': 23, 'Sassy Bitch': 6, 'Sator': 23, 'Saturday Night Red': 6, 'Saturday Red': 4, 'Saucelito Canyon': 21, 'Saudade': 35, 'Sausal': 20, 'Sauvignon Republic': 12, 'Sauvion': 11, 'Savage Grace': 19, 'Savannah-Chanelle': 34, 'Save Me San Francisco': 6, 'Saveur des Vins de France': 3, 'Saveurs du Temps': 8, 'Saviah': 26, 'Saviez': 21, 'Sawbuck': 5, 'Sawtooth': 9, 'Sawyer': 30, 'Sawyer & Lindquist': 41, 'Sawyer Cellars': 38, 'Saxon Brown': 33, 'Saxum': 44, 'Sbragia': 37, 'Scacciadiavoli': 28, 'Scaggs Vineyard': 28, 'Scagliola': 21, 'Scala Dei': 35, 'Scambia': 11, 'Scanavino': 11, 'Scandolera': 14, 'Scar of the Sea': 39, 'Scaranto': 25, 'Scarborough': 22, 'Scarecrow': 87, 'Scarlet of Paris': 5, 'Scarlett': 49, 'Scarzello': 43, 'Scenic Valley Farms': 14, 'Scharffenberger': 15, 'Scheid Vineyards': 25, 'Schermeister': 39, 'Scherrer': 21, 'Schiavenza': 53, 'Schild Estate': 24, 'Schiopetto': 19, 'Schlagel Santo': 34, 'Schlumberger': 12, 'Schmidt': 25, 'Schmitz 24 Brix': 17, 'Schneider': 15, 'Schooler Nolan': 20, 'Schrader': 76, 'Schramsberg': 56, 'Schroeder Estate': 14, 'Schröder & Schÿler': 8, 'Schubert': 55, 'Schug': 23, 'Schultz': 20, 'Schulz': 25, 'Schwarz Wine Company': 17, 'Schweiger': 38, 'Sciandri Family': 40, 'Sciarra': 12, 'Scilio': 20, 'Scopetani': 7, 'Scopone': 60, 'Scott': 23, 'Scott Aaron': 37, 'Scott Cellars': 26, 'Scott Family': 25, 'Scott Harvey': 21, 'Scott Paul': 42, 'Scotto Cellars': 8, 'Scotto Family Cellars': 8, 'Scrapbook': 5, 'Scratch': 24, 'Scratchpad': 10, 'Screaming Eagle': 451, 'Screen Door Cellars': 48, 'Screenplay Wines': 19, 'Screw Kappa Napa': 8, 'Screwed': 5, 'Scriani': 15, 'Script': 38, 'Script & Seal': 9, 'Scroll': 45, 'Scubia': 19, 'Scubla': 23, 'Sculpterra': 29, 'Sea Change': 11, 'Sea Fog': 19, 'Sea Mist': 11, 'Sea Monster': 13, 'Sea Shell Cellars': 23, 'Sea Slopes': 27, 'Sea Smoke': 53, 'SeaGlass': 7, 'Seagrape': 25, 'Seal Beach': 29, 'Sean Minor': 14, 'Sean Thackrey': 54, 'Season': 22, 'Seavey': 55, 'Sebastiani': 28, 'Sebastopol': 22, 'Second Growth': 19, 'Seconda Stella a Destra': 110, 'Secondo Marco': 50, 'Secret Cellars': 9, 'Secret House': 20, 'Secret Squirrel': 19, 'Secua': 30, 'Sedition': 64, 'Sedosa': 9, 'Seed': 50, 'Seghesio': 31, 'Segue': 32, 'Seguin-Manuel': 35, 'Segura Viudas': 9, 'Sei Amici': 2, 'Seia': 19, 'Seigneurs de Bergerac': 3, 'Seis de Azul y Garanza': 15, 'Selby': 23, 'Selene': 32, 'Sella & Mosca': 18, 'Selva Capuzza': 21, 'Selvanova': 18, 'Selvapiana': 19, 'Sembro': 10, 'Semifonte': 24, 'Semper': 73, 'Senda 66': 10, 'Senda Verde': 8, 'Senders': 28, 'Seneca Shore': 9, 'Senorio de San Vincente': 48, 'Senses': 34, 'Sensi': 19, 'Sensorium': 27, 'Seppeltsfield': 32, 'Seppi Landmann': 12, 'Septima': 10, 'Sequals': 10, 'Sequana': 34, 'Sequel': 49, 'Sequin': 7, 'Sequiot': 5, 'Sequoia Grove': 55, 'Sequum': 42, 'Ser': 26, 'Sera Fina': 10, 'Serafino': 14, 'Seraphim': 9, 'Serca': 52, 'Serdonis': 50, \"Serena's Vineyard\": 18, 'Serenissima': 2, 'Serenity': 15, 'Sererraglio Carole Bouquet': 49, 'Serge Dagueneau et Filles': 17, 'Sergio': 69, 'Sergio Mottura': 14, 'Serni Fulvio Luigi': 31, 'Serpaia di Endrizzi': 18, 'Serra da Estrela': 10, 'Serradenari': 14, 'Serre Spumanti': 12, 'Serrera': 24, 'Serveaux Fils': 50, 'Sesta di Sopra': 48, 'Sesti': 72, 'Setriolo': 25, 'Settesoli': 16, 'Settlers Rise': 5, 'Seufert': 29, 'Seven Angels': 25, 'Seven Bridges': 27, 'Seven Daughters': 9, 'Seven Deadly Zins': 11, 'Seven Falls': 18, 'Seven Heavenly Chards': 9, 'Seven Hills': 24, 'Seven Lions Winery': 23, 'Seven Oxen': 30, 'Seven Peaks': 10, 'Seven Rings': 32, 'Seven Sails': 14, 'Seven of Hearts': 20, 'Seventy Five Wine Co.': 12, 'Sevtap': 30, 'Sextant': 27, 'Sexton': 23, 'Sexual Chocolate': 19, 'Sexy Wine Bomb': 6, 'Señorio de Aylés': 5, 'Señorio de Garci Grande': 9, 'Señorio de Uñuela': 8, 'Señorio de Valdiestro': 12, 'Señorio del Tallar': 14, 'Señorío de Andión': 37, 'Señorío de Caleruega': 83, 'Señorío de Cuzcurrita': 35, 'Señorío de Rubiós': 10, 'Señorío de Sarria': 10, 'Señorío de Sotillo': 14, 'Shadow Canyon': 27, 'Shadow Hill': 6, 'Shadow Springs': 11, 'Shadowbox': 42, 'Shady Lane': 13, 'Shadybrook': 73, 'Shafer': 73, 'Shah Estate': 94, 'Shai': 27, 'Shale Canyon': 14, 'Shale Oak': 39, 'Shale Ridge Vineyard': 3, 'Shalestone': 16, 'Shane Wines': 30, 'Shannon': 25, 'Shannon Ridge': 17, 'Sharabella Wines': 9, \"Sharecropper's\": 10, 'Shared Notes': 55, 'Shark Trust': 5, 'Sharp Cellars': 13, 'Shaw': 20, 'Shaw and Smith': 23, 'Shaya': 13, 'Shea': 51, 'Shed Horn Cellars': 23, \"Sheep's Back\": 14, 'Sheldon': 25, 'Sheldrake Point': 16, 'Shelton Vineyards': 5, 'Shenandoah': 11, 'Shenandoah Vineyards': 12, 'Shenanigans': 10, 'Sheridan Vineyard': 32, 'Sherwin Family': 68, 'Sherwood House Vineyards': 23, 'Shibumi Knoll': 73, 'Shiloh Road': 9, 'Shingleback': 23, 'Shining Hill': 37, 'Shinn Estate': 24, 'Shippey': 21, 'Shipwreck': 10, 'Shirvington': 53, 'Shoofly': 9, 'Shooting Star': 8, 'Shottesbrooke': 24, 'Shoup': 85, 'Showket': 40, 'Shutter': 34, 'Shypoke': 30, 'Sibling Bubblery': 30, 'Sibling Rivalry': 14, 'Side Job': 16, 'Sidebar': 19, 'Sidecar': 22, 'Sideshow': 4, 'Sidewood': 15, 'Siduri': 36, 'Sieber Rd': 19, 'Sierra Cantabria': 48, 'Sierra Club': 13, 'Sierra Madre': 30, 'Sierra Moon': 32, 'Sierra Norte': 8, 'Sierra Starr': 17, 'Sierra Virgen': 4, 'Sierra Vista': 14, 'Sierra de Viento': 7, 'Siesta': 19, 'Siesta Wines': 12, 'Siete Fincas': 25, \"Sieur d'Arques\": 11, 'Sightglass': 28, 'Sigillo Cellars': 25, 'Siglo': 13, 'Signae': 63, 'Signal Ridge': 19, 'Signano': 17, 'Signaterra': 40, 'Signaterra Benziger': 31, 'SignoSeis': 37, 'Signorello': 50, 'Signé Vigneron': 10, 'Sikelia': 7, 'Silenus': 40, 'Silk Oak': 10, 'Silkman': 18, 'Sill Family': 55, 'Siltstone': 13, 'Silvae': 4, 'Silvan Ridge': 16, 'Silvano Bolmida': 36, 'Silvano Follador': 16, 'Silvara': 30, 'Silver': 29, 'Silver Buckle': 13, 'Silver Cap': 8, 'Silver Horse': 32, 'Silver Lake': 10, 'Silver Mountain': 29, 'Silver Oak': 76, 'Silver Palm': 15, 'Silver Pines': 25, 'Silver Ridge': 6, 'Silver Ridge Vineyards': 5, 'Silver Spoon': 10, 'Silver Spur': 20, 'Silver Stag': 47, 'Silver Stone Winery': 28, 'Silver Thread': 14, 'Silver Totem': 13, 'Silver Trident': 21, 'Silver Veil': 14, 'Silver Wings': 23, 'Silverado': 42, 'Silverback': 117, 'Silverpoint Cellars': 44, 'Silvertip': 25, 'Silvertop de Argentina': 3, 'Silverwing': 6, 'Silvestri': 21, 'Silvio Grasso': 61, 'Simaine Cellars': 21, 'Simbolic': 32, 'Simi': 19, 'Simon Bize': 29, 'Simon Gilbert': 8, 'Simon Hackett': 15, 'Simonassi': 7, 'Simone': 64, 'Simonnet-Febvre': 22, 'Simple Life': 8, 'Simple Machine': 24, 'Simple Math Cellars': 22, 'Simple Solace': 14, 'Simué': 12, 'Sinatra Family': 82, 'Sinclair Estate Vineyards': 28, 'Sine Qua Non': 63, 'Sineann': 29, 'Sinfin': 16, 'Sinfonía': 6, 'Single Leaf': 10, 'Single Wheel': 14, 'Sinnet': 25, 'Sinor-LaVallee': 28, 'Siot': 26, 'Sipp Mack': 19, 'Sirch': 13, 'Siren Song': 28, 'Sirius': 37, 'Siro Pacenti': 69, 'Siskiyou Vineyards': 8, 'Sisters Forever': 10, 'Site': 38, 'Sivas-Sonoma': 14, 'Six Degrees': 30, 'Six Mile Creek': 11, 'Six Prong': 8, 'Six Sigma Ranch': 24, 'Sixteen by Twenty': 36, 'Sixto': 40, 'Sjoeblom Winery': 31, 'Skalli': 16, 'Sketchbook': 13, 'Skinner': 22, 'Skinnygirl': 8, 'Skipstone': 87, 'Skuttlebutt': 10, 'Skyfall': 8, 'Skyhawk Lane': 35, 'Skyline Wines': 12, 'Skylite': 21, 'Skylite Cellars': 23, 'Slater Run': 35, 'Slaughterhouse Cellars': 50, 'Sledgehammer': 10, 'Sleeper Cellars': 11, 'Sleeping Giant': 49, 'Sleight of Hand': 27, 'Slingshot': 17, 'Sloan': 219, 'Slow Press': 11, 'Sly Dog Cellars': 10, 'Small Vines': 54, 'Small Wonders': 6, 'Small and Tall': 45, 'Smallfry': 19, 'Smart Cookie': 8, 'Smashberry': 8, 'Smasne Cellars': 22, 'Smith & Hook': 23, 'Smith & Hooper': 13, 'Smith Wooton': 29, 'Smith-Madrone': 26, 'Smoke Tree': 16, 'Smoking Loon': 4, 'Snake River': 11, 'Snake and Herring': 26, 'Snap Dragon': 4, 'Snapping Turtle': 6, 'Sned': 12, 'Sno Road': 39, 'Snoqualmie': 7, 'Snosrap': 20, 'Snow Farm': 28, 'Snowden': 45, 'Snows Lake': 30, 'Snowy Peaks': 19, 'So Rare': 132, 'SoDo': 10, 'Sobon Estate': 11, 'Sobrero': 50, 'Sobriquet Winery': 29, 'Sockeye': 6, 'Socré': 32, 'Sodaro': 65, 'Sofia': 13, 'Sogno': 10, 'Sojourn': 49, 'Sokol Blosser': 37, 'Sol Duc': 41, 'Sol Rouge': 32, 'Sol Stone': 18, 'Sol y Vino': 18, 'SolAlto': 3, 'Sola': 10, 'Solabal': 21, 'Solaire by Robert Mondavi': 11, 'Solar de Castro': 16, 'Solar de Libano': 28, 'Solar de Randez': 10, 'Solar de Urbezo': 10, 'Solar de la Vega': 4, 'Solaria': 45, 'Solaris': 10, 'Soldera': 263, 'Soldo': 1, 'Soleau': 5, 'Soleira': 14, 'Solemar': 7, 'Soligo': 16, 'Solis': 19, 'Solitary Cellars': 23, 'Solitude': 23, 'Solière': 20, 'Solminer': 25, 'Solo': 14, 'Solo Contigo': 19, 'Solo Rosa': 10, 'Solomon Hills': 42, 'Solsticio': 9, 'Soluna': 13, 'Soléna': 35, 'Sombrero': 11, 'Somerston': 32, 'Sommariva': 12, 'Son Bordils': 20, 'SonVida': 20, 'Songbird': 5, 'Sonim': 13, 'Sonkin Cellars': 38, 'Sonnet': 33, 'Sonnet Cellars': 6, 'Sonoma Coast Vineyards': 42, 'Sonoma Collection': 10, 'Sonoma Creek': 7, 'Sonoma Crest': 5, 'Sonoma Cuvée': 13, 'Sonoma Hills': 14, 'Sonoma Oaks': 10, 'Sonoma River': 14, 'Sonoma Smith': 19, 'Sonoma Trail': 10, 'Sonoma Vineyards': 10, 'Sonoma-Cutrer': 27, 'Sonoma-Loeb': 29, 'Sonora': 15, 'Sonría': 50, 'Sons of Eden': 17, 'Sonsierra': 16, 'Soos Creek': 23, \"Sophie's\": 11, 'Soquel Vineyards': 35, 'Sorcellerie': 37, 'Sordo': 42, 'Sorelle Bronca': 14, 'Sorelle Per Sempre': 10, 'Sorelle Winery': 15, 'Sorelli': 4, 'Sorrentino': 15, 'Sostener': 13, 'Soter': 52, 'Soto de Torres': 12, 'Sottano': 22, 'Sottimano': 52, 'Sottomarino': 27, 'Soulmate': 60, 'Source Napa': 44, 'South Coast': 18, 'South Mountain': 28, 'South Stage': 21, 'Southard': 15, 'Southern Edge': 10, 'Southern Willows': 4, 'Southold': 24, 'Soutiran': 58, 'Souverain': 16, 'Space Cowboy': 46, 'Spadafora': 17, 'Spadina': 8, 'Spaghetti Red': 4, 'Spagnol': 11, 'Spalletti': 10, 'Spangler': 22, 'Spangler Vineyards': 17, 'Spanish Vines': 6, 'Spann Vineyards': 23, 'Sparkling Pointe': 36, 'Sparkman': 33, 'Sparrow Hawk': 23, 'Spartico': 6, 'Spell': 37, 'Spell Wine': 11, 'Spellbound': 15, 'Spelletich Cellars': 31, 'Spence': 55, 'Spencer Roloson': 17, 'Spenker': 19, 'Speri': 33, 'Spicerack': 18, 'Spicewood': 15, 'Spicy Vines': 27, 'Spin the Bottle': 6, 'Spindrift Cellars': 16, 'Spinelli': 3, 'Spirit of the Andes': 10, 'Spiriterra': 32, 'Splendore': 25, 'Spot-On': 14, 'Spoto': 74, 'Spotted Owl': 37, 'Spottswoode': 76, 'Spring Mountain Vineyard': 59, 'Spring Seed Wine Co.': 10, 'Spring Valley Vineyard': 39, 'Springhill Cellars': 25, 'Springhouse Cellar': 15, 'Spyro': 10, 'Square Peg': 44, 'St Hallett': 21, \"St Mary's\": 20, 'St. Amant': 19, 'St. Amant Winery': 17, 'St. Andrews Estate': 7, 'St. Clair': 6, 'St. Clement': 37, 'St. Francis': 25, 'St. George': 5, 'St. George Coastal': 1, 'St. Hubertus': 15, 'St. Innocent': 27, 'St. Julian': 10, 'St. Kilda': 4, 'St. Lucas': 6, 'St. Michael-Eppan': 21, 'St. Pauls': 24, 'St. Rose': 33, 'St. Supéry': 39, 'Stable Hill': 12, 'Stack House': 21, 'Stacked Stone': 16, \"Stag's Leap Wine Cellars\": 68, 'Staglin': 117, \"Stags' Leap Winery\": 52, 'Stama': 15, 'Stanburn': 10, 'Standing Stone': 14, 'Standing Sun': 25, 'Standish': 62, 'Stanger': 36, 'Stanley Brothers': 10, 'Stanley Lambert': 32, 'Stanton': 64, 'Stanton & Killeen': 28, 'Stanton Vineyard': 13, 'Staphyle': 11, 'Star Angel by Montes': 32, 'Star Lane Vineyard': 35, 'Starfield': 48, 'Stargazer Barn': 17, 'Stark': 26, 'Stark Raving': 8, 'Starlite': 34, 'Starmont': 18, 'Starry Night': 19, 'Starvedog Lane': 13, 'Stasis': 34, 'State of Art': 14, 'Stateside': 12, 'Statti': 16, 'Stave & Hoop': 11, 'Stave 28': 18, 'Ste. Chapelle': 3, 'Ste. Michelle Wine Estates': 8, 'Steele': 19, 'Steelhead Vineyards': 9, 'Stefan Daniels': 11, 'Stefania': 14, 'Stefania Mezzetti': 23, 'Stefano Accordini': 24, 'Stefano Amerighi': 35, 'Stefano Antonucci': 15, 'Stefano Berti': 18, 'Stefano Ferrucci': 30, 'Stefano Lubiana': 31, 'Stein Family': 27, 'Steiner Family Vineyards': 17, 'Stella Bella': 24, 'Stella Fino': 13, 'Stella Grey': 17, 'Stella Maris': 22, 'Stella Mia': 6, 'Stella Monsi': 32, 'Stellareese': 34, 'Stellina': 25, 'Steltzner': 23, 'Stemilt Creek': 20, 'Stemmari': 5, 'Stemmler': 31, 'Steorra': 17, 'Stephan Ridge': 64, 'Stephane Tissot': 21, 'Stephanie': 40, 'Stephen & Walker': 38, 'Stephen Ross': 26, 'Stephen Vincent': 8, \"Stephen's\": 20, 'Stephenson Cellars': 26, 'Steppe Cellars': 17, 'Stepping Stone by Cornerstone': 22, 'Sterling': 29, 'Steve Hoff': 25, 'Steven André': 13, 'Steven Kent': 46, 'Stevenot': 11, 'Stevens': 23, 'Stevens Divio': 13, 'Stewart': 59, 'Stewart Cellars': 20, 'Sticks': 13, 'Stickybeak': 14, 'Still River': 19, 'Still Waters': 23, 'Stillman Brown': 41, \"Stina's\": 46, 'Stinson': 19, 'Stival': 4, 'Stolen Horse': 40, 'Stolen Identity': 10, 'Stoller': 32, 'Stolo': 23, 'Stolpman': 36, 'Stomennano': 26, 'Stomping Girl': 28, 'Stomping Ground': 5, 'Stone Creek': 4, 'Stone Edge Farm': 44, 'Stone Garden': 3, 'Stone The Crows': 80, 'Stone Tower': 59, 'Stone Wolf': 9, 'StoneCap': 4, 'Stonecap': 5, 'Stonecroft': 23, 'Stonegate': 17, 'Stonehaven': 12, 'Stonehedge': 18, 'Stonehouse': 12, 'Stonestreet': 46, 'Stonier': 26, 'Stony Hill': 31, 'Stony Lonesome': 11, \"Storks' Tower\": 12, 'Storm': 35, 'Storrs': 18, 'Story': 23, 'Storybook Mountain': 42, 'Storyteller': 19, 'Stottle': 22, 'Straccali': 6, 'Straight Line': 20, 'Strait Jacket': 14, 'Strasserhof': 22, 'Strata': 27, 'Stratford': 12, 'Strathewen Hills': 35, 'Stratton Lummis': 18, 'Stratus': 60, 'Streamside': 11, 'Streicker': 21, 'Strip House': 21, 'Stroblhof': 36, 'Stromberg Vineyards': 25, 'Stroppiana': 51, 'Structure': 28, 'Stryker Sonoma': 40, 'Stuart Cellars': 38, 'Stubbs Vineyard': 31, 'Stuessy Cellars': 18, 'Stuhlmuller Vineyards': 27, 'Sturm': 18, 'Stylo': 10, 'Styring': 35, 'Stéphane Aviron': 16, 'SuLei': 16, 'Suacci Carciere Wines': 35, 'Suavia': 26, 'Suberli': 16, 'Subida di Monte': 22, 'Sublimis': 7, 'Substance': 21, 'Succulent Vineyards': 11, 'Sueño': 14, 'Suhru': 13, 'Sula': 7, 'Sullivan': 63, 'Sultry Cellars': 32, 'Sumac Ridge': 26, 'Sumarroca': 12, 'Summerland': 30, 'Summers': 34, 'Summerwood': 37, 'Summit Estates': 4, 'Summit Lake': 38, 'Sunbox Eleven': 39, 'Suncé Vineyard & Winery': 32, 'Sundae wines': 19, 'Sunfire': 37, 'Sunset': 17, 'Sunset Hills': 23, 'Sunstone': 36, 'Super Bojo': 5, 'Super Hero': 12, 'Super Sonoman': 56, 'Superuco': 43, 'Sur de los Andes': 13, 'Surf Point': 4, 'Surf Swim': 5, 'Surfrider': 16, 'Surh Luchtel': 33, 'Survivant': 14, 'Susana Balbo': 13, 'Sutcliffe': 26, 'Suter': 4, 'Sutro': 33, 'Sutter Home': 2, 'Svago Buono': 31, 'Swanson': 41, 'Swedish Hill': 13, 'Sweet Cheeks': 21, 'Sweet Valley': 23, 'Sweet Valley Wines': 13, 'Sweetzer Cellars': 35, 'Swick': 21, 'Swiftwater Cellars': 33, 'Swingset': 105, 'Swirl': 12, 'Switchback Ridge': 51, 'Syan': 25, 'Sylla Sebaste': 31, 'Sylvaine et Alain Normand': 23, 'Sylvan Springs': 14, 'Sylvester': 17, 'Sylvestra': 19, 'Syncline': 22, 'Syrahmi': 25, 'Syzygy': 26, 'Sàniger': 6, 'Séamus Wines': 49, 'Sélection Laurence Féraud': 28, 'Sérafin Père et Fils': 225, 'Sícoris': 10, 'T': 6, \"T'Gallant\": 15, \"T'Jara\": 22, 'T.A.T.T': 12, 'T.W. Fermentation': 54, 'TAO': 27, 'TH': 54, 'THP': 14, 'TLC': 10, 'TR Elliott': 34, 'TV Celadon': 20, 'TWODOG': 8, 'Taba': 10, 'Tabarrini': 43, 'Tablas Creek': 25, 'Table No. 7': 6, 'Taft Street': 14, 'Tagaris': 19, 'Tagonius': 20, 'Tahbilk': 29, 'Tahoe Ridge': 21, 'Tait Wines': 19, 'Taittinger': 91, 'Taj': 21, 'Taken Wine Co.': 18, 'Talamonti': 10, 'Talaria': 16, 'Talbott': 34, 'Talenti': 50, 'Taliano': 24, 'Talis Wine': 10, 'Talisman': 42, 'Tall Poppy': 8, 'Talley': 35, 'Tallulah': 32, 'Talmage': 21, 'Talomas': 9, 'Talosa': 20, 'Taltarni': 15, 'Talty Vineyards & Winery': 30, 'Talus': 3, 'Talus Collection': 3, 'Tamar Ridge': 15, 'Tamarack Cellars': 25, 'Tamaral': 19, 'Tamarí': 10, 'Tamayo': 14, 'Tamayo Family': 20, 'Tamber Bey': 47, 'Tamburini': 13, 'Tamburlaine': 8, 'Tamás': 5, 'Tamás Estates': 11, 'Tandem': 36, 'Tangent': 12, 'Tangley Oaks': 12, 'Tango': 5, 'Tango Reàl': 19, 'Tango Sur': 4, 'Tank Garage': 37, 'Tanner': 26, 'Tanner DaFoe': 78, 'Tantalus': 20, 'Tantalus Vineyards': 19, 'Tantara': 47, 'TapaNappa': 58, 'Tapestry': 23, 'Tapeña': 5, 'Tapiz': 21, 'Taplin Cellars': 55, 'Tapteil Vineyard': 24, 'Tar & Roses': 23, 'Tara Bella': 61, 'Tarantas': 7, 'Tarara': 25, 'Tardencuba': 16, 'Tardieu-Laurent': 49, 'Tarius': 17, 'Taron': 11, 'TarraWarra': 22, 'Tarsus': 19, \"Tasca d'Almerita\": 23, 'Tascante': 23, 'Tassajara': 15, 'Tassi': 61, 'Tatachilla': 8, 'Tate Creek': 1, 'Tatiarra': 48, 'Tatomer': 19, 'Taurino': 18, 'Taurus': 10, 'Taverna': 15, 'Tawert S.A.': 1, 'Taylor': 36, 'Tayson Pierce': 53, 'Taz': 19, 'TeBri Vineyards': 21, 'TeHo': 68, 'Teal Lake': 8, 'Teanum': 14, 'Tedeschi': 52, 'Tedeschi Family': 37, 'Tefft Cellars': 10, 'Tejada': 26, 'Telaya': 21, 'Telmo Rodríguez': 35, 'Telteca': 6, 'Temple Bruer': 9, 'Temporal': 14, 'Tempra Tantrum': 5, 'Temps de Flors': 9, 'Temptation': 8, 'Tempus Alba': 11, 'Tempus Cellars': 20, 'Tempus Two': 19, 'Ten Acre': 37, 'Ten Mile': 6, 'Tendil & Lombardi': 55, 'Tendril': 45, 'Tenet': 39, 'Tenimenti Angelini': 41, \"Tenimenti Ca' Bianca\": 20, 'Tenimenti Famiglia Cavallero': 42, \"Tenimenti Luigi D'Alessandro\": 35, 'Tenimenti Montagnana': 5, 'Tenimenti Ricci': 32, 'Tenimenti Zabù': 9, 'Tenoira': 10, 'Tenor': 54, 'Tenshen': 16, 'Tensley': 39, 'Tenuta Alzatura': 32, 'Tenuta Amalia': 9, 'Tenuta Argentiera': 51, 'Tenuta Arnulfo': 20, 'Tenuta Barone Nicolò La Lumia': 36, 'Tenuta Belguardo': 18, 'Tenuta Bellafonte': 46, 'Tenuta Buon Tempo': 52, \"Tenuta Ca' Vescovo\": 7, 'Tenuta Cantalupi': 9, 'Tenuta Caparzo': 29, 'Tenuta Cappellina': 31, 'Tenuta Carlina': 43, 'Tenuta Carretta': 34, 'Tenuta Casaletti': 9, 'Tenuta Casali': 17, 'Tenuta Castelbuono': 29, 'Tenuta Cavalier Pepe': 24, 'Tenuta Cerulli Spinozzi': 9, 'Tenuta Chiccheri': 50, 'Tenuta Cocci Grifoni': 16, 'Tenuta Coppadoro': 28, 'Tenuta Crocedimezzo': 49, 'Tenuta Cà Bolani': 12, 'Tenuta Cà du Russ': 19, 'Tenuta Duecorti': 52, 'Tenuta Farneta': 21, 'Tenuta Fernanda Cappello': 7, 'Tenuta Forconi': 50, 'Tenuta Friggiali': 48, 'Tenuta Fujanera': 10, 'Tenuta Ghiaccio Forte': 13, 'Tenuta Gorghi Tondi': 18, 'Tenuta H.Lentsch': 20, 'Tenuta I Greppi': 41, 'Tenuta Il Bosco': 14, 'Tenuta Il Faggeto': 8, 'Tenuta Il Poggione': 21, 'Tenuta Klaus Lentsch': 23, \"Tenuta L'Illuminata\": 46, 'Tenuta La Badiola': 11, 'Tenuta La Fuga': 56, 'Tenuta La Gigliola': 10, 'Tenuta La Marchesa': 13, 'Tenuta La Meridiana': 22, 'Tenuta La Ponca': 12, 'Tenuta La Vigna': 9, 'Tenuta La Viola': 22, 'Tenuta Le Calcinaie': 12, 'Tenuta Le Querce': 33, 'Tenuta Le Velette': 13, 'Tenuta Luisa': 14, 'Tenuta Mazzolino': 30, 'Tenuta Monte Gorna': 19, 'Tenuta Montecchiesi': 37, 'Tenuta Montedelma di Berardi': 28, 'Tenuta Monteti': 29, 'Tenuta Moraia': 15, 'Tenuta Olim Bauda': 17, 'Tenuta Oliveto': 41, 'Tenuta Pederzana': 15, 'Tenuta Peter Sölva & Söhne': 19, 'Tenuta Pierazzuoli': 14, 'Tenuta Pietramora': 11, 'Tenuta Poggio Rosso': 24, 'Tenuta Poggio il Castellare': 42, 'Tenuta Polvaro': 10, 'Tenuta Rapitalà': 17, 'Tenuta Rocca': 41, 'Tenuta Rocca di Montemassi': 6, 'Tenuta Roletto': 28, 'Tenuta Roveglia': 15, 'Tenuta San Francesco': 16, 'Tenuta San Giorgio': 36, 'Tenuta San Guido': 108, 'Tenuta San Jacopo': 10, 'Tenuta San Leonardo': 47, 'Tenuta San Mauro': 32, 'Tenuta San Vito': 23, \"Tenuta Sant'Antonio\": 28, 'Tenuta Santa Maria': 30, 'Tenuta Santa Maria alla Pieve': 52, 'Tenuta Santavenere': 14, 'Tenuta Santo Pietro': 17, 'Tenuta Santomè': 15, 'Tenuta Sarno 1860': 25, 'Tenuta Sette Cieli': 51, 'Tenuta Sette Ponti': 50, 'Tenuta Setten': 9, 'Tenuta Stella': 18, 'Tenuta Teracrea': 8, 'Tenuta Valdipiatta': 26, 'Tenuta Valli': 7, 'Tenuta Villa Tavernago': 15, 'Tenuta Villa Trasqua': 36, 'Tenuta Vitalonga': 22, 'Tenuta Vitanza': 43, 'Tenuta degli Dei': 30, 'Tenuta degli Ultimi': 12, 'Tenuta dei Fiori': 46, 'Tenuta dei Mille': 14, 'Tenuta dei Pianali': 37, 'Tenuta del Buonamico': 19, \"Tenuta dell'Ornellaia\": 182, \"Tenuta dell'Ugolino\": 10, 'Tenuta della Luia': 44, 'Tenuta delle Terre Nere': 31, 'Tenuta di Aglaea': 34, 'Tenuta di Angoris': 13, 'Tenuta di Arceno': 46, 'Tenuta di Argiano': 47, 'Tenuta di Biserno': 120, 'Tenuta di Burchino': 13, 'Tenuta di Capraia': 17, 'Tenuta di Castellaro': 25, 'Tenuta di Ceppaiano': 16, 'Tenuta di Fessina': 27, 'Tenuta di Fiorano': 28, 'Tenuta di Fraternita': 9, 'Tenuta di Ghizzano': 30, 'Tenuta di Lilliano': 27, 'Tenuta di Morzano': 15, 'Tenuta di Nozzole': 43, 'Tenuta di Pietra Porzia': 9, 'Tenuta di Riseccoli': 40, 'Tenuta di Serramarrocco': 30, 'Tenuta di Sesta': 72, 'Tenuta di Tavignano': 12, 'Tenuta di Trecciano': 14, 'Tenuta di Trinoro': 130, 'Tenuta di Vaira': 34, 'Tenuta di Valgiano': 45, 'Tenuta di Vignole': 8, 'Tenuta i Saltari': 55, \"Tenuta l'Ugo\": 16, 'Tenute Cisa Asinari dei Marchesi di Gresy': 36, 'Tenute Costa': 9, 'Tenute Dettori': 47, 'Tenute Fiorebelli': 44, 'Tenute Galtarossa': 39, 'Tenute Girolamo': 8, 'Tenute Grandi & Gabana': 10, 'Tenute Lunelli': 18, 'Tenute Mater Domini': 12, 'Tenute Niccolai': 47, 'Tenute Olbios': 25, 'Tenute Orestiadi': 6, 'Tenute Rubino': 17, 'Tenute Salvaterra': 64, 'Tenute Sella': 34, 'Tenute Silvio Nardi': 58, 'Tenute Soletta': 26, 'Tenute dei Vallarino': 14, 'Tenute del Cerro': 30, 'Teorema': 7, 'Tercero': 20, 'Tercic': 20, 'Tercos': 8, 'Terenzi': 27, 'Teresa Raiz': 13, 'Teresina': 14, 'Terlan': 43, 'Terlato': 46, 'Ternion': 17, 'Tero Estates': 37, 'TerrAmore': 6, 'Terra Australis': 7, 'Terra Bella': 55, 'Terra Buena': 4, 'Terra Incognita': 64, 'Terra Jovia': 41, 'Terra Rosa': 6, 'Terra Rossa': 41, 'Terra Serena': 10, 'Terra Sonoma': 23, 'Terra Sávia': 13, 'Terra Valentine': 46, 'Terra Vina Wines': 30, \"Terra d'Aligi\": 10, \"Terra d'Arcoiris\": 46, \"Terra d'Oro\": 16, 'Terra de Falanis': 10, 'Terra dei Re': 23, 'Terra dei Rei': 14, 'Terra di Briganti': 14, 'Terra do Castelo': 11, 'Terra do Lobo': 10, 'Terrabianca': 30, 'Terracita': 5, 'Terraesteban': 16, 'Terrai': 7, 'Terrale': 0, 'Terralsole': 64, 'Terrapin Cellars': 10, 'Terraprima': 10, 'Terras Gauda': 18, 'Terras de Lantaño': 14, 'Terrassous': 41, 'Terrazas de Los Andes': 20, 'Terrazas del Moncayo': 60, 'Terrazze Della Luna': 7, \"Terrazze dell'Etna\": 26, 'Terrazzo': 4, 'Terre Nere': 37, 'Terre Nere Campigli Vallone': 22, 'Terre Nere di Campigli - Vallone': 24, 'Terre Rouge': 24, 'Terre da Vino': 25, 'Terre de Loups': 9, 'Terre de Trinci': 24, 'Terre de Vignerons': 5, 'Terre de la Custodia': 59, 'Terre degli Svevi': 22, 'Terre del Marchesato': 40, 'Terre del Principe': 42, 'Terre di Balbia': 32, 'Terre di Fiori': 15, 'Terre di Giurfo': 11, 'Terre di Leone': 49, 'Terre di Melazzano': 20, 'Terre di Poggio': 11, 'Terre di Poppiano': 5, 'Terre di San Venanzio Fortunato': 14, 'Terre di Talamo': 19, 'Terredora': 24, 'Terredora Di Paolo': 26, 'Terremoto Cellars': 20, 'Terrenal': 0, 'Terreus': 132, 'Territorial': 23, 'Terroir Al Límit': 90, 'Terroir Al Límit Soc. Lda.': 64, 'Terroir Coquerel': 41, 'Terroirs et Talents': 15, 'Terry Hoage': 34, 'Tertius': 5, 'Tertulia': 25, 'Teruzzi & Puthod': 15, 'Terza': 5, 'Teso La Monja': 79, 'Tesoro della Regina': 11, 'Tess': 14, 'Tessa Marie': 19, 'Tessari': 20, 'Tessier Winery': 32, 'Testa Vineyards': 26, 'Testarossa': 41, 'Tetra': 63, 'Teusner': 31, 'Textbook': 32, 'Tezza': 21, 'Teós': 60, 'Thacher': 30, 'The 50 by 50': 23, 'The Academy': 14, 'The Archivist': 11, 'The Auctor': 12, 'The Big Easy': 28, 'The Big Red Monster': 7, 'The Black Chook': 13, 'The Boneyard': 22, 'The Bridge': 76, 'The Calling': 39, 'The Cleaver': 14, 'The Colonial Estate': 40, 'The Conqueror': 17, 'The Counselor': 28, 'The Crusher': 9, 'The Dancing Fox': 30, 'The Decision': 69, 'The Divining Rod': 11, 'The Edge': 10, 'The Eyrie Vineyards': 33, 'The Farm Winery': 60, 'The Federalist': 20, 'The Forager': 18, 'The Four Graces': 33, 'The Frenchhouse': 5, 'The Full': 32, 'The Furst...': 12, 'The Gardener': 28, 'The Gate': 26, 'The Ghost in the Machine': 5, 'The Girls in the Vineyard': 13, 'The Gnome Knows': 5, 'The Grade': 49, 'The Grapes of Roth': 29, 'The Great Oregon Wine Company': 9, 'The Grifter': 17, 'The Heavy': 55, 'The Hunt': 32, 'The Illegitimate': 19, 'The Industrial': 32, 'The Infinite Monkey Theorem': 26, 'The Islander': 10, 'The Jack': 10, 'The Lane': 23, 'The Leader': 11, 'The Line': 27, 'The Lost Colony': 12, 'The Loyal Companion': 9, 'The Lucky Country': 11, 'The Magpie': 27, 'The Maiden': 99, 'The Matriarch': 66, 'The Messenger': 11, 'The Mission': 14, 'The Mountain Winery': 34, 'The Naked Grape': 12, 'The Old Faithful': 22, 'The Old Field': 18, 'The Original Dark Horse': 3, 'The Prisoner': 32, 'The Rhôning Stones': 5, 'The Rule': 18, 'The Seeker': 9, 'The Setting': 30, 'The Seven Brothers': 7, 'The Shepherd': 10, 'The Show': 8, 'The Six Masters': 14, \"The Smuggler's Son\": 28, 'The Sum': 14, 'The Terraces': 50, 'The Treat': 64, 'The Tribe': 28, 'The Vineyard House': 163, 'The Vinum': 10, 'The Wait': 8, 'The Walls': 30, 'The White Doe': 12, 'The White Knight': 8, 'The Williamsburg Winery': 25, 'The Willows': 39, \"The Winemaker's Loft\": 8, 'The Winery SF': 19, \"The Winner's Tank\": 10, 'The Wishing Tree': 6, 'The Withers Winery': 31, 'Theopolis': 25, 'There': 30, 'There Wines': 21, 'Thibault': 12, 'Thibaut-Janisson': 23, 'Thibert Père et Fils': 29, 'Thierry & Guy': 5, 'Thierry Allemand': 75, 'Think Tank': 44, 'Thirsty Owl Wine Company': 12, 'Thirteen': 101, 'Thirteen Appellations': 69, 'Thirty-Seven Wines': 17, 'Thistle': 18, 'Thistledown': 28, 'Thiénot': 71, 'Thomas': 6, 'Thomas Carteron': 11, 'Thomas Fogarty': 38, 'Thomas George': 37, 'Thomas Goss': 11, 'Thomas Halby': 19, 'Thomas Henry': 13, 'Thomas Mitchell': 9, \"Thomas O'Neil Cellars\": 16, 'Thomas Scott': 15, 'Thorin': 7, 'Thorn': 35, 'Thorn Clarke': 24, 'Thorne': 27, 'Thornton': 14, 'Thorny Devil': 6, 'Thorny Rose': 6, 'Thousand Islands Winery': 8, 'Thralls': 31, 'Three': 23, 'Three Angels': 14, 'Three Bridges': 15, 'Three Brothers': 12, 'Three Clicks': 21, 'Three Families': 9, 'Three Fat Guys': 50, 'Three Fires': 39, 'Three Fox': 20, 'Three Knights': 21, 'Three Pears': 6, 'Three Pines': 9, 'Three Rights Left': 19, 'Three Rivers': 20, 'Three Saints': 15, 'Three Sticks': 48, 'Three Thieves': 4, 'Three of Cups': 27, 'Threesome Cellars': 75, 'Thunder Mountain': 35, 'Thunderbolt': 19, 'Thunevin': 19, 'Thurston Wolfe': 14, 'Tiamo': 7, 'Tiberini': 29, 'Ticket Cellars': 25, 'Tie-Dye': 11, 'Tiedemann': 39, 'Tiefenbrunner': 22, 'Tieffenbrunner': 7, 'Tienen Duende': 4, 'Tierce': 23, 'Tierra Adentro': 14, 'Tierra Aranda': 15, 'Tierra Brisa': 8, 'Tierra Caliente': 21, 'Tierra Divina': 10, 'Tierra Prometida': 14, 'Tierra Roja': 119, 'Tierra Secreta': 14, 'Tierra de Antes': 5, 'Tierra y Mar': 17, 'Tierras Altas': 7, 'Tierras Guindas': 6, 'Tiezzi': 35, 'Tiger Lily': 37, 'Tikal': 20, 'Tikalo': 8, 'Tilda': 12, 'Tildio': 20, 'Tilia': 5, 'Tim Adams': 12, 'Tim Gramp': 12, 'TimberRock': 20, 'Timbre': 32, 'Timbuktu': 5, 'Timothy Malone': 24, 'Timothy Moore': 26, 'Tin Barn': 21, 'Tin House': 25, 'Tin Roof': 6, 'Tin Shed': 32, 'Tinazzi': 19, 'Tinedo': 13, 'Tines': 18, 'Tineta': 10, 'Tineta Avante': 14, 'Tinhorn Creek': 18, 'Tintara': 12, 'Tinto Rey': 13, 'TintoNegro': 28, 'Tio Pepe': 14, 'Tionio': 21, \"Tir Na N'og\": 25, 'Tittarelli': 9, 'Titus': 31, 'Tiz': 3, 'Tiza': 14, 'Tiziano': 2, 'Tiziano Mazzoni': 34, 'Toad Hall': 26, 'Toad Hollow': 11, 'Toasted Head': 12, 'Tobacco Road': 102, 'Tobin James': 18, 'Toboni': 37, 'Toca Diamonte': 0, 'Toccata': 15, 'Tofanelli Family': 29, 'Toffoli': 10, 'Together': 33, 'Tognetti': 46, 'Toil Oregon': 41, 'Tolaini': 45, 'Tollot Beaut et Fils': 87, 'Tolloy': 7, 'Tolosa': 27, 'Tolpuddle': 50, 'Tom Eddy': 81, 'Tom Gore': 14, 'Tomero': 16, 'Tommasi': 22, 'Tommaso Bussola': 48, 'Tommasone': 24, 'Tondré': 31, 'Toneles del Sur': 11, 'Tongue Dancer': 41, 'Tonjum': 10, 'Tonnino': 12, 'Toogood': 20, 'Tooth and Nail': 32, 'Topanga': 19, 'Topel': 31, 'Toquade': 14, 'Tor': 40, 'Tor Kenward': 54, 'Torbreck': 82, 'Torelló': 15, \"Toretti's\": 34, 'Torii Mor': 38, 'Toriles': 9, 'Torito Bravo': 5, 'Torlasco': 30, 'Tormaresca': 15, 'Tornasol': 19, 'Tornatore': 26, 'Tornesi': 45, 'Toros': 19, 'Torraccia del Piantavigna': 26, 'Torraccia di Presura': 5, 'Torre Castillo': 8, 'Torre Fornello': 10, 'Torre León': 23, 'Torre Mascoli': 5, 'Torre Mora': 19, 'Torre Oria': 7, 'Torre Quarto': 14, 'Torre Raone': 20, 'Torre Rosazza': 18, 'Torre Vigne': 14, 'Torre di Luna': 6, 'Torrederos': 19, 'Torremoron': 6, 'Torres': 33, 'Torres de Anguix': 7, 'TorresManur': 4, 'Torresella': 5, 'Torrevento': 11, 'Torrevieja': 6, 'Torricino': 13, 'Torroxal': 19, 'Tortoise Creek': 6, 'Tosalet': 37, 'Tosca': 4, 'Toscar': 6, 'Toscolo': 13, 'Tossals': 15, 'Tosti': 15, 'Totally Random': 5, 'Toulouse': 26, 'Tour 52': 6, 'Tournesol': 64, 'Tournon by Michel Chapoutier': 22, 'Tousey': 13, 'Tower 15': 15, 'Tower Estate': 18, 'Townley': 41, 'Townshend': 11, 'Township 7': 18, \"Trabucchi d'Illasi\": 62, 'Trabucco': 36, 'Tractor Shed Red': 7, 'Traerte': 21, 'Trailhead': 21, 'Trambusti': 10, 'Tramier et Fils': 28, 'Tramin': 21, 'Tramuz': 7, 'Tranche': 23, 'Tranchero Osvaldo': 10, 'Transcendence': 29, 'Transmission': 19, 'Tranzind': 10, 'Trapezio': 14, 'Trapiche': 17, 'Trappolini': 13, 'Traslanzas': 30, 'Trathen Hall': 37, 'Trattore': 12, 'Travaglini': 48, 'Travieso': 20, 'Travignoli': 11, 'Travis': 13, 'Tre': 5, 'Tre Anelli': 21, 'Tre Donne': 12, 'Tre Fiori': 10, 'Tre Monti': 14, 'Tre Nova': 30, 'Tre Secoli': 17, 'TreViti': 18, 'Treana': 28, 'Treasure': 56, 'Trece Ranchos': 10, 'Trecini': 46, 'Trediberri': 38, 'Trefethen': 41, 'Trefiano': 30, 'Treleaven': 13, 'Trellis': 14, 'Trellis Gate': 19, 'Trencalòs': 5, 'Trenel Fils': 15, 'Trentadue': 17, 'Trenza': 20, 'Treos': 24, 'Trerose': 28, 'Trerè': 12, 'Tres Barcos': 10, 'Tres Carros': 10, 'Tres Exilios': 8, 'Tres Hermanas': 25, 'Tres Lunas': 11, 'Tres Ojos': 5, 'Tres Patas': 18, 'Tres Sabores': 37, 'Tres Vinicultores': 43, 'Tresa': 7, 'Trespass': 52, 'Tressals': 13, 'Treveri Cellars': 10, 'Trevisana': 2, 'Trevisiol': 12, 'Trey Marie': 23, 'Triacca': 14, 'Tribal': 7, 'Triennes': 13, 'Trig Point': 14, 'Trillón': 7, 'Trim': 6, 'Trimbach': 27, 'Trinchero': 37, 'Tringali Casanuova': 31, 'Trinitas': 24, 'Trinity Oaks': 4, 'Trinity River': 15, 'Trinity Vineyards': 21, 'Trio Vintners': 16, 'Trione': 33, 'Trios': 23, 'Triple B Ranches': 21, 'Trisaetum': 35, 'Tritano': 12, 'Tritón': 16, 'Triumph': 37, 'Triumph Cellars': 28, 'Trivento': 14, 'Trivium': 53, 'Trocard': 9, 'Troika': 23, 'Troll Bridge': 64, 'Trollop': 14, 'Trombetta': 45, 'Troon': 26, 'Trossos del Priorat': 38, 'Trotter 1/16': 60, 'Trou de Bonde': 12, 'Troublemaker by Austin Hope': 14, 'Trout Street': 40, 'Truant': 8, 'Truchard': 23, 'True Earth': 8, 'True Myth': 14, 'True Vine': 21, 'Trueblood': 36, 'Trueheart': 28, 'Truett Hurst': 19, 'Trump': 19, 'Trumpeter': 4, 'Truro': 19, 'Trus': 21, 'Truscott': 9, 'Trust': 24, 'Truth': 14, 'TruthTeller': 26, 'Tsillan': 19, 'Tsillan Cellars': 20, 'Tua Rita': 124, 'Tualatin Estate': 14, 'Tucannon': 23, 'Tuck Beckstoffer': 69, 'Tucker': 3, 'Tucumen': 10, 'Tudal': 32, 'Tudor Wines': 45, 'Tug Hill': 14, 'Tukma': 10, 'Tulip Hill': 16, 'Tulpen': 23, 'Tumwater': 40, 'Tunnel Hill': 10, 'Tupun': 6, 'Turchi': 18, 'Turiya': 84, 'Turkey Flat': 22, 'Turkovich': 15, 'Turley': 37, 'Turn 4': 10, 'Turn Four': 14, 'Turnbull': 59, 'Turner': 30, 'Turner Road': 6, 'Turning Leaf': 4, \"Tusk 'n Red\": 7, 'Tussock Jumper': 6, 'Tuxedo Cellars': 34, 'Twelve Staves': 13, 'Twenty Bench': 13, 'TwentyFour by Charles Woodson': 98, 'Twigs': 10, 'Twill': 24, 'Twin Arches': 5, 'Twin Fin': 5, 'Twin Oaks': 36, 'Twisted': 3, 'Twisted Cedar': 10, 'Twisted Oak': 22, 'Twisted Paso': 14, 'Twisted Sisters': 14, 'Twisted Twig': 44, 'Two Angels': 16, 'Two Arrowheads': 12, 'Two Brothers': 23, 'Two Hands': 55, 'Two Horns': 10, 'Two Moons': 29, 'Two Mountain': 22, 'Two Ponds': 5, 'Two Rivers': 10, 'Two Sisters': 54, 'Two Tone Farm': 9, 'Two Vines': 1, 'Two Vintners': 25, 'Two Wives': 10, 'Twomey': 40, 'Txakoli Primo': 14, 'Txomín Etxaníz': 17, 'Ty Caton': 34, 'Tyee': 16, 'Tyee Wine Cellars': 11, 'Tyler': 46, 'Tyler Florence': 25, \"Tyrrell's\": 24, 'Tyrus Evan': 30, 'Tête Brulée': 73, 'Uccelliera': 51, 'Uggiano': 18, 'Ugly Duckling': 7, 'Ugo Lequio': 38, 'Ulacia': 14, 'Ulises Valdez': 28, 'Ulithorne': 50, 'Ulupalakua': 21, 'Umani Ronchi': 19, 'Umberto Cesari': 19, 'Umberto Fiore': 8, 'Underground Wine Project': 16, 'Underwood': 7, 'Unearthed': 10, 'Unfiltered Blonde': 10, 'Union Beaujolaise': 21, 'Union de Producteurs de Lugon': 11, \"Union de Vignerons de l'Île de Beauté\": 11, 'Unionville': 20, 'United We Stand': 5, 'Univitis': 8, 'Unión Vinícola del Este': 5, 'Unparalleled': 13, 'Unti': 20, 'Unum': 37, 'Upchurch': 57, 'Uphill Vineyards': 20, 'Upland Estates': 18, 'Upper Five': 17, 'Uppercut': 11, 'Uproot Wines': 67, 'Upsidedown': 15, 'Uptick Vineyards': 29, 'Urban Legend': 22, 'Urbina': 16, 'Urraca': 33, 'Ursa': 15, 'Used Automobile Parts': 41, 'Uva Negra': 8, 'Uvada': 22, 'Uvaggio': 13, 'V Madrone': 64, 'V&N; Cellars': 12, 'V&R;': 7, 'V. Sattui': 32, 'VC Cellars': 22, 'VENN': 41, 'VF': 4, 'VGS': 68, 'VGS Chateau Potelle': 56, 'VIgnobles Ducourt': 11, 'VIgnobles René Renon': 23, 'VIgnobles Roux': 13, 'VJB': 24, 'VML': 25, 'Va Piano': 39, \"Va Piano Bruno's Blend II\": 12, \"Va Piano Bruno's Blend VII\": 14, 'Vacceos': 6, 'Vache': 30, 'Vadiaperti': 23, 'Vadin-Plateau': 66, 'Vagabond': 46, 'Vagnoni': 18, 'Val Auclair': 19, 'Val Montium': 12, 'Val Sotillo': 54, \"Val d'Oca\": 13, \"Val d'Orbieu\": 3, 'Val de Los Frailes': 21, 'Val delle Rose': 18, 'Val di Botte': 19, 'Val di Suga': 69, 'Val di Toro': 10, 'Val do Sosego': 11, 'Val du Vino': 21, 'Valance': 69, 'Valcantara': 4, 'Valchiarò': 35, 'Valcortes': 7, 'Valdamor': 14, 'Valdeaurum': 10, 'Valdecampaña': 13, 'Valdegracia': 9, 'Valdelacierva': 22, 'Valdelainos': 8, 'Valdelamillo': 8, 'Valdelana': 17, 'Valdelapinta': 8, 'Valdelavia': 12, 'Valdellövo': 15, 'Valderiz': 19, 'Valdesil': 23, 'Valdez': 30, 'Valdicava': 126, 'Valdinera': 16, 'Valdipiatta': 25, 'Valdo': 13, 'ValdoCea': 10, 'Valdonica': 25, 'Valdrinal': 11, 'Valdubón': 20, 'Valduero': 38, 'Valdumia': 11, 'Valenciso': 30, 'Valenti': 34, 'Valentin Bianchi': 10, 'Valentin Leflaive': 68, 'Valentina Cubi': 40, 'Valentini': 15, 'Valentino Butussi': 7, 'Valerie Hill': 18, \"Valerie's Vineyard\": 32, 'Valfaccenda': 26, 'Valiano': 19, 'Vall Llach': 52, 'Vallana': 21, 'Valle': 11, 'Valle Austral': 8, 'Valle Azul': 10, 'Valle Huarpe': 7, 'Valle Las Nencias': 11, 'Valle Perdido': 11, 'Valle Reale': 13, 'Valle Rojo': 8, 'Valle de Salinas': 8, 'Valle de la Puerta': 18, \"Valle dell'Acate\": 18, \"Valle dell'Asso\": 11, 'Vallebelbo': 6, 'Vallemon de Sardilici': 16, 'Valley Legend': 49, 'Valley View': 16, 'Valley of the Moon': 14, 'Vallformosa': 16, 'Vallobera': 13, 'Valmiñor': 12, 'Valori': 21, 'Valpiculata': 36, 'Valquejigoso': 47, 'Valsacro': 22, 'Valsanzo': 11, 'Valserrano': 26, 'Valtea': 14, 'Valter Scarbolo': 16, 'Valtosca': 17, 'Valtravieso': 32, 'Vampire': 14, 'Van Asperen': 12, 'Van Duzer': 22, 'Van Ruiten': 11, 'Van Westen': 24, 'Vanderbilt': 20, 'Vanessa': 26, 'Vaona': 28, 'Vaquero': 10, 'Varaschin': 16, 'Varda': 13, 'Varichon & Clerc': 6, 'Varner': 23, 'Varnier Fannière': 54, 'Varozza': 50, 'Varramista': 23, 'Varvaglione': 7, 'Varvaglione Vigne & Vini': 22, 'Vasari': 6, 'Vasco Urbano': 32, 'Vasse Felix': 35, 'Vasse River': 16, 'Vatan': 37, 'Vaucher Père et Fils': 10, 'Vaza': 8, 'Vazart Coquart & Fils': 51, 'Vecchia Cantina di Montepulciano': 17, 'Vecchie Terre di Montefili': 24, 'Vecordia': 11, 'Veedercrest': 37, 'Vega Barcelona': 9, 'Vega Escal': 16, 'Vega Montán': 5, 'Vega Moragona': 7, 'Vega Murillo': 8, 'Vega Sauco': 22, 'Vega Sicilia': 263, 'Vega Sindoa': 6, 'Vega Tolosa': 10, 'Vega de Tera': 8, 'Vega de la Reina': 10, 'Vega del Castillo': 5, 'Vega del Jiloca': 10, 'Veglio': 14, 'Veiga Naúm': 28, 'Veiga da Princesa': 15, 'Velenosi': 29, 'Vellum': 51, 'Velocity': 18, 'Velocity Wine Cellars': 19, 'Venge': 50, 'Venica & Venica': 23, 'Venta Mazzaron': 10, 'Venta Morales': 3, 'Venta del Puerto': 22, 'Ventana': 16, 'Venteux': 33, 'Ventolaio': 50, 'Ventolaio di Fanti Luigi': 46, 'Ventosa': 17, 'Venture Wines': 35, 'Venturini Baldini': 10, 'Venturini Massimino': 43, 'Venus': 16, 'Veraison': 46, 'Veramar': 18, 'Veranda Beach': 22, 'Verbena': 44, 'Vercingetorix VX': 18, 'Verdad': 15, 'Verde Sole': 12, 'Verderol': 13, 'Verdes Castros': 7, 'Verema': 15, 'Vergari': 30, 'Verge': 32, 'Verget': 26, 'Verismo': 40, 'Veritas': 21, 'Verité': 297, 'Vermador': 5, 'Vermeil': 51, 'Verotto': 26, 'Verrone': 11, 'Versant Vineyards': 60, 'Verse & Chorus': 14, 'Verso': 23, 'Verterra': 12, 'Vertijana': 13, 'Vertuze': 23, 'Verum': 14, 'Verve': 21, 'Vesevo': 18, 'Vesper Vineyards': 21, 'Vestini Campagnano': 25, 'Vetrère': 15, 'Vettori': 13, 'Vetus': 13, 'Veuve Ambal': 9, 'Veuve Clicquot Ponsardin': 109, 'Veuve Doussot': 70, 'Veuve du Vernay': 6, 'Vezer Family Vineyard': 31, 'Via Giusti': 45, 'Via Revolucionaria': 15, 'Viader': 97, 'Viamonte': 9, 'Viano': 5, 'Viansa': 38, 'Viberti': 70, 'Vicari': 11, 'Vicchiomaggio': 17, 'Vice Versa': 84, 'Vicente Gandia': 7, 'Vicentin': 18, 'Vicentini Agostino': 17, 'Victor Hugo': 16, 'Victor Vineyards': 10, 'Victory': 7, 'Vidal Vineyards': 46, 'Vidal-Fleury': 21, 'Vidon Vineyard': 45, 'Vidussi': 19, 'Vie Winery': 29, 'Vie di Romans': 31, 'Vieil Armand': 13, 'Vieira de Plata': 12, 'Vieja Bodega': 4, 'Viejo Isaias': 11, 'Viento': 17, 'Viento Sur': 4, 'Vietti': 82, 'Vieux Château Certan': 105, 'Vieux Château Chauvin': 50, 'Vieux Château Gaubert': 18, 'Vieux Château Mazerat': 113, 'Vieux Château Négrit': 10, 'Vieux Château des Combes': 16, 'Vieux Château des Templiers': 47, 'Vigil': 10, 'Vigilance': 17, 'Vigin': 47, 'Vigliano': 19, 'Vigna Piccola': 16, 'Vigna Traverso': 14, 'Vigna degli Estensi': 9, 'Vigna di Pettineo': 10, 'Vignaioli del Morellino di Scansano': 14, 'Vignamaggio': 22, 'Vignamato': 12, 'Vignavecchia': 30, 'Vigne & Vini': 10, 'Vigne Guadagno': 23, 'Vigne Marina Coppi': 42, 'Vigne Matte': 19, 'Vigne Regali': 13, 'Vigne Surrau': 16, 'Vigne dei Mastri': 12, 'Vigne di Mezzo': 25, 'Vignemastre': 7, 'Vignerons de Bel Air': 11, 'Vignerons de Buxy': 15, 'Vignerons de Buzet': 11, 'Vignerons de Caractère': 28, 'Vignerons de Correns': 11, 'Vignerons de Mancey': 12, 'Vignerons de Tavel': 10, 'Vignerons de Tutiac': 12, 'Vignerons des Pierres Dorées': 10, 'Vignerons des Terres Secrètes': 12, 'Vigneti Fantinel': 19, 'Vigneti Le Monde': 10, 'Vigneti Reale': 10, 'Vigneti Villabella': 28, 'Vigneti Zanatta': 6, 'Vigneti del Vulture': 12, 'Vignoble Brisebarre': 16, 'Vignoble Dauny': 17, 'Vignoble Malidain': 10, 'Vignoble de la Jarnoterie': 20, 'Vignoble des 2 Lunes': 19, 'Vignobles 46N118': 8, 'Vignobles Alain Jaume & Fils': 17, 'Vignobles André Lurton': 10, 'Vignobles Arbo': 16, 'Vignobles Arno': 16, 'Vignobles Berthier': 19, 'Vignobles Boissonneau': 13, 'Vignobles Bonhur': 5, 'Vignobles Boudinaud': 8, 'Vignobles Brumont': 45, 'Vignobles Bulliat': 15, 'Vignobles Carreau Selection': 13, 'Vignobles Chaigne et Fils': 10, 'Vignobles Despagne': 14, 'Vignobles Dom Brial': 18, 'Vignobles Drieux': 8, 'Vignobles Falgueyret Leglise': 10, 'Vignobles Fontan': 8, 'Vignobles Grandeau': 10, 'Vignobles Guy Mousset et Fils': 7, 'Vignobles Jeanjean': 11, 'Vignobles K': 38, 'Vignobles La Coterie': 18, 'Vignobles Laffourcade': 18, 'Vignobles Mayard': 55, 'Vignobles Meijer': 10, 'Vignobles Pueyo': 10, 'Vignobles Ravel': 8, 'Vignobles Raymond': 14, 'Vignobles Sarrail': 6, 'Vignobles de Balma Venitia': 21, 'Vignobles de France': 2, 'Vignobles de Roany': 8, 'Vignobles de Saint-Tropez': 18, 'Vihuela': 18, 'Vila': 6, 'Viladellops': 11, 'Vilarnau': 11, 'Vilerma': 12, 'Villa': 31, 'Villa Andretti': 22, 'Villa Andriana': 14, 'Villa Annaberta': 32, 'Villa Atuel': 5, 'Villa Bagnolo': 15, 'Villa Bizzarri': 9, 'Villa Cafaggio': 28, 'Villa Calcinaia': 26, 'Villa Canestrari': 53, 'Villa Carra': 6, 'Villa Cerna': 19, 'Villa Conchi': 10, 'Villa Cordevigo': 14, 'Villa Corliano': 8, 'Villa Cornaro': 10, 'Villa Creek': 46, 'Villa Crespia': 33, 'Villa Dante': 7, 'Villa Dria': 4, 'Villa Erbice': 33, 'Villa Fiorita': 30, 'Villa Giada': 13, 'Villa Gianna': 7, 'Villa Girardi': 50, 'Villa Giulia': 4, 'Villa Hermosa Cellars': 64, 'Villa I Cipressi': 48, 'Villa Ilaria': 18, 'Villa Ile': 25, 'Villa La Selva': 27, 'Villa Lanata': 10, 'Villa Le Prata': 52, 'Villa Maisano': 18, 'Villa Mangiacane': 18, 'Villa Mari': 41, 'Villa Matilde': 21, 'Villa Monteleone': 32, 'Villa Montignana': 12, 'Villa Mora': 20, 'Villa Mottura': 19, 'Villa Mt. Eden': 14, 'Villa Oneiro': 33, 'Villa Patrizia': 21, 'Villa Pillo': 9, 'Villa Poggio Salvi': 43, 'Villa Ponciago': 19, 'Villa Pozzi': 4, 'Villa Puccini': 5, 'Villa Raiano': 22, 'Villa Rubini': 10, 'Villa Russiz': 28, 'Villa S. Andrea': 14, 'Villa S. Anna': 26, 'Villa San Juliette': 18, 'Villa Sandi': 15, 'Villa Schinosa': 19, 'Villa Selvapiana': 24, 'Villa Sparina': 24, 'Villa Spinosa': 37, 'Villa Toscano': 19, 'Villa Venti': 29, 'Villa Vignamaggio': 26, 'Villa Vistarenni': 26, 'Villa Viña': 8, 'Villa a Sesta': 16, 'Villa al Cortile': 35, 'Villa da Filicaja': 8, 'Villa dei Lecci': 4, 'Villa del Lago': 201, 'Villa del Monte': 23, 'Villa des Anges': 7, 'Villa di Bagnolo': 35, 'Villa di Corlo': 13, 'Villa di Geggiano': 20, 'VillaViva': 6, 'Villabella': 13, 'Villacezan': 8, 'Villadoria': 24, 'Villarei': 14, 'Villarroya de la Sierra': 4, 'Villebois': 9, 'Villicana': 26, 'Vilmart & Co': 106, 'Viluko': 30, 'Vimini': 8, 'Vin Nostro': 26, 'Vin Perdu': 62, 'Vin Roc': 59, 'Vin Vault': 14, 'Vin de Manies': 50, 'Vin du Lac': 18, 'VinArte': 2, 'VinEcol': 8, 'VinRoc': 60, 'VinStrata': 39, 'Vina Bosquera': 11, 'Vina Moda': 19, 'Vina Robles': 19, 'Vinaceous': 12, 'Vinadeis': 7, \"Vinai dell'Abbate\": 13, 'Vinas Zurinaga': 60, 'Vinavanti': 10, 'Vincent': 17, 'Vincent Couche': 44, 'Vincent Delaporte': 21, 'Vincent Grall': 18, 'Vincent Lataste': 5, 'Vincent Pinard': 19, 'Vincent Price': 52, 'Vincent Roussely': 18, 'Vincent Saincrit': 5, 'Vincent Sauvestre': 38, 'Vincent Vatan': 19, 'Vincent Vineyards': 44, 'Vinchio-Vaglio Serra': 22, 'Vindemia': 42, 'Vindemio': 17, 'Vindivin': 8, 'Vine Cliff': 66, 'Vine Hill': 24, 'Vinedos Aurora': 31, 'Vinel': 7, 'Vinemark': 23, 'Vinessens': 46, 'Vineyard 1869': 37, 'Vineyard 29': 131, 'Vineyard 36': 73, 'Vineyard 48': 15, 'Vineyard 511': 123, 'Vineyard 7&8': 69, 'Vineyard of Pasterick': 32, 'Vini Iovine': 9, 'Vini Italiani da Sogno': 43, 'Vinifera': 31, 'Vinilo': 17, 'Viniterra': 7, 'Vino': 7, 'Vino Bello': 23, 'Vino Con Brio': 13, 'Vino La Monarcha': 13, 'Vino Noceto': 18, 'Vino Sapien': 19, 'Vino V': 27, 'Vino Valpredo': 17, 'Vino Vargas': 23, 'Vino dei Fratelli': 7, 'Vinoce': 45, 'Vinopera Bervini': 13, 'Vinos Jeromin': 30, 'Vinos Sanz': 14, 'Vinos Valtuille': 18, 'Vinos de Arganza': 15, 'Vinosia': 18, 'Vins Auvigue': 16, 'Vins Descombe': 9, 'Vins El Cep': 14, 'Vins des Personnets': 11, 'Vint Hill': 31, 'Vintage Cowboy': 14, 'Vintage Sun': 5, 'Vintager': 14, 'Vinterra': 23, 'Vintners Signatures': 12, 'Vinum': 12, 'Vinum Cellars': 16, 'Vinum Ferus': 22, 'Vinum Natura': 14, \"Vinya L'Hereu\": 18, 'Vinyes Doménech': 27, 'Vinyes del Terrer': 37, 'Vinyes dels Aspres': 21, 'Vinícola Hidalgo': 12, 'Vinícola Real': 26, 'Vinícola de Castilla': 4, 'Vionta': 10, 'Viore': 9, 'Virage': 36, 'Virgin': 5, 'Virgin Hills': 23, 'Virginia Dare': 19, 'Virginia Mountain Vineyards': 11, 'Viridiana': 7, 'Virna Borgogno': 47, 'Vision Cellars': 27, 'Vista Hills': 30, \"Vista d'Oro\": 28, 'Vistalba': 27, 'Viszlay Vineyards': 43, 'Vitae': 5, 'Vital': 17, 'Vitas': 9, 'Vite Colte': 39, 'Vite Vecchio': 21, 'Vitesse': 52, 'Vitiano': 5, 'Viticcio': 21, 'Viticoltori Alto Adige': 13, 'Viticoltori Ponte': 13, 'Viticoltori Senesi Aretini': 9, 'Viticultores del Priorat': 178, 'Viticultori Associati Canicatti': 10, 'Vitis Terrarum': 40, 'Vito Curatolo Arini': 14, 'Vitteaut-Alberti': 13, 'Viu Manent': 33, 'Vivanco': 31, 'Vivencias': 32, 'Vivera': 25, 'Viviani': 57, 'Viviano': 25, 'Vivir, Vivir': 6, 'Vivo Vino': 7, 'Vivác Winery': 16, 'Vixen': 24, 'Vizar': 50, 'Vizcarra': 47, 'Vizconde de Ayala': 24, 'Vizorro': 4, 'Viña Alarba': 5, 'Viña Albali': 7, 'Viña Alicia': 34, 'Viña Almirante': 10, 'Viña Altaba': 9, 'Viña Altamar': 8, 'Viña Amalia': 19, 'Viña Antigua': 6, 'Viña Arnáiz': 18, 'Viña Bade': 10, 'Viña Borgia': 1, 'Viña Bujanda': 10, 'Viña Canchal': 4, 'Viña Cantosán': 5, 'Viña Cartín': 9, 'Viña Cerrada': 11, 'Viña Cimbrón': 6, 'Viña Cobos': 64, 'Viña Collado': 3, 'Viña Concejo': 13, 'Viña Costeira': 9, 'Viña Cumbrero': 5, 'Viña Decana': 0, 'Viña Eguía': 9, 'Viña El Cerno': 25, 'Viña Fuentenarro': 9, 'Viña Galana': 8, 'Viña Godeval': 12, 'Viña Gormaz': 14, 'Viña Herminia': 11, 'Viña Hermosa': 13, 'Viña Ijalba': 16, 'Viña Jaraba': 8, 'Viña Las Perdices': 10, 'Viña Los Valles': 10, 'Viña Ludy': 12, 'Viña Magaña': 32, 'Viña Maipu': 7, 'Viña Mayor': 15, 'Viña Mayte': 1, 'Viña Mein': 13, 'Viña Mocen': 7, 'Viña Olabarri': 21, 'Viña Olvido': 13, 'Viña Otano': 13, 'Viña Palaciega': 10, 'Viña Paquita': 4, 'Viña Pródigus': 30, 'Viña Rufina': 34, 'Viña Salamanca': 7, 'Viña Salceda': 10, 'Viña San Juan': 4, 'Viña Santa Maria': 6, 'Viña Santa Marina': 8, 'Viña Sardasol': 5, 'Viña Sastre': 100, 'Viña Sila': 21, 'Viña Somoza': 16, 'Viña Valoria': 25, 'Viña Vedra': 7, 'Viña Vilano': 16, 'Viña a Verderol': 16, 'Viña del Sopié': 10, 'Viña del Val': 4, 'Viña do Val': 1, 'Viñalba': 12, 'Viñalcasta': 14, 'Viñamada': 23, 'Viñas de Vila': 6, 'Viñas del Cenit': 33, 'Viñas del Vero': 21, 'Viñedos Altamira Valley': 14, 'Viñedos Real Rubio': 16, 'Viñedos de Paganos': 96, 'Viñedos y Bodegas Pablo': 14, 'Viñestral': 10, 'Vodopivec': 73, 'Voerzio Martini': 20, 'Voga': 9, 'Vogadori': 10, 'Vogelzang': 25, 'Voila!': 17, 'Voirin-Jumel': 49, 'Voiturette': 5, 'Volatus': 19, 'Voliero': 31, 'Volker Eisele Family Estate': 44, 'Vollereaux': 33, 'Volo Del Corvo': 23, 'Volpaia': 39, 'Volpaiole': 53, 'Volpe Pasini': 23, 'Volta': 50, 'Volteo': 4, 'Volunteer': 23, 'Volver': 10, 'Volvoreta': 20, 'Von Holt': 28, 'Von Strasser': 62, 'Vortex': 16, 'Voss': 13, 'Voveti': 11, 'Voyager Estate': 32, 'Vranken': 71, 'Vèscine': 23, 'Véronique Günther-Chereau': 12, 'Vía': 19, 'W. Gisselbrecht': 14, 'W.H. Smith': 43, 'W.S. Keyes': 78, 'W.T. Vintners': 26, 'WCP': 27, 'WYSIWYG': 2, 'Waca': 10, 'Wagner': 11, 'Wagtail': 5, 'Wait Cellars': 25, 'Waits-Mast': 37, 'Wakefield': 26, 'Wakefield Estate': 16, 'Walden': 10, 'Walker': 5, 'Walla Faces': 24, 'Walla Walla': 27, 'Walla Walla Vintners': 27, 'Wallace': 16, 'Wallis Family Estate': 62, 'Walnut City WineWorks': 19, 'Walt': 51, 'Walter Dacon': 28, 'Walter Scott': 12, 'Waltzing Bear': 34, 'Wandering Grape': 6, 'Wandin Valley': 11, 'Wapato Point Cellars': 21, 'War Horse': 13, 'Ward Johnson Winery': 21, 'Wargin Wines': 19, 'Waris Hubert': 41, 'Warrabilla': 30, 'Washington Hills': 5, 'Water Wheel': 11, 'Waterbrook': 11, 'Waterfront': 110, 'Waterloo': 30, 'Watermill': 21, 'Waters': 32, 'Waters Crest': 26, 'Watershed': 16, 'Waterstone': 18, 'Watkins Family': 27, 'Wattle Creek': 25, 'Watts': 15, 'Waugh Cellars': 23, 'Wautoma': 30, 'Waxwing': 25, 'Wayfarer': 98, 'Wayne Gretzky Estates': 40, 'Wayne Thomas': 15, 'Waypoint': 55, 'We Are Sonoma': 7, 'Weather': 26, 'Weatherborne': 31, 'Webster Cellars': 22, 'Wedell Cellars': 59, 'Wedge Mountain': 15, 'Weibel Family': 11, 'Weinert': 17, 'Weingut Niklas': 16, 'Weingut Stroblhof': 20, 'Weinhof Kobler': 16, 'Weinstock Cellars': 10, 'Weisinger': 24, \"Weisinger's of Ashland\": 14, 'Wellington': 18, 'Wente': 20, 'WesMar': 34, 'Wesley Ashley': 34, 'West Cape Howe': 12, 'West of Temperance': 29, 'Westbend Vineyards': 41, 'Westbrook Wine Farm': 11, 'Westend': 8, 'Westerly': 35, 'Western Slope': 19, 'Westland': 14, 'Westphalia Vineyards': 9, 'Westport Winery': 19, 'Westrey': 22, 'Westside Red': 14, 'Westwood': 34, 'Wetzel Estate': 26, 'Whalebone': 31, 'Wharton': 19, 'Wheelhouse': 10, 'Whetstone': 46, 'Whidbey Island Winery': 11, 'Whiplash': 9, 'Whispering Tree': 5, 'Whistler': 42, 'Whitcraft': 37, 'White Cottage': 30, 'White Cottage Ranch': 34, 'White Hall': 13, 'White Hart Wine': 21, 'White Heron': 8, 'White Knot': 7, 'White Oak': 19, 'White Rock Vineyards': 44, 'White Rose': 56, 'White Springs': 11, 'White Truck': 6, 'Whitecliff Vineyard': 18, 'Whitehall Lane': 38, 'Whitestone': 21, 'Whitford': 14, 'Whitford Cellars': 17, 'Whitman Cellars': 21, 'Wiegner': 29, 'Wild Brush Cellars': 13, 'Wild Coyote': 26, 'Wild Duck Creek Estate': 35, 'Wild Hare': 5, 'Wild Hog': 23, 'Wild Hogge': 25, 'Wild Horse': 23, 'Wild Meadows': 6, 'Wild Oak by St. Francis': 25, 'Wild Oats': 10, 'Wild Pig': 5, 'Wild Ridge': 37, 'Wild Thing': 11, 'WildAire': 26, 'WildHaven': 7, 'WildStock': 15, 'Wildberry Estate': 12, 'Wilde Farm Wines': 32, 'Wilderotter': 22, 'Wildewood': 14, 'Wildhurst': 10, 'Wildling': 9, 'Wildwood': 24, 'Wiliam Augustus': 10, 'WillaKenzie Estate': 28, 'Willamette Valley Vineyards': 30, 'Willful': 27, 'William Augustus': 11, 'William Church': 25, 'William Cole': 110, 'William Fèvre': 51, 'William Grassie': 31, 'William Harrison': 51, 'William Hatcher': 41, 'William Hill Estate': 27, 'William James': 20, 'William Knuttel': 24, 'William Marie': 22, 'Williams & Heim': 26, 'Williams & Humbert': 32, 'Williams Selyem': 49, 'Williamson Wines': 37, 'Willm': 13, 'Willow Bridge': 15, 'Willow Creek': 15, 'Willow Crest': 9, 'WillowBrook Cellars': 30, 'Willowbrook': 28, 'Wilridge': 20, 'Wilson': 29, 'Wilson Daniels': 11, 'Wilson and Wilson': 46, 'Wily Jack': 3, 'Winc': 29, 'Wind Rose': 16, 'WindRacer': 37, 'WindVane': 50, 'Windbreak': 28, 'Windemere': 18, 'Winderlea': 45, 'Windmill': 7, 'Windrun': 17, 'Windshaker Ridge': 8, 'Windsor': 13, 'Windsor Oaks': 29, 'Windsor Sonoma': 18, 'Windstream': 25, 'Windward Vineyard': 30, 'Windy Bay': 10, 'Windy Canyon': 22, 'Windy Oaks': 33, 'Windy Peak': 8, 'Windy Ridge': 7, 'Wine Block': 5, 'Wine Guerrilla': 24, 'Wine Out West': 10, 'Wine Saur': 10, 'Wine Spots': 18, 'Wine by Joe': 9, 'Wine for Food': 6, \"Wine o'Clock\": 14, 'WineSmith': 23, 'Wineglass Cellars': 22, 'Winenot': 16, 'Winery Arts': 14, 'Winery at La Grange': 31, 'Winery by the Creek': 17, 'Wines Gone Wild': 8, 'Wines of Carmel': 17, 'Wing Canyon': 19, \"Winner's Tank\": 11, 'Winston Hill': 132, 'Winter Creek': 21, \"Winter's Hill\": 24, 'Wirra Wirra': 23, 'Wise': 15, 'Wise Villa': 25, \"Wit's End\": 12, 'Witching Stick': 35, 'Witness Tree': 17, 'Wm. Harrison': 44, 'Wofford Acres': 25, 'Wolf Blass': 23, 'Wolf Family': 64, 'Wolfberger': 15, 'Wolff': 17, 'Wolfgang Puck': 9, 'Wonderment Wines': 32, 'Wondrous': 9, 'Wood Family Vineyards': 27, 'Wood Park': 18, 'Wood Winery': 25, 'Woodbridge': 5, 'Woodbridge by Robert Mondavi': 3, 'Woodbury': 18, 'Wooden Valley': 10, 'Woodenhead': 39, 'Woodinville Wine Cellars': 27, 'Woodinville Wine Company': 23, 'Woodside': 29, 'Woodstock Collection': 36, 'Woodward Canyon': 39, 'Woody Nook': 22, 'Wooldridge Creek': 11, 'Woolundry Rd': 8, 'Woomera': 7, 'Woop Woop': 9, 'Work': 36, 'Workman Ayer': 24, \"World's End\": 66, 'Worthy': 20, 'Wrath': 28, 'Wrights Station': 32, \"Writer's Block\": 10, 'Wrongo Dongo': 4, 'Wunsch & Mann': 20, \"Wy'East Vineyards\": 20, 'Wyncroft': 30, 'Wyndham Estate': 8, 'Wynns Coonawarra Estate': 16, 'Wölffer': 23, 'X': 16, 'XIX': 110, 'XYZin': 22, 'Xabec': 18, 'Xama Kaye': 10, 'Xanadu': 12, 'Xavier Flouret': 15, 'Xavier Monnot': 54, 'Xenysel': 7, 'Xumek': 10, 'Xurus': 50, 'Y Rousseau': 38, 'YN': 6, 'YNOT': 20, 'Yabby Lake Vineyard': 36, 'Yacochuya': 16, 'Yalumba': 21, 'Yamhill Valley': 19, 'Yangarra Estate Vineyard': 20, 'Yangarra Park': 5, 'Yann Alexandre': 103, 'Yao Family Wines': 88, 'Yao Ming': 307, 'Yardstick': 20, 'Yarra Burn': 11, 'Yarra Yering': 74, 'Yarrabank': 20, 'Yarraman': 7, 'Yasa': 6, 'Yates Family Vineyard': 40, 'Yellow Hawk Cellar': 13, 'Yellow Tail': 5, 'Yellow by Yellowglen': 7, 'Yemanueva': 10, 'Yemaserena': 19, 'Yering Station': 23, 'Yeringberg': 47, 'Yllera': 30, 'Yohan Lardy': 18, 'Yonna': 19, 'Yorba': 23, 'York Mountain Winery': 15, 'Yorkville Cellars': 19, 'Young Inglewood': 55, 'Youngberg Hill Vineyards': 30, 'Ysios': 27, 'Yunbar': 17, 'Yuntero': 10, 'Yvecourt': 5, 'Yves Cuilleron': 48, 'Yves Giradin': 41, 'Yves Giroux': 23, 'Yves Leccia': 25, 'Yvette et Michel Beck-Hartweg': 7, 'Yvon Mau': 7, \"Z'IVO\": 23, 'Z-52': 12, 'Z. Alexander Brown': 32, 'ZD': 59, 'ZED': 8, 'Za Zin': 10, 'ZaHa': 36, 'Zaca Mesa': 24, \"Zagan's Fire\": 10, 'Zagarrón': 3, 'Zahtila': 31, 'Zamarro': 0, 'Zanasi': 11, 'Zanoli': 23, 'Zanoni': 28, 'Zarate': 34, 'Zardetto': 13, 'Zarpado': 2, 'Zaza': 3, 'Zealear': 22, 'Zefina': 20, 'Zeitgeist': 20, 'Zema Estate': 19, 'Zemlia': 20, 'Zenaida Cellars': 22, 'Zenato': 38, 'Zeni': 27, 'Zenith': 24, 'Zepaltas': 30, 'Zephaniah': 17, 'Zerba Cellars': 21, 'Zero One Vintners': 14, 'Zerran': 11, 'Ziata': 46, 'Zichichi Family Vineyard': 30, 'Zig Zag': 12, 'Zilaro Cellars': 28, 'Zimri Cellars': 20, 'Zin 91': 9, 'ZinPhomaniac': 13, 'Zina Hyde Cunningham': 22, 'Zinderella': 19, 'Zinfandelic': 13, 'Zingaro': 8, 'Zinhead': 19, 'Zinio': 14, 'Zinke': 27, 'Zinopolis': 13, 'Zinsane': 9, 'Ziobaffa': 16, 'Ziries': 23, 'Zisola': 31, 'Zitua': 10, 'Zocker': 14, 'Zoetic Wines': 32, 'Zoller': 20, 'Zolo': 9, 'Zonda': 10, 'Zonin': 13, \"Zonte's Footstep\": 10, 'Zorzal': 17, 'Zorzettig': 14, 'Zorzon': 12, 'Zotovich Cellars': 29, 'Zuani': 26, 'Zucca': 18, 'Zuccardi': 25, 'Zudugarai': 19, 'Zumaya': 11, 'Zusslin': 33, 'Zymè': 128, 'Zynthesis': 6, '[ñ]': 23, 'a-non-ah-mus': 25, 'château Peychaud': 9, \"d'Art Wines\": 16, 'db Winery': 27, 'de Lancellotti': 39, 'de Restia': 17, 'deAlto Amo': 5, 'ded.reckoning': 14, 'dîner': 18, 'ecoVINO': 9, 'esedos': 41, 'flipflop': 2, 'friends.red': 5, 'histoire': 11, 'hope & grace': 40, 'iNapa Wine': 69, 'j.brix': 25, 'kukkula': 33, \"l'Escargot\": 8, \"l'homme qui ris\": 16, 'love & squalor': 32, 'm2 Wines': 28, 'next:': 7, 'noblet': 14, 'pb': 12, 'promisQous': 7, 'the Ghost of 413': 8, 'un4seen': 5, 'Ànima Negra': 31, 'Árido': 5, 'Áster': 37, 'Ébano': 16, 'Écluse': 33, 'Élevée Winegrowers': 37, 'Éric & Jöel Durand': 29, 'Ñandú': 9, 'Órale': 23, 'Öko': 6, 'àMaurice': 31, 'áster': 20}\n"
          ],
          "name": "stdout"
        },
        {
          "output_type": "execute_result",
          "data": {
            "text/html": [
              "<div>\n",
              "<style scoped>\n",
              "    .dataframe tbody tr th:only-of-type {\n",
              "        vertical-align: middle;\n",
              "    }\n",
              "\n",
              "    .dataframe tbody tr th {\n",
              "        vertical-align: top;\n",
              "    }\n",
              "\n",
              "    .dataframe thead th {\n",
              "        text-align: right;\n",
              "    }\n",
              "</style>\n",
              "<table border=\"1\" class=\"dataframe\">\n",
              "  <thead>\n",
              "    <tr style=\"text-align: right;\">\n",
              "      <th></th>\n",
              "      <th>country</th>\n",
              "      <th>points</th>\n",
              "      <th>price</th>\n",
              "      <th>province</th>\n",
              "      <th>region</th>\n",
              "      <th>variety</th>\n",
              "      <th>winery</th>\n",
              "    </tr>\n",
              "  </thead>\n",
              "  <tbody>\n",
              "    <tr>\n",
              "      <th>0</th>\n",
              "      <td>6</td>\n",
              "      <td>96</td>\n",
              "      <td>235.0</td>\n",
              "      <td>3</td>\n",
              "      <td>15</td>\n",
              "      <td>82</td>\n",
              "      <td>94</td>\n",
              "    </tr>\n",
              "    <tr>\n",
              "      <th>1</th>\n",
              "      <td>5</td>\n",
              "      <td>96</td>\n",
              "      <td>110.0</td>\n",
              "      <td>2</td>\n",
              "      <td>11</td>\n",
              "      <td>75</td>\n",
              "      <td>47</td>\n",
              "    </tr>\n",
              "    <tr>\n",
              "      <th>2</th>\n",
              "      <td>6</td>\n",
              "      <td>96</td>\n",
              "      <td>90.0</td>\n",
              "      <td>3</td>\n",
              "      <td>12</td>\n",
              "      <td>26</td>\n",
              "      <td>77</td>\n",
              "    </tr>\n",
              "    <tr>\n",
              "      <th>3</th>\n",
              "      <td>6</td>\n",
              "      <td>96</td>\n",
              "      <td>65.0</td>\n",
              "      <td>3</td>\n",
              "      <td>9</td>\n",
              "      <td>80</td>\n",
              "      <td>34</td>\n",
              "    </tr>\n",
              "    <tr>\n",
              "      <th>4</th>\n",
              "      <td>3</td>\n",
              "      <td>95</td>\n",
              "      <td>66.0</td>\n",
              "      <td>1</td>\n",
              "      <td>8</td>\n",
              "      <td>42</td>\n",
              "      <td>33</td>\n",
              "    </tr>\n",
              "    <tr>\n",
              "      <th>...</th>\n",
              "      <td>...</td>\n",
              "      <td>...</td>\n",
              "      <td>...</td>\n",
              "      <td>...</td>\n",
              "      <td>...</td>\n",
              "      <td>...</td>\n",
              "      <td>...</td>\n",
              "    </tr>\n",
              "    <tr>\n",
              "      <th>129962</th>\n",
              "      <td>4</td>\n",
              "      <td>90</td>\n",
              "      <td>40.0</td>\n",
              "      <td>2</td>\n",
              "      <td>6</td>\n",
              "      <td>32</td>\n",
              "      <td>14</td>\n",
              "    </tr>\n",
              "    <tr>\n",
              "      <th>129965</th>\n",
              "      <td>3</td>\n",
              "      <td>90</td>\n",
              "      <td>28.0</td>\n",
              "      <td>2</td>\n",
              "      <td>8</td>\n",
              "      <td>30</td>\n",
              "      <td>25</td>\n",
              "    </tr>\n",
              "    <tr>\n",
              "      <th>129967</th>\n",
              "      <td>6</td>\n",
              "      <td>90</td>\n",
              "      <td>75.0</td>\n",
              "      <td>3</td>\n",
              "      <td>6</td>\n",
              "      <td>80</td>\n",
              "      <td>41</td>\n",
              "    </tr>\n",
              "    <tr>\n",
              "      <th>129969</th>\n",
              "      <td>3</td>\n",
              "      <td>90</td>\n",
              "      <td>32.0</td>\n",
              "      <td>2</td>\n",
              "      <td>8</td>\n",
              "      <td>30</td>\n",
              "      <td>34</td>\n",
              "    </tr>\n",
              "    <tr>\n",
              "      <th>129970</th>\n",
              "      <td>3</td>\n",
              "      <td>90</td>\n",
              "      <td>21.0</td>\n",
              "      <td>2</td>\n",
              "      <td>8</td>\n",
              "      <td>38</td>\n",
              "      <td>42</td>\n",
              "    </tr>\n",
              "  </tbody>\n",
              "</table>\n",
              "<p>121857 rows × 7 columns</p>\n",
              "</div>"
            ],
            "text/plain": [
              "        country  points  price  province  region  variety  winery\n",
              "0             6      96  235.0         3      15       82      94\n",
              "1             5      96  110.0         2      11       75      47\n",
              "2             6      96   90.0         3      12       26      77\n",
              "3             6      96   65.0         3       9       80      34\n",
              "4             3      95   66.0         1       8       42      33\n",
              "...         ...     ...    ...       ...     ...      ...     ...\n",
              "129962        4      90   40.0         2       6       32      14\n",
              "129965        3      90   28.0         2       8       30      25\n",
              "129967        6      90   75.0         3       6       80      41\n",
              "129969        3      90   32.0         2       8       30      34\n",
              "129970        3      90   21.0         2       8       38      42\n",
              "\n",
              "[121857 rows x 7 columns]"
            ]
          },
          "metadata": {
            "tags": []
          },
          "execution_count": 129
        }
      ]
    },
    {
      "cell_type": "code",
      "metadata": {
        "id": "XhJ18v8lc_n5",
        "colab_type": "code",
        "colab": {}
      },
      "source": [
        "# przygotowywanie danych\n",
        "X = wine_data.drop(\"price\", axis=1)\n",
        "y = wine_data.price"
      ],
      "execution_count": 0,
      "outputs": []
    },
    {
      "cell_type": "code",
      "metadata": {
        "id": "We8LBHAfZ1LC",
        "colab_type": "code",
        "colab": {}
      },
      "source": [
        "# zaktualizowanie ceny\n",
        "y2 = y/10"
      ],
      "execution_count": 0,
      "outputs": []
    },
    {
      "cell_type": "code",
      "metadata": {
        "id": "T5teMiedJ8hd",
        "colab_type": "code",
        "colab": {}
      },
      "source": [
        "#from sklearn.pipeline import Pipeline\n",
        "#from sklearn.model_selection import GridSearchCV\n",
        "#from sklearn.neural_network import MLPClassifier\n",
        "#from sklearn.model_selection import StratifiedKFold\n",
        "#import numpy as np\n",
        "#from sklearn.model_selection import KFold\n",
        "#from sklearn.preprocessing import StandardScaler\n",
        "#from keras.callbacks import EarlyStopping\n",
        "#from keras.callbacks import History\n",
        "\n",
        "# wyszukanie modelu przy optymalnych parametrach\n",
        "\n",
        "#kfold = KFold(n_splits=3, random_state=0, shuffle=True)\n",
        "#pipe = Pipeline([('preprocessing', StandardScaler()), ('classifier', MLPClassifier())])\n",
        "\n",
        "#param_grid = {\n",
        "#            'preprocessing': [StandardScaler()#, None\n",
        "#                              ],#,\n",
        "#            #'classifier__hidden_layer_sizes': [(20,10)],\n",
        "#            #'classifier__learning_rate_init': [0.001, 0.01, 0.1\n",
        "#            #                                    ],\n",
        "#            'classifier__max_iter': [1000],\n",
        "#            #'classifier__batch_size': [8, 16,32\n",
        "#            #                           ],\n",
        "#}#\n",
        "#\n",
        "#grid = GridSearchCV(pipe, param_grid, cv=kfold, return_train_score=True, n_jobs=-1)\n",
        "#history1 = History()\n",
        "#grid_result = grid.fit(X_train, y_train.astype('int'))\n",
        "#history1 = grid_result.best_estimator_.model.history.history\n",
        "#grid.best_params_\n"
      ],
      "execution_count": 0,
      "outputs": []
    },
    {
      "cell_type": "code",
      "metadata": {
        "id": "t4R8Wy63LeVV",
        "colab_type": "code",
        "colab": {}
      },
      "source": [
        "#grid_result.best_estimator_"
      ],
      "execution_count": 0,
      "outputs": []
    },
    {
      "cell_type": "code",
      "metadata": {
        "id": "dMisI2kHc_oA",
        "colab_type": "code",
        "outputId": "bf3b4be5-41c1-4a2c-c9eb-44b0e1ee1d16",
        "colab": {
          "base_uri": "https://localhost:8080/",
          "height": 34
        }
      },
      "source": [
        "from keras.utils import to_categorical\n",
        "y2 = to_categorical(y2)\n",
        "print(y2.shape)"
      ],
      "execution_count": 134,
      "outputs": [
        {
          "output_type": "stream",
          "text": [
            "(121857, 331)\n"
          ],
          "name": "stdout"
        }
      ]
    },
    {
      "cell_type": "code",
      "metadata": {
        "id": "ZYgzgZ1Xc_oB",
        "colab_type": "code",
        "colab": {}
      },
      "source": [
        "X_train, X_test, y_train, y_test = train_test_split(X,y2,random_state = 42)"
      ],
      "execution_count": 0,
      "outputs": []
    },
    {
      "cell_type": "code",
      "metadata": {
        "id": "Otc9ofQBnw9Q",
        "colab_type": "code",
        "colab": {
          "base_uri": "https://localhost:8080/",
          "height": 34
        },
        "outputId": "f2ddfe40-f477-4dbe-f890-7f77bf8b3f06"
      },
      "source": [
        "print(X_train.shape)"
      ],
      "execution_count": 136,
      "outputs": [
        {
          "output_type": "stream",
          "text": [
            "(91392, 6)\n"
          ],
          "name": "stdout"
        }
      ]
    },
    {
      "cell_type": "code",
      "metadata": {
        "id": "jEcNddZa3WBA",
        "colab_type": "code",
        "colab": {}
      },
      "source": [
        "from sklearn.preprocessing import StandardScaler\n",
        "sc = StandardScaler()\n",
        "X_train = sc.fit_transform(X_train)\n",
        "X_test = sc.transform(X_test)"
      ],
      "execution_count": 0,
      "outputs": []
    },
    {
      "cell_type": "code",
      "metadata": {
        "id": "_KNGDT_JjzAk",
        "colab_type": "code",
        "colab": {
          "base_uri": "https://localhost:8080/",
          "height": 490
        },
        "outputId": "07e847eb-bdf7-49e7-e371-e5fe0b9fc791"
      },
      "source": [
        "from keras.callbacks import EarlyStopping\n",
        "from keras.callbacks import History\n",
        "from keras.wrappers.scikit_learn import KerasClassifier\n",
        "from sklearn.model_selection import RandomizedSearchCV\n",
        "from keras.callbacks import ReduceLROnPlateau, EarlyStopping, History\n",
        "from keras.layers import Dense, Input, Activation, BatchNormalization, Dropout\n",
        "from keras.models import Model\n",
        "import numpy as np\n",
        "from sklearn.preprocessing import StandardScaler\n",
        "\n",
        "def build_fn(n_neurons, n_hidden=5):\n",
        "    layer_input = Input(shape=(6,))\n",
        "    x = layer_input\n",
        "    for i in range(0, n_hidden):\n",
        "        x = Dense(n_neurons-((i+1)*100), activation='tanh')(x)\n",
        "        x = (BatchNormalization())(x)\n",
        "        x = (Dropout(0.5))(x)\n",
        "    layer_output = Dense(331, activation='sigmoid')(x)\n",
        "    model = Model(inputs=layer_input, outputs=layer_output, name='my network')\n",
        "    model.compile(loss=\"categorical_crossentropy\",optimizer=\"Adam\", metrics=[\"accuracy\"])\n",
        "    return model\n",
        "\n",
        "param_distributions = {\n",
        "    \"n_neurons\": [700\n",
        "                  ,800\n",
        "                  ,900\n",
        "                  ],\n",
        "    \"n_hidden\": [2\n",
        "                 ,3\n",
        "                 ,4\n",
        "                 ],\n",
        "}\n",
        "\n",
        "keras = KerasClassifier(build_fn=build_fn, n_hidden=2, n_neurons=700)\n",
        "model = RandomizedSearchCV(estimator=keras, param_distributions=param_distributions, n_iter=10, cv=3, verbose=2, n_jobs=-1)\n",
        "early_stopping = EarlyStopping(monitor='val_loss', mode='min', patience=2, verbose=1)\n",
        "lr_reduction = ReduceLROnPlateau(monitor='accuracy', patience=3, verbose=1, factor=0.4, min_lr=1e-4)\n",
        "\n",
        "history = History()\n",
        "model.fit(X_train, y_train, batch_size=100, epochs=100, validation_split=0.2, verbose=1, callbacks=[early_stopping, lr_reduction, history])"
      ],
      "execution_count": 138,
      "outputs": [
        {
          "output_type": "stream",
          "text": [
            "Fitting 3 folds for each of 1 candidates, totalling 3 fits\n"
          ],
          "name": "stdout"
        },
        {
          "output_type": "stream",
          "text": [
            "/usr/local/lib/python3.6/dist-packages/sklearn/model_selection/_search.py:281: UserWarning: The total space of parameters 1 is smaller than n_iter=10. Running 1 iterations. For exhaustive searches, use GridSearchCV.\n",
            "  % (grid_size, self.n_iter, grid_size), UserWarning)\n",
            "[Parallel(n_jobs=-1)]: Using backend LokyBackend with 2 concurrent workers.\n",
            "[Parallel(n_jobs=-1)]: Done   3 out of   3 | elapsed:  4.7min finished\n"
          ],
          "name": "stderr"
        },
        {
          "output_type": "stream",
          "text": [
            "Train on 73113 samples, validate on 18279 samples\n",
            "Epoch 1/100\n",
            "73113/73113 [==============================] - 15s 201us/step - loss: 2.1921 - accuracy: 0.3777 - val_loss: 1.7453 - val_accuracy: 0.4169\n",
            "Epoch 2/100\n",
            "73113/73113 [==============================] - 14s 194us/step - loss: 1.7292 - accuracy: 0.4177 - val_loss: 1.6157 - val_accuracy: 0.4309\n",
            "Epoch 3/100\n",
            "73113/73113 [==============================] - 14s 194us/step - loss: 1.5382 - accuracy: 0.4396 - val_loss: 1.4058 - val_accuracy: 0.4611\n",
            "Epoch 4/100\n",
            "73113/73113 [==============================] - 14s 193us/step - loss: 1.4616 - accuracy: 0.4497 - val_loss: 1.3959 - val_accuracy: 0.4609\n",
            "Epoch 5/100\n",
            "73113/73113 [==============================] - 14s 191us/step - loss: 1.4596 - accuracy: 0.4515 - val_loss: 1.3858 - val_accuracy: 0.4610\n",
            "Epoch 6/100\n",
            "73113/73113 [==============================] - 14s 192us/step - loss: 1.4499 - accuracy: 0.4500 - val_loss: 1.3884 - val_accuracy: 0.4611\n",
            "Epoch 7/100\n",
            "73113/73113 [==============================] - 14s 192us/step - loss: 1.4427 - accuracy: 0.4550 - val_loss: 1.3880 - val_accuracy: 0.4630\n",
            "Epoch 00007: early stopping\n"
          ],
          "name": "stdout"
        },
        {
          "output_type": "execute_result",
          "data": {
            "text/plain": [
              "RandomizedSearchCV(cv=3, error_score=nan,\n",
              "                   estimator=<keras.wrappers.scikit_learn.KerasClassifier object at 0x7fb45cedf588>,\n",
              "                   iid='deprecated', n_iter=10, n_jobs=-1,\n",
              "                   param_distributions={'n_hidden': [2], 'n_neurons': [700]},\n",
              "                   pre_dispatch='2*n_jobs', random_state=None, refit=True,\n",
              "                   return_train_score=False, scoring=None, verbose=2)"
            ]
          },
          "metadata": {
            "tags": []
          },
          "execution_count": 138
        }
      ]
    },
    {
      "cell_type": "code",
      "metadata": {
        "id": "QCq2H2KRutAw",
        "colab_type": "code",
        "colab": {
          "base_uri": "https://localhost:8080/",
          "height": 34
        },
        "outputId": "1b53e132-dfb4-4177-e8ad-0ef8c7b556a4"
      },
      "source": [
        "model.best_params_"
      ],
      "execution_count": 140,
      "outputs": [
        {
          "output_type": "execute_result",
          "data": {
            "text/plain": [
              "{'n_hidden': 2, 'n_neurons': 700}"
            ]
          },
          "metadata": {
            "tags": []
          },
          "execution_count": 140
        }
      ]
    },
    {
      "cell_type": "code",
      "metadata": {
        "id": "xyEwvIubvB8R",
        "colab_type": "code",
        "colab": {
          "base_uri": "https://localhost:8080/",
          "height": 67
        },
        "outputId": "a0b695e0-bab5-4b58-acee-f2f257b7e231"
      },
      "source": [
        "from sklearn.metrics import f1_score\n",
        "print(model.predict(X_test))\n",
        "print(np.argmax(y_test, axis=-1))\n",
        "f1_score(np.argmax(y_test, axis=-1), model.predict(X_test), average='micro')"
      ],
      "execution_count": 141,
      "outputs": [
        {
          "output_type": "stream",
          "text": [
            "[4 2 6 ... 2 2 3]\n",
            "[ 4  3 15 ...  3  1  3]\n"
          ],
          "name": "stdout"
        },
        {
          "output_type": "execute_result",
          "data": {
            "text/plain": [
              "0.46617429837518465"
            ]
          },
          "metadata": {
            "tags": []
          },
          "execution_count": 141
        }
      ]
    },
    {
      "cell_type": "code",
      "metadata": {
        "id": "mRk7bxdmWPqQ",
        "colab_type": "code",
        "colab": {}
      },
      "source": [
        "#from sklearn.preprocessing import StandardScaler\n",
        "#sc = StandardScaler()\n",
        "#X_train = sc.fit_transform(X_train)\n",
        "#X_test = sc.transform(X_test)"
      ],
      "execution_count": 0,
      "outputs": []
    },
    {
      "cell_type": "code",
      "metadata": {
        "id": "D0sbc1zRWjTi",
        "colab_type": "code",
        "colab": {
          "base_uri": "https://localhost:8080/",
          "height": 67
        },
        "outputId": "c133abc9-a436-4fe6-87f1-748ca3336d26"
      },
      "source": [
        "print(X_train.shape)\n",
        "X_test.shape\n",
        "print(y_train.shape)\n",
        "y_test.shape"
      ],
      "execution_count": 143,
      "outputs": [
        {
          "output_type": "stream",
          "text": [
            "(91392, 6)\n",
            "(91392, 331)\n"
          ],
          "name": "stdout"
        },
        {
          "output_type": "execute_result",
          "data": {
            "text/plain": [
              "(30465, 331)"
            ]
          },
          "metadata": {
            "tags": []
          },
          "execution_count": 143
        }
      ]
    },
    {
      "cell_type": "code",
      "metadata": {
        "id": "-AK-UAuwc_oE",
        "colab_type": "code",
        "outputId": "b0d35abc-a24a-4452-85cd-0c383a4957f6",
        "colab": {
          "base_uri": "https://localhost:8080/",
          "height": 588
        }
      },
      "source": [
        "from keras.models import Sequential\n",
        "from keras.layers import Dense, BatchNormalization, Dropout\n",
        "\n",
        "from keras.callbacks import History\n",
        "\n",
        "history2 = History()\n",
        "model2 = Sequential()\n",
        "model2.add(Dense(700,activation=\"relu\",input_shape=(X_train.shape[1],)))\n",
        "model2.add(BatchNormalization())\n",
        "model2.add(Dropout(0.5))\n",
        "model2.add(Dense(600,activation=\"tanh\"))\n",
        "model2.add(BatchNormalization())\n",
        "model2.add(Dropout(0.5))\n",
        "model2.add(Dense(500,activation=\"relu\"))\n",
        "model2.add(BatchNormalization())\n",
        "model2.add(Dropout(0.5))\n",
        "model2.add(Dense(400,activation=\"tanh\"))\n",
        "model2.add(BatchNormalization())\n",
        "model2.add(Dropout(0.5))\n",
        "model2.add(Dense(y2.shape[1],activation=\"sigmoid\"))\n",
        "model2.summary()"
      ],
      "execution_count": 144,
      "outputs": [
        {
          "output_type": "stream",
          "text": [
            "Model: \"sequential_3\"\n",
            "_________________________________________________________________\n",
            "Layer (type)                 Output Shape              Param #   \n",
            "=================================================================\n",
            "dense_856 (Dense)            (None, 700)               4900      \n",
            "_________________________________________________________________\n",
            "batch_normalization_683 (Bat (None, 700)               2800      \n",
            "_________________________________________________________________\n",
            "dropout_683 (Dropout)        (None, 700)               0         \n",
            "_________________________________________________________________\n",
            "dense_857 (Dense)            (None, 600)               420600    \n",
            "_________________________________________________________________\n",
            "batch_normalization_684 (Bat (None, 600)               2400      \n",
            "_________________________________________________________________\n",
            "dropout_684 (Dropout)        (None, 600)               0         \n",
            "_________________________________________________________________\n",
            "dense_858 (Dense)            (None, 500)               300500    \n",
            "_________________________________________________________________\n",
            "batch_normalization_685 (Bat (None, 500)               2000      \n",
            "_________________________________________________________________\n",
            "dropout_685 (Dropout)        (None, 500)               0         \n",
            "_________________________________________________________________\n",
            "dense_859 (Dense)            (None, 400)               200400    \n",
            "_________________________________________________________________\n",
            "batch_normalization_686 (Bat (None, 400)               1600      \n",
            "_________________________________________________________________\n",
            "dropout_686 (Dropout)        (None, 400)               0         \n",
            "_________________________________________________________________\n",
            "dense_860 (Dense)            (None, 331)               132731    \n",
            "=================================================================\n",
            "Total params: 1,067,931\n",
            "Trainable params: 1,063,531\n",
            "Non-trainable params: 4,400\n",
            "_________________________________________________________________\n"
          ],
          "name": "stdout"
        }
      ]
    },
    {
      "cell_type": "code",
      "metadata": {
        "id": "j2CszMmSc_oG",
        "colab_type": "code",
        "colab": {}
      },
      "source": [
        "model2.compile(loss=\"categorical_crossentropy\",optimizer=\"Adam\", metrics=[\"accuracy\"])"
      ],
      "execution_count": 0,
      "outputs": []
    },
    {
      "cell_type": "code",
      "metadata": {
        "scrolled": false,
        "id": "e89GdiDRc_oI",
        "colab_type": "code",
        "outputId": "d4ec9db6-890e-4e52-eb11-92f2475c5262",
        "colab": {
          "base_uri": "https://localhost:8080/",
          "height": 958
        }
      },
      "source": [
        "from keras.callbacks import EarlyStopping\n",
        "from keras.callbacks import ReduceLROnPlateau\n",
        "early_stopping2 = EarlyStopping(monitor='val_loss', patience=3, mode='min', verbose=1)\n",
        "result_model2 = model2.fit(X_train, y_train, validation_data= (X_test, y_test), batch_size=100,epochs=100, callbacks=[early_stopping2,history2,lr_reduction])"
      ],
      "execution_count": 146,
      "outputs": [
        {
          "output_type": "stream",
          "text": [
            "Train on 91392 samples, validate on 30465 samples\n",
            "Epoch 1/100\n",
            "91392/91392 [==============================] - 35s 388us/step - loss: 2.1561 - accuracy: 0.3877 - val_loss: 1.4709 - val_accuracy: 0.4531\n",
            "Epoch 2/100\n",
            "91392/91392 [==============================] - 35s 379us/step - loss: 1.5616 - accuracy: 0.4350 - val_loss: 1.4233 - val_accuracy: 0.4591\n",
            "Epoch 3/100\n",
            "91392/91392 [==============================] - 35s 380us/step - loss: 1.4936 - accuracy: 0.4438 - val_loss: 1.4050 - val_accuracy: 0.4612\n",
            "Epoch 4/100\n",
            "91392/91392 [==============================] - 35s 378us/step - loss: 1.4683 - accuracy: 0.4473 - val_loss: 1.3947 - val_accuracy: 0.4673\n",
            "Epoch 5/100\n",
            "91392/91392 [==============================] - 35s 387us/step - loss: 1.4544 - accuracy: 0.4487 - val_loss: 1.3956 - val_accuracy: 0.4696\n",
            "Epoch 6/100\n",
            "91392/91392 [==============================] - 35s 381us/step - loss: 1.4491 - accuracy: 0.4510 - val_loss: 1.3895 - val_accuracy: 0.4719\n",
            "Epoch 7/100\n",
            "91392/91392 [==============================] - 35s 378us/step - loss: 1.4438 - accuracy: 0.4542 - val_loss: 1.3835 - val_accuracy: 0.4724\n",
            "Epoch 8/100\n",
            "91392/91392 [==============================] - 35s 378us/step - loss: 1.4378 - accuracy: 0.4513 - val_loss: 1.3840 - val_accuracy: 0.4728\n",
            "Epoch 9/100\n",
            "91392/91392 [==============================] - 35s 378us/step - loss: 1.4362 - accuracy: 0.4555 - val_loss: 1.3869 - val_accuracy: 0.4749\n",
            "Epoch 10/100\n",
            "91392/91392 [==============================] - 35s 380us/step - loss: 1.4336 - accuracy: 0.4561 - val_loss: 1.3734 - val_accuracy: 0.4763\n",
            "Epoch 11/100\n",
            "91392/91392 [==============================] - 37s 408us/step - loss: 1.4313 - accuracy: 0.4553 - val_loss: 1.3746 - val_accuracy: 0.4744\n",
            "Epoch 12/100\n",
            "91392/91392 [==============================] - 35s 378us/step - loss: 1.4312 - accuracy: 0.4582 - val_loss: 1.3732 - val_accuracy: 0.4746\n",
            "Epoch 13/100\n",
            "91392/91392 [==============================] - 35s 378us/step - loss: 1.4275 - accuracy: 0.4557 - val_loss: 1.3729 - val_accuracy: 0.4787\n",
            "Epoch 14/100\n",
            "91392/91392 [==============================] - 35s 378us/step - loss: 1.4253 - accuracy: 0.4578 - val_loss: 1.3716 - val_accuracy: 0.4785\n",
            "Epoch 15/100\n",
            "91392/91392 [==============================] - 35s 382us/step - loss: 1.4242 - accuracy: 0.4593 - val_loss: 1.3681 - val_accuracy: 0.4822\n",
            "Epoch 16/100\n",
            "91392/91392 [==============================] - 35s 379us/step - loss: 1.4227 - accuracy: 0.4589 - val_loss: 1.3710 - val_accuracy: 0.4855\n",
            "Epoch 17/100\n",
            "91392/91392 [==============================] - 35s 381us/step - loss: 1.4205 - accuracy: 0.4612 - val_loss: 1.3680 - val_accuracy: 0.4795\n",
            "Epoch 18/100\n",
            "91392/91392 [==============================] - 35s 378us/step - loss: 1.4202 - accuracy: 0.4600 - val_loss: 1.3691 - val_accuracy: 0.4842\n",
            "Epoch 19/100\n",
            "91392/91392 [==============================] - 35s 379us/step - loss: 1.4178 - accuracy: 0.4626 - val_loss: 1.3695 - val_accuracy: 0.4842\n",
            "Epoch 20/100\n",
            "91392/91392 [==============================] - 35s 379us/step - loss: 1.4148 - accuracy: 0.4620 - val_loss: 1.3619 - val_accuracy: 0.4852\n",
            "Epoch 21/100\n",
            "91392/91392 [==============================] - 35s 380us/step - loss: 1.4138 - accuracy: 0.4631 - val_loss: 1.3642 - val_accuracy: 0.4837\n",
            "Epoch 22/100\n",
            "91392/91392 [==============================] - 35s 379us/step - loss: 1.4122 - accuracy: 0.4639 - val_loss: 1.3618 - val_accuracy: 0.4835\n",
            "Epoch 23/100\n",
            "91392/91392 [==============================] - 35s 383us/step - loss: 1.4139 - accuracy: 0.4632 - val_loss: 1.3628 - val_accuracy: 0.4840\n",
            "Epoch 24/100\n",
            "91392/91392 [==============================] - 35s 384us/step - loss: 1.4104 - accuracy: 0.4635 - val_loss: 1.3602 - val_accuracy: 0.4846\n",
            "Epoch 25/100\n",
            "91392/91392 [==============================] - 35s 382us/step - loss: 1.4103 - accuracy: 0.4642 - val_loss: 1.3605 - val_accuracy: 0.4853\n",
            "Epoch 26/100\n",
            "91392/91392 [==============================] - 35s 384us/step - loss: 1.4126 - accuracy: 0.4646 - val_loss: 1.3659 - val_accuracy: 0.4843\n",
            "Epoch 27/100\n",
            "91392/91392 [==============================] - 35s 381us/step - loss: 1.4102 - accuracy: 0.4649 - val_loss: 1.3678 - val_accuracy: 0.4820\n",
            "Epoch 00027: early stopping\n"
          ],
          "name": "stdout"
        }
      ]
    },
    {
      "cell_type": "code",
      "metadata": {
        "id": "Sz-ioKa6c_oK",
        "colab_type": "code",
        "outputId": "c4641aab-30d6-47e6-ed2c-0d722d12971e",
        "colab": {
          "base_uri": "https://localhost:8080/",
          "height": 50
        }
      },
      "source": [
        "model2.evaluate(X_test,y_test)"
      ],
      "execution_count": 147,
      "outputs": [
        {
          "output_type": "stream",
          "text": [
            "30465/30465 [==============================] - 4s 136us/step\n"
          ],
          "name": "stdout"
        },
        {
          "output_type": "execute_result",
          "data": {
            "text/plain": [
              "[1.3677625765065615, 0.48199573159217834]"
            ]
          },
          "metadata": {
            "tags": []
          },
          "execution_count": 147
        }
      ]
    },
    {
      "cell_type": "code",
      "metadata": {
        "id": "0jVeH-xVZsA4",
        "colab_type": "code",
        "colab": {
          "base_uri": "https://localhost:8080/",
          "height": 265
        },
        "outputId": "cf0fdbf8-ba6c-41d6-a6ad-9dcf15b618d6"
      },
      "source": [
        "import matplotlib.pyplot as plt\n",
        "\n",
        "plt.plot(history2.history['accuracy'], label = \"train\")\n",
        "plt.plot(history2.history['val_accuracy'], label = \"test\")\n",
        "plt.plot(history.history['accuracy'], label = \"RSCV train\")\n",
        "plt.plot(history.history['val_accuracy'], label = \"RSCV test\")\n",
        "\n",
        "\n",
        "plt.legend()\n",
        "plt.show()"
      ],
      "execution_count": 148,
      "outputs": [
        {
          "output_type": "display_data",
          "data": {
            "image/png": "[encoded data removed]",
            "text/plain": [
              "<Figure size 432x288 with 1 Axes>"
            ]
          },
          "metadata": {
            "tags": [],
            "needs_background": "light"
          }
        }
      ]
    },
    {
      "cell_type": "code",
      "metadata": {
        "id": "pVHDRfjabShZ",
        "colab_type": "code",
        "colab": {
          "base_uri": "https://localhost:8080/",
          "height": 265
        },
        "outputId": "ae2f07a0-3413-47db-f233-b9967dcced97"
      },
      "source": [
        "plt.plot(history2.history['loss'], label = \"train\")\n",
        "plt.plot(history2.history['val_loss'], label = \"test\")\n",
        "plt.plot(history.history['loss'], label = \"RSCV train\")\n",
        "plt.plot(history.history['val_loss'], label = \"RSCV test\")\n",
        "\n",
        "\n",
        "plt.legend()\n",
        "plt.show()"
      ],
      "execution_count": 149,
      "outputs": [
        {
          "output_type": "display_data",
          "data": {
            "image/png": "[encoded data removed]",
            "text/plain": [
              "<Figure size 432x288 with 1 Axes>"
            ]
          },
          "metadata": {
            "tags": [],
            "needs_background": "light"
          }
        }
      ]
    },
    {
      "cell_type": "code",
      "metadata": {
        "id": "nkj4L1Cw05iF",
        "colab_type": "code",
        "colab": {}
      },
      "source": [
        ""
      ],
      "execution_count": 0,
      "outputs": []
    }
  ]
}